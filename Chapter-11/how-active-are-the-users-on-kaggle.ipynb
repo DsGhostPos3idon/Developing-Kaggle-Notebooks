{
 "cells": [
  {
   "cell_type": "markdown",
   "id": "df6f8234",
   "metadata": {
    "papermill": {
     "duration": 0.005816,
     "end_time": "2023-09-30T10:56:01.083962",
     "exception": false,
     "start_time": "2023-09-30T10:56:01.078146",
     "status": "completed"
    },
    "tags": []
   },
   "source": [
    "# Introduction  \n",
    "\n",
    "\n",
    "In other notebooks we reviewed the information about distribution of Kaggle Grandmasters, based on combination of Meta Kaggle dataset and the Meta Kagle Master Achievements Snapshot dataset. One of the information included with the latest dataset is the Kaggle tenure (in years) of each user and the last time when the user was online.     \n",
    "In this notebook we will mine the information in this field to extract the tenure and the last time the user was active on the platform.\n",
    "\n"
   ]
  },
  {
   "cell_type": "code",
   "execution_count": 1,
   "id": "f35b7641",
   "metadata": {
    "execution": {
     "iopub.execute_input": "2023-09-30T10:56:01.095892Z",
     "iopub.status.busy": "2023-09-30T10:56:01.095542Z",
     "iopub.status.idle": "2023-09-30T10:56:02.974418Z",
     "shell.execute_reply": "2023-09-30T10:56:02.973305Z"
    },
    "papermill": {
     "duration": 1.887705,
     "end_time": "2023-09-30T10:56:02.976763",
     "exception": false,
     "start_time": "2023-09-30T10:56:01.089058",
     "status": "completed"
    },
    "tags": []
   },
   "outputs": [],
   "source": [
    "import pandas as pd\n",
    "import numpy as np\n",
    "import re\n",
    "import seaborn as sns\n",
    "import matplotlib.pyplot as plt\n",
    "from matplotlib.colors import ListedColormap"
   ]
  },
  {
   "cell_type": "code",
   "execution_count": 2,
   "id": "4965bb20",
   "metadata": {
    "execution": {
     "iopub.execute_input": "2023-09-30T10:56:02.988890Z",
     "iopub.status.busy": "2023-09-30T10:56:02.988354Z",
     "iopub.status.idle": "2023-09-30T10:56:03.019809Z",
     "shell.execute_reply": "2023-09-30T10:56:03.018976Z"
    },
    "papermill": {
     "duration": 0.04017,
     "end_time": "2023-09-30T10:56:03.022167",
     "exception": false,
     "start_time": "2023-09-30T10:56:02.981997",
     "status": "completed"
    },
    "tags": []
   },
   "outputs": [],
   "source": [
    "achievements_df = pd.read_csv(\"/kaggle/input/meta-kagglemaster-achievements-snapshot/MasterAchievements.csv\")"
   ]
  },
  {
   "cell_type": "code",
   "execution_count": 3,
   "id": "38db5a03",
   "metadata": {
    "execution": {
     "iopub.execute_input": "2023-09-30T10:56:03.034271Z",
     "iopub.status.busy": "2023-09-30T10:56:03.033916Z",
     "iopub.status.idle": "2023-09-30T10:56:03.069040Z",
     "shell.execute_reply": "2023-09-30T10:56:03.067885Z"
    },
    "papermill": {
     "duration": 0.044056,
     "end_time": "2023-09-30T10:56:03.071823",
     "exception": false,
     "start_time": "2023-09-30T10:56:03.027767",
     "status": "completed"
    },
    "tags": []
   },
   "outputs": [],
   "source": [
    "profiles_df = pd.read_csv(\"/kaggle/input/meta-kagglemaster-achievements-snapshot/MasterProfiles.csv\")"
   ]
  },
  {
   "cell_type": "code",
   "execution_count": 4,
   "id": "947c9013",
   "metadata": {
    "execution": {
     "iopub.execute_input": "2023-09-30T10:56:03.084070Z",
     "iopub.status.busy": "2023-09-30T10:56:03.083714Z",
     "iopub.status.idle": "2023-09-30T10:56:03.105502Z",
     "shell.execute_reply": "2023-09-30T10:56:03.104092Z"
    },
    "papermill": {
     "duration": 0.030901,
     "end_time": "2023-09-30T10:56:03.108126",
     "exception": false,
     "start_time": "2023-09-30T10:56:03.077225",
     "status": "completed"
    },
    "tags": []
   },
   "outputs": [
    {
     "data": {
      "text/html": [
       "<div>\n",
       "<style scoped>\n",
       "    .dataframe tbody tr th:only-of-type {\n",
       "        vertical-align: middle;\n",
       "    }\n",
       "\n",
       "    .dataframe tbody tr th {\n",
       "        vertical-align: top;\n",
       "    }\n",
       "\n",
       "    .dataframe thead th {\n",
       "        text-align: right;\n",
       "    }\n",
       "</style>\n",
       "<table border=\"1\" class=\"dataframe\">\n",
       "  <thead>\n",
       "    <tr style=\"text-align: right;\">\n",
       "      <th></th>\n",
       "      <th>UserName</th>\n",
       "      <th>Competitions</th>\n",
       "      <th>Datasets</th>\n",
       "      <th>Notebooks</th>\n",
       "      <th>Discussion</th>\n",
       "      <th>HighestRank</th>\n",
       "      <th>snapshot_date</th>\n",
       "    </tr>\n",
       "  </thead>\n",
       "  <tbody>\n",
       "    <tr>\n",
       "      <th>0</th>\n",
       "      <td>jmeynet</td>\n",
       "      <td>master</td>\n",
       "      <td>contributor</td>\n",
       "      <td>contributor</td>\n",
       "      <td>contributor</td>\n",
       "      <td>85</td>\n",
       "      <td>2023-09-23</td>\n",
       "    </tr>\n",
       "    <tr>\n",
       "      <th>1</th>\n",
       "      <td>dremovd</td>\n",
       "      <td>master</td>\n",
       "      <td>contributor</td>\n",
       "      <td>expert</td>\n",
       "      <td>expert</td>\n",
       "      <td>53</td>\n",
       "      <td>2023-09-23</td>\n",
       "    </tr>\n",
       "    <tr>\n",
       "      <th>2</th>\n",
       "      <td>quansun</td>\n",
       "      <td>master</td>\n",
       "      <td>contributor</td>\n",
       "      <td>contributor</td>\n",
       "      <td>contributor</td>\n",
       "      <td>6</td>\n",
       "      <td>2023-09-23</td>\n",
       "    </tr>\n",
       "    <tr>\n",
       "      <th>3</th>\n",
       "      <td>teamben</td>\n",
       "      <td>master</td>\n",
       "      <td>contributor</td>\n",
       "      <td>contributor</td>\n",
       "      <td>contributor</td>\n",
       "      <td>90</td>\n",
       "      <td>2023-09-23</td>\n",
       "    </tr>\n",
       "    <tr>\n",
       "      <th>4</th>\n",
       "      <td>alexxanderlarko</td>\n",
       "      <td>grandmaster</td>\n",
       "      <td>contributor</td>\n",
       "      <td>expert</td>\n",
       "      <td>expert</td>\n",
       "      <td>3</td>\n",
       "      <td>2023-09-23</td>\n",
       "    </tr>\n",
       "  </tbody>\n",
       "</table>\n",
       "</div>"
      ],
      "text/plain": [
       "          UserName Competitions     Datasets    Notebooks   Discussion  \\\n",
       "0          jmeynet       master  contributor  contributor  contributor   \n",
       "1          dremovd       master  contributor       expert       expert   \n",
       "2          quansun       master  contributor  contributor  contributor   \n",
       "3          teamben       master  contributor  contributor  contributor   \n",
       "4  alexxanderlarko  grandmaster  contributor       expert       expert   \n",
       "\n",
       "   HighestRank snapshot_date  \n",
       "0           85    2023-09-23  \n",
       "1           53    2023-09-23  \n",
       "2            6    2023-09-23  \n",
       "3           90    2023-09-23  \n",
       "4            3    2023-09-23  "
      ]
     },
     "execution_count": 4,
     "metadata": {},
     "output_type": "execute_result"
    }
   ],
   "source": [
    "achievements_df.head()"
   ]
  },
  {
   "cell_type": "code",
   "execution_count": 5,
   "id": "59f81f76",
   "metadata": {
    "execution": {
     "iopub.execute_input": "2023-09-30T10:56:03.121771Z",
     "iopub.status.busy": "2023-09-30T10:56:03.121058Z",
     "iopub.status.idle": "2023-09-30T10:56:03.134031Z",
     "shell.execute_reply": "2023-09-30T10:56:03.133040Z"
    },
    "papermill": {
     "duration": 0.022042,
     "end_time": "2023-09-30T10:56:03.136167",
     "exception": false,
     "start_time": "2023-09-30T10:56:03.114125",
     "status": "completed"
    },
    "tags": []
   },
   "outputs": [
    {
     "data": {
      "text/html": [
       "<div>\n",
       "<style scoped>\n",
       "    .dataframe tbody tr th:only-of-type {\n",
       "        vertical-align: middle;\n",
       "    }\n",
       "\n",
       "    .dataframe tbody tr th {\n",
       "        vertical-align: top;\n",
       "    }\n",
       "\n",
       "    .dataframe thead th {\n",
       "        text-align: right;\n",
       "    }\n",
       "</style>\n",
       "<table border=\"1\" class=\"dataframe\">\n",
       "  <thead>\n",
       "    <tr style=\"text-align: right;\">\n",
       "      <th></th>\n",
       "      <th>UserName</th>\n",
       "      <th>Avatar</th>\n",
       "      <th>Location</th>\n",
       "      <th>Metadata</th>\n",
       "      <th>snapshot_date</th>\n",
       "      <th>Latitude</th>\n",
       "      <th>Longitude</th>\n",
       "      <th>GeoLocation</th>\n",
       "      <th>Country</th>\n",
       "    </tr>\n",
       "  </thead>\n",
       "  <tbody>\n",
       "    <tr>\n",
       "      <th>0</th>\n",
       "      <td>jmeynet</td>\n",
       "      <td>https://storage.googleapis.com/kaggle-avatars/...</td>\n",
       "      <td>Barcelona, Catalonia, Spain</td>\n",
       "      <td>Joined 14 years ago · last seen 3 years ago</td>\n",
       "      <td>2023-09-23</td>\n",
       "      <td>41.382894</td>\n",
       "      <td>2.177432</td>\n",
       "      <td>Barcelona, Barcelonès, Barcelona, Catalonia, 0...</td>\n",
       "      <td>Spain</td>\n",
       "    </tr>\n",
       "    <tr>\n",
       "      <th>1</th>\n",
       "      <td>dremovd</td>\n",
       "      <td>https://storage.googleapis.com/kaggle-avatars/...</td>\n",
       "      <td>Pattaya City, Chon Buri, Thailand</td>\n",
       "      <td>Joined 14 years ago · last seen 2 months ago</td>\n",
       "      <td>2023-09-23</td>\n",
       "      <td>12.924254</td>\n",
       "      <td>100.865587</td>\n",
       "      <td>Pattaya City Public Park, Pattaya, Na Chom Thi...</td>\n",
       "      <td>Thailand</td>\n",
       "    </tr>\n",
       "    <tr>\n",
       "      <th>2</th>\n",
       "      <td>quansun</td>\n",
       "      <td>https://storage.googleapis.com/kaggle-avatars/...</td>\n",
       "      <td>New Zealand</td>\n",
       "      <td>Joined 13 years ago · last seen 7 months ago</td>\n",
       "      <td>2023-09-23</td>\n",
       "      <td>-41.500083</td>\n",
       "      <td>172.834408</td>\n",
       "      <td>New Zealand</td>\n",
       "      <td>New Zealand</td>\n",
       "    </tr>\n",
       "    <tr>\n",
       "      <th>3</th>\n",
       "      <td>teamben</td>\n",
       "      <td>https://storage.googleapis.com/kaggle-avatars/...</td>\n",
       "      <td>Melbourne, Victoria, Australia</td>\n",
       "      <td>Joined 13 years ago · last seen 7 years ago</td>\n",
       "      <td>2023-09-23</td>\n",
       "      <td>-37.814245</td>\n",
       "      <td>144.963173</td>\n",
       "      <td>Melbourne, City of Melbourne, Victoria, Australia</td>\n",
       "      <td>Australia</td>\n",
       "    </tr>\n",
       "    <tr>\n",
       "      <th>4</th>\n",
       "      <td>alexxanderlarko</td>\n",
       "      <td>https://storage.googleapis.com/kaggle-avatars/...</td>\n",
       "      <td>Minusinsk, Krasnoyarsk Krai, Russia</td>\n",
       "      <td>Joined 13 years ago · last seen in the past day</td>\n",
       "      <td>2023-09-23</td>\n",
       "      <td>53.700325</td>\n",
       "      <td>91.697235</td>\n",
       "      <td>Minusinsk, Красноярский кадастровый район, Kra...</td>\n",
       "      <td>Russia</td>\n",
       "    </tr>\n",
       "  </tbody>\n",
       "</table>\n",
       "</div>"
      ],
      "text/plain": [
       "          UserName                                             Avatar  \\\n",
       "0          jmeynet  https://storage.googleapis.com/kaggle-avatars/...   \n",
       "1          dremovd  https://storage.googleapis.com/kaggle-avatars/...   \n",
       "2          quansun  https://storage.googleapis.com/kaggle-avatars/...   \n",
       "3          teamben  https://storage.googleapis.com/kaggle-avatars/...   \n",
       "4  alexxanderlarko  https://storage.googleapis.com/kaggle-avatars/...   \n",
       "\n",
       "                              Location  \\\n",
       "0          Barcelona, Catalonia, Spain   \n",
       "1    Pattaya City, Chon Buri, Thailand   \n",
       "2                          New Zealand   \n",
       "3       Melbourne, Victoria, Australia   \n",
       "4  Minusinsk, Krasnoyarsk Krai, Russia   \n",
       "\n",
       "                                          Metadata snapshot_date   Latitude  \\\n",
       "0      Joined 14 years ago · last seen 3 years ago    2023-09-23  41.382894   \n",
       "1     Joined 14 years ago · last seen 2 months ago    2023-09-23  12.924254   \n",
       "2     Joined 13 years ago · last seen 7 months ago    2023-09-23 -41.500083   \n",
       "3      Joined 13 years ago · last seen 7 years ago    2023-09-23 -37.814245   \n",
       "4  Joined 13 years ago · last seen in the past day    2023-09-23  53.700325   \n",
       "\n",
       "    Longitude                                        GeoLocation      Country  \n",
       "0    2.177432  Barcelona, Barcelonès, Barcelona, Catalonia, 0...        Spain  \n",
       "1  100.865587  Pattaya City Public Park, Pattaya, Na Chom Thi...     Thailand  \n",
       "2  172.834408                                        New Zealand  New Zealand  \n",
       "3  144.963173  Melbourne, City of Melbourne, Victoria, Australia    Australia  \n",
       "4   91.697235  Minusinsk, Красноярский кадастровый район, Kra...       Russia  "
      ]
     },
     "execution_count": 5,
     "metadata": {},
     "output_type": "execute_result"
    }
   ],
   "source": [
    "profiles_df.head()"
   ]
  },
  {
   "cell_type": "code",
   "execution_count": 6,
   "id": "af028a7a",
   "metadata": {
    "execution": {
     "iopub.execute_input": "2023-09-30T10:56:03.149344Z",
     "iopub.status.busy": "2023-09-30T10:56:03.148987Z",
     "iopub.status.idle": "2023-09-30T10:56:03.154097Z",
     "shell.execute_reply": "2023-09-30T10:56:03.153090Z"
    },
    "papermill": {
     "duration": 0.015066,
     "end_time": "2023-09-30T10:56:03.157173",
     "exception": false,
     "start_time": "2023-09-30T10:56:03.142107",
     "status": "completed"
    },
    "tags": []
   },
   "outputs": [
    {
     "name": "stdout",
     "output_type": "stream",
     "text": [
      "(2904, 9) (2904, 7)\n"
     ]
    }
   ],
   "source": [
    "print(profiles_df.shape, achievements_df.shape)"
   ]
  },
  {
   "cell_type": "markdown",
   "id": "a4ac2bdd",
   "metadata": {
    "papermill": {
     "duration": 0.005562,
     "end_time": "2023-09-30T10:56:03.168606",
     "exception": false,
     "start_time": "2023-09-30T10:56:03.163044",
     "status": "completed"
    },
    "tags": []
   },
   "source": [
    "# Data processing\n",
    "\n",
    "\n",
    "We separate first the tenure and the last seen component.  \n",
    "Then we extract and normalize the tenure time and last active time.  \n",
    "To complete our data processing, we normalize the tenure to months and the last seen to days."
   ]
  },
  {
   "cell_type": "code",
   "execution_count": 7,
   "id": "6109a0bd",
   "metadata": {
    "execution": {
     "iopub.execute_input": "2023-09-30T10:56:03.182745Z",
     "iopub.status.busy": "2023-09-30T10:56:03.181888Z",
     "iopub.status.idle": "2023-09-30T10:56:03.193617Z",
     "shell.execute_reply": "2023-09-30T10:56:03.192802Z"
    },
    "papermill": {
     "duration": 0.020648,
     "end_time": "2023-09-30T10:56:03.195368",
     "exception": false,
     "start_time": "2023-09-30T10:56:03.174720",
     "status": "completed"
    },
    "tags": []
   },
   "outputs": [],
   "source": [
    "profiles_df[\"joined\"] = profiles_df[\"Metadata\"].apply(lambda x: x.split(\" · \")[0])\n",
    "profiles_df[\"last_seen\"] = profiles_df[\"Metadata\"].apply(lambda x: x.split(\" · \")[1])"
   ]
  },
  {
   "cell_type": "markdown",
   "id": "87e91567",
   "metadata": {
    "papermill": {
     "duration": 0.005787,
     "end_time": "2023-09-30T10:56:03.207570",
     "exception": false,
     "start_time": "2023-09-30T10:56:03.201783",
     "status": "completed"
    },
    "tags": []
   },
   "source": [
    "Let's inspect the `joined` and `last_seen` fields."
   ]
  },
  {
   "cell_type": "code",
   "execution_count": 8,
   "id": "800f9102",
   "metadata": {
    "execution": {
     "iopub.execute_input": "2023-09-30T10:56:03.221502Z",
     "iopub.status.busy": "2023-09-30T10:56:03.220560Z",
     "iopub.status.idle": "2023-09-30T10:56:03.235706Z",
     "shell.execute_reply": "2023-09-30T10:56:03.234829Z"
    },
    "papermill": {
     "duration": 0.023874,
     "end_time": "2023-09-30T10:56:03.237365",
     "exception": false,
     "start_time": "2023-09-30T10:56:03.213491",
     "status": "completed"
    },
    "tags": []
   },
   "outputs": [
    {
     "name": "stdout",
     "output_type": "stream",
     "text": [
      "Joined values:  20\n"
     ]
    },
    {
     "data": {
      "text/plain": [
       "joined\n",
       "Joined 6 years ago      390\n",
       "Joined 5 years ago      301\n",
       "Joined 7 years ago      267\n",
       "Joined 8 years ago      255\n",
       "Joined 11 years ago     254\n",
       "Joined 9 years ago      248\n",
       "Joined 4 years ago      246\n",
       "Joined 3 years ago      223\n",
       "Joined 10 years ago     221\n",
       "Joined 12 years ago     181\n",
       "Joined 2 years ago      149\n",
       "Joined 13 years ago      99\n",
       "Joined a year ago        49\n",
       "Joined 7 months ago       5\n",
       "Joined 9 months ago       5\n",
       "Joined 10 months ago      3\n",
       "Joined 8 months ago       3\n",
       "Joined 14 years ago       2\n",
       "Joined 5 months ago       2\n",
       "Joined 6 months ago       1\n",
       "Name: count, dtype: int64"
      ]
     },
     "execution_count": 8,
     "metadata": {},
     "output_type": "execute_result"
    }
   ],
   "source": [
    "print(\"Joined values: \", profiles_df[\"joined\"].nunique())\n",
    "profiles_df[\"joined\"].value_counts()"
   ]
  },
  {
   "cell_type": "code",
   "execution_count": 9,
   "id": "a94447c0",
   "metadata": {
    "execution": {
     "iopub.execute_input": "2023-09-30T10:56:03.251163Z",
     "iopub.status.busy": "2023-09-30T10:56:03.250798Z",
     "iopub.status.idle": "2023-09-30T10:56:03.259198Z",
     "shell.execute_reply": "2023-09-30T10:56:03.258527Z"
    },
    "papermill": {
     "duration": 0.017476,
     "end_time": "2023-09-30T10:56:03.260854",
     "exception": false,
     "start_time": "2023-09-30T10:56:03.243378",
     "status": "completed"
    },
    "tags": []
   },
   "outputs": [
    {
     "name": "stdout",
     "output_type": "stream",
     "text": [
      "Last seen values:  48\n"
     ]
    },
    {
     "data": {
      "text/plain": [
       "last_seen\n",
       "last seen in the past day    724\n",
       "last seen a year ago         196\n",
       "last seen a month ago        165\n",
       "last seen 2 months ago       152\n",
       "last seen 2 years ago        133\n",
       "last seen 2 days ago         124\n",
       "last seen 3 months ago       101\n",
       "last seen 4 months ago        93\n",
       "last seen 3 years ago         79\n",
       "last seen a day ago           75\n",
       "last seen 3 days ago          73\n",
       "last seen 6 months ago        70\n",
       "last seen 7 months ago        67\n",
       "last seen 5 months ago        67\n",
       "last seen 4 years ago         55\n",
       "last seen 4 days ago          44\n",
       "last seen 8 months ago        43\n",
       "last seen 9 months ago        42\n",
       "last seen 10 months ago       39\n",
       "last seen 5 years ago         38\n",
       "last seen 6 years ago         37\n",
       "last seen 5 days ago          32\n",
       "last seen 7 days ago          31\n",
       "last seen 9 days ago          30\n",
       "last seen 7 years ago         29\n",
       "last seen 8 days ago          27\n",
       "last seen 6 days ago          25\n",
       "last seen 11 days ago         23\n",
       "last seen 24 days ago         22\n",
       "last seen 10 days ago         20\n",
       "last seen 8 years ago         20\n",
       "last seen 21 days ago         19\n",
       "last seen 15 days ago         19\n",
       "last seen 13 days ago         18\n",
       "last seen 9 years ago         17\n",
       "last seen 14 days ago         16\n",
       "last seen 22 days ago         16\n",
       "last seen 12 days ago         16\n",
       "last seen 20 days ago         15\n",
       "last seen 23 days ago         15\n",
       "last seen 16 days ago         14\n",
       "last seen 18 days ago         14\n",
       "last seen 17 days ago         13\n",
       "last seen 10 years ago        11\n",
       "last seen 11 years ago        10\n",
       "last seen 25 days ago          8\n",
       "last seen 19 days ago          4\n",
       "last seen 12 years ago         3\n",
       "Name: count, dtype: int64"
      ]
     },
     "execution_count": 9,
     "metadata": {},
     "output_type": "execute_result"
    }
   ],
   "source": [
    "print(\"Last seen values: \", profiles_df[\"last_seen\"].nunique())\n",
    "profiles_df[\"last_seen\"].value_counts()"
   ]
  },
  {
   "cell_type": "code",
   "execution_count": 10,
   "id": "3e07b547",
   "metadata": {
    "execution": {
     "iopub.execute_input": "2023-09-30T10:56:03.274845Z",
     "iopub.status.busy": "2023-09-30T10:56:03.274160Z",
     "iopub.status.idle": "2023-09-30T10:56:03.281695Z",
     "shell.execute_reply": "2023-09-30T10:56:03.280601Z"
    },
    "papermill": {
     "duration": 0.016513,
     "end_time": "2023-09-30T10:56:03.283522",
     "exception": false,
     "start_time": "2023-09-30T10:56:03.267009",
     "status": "completed"
    },
    "tags": []
   },
   "outputs": [],
   "source": [
    "def extract_tenure(joined):\n",
    "    \"\"\"\n",
    "    Extract and return tenure in months\n",
    "    Args:\n",
    "        joined: the text giving the tenure\n",
    "    Returns:\n",
    "        tenure in month\n",
    "    \"\"\"\n",
    "    multiplier = 1\n",
    "    joined = re.sub(\"Joined \", \"\", joined)\n",
    "    joined = re.sub(\" ago\", \"\", joined)\n",
    "    quantity, metric = joined.split(\" \")\n",
    "    if quantity == \"a\":\n",
    "        quantity = 1\n",
    "    else:\n",
    "        quantity = int(quantity)\n",
    "    if metric == \"year\" or metric == \"years\":\n",
    "        multiplier = 12\n",
    "\n",
    "    return quantity * multiplier"
   ]
  },
  {
   "cell_type": "code",
   "execution_count": 11,
   "id": "ae4a2d53",
   "metadata": {
    "execution": {
     "iopub.execute_input": "2023-09-30T10:56:03.297846Z",
     "iopub.status.busy": "2023-09-30T10:56:03.297491Z",
     "iopub.status.idle": "2023-09-30T10:56:03.303584Z",
     "shell.execute_reply": "2023-09-30T10:56:03.302683Z"
    },
    "papermill": {
     "duration": 0.015801,
     "end_time": "2023-09-30T10:56:03.305431",
     "exception": false,
     "start_time": "2023-09-30T10:56:03.289630",
     "status": "completed"
    },
    "tags": []
   },
   "outputs": [],
   "source": [
    "def extract_last_seen(last_seen):\n",
    "    \"\"\"\n",
    "    Extract and return when user was last time seen\n",
    "    Args:\n",
    "        last_seen: the text showing when user was last time seen\n",
    "    Returns:\n",
    "        number of days from when the user was last time seen\n",
    "    \"\"\"\n",
    "    multiplier = 1\n",
    "    last_seen = re.sub(\"last seen \", \"\", last_seen)\n",
    "    if last_seen == \"in the past day\":\n",
    "        return 0\n",
    "    last_seen = re.sub(\" ago\", \"\", last_seen)\n",
    "    quantity, metric = last_seen.split(\" \")\n",
    "    if quantity == \"a\":\n",
    "        quantity = 1\n",
    "    else:\n",
    "        quantity = int(quantity)\n",
    "    if metric == \"year\" or metric == \"years\":\n",
    "        multiplier = 356\n",
    "    elif metric == \"month\" or metric == \"months\":\n",
    "        multiplier = 30\n",
    "    \n",
    "    return quantity * multiplier"
   ]
  },
  {
   "cell_type": "code",
   "execution_count": 12,
   "id": "29d3165a",
   "metadata": {
    "execution": {
     "iopub.execute_input": "2023-09-30T10:56:03.319220Z",
     "iopub.status.busy": "2023-09-30T10:56:03.318626Z",
     "iopub.status.idle": "2023-09-30T10:56:03.339451Z",
     "shell.execute_reply": "2023-09-30T10:56:03.338609Z"
    },
    "papermill": {
     "duration": 0.030048,
     "end_time": "2023-09-30T10:56:03.341571",
     "exception": false,
     "start_time": "2023-09-30T10:56:03.311523",
     "status": "completed"
    },
    "tags": []
   },
   "outputs": [],
   "source": [
    "profiles_df[\"tenure\"] = profiles_df[\"joined\"].apply(lambda x: extract_tenure(x))\n",
    "profiles_df[\"last_seen_days\"] = profiles_df[\"last_seen\"].apply(lambda x: extract_last_seen(x))"
   ]
  },
  {
   "cell_type": "markdown",
   "id": "a74f509d",
   "metadata": {
    "papermill": {
     "duration": 0.006077,
     "end_time": "2023-09-30T10:56:03.353948",
     "exception": false,
     "start_time": "2023-09-30T10:56:03.347871",
     "status": "completed"
    },
    "tags": []
   },
   "source": [
    "# Data exploration"
   ]
  },
  {
   "cell_type": "markdown",
   "id": "a1e93b0c",
   "metadata": {
    "papermill": {
     "duration": 0.005397,
     "end_time": "2023-09-30T10:56:03.365176",
     "exception": false,
     "start_time": "2023-09-30T10:56:03.359779",
     "status": "completed"
    },
    "tags": []
   },
   "source": [
    "Let's merge achievements with profiles datasets."
   ]
  },
  {
   "cell_type": "code",
   "execution_count": 13,
   "id": "e8b2481e",
   "metadata": {
    "execution": {
     "iopub.execute_input": "2023-09-30T10:56:03.378734Z",
     "iopub.status.busy": "2023-09-30T10:56:03.378136Z",
     "iopub.status.idle": "2023-09-30T10:56:03.397559Z",
     "shell.execute_reply": "2023-09-30T10:56:03.396834Z"
    },
    "papermill": {
     "duration": 0.02874,
     "end_time": "2023-09-30T10:56:03.399644",
     "exception": false,
     "start_time": "2023-09-30T10:56:03.370904",
     "status": "completed"
    },
    "tags": []
   },
   "outputs": [],
   "source": [
    "user_df = profiles_df.merge(achievements_df)"
   ]
  },
  {
   "cell_type": "code",
   "execution_count": 14,
   "id": "48d1342e",
   "metadata": {
    "execution": {
     "iopub.execute_input": "2023-09-30T10:56:03.413338Z",
     "iopub.status.busy": "2023-09-30T10:56:03.412811Z",
     "iopub.status.idle": "2023-09-30T10:56:03.429119Z",
     "shell.execute_reply": "2023-09-30T10:56:03.428115Z"
    },
    "papermill": {
     "duration": 0.025273,
     "end_time": "2023-09-30T10:56:03.431008",
     "exception": false,
     "start_time": "2023-09-30T10:56:03.405735",
     "status": "completed"
    },
    "tags": []
   },
   "outputs": [
    {
     "data": {
      "text/html": [
       "<div>\n",
       "<style scoped>\n",
       "    .dataframe tbody tr th:only-of-type {\n",
       "        vertical-align: middle;\n",
       "    }\n",
       "\n",
       "    .dataframe tbody tr th {\n",
       "        vertical-align: top;\n",
       "    }\n",
       "\n",
       "    .dataframe thead th {\n",
       "        text-align: right;\n",
       "    }\n",
       "</style>\n",
       "<table border=\"1\" class=\"dataframe\">\n",
       "  <thead>\n",
       "    <tr style=\"text-align: right;\">\n",
       "      <th></th>\n",
       "      <th>UserName</th>\n",
       "      <th>Avatar</th>\n",
       "      <th>Location</th>\n",
       "      <th>Metadata</th>\n",
       "      <th>snapshot_date</th>\n",
       "      <th>Latitude</th>\n",
       "      <th>Longitude</th>\n",
       "      <th>GeoLocation</th>\n",
       "      <th>Country</th>\n",
       "      <th>joined</th>\n",
       "      <th>last_seen</th>\n",
       "      <th>tenure</th>\n",
       "      <th>last_seen_days</th>\n",
       "      <th>Competitions</th>\n",
       "      <th>Datasets</th>\n",
       "      <th>Notebooks</th>\n",
       "      <th>Discussion</th>\n",
       "      <th>HighestRank</th>\n",
       "    </tr>\n",
       "  </thead>\n",
       "  <tbody>\n",
       "    <tr>\n",
       "      <th>0</th>\n",
       "      <td>jmeynet</td>\n",
       "      <td>https://storage.googleapis.com/kaggle-avatars/...</td>\n",
       "      <td>Barcelona, Catalonia, Spain</td>\n",
       "      <td>Joined 14 years ago · last seen 3 years ago</td>\n",
       "      <td>2023-09-23</td>\n",
       "      <td>41.382894</td>\n",
       "      <td>2.177432</td>\n",
       "      <td>Barcelona, Barcelonès, Barcelona, Catalonia, 0...</td>\n",
       "      <td>Spain</td>\n",
       "      <td>Joined 14 years ago</td>\n",
       "      <td>last seen 3 years ago</td>\n",
       "      <td>168</td>\n",
       "      <td>1068</td>\n",
       "      <td>master</td>\n",
       "      <td>contributor</td>\n",
       "      <td>contributor</td>\n",
       "      <td>contributor</td>\n",
       "      <td>85</td>\n",
       "    </tr>\n",
       "    <tr>\n",
       "      <th>1</th>\n",
       "      <td>dremovd</td>\n",
       "      <td>https://storage.googleapis.com/kaggle-avatars/...</td>\n",
       "      <td>Pattaya City, Chon Buri, Thailand</td>\n",
       "      <td>Joined 14 years ago · last seen 2 months ago</td>\n",
       "      <td>2023-09-23</td>\n",
       "      <td>12.924254</td>\n",
       "      <td>100.865587</td>\n",
       "      <td>Pattaya City Public Park, Pattaya, Na Chom Thi...</td>\n",
       "      <td>Thailand</td>\n",
       "      <td>Joined 14 years ago</td>\n",
       "      <td>last seen 2 months ago</td>\n",
       "      <td>168</td>\n",
       "      <td>60</td>\n",
       "      <td>master</td>\n",
       "      <td>contributor</td>\n",
       "      <td>expert</td>\n",
       "      <td>expert</td>\n",
       "      <td>53</td>\n",
       "    </tr>\n",
       "    <tr>\n",
       "      <th>2</th>\n",
       "      <td>quansun</td>\n",
       "      <td>https://storage.googleapis.com/kaggle-avatars/...</td>\n",
       "      <td>New Zealand</td>\n",
       "      <td>Joined 13 years ago · last seen 7 months ago</td>\n",
       "      <td>2023-09-23</td>\n",
       "      <td>-41.500083</td>\n",
       "      <td>172.834408</td>\n",
       "      <td>New Zealand</td>\n",
       "      <td>New Zealand</td>\n",
       "      <td>Joined 13 years ago</td>\n",
       "      <td>last seen 7 months ago</td>\n",
       "      <td>156</td>\n",
       "      <td>210</td>\n",
       "      <td>master</td>\n",
       "      <td>contributor</td>\n",
       "      <td>contributor</td>\n",
       "      <td>contributor</td>\n",
       "      <td>6</td>\n",
       "    </tr>\n",
       "    <tr>\n",
       "      <th>3</th>\n",
       "      <td>teamben</td>\n",
       "      <td>https://storage.googleapis.com/kaggle-avatars/...</td>\n",
       "      <td>Melbourne, Victoria, Australia</td>\n",
       "      <td>Joined 13 years ago · last seen 7 years ago</td>\n",
       "      <td>2023-09-23</td>\n",
       "      <td>-37.814245</td>\n",
       "      <td>144.963173</td>\n",
       "      <td>Melbourne, City of Melbourne, Victoria, Australia</td>\n",
       "      <td>Australia</td>\n",
       "      <td>Joined 13 years ago</td>\n",
       "      <td>last seen 7 years ago</td>\n",
       "      <td>156</td>\n",
       "      <td>2492</td>\n",
       "      <td>master</td>\n",
       "      <td>contributor</td>\n",
       "      <td>contributor</td>\n",
       "      <td>contributor</td>\n",
       "      <td>90</td>\n",
       "    </tr>\n",
       "    <tr>\n",
       "      <th>4</th>\n",
       "      <td>alexxanderlarko</td>\n",
       "      <td>https://storage.googleapis.com/kaggle-avatars/...</td>\n",
       "      <td>Minusinsk, Krasnoyarsk Krai, Russia</td>\n",
       "      <td>Joined 13 years ago · last seen in the past day</td>\n",
       "      <td>2023-09-23</td>\n",
       "      <td>53.700325</td>\n",
       "      <td>91.697235</td>\n",
       "      <td>Minusinsk, Красноярский кадастровый район, Kra...</td>\n",
       "      <td>Russia</td>\n",
       "      <td>Joined 13 years ago</td>\n",
       "      <td>last seen in the past day</td>\n",
       "      <td>156</td>\n",
       "      <td>0</td>\n",
       "      <td>grandmaster</td>\n",
       "      <td>contributor</td>\n",
       "      <td>expert</td>\n",
       "      <td>expert</td>\n",
       "      <td>3</td>\n",
       "    </tr>\n",
       "  </tbody>\n",
       "</table>\n",
       "</div>"
      ],
      "text/plain": [
       "          UserName                                             Avatar  \\\n",
       "0          jmeynet  https://storage.googleapis.com/kaggle-avatars/...   \n",
       "1          dremovd  https://storage.googleapis.com/kaggle-avatars/...   \n",
       "2          quansun  https://storage.googleapis.com/kaggle-avatars/...   \n",
       "3          teamben  https://storage.googleapis.com/kaggle-avatars/...   \n",
       "4  alexxanderlarko  https://storage.googleapis.com/kaggle-avatars/...   \n",
       "\n",
       "                              Location  \\\n",
       "0          Barcelona, Catalonia, Spain   \n",
       "1    Pattaya City, Chon Buri, Thailand   \n",
       "2                          New Zealand   \n",
       "3       Melbourne, Victoria, Australia   \n",
       "4  Minusinsk, Krasnoyarsk Krai, Russia   \n",
       "\n",
       "                                          Metadata snapshot_date   Latitude  \\\n",
       "0      Joined 14 years ago · last seen 3 years ago    2023-09-23  41.382894   \n",
       "1     Joined 14 years ago · last seen 2 months ago    2023-09-23  12.924254   \n",
       "2     Joined 13 years ago · last seen 7 months ago    2023-09-23 -41.500083   \n",
       "3      Joined 13 years ago · last seen 7 years ago    2023-09-23 -37.814245   \n",
       "4  Joined 13 years ago · last seen in the past day    2023-09-23  53.700325   \n",
       "\n",
       "    Longitude                                        GeoLocation      Country  \\\n",
       "0    2.177432  Barcelona, Barcelonès, Barcelona, Catalonia, 0...        Spain   \n",
       "1  100.865587  Pattaya City Public Park, Pattaya, Na Chom Thi...     Thailand   \n",
       "2  172.834408                                        New Zealand  New Zealand   \n",
       "3  144.963173  Melbourne, City of Melbourne, Victoria, Australia    Australia   \n",
       "4   91.697235  Minusinsk, Красноярский кадастровый район, Kra...       Russia   \n",
       "\n",
       "                joined                  last_seen  tenure  last_seen_days  \\\n",
       "0  Joined 14 years ago      last seen 3 years ago     168            1068   \n",
       "1  Joined 14 years ago     last seen 2 months ago     168              60   \n",
       "2  Joined 13 years ago     last seen 7 months ago     156             210   \n",
       "3  Joined 13 years ago      last seen 7 years ago     156            2492   \n",
       "4  Joined 13 years ago  last seen in the past day     156               0   \n",
       "\n",
       "  Competitions     Datasets    Notebooks   Discussion  HighestRank  \n",
       "0       master  contributor  contributor  contributor           85  \n",
       "1       master  contributor       expert       expert           53  \n",
       "2       master  contributor  contributor  contributor            6  \n",
       "3       master  contributor  contributor  contributor           90  \n",
       "4  grandmaster  contributor       expert       expert            3  "
      ]
     },
     "execution_count": 14,
     "metadata": {},
     "output_type": "execute_result"
    }
   ],
   "source": [
    "user_df.head()"
   ]
  },
  {
   "cell_type": "markdown",
   "id": "2c5ae3a0",
   "metadata": {
    "papermill": {
     "duration": 0.006085,
     "end_time": "2023-09-30T10:56:03.443374",
     "exception": false,
     "start_time": "2023-09-30T10:56:03.437289",
     "status": "completed"
    },
    "tags": []
   },
   "source": [
    "Let's look first to the distribution of tenure and number of days since last seen, separately."
   ]
  },
  {
   "cell_type": "code",
   "execution_count": 15,
   "id": "29261add",
   "metadata": {
    "execution": {
     "iopub.execute_input": "2023-09-30T10:56:03.457878Z",
     "iopub.status.busy": "2023-09-30T10:56:03.457521Z",
     "iopub.status.idle": "2023-09-30T10:56:03.462333Z",
     "shell.execute_reply": "2023-09-30T10:56:03.461716Z"
    },
    "papermill": {
     "duration": 0.01429,
     "end_time": "2023-09-30T10:56:03.463995",
     "exception": false,
     "start_time": "2023-09-30T10:56:03.449705",
     "status": "completed"
    },
    "tags": []
   },
   "outputs": [],
   "source": [
    "def plot_distribution_pairs(data_df, feature, title, xlabel, hue=\"Competitions\"):\n",
    "    f, ax = plt.subplots(1, 1, figsize=(8, 4))\n",
    "    for i, h in enumerate(data_df[hue].unique()):\n",
    "        g = sns.histplot(data_df.loc[data_df[hue]==h, feature],\n",
    "                         ax=ax, label=h)\n",
    "    ax.set_title(f\"Users distribution by {title}\")\n",
    "    #ax.set_yscale('log')\n",
    "    #ax.set_xscale('log')\n",
    "    ax.set_xlabel(xlabel)\n",
    "    g.legend()\n",
    "    plt.show() "
   ]
  },
  {
   "cell_type": "code",
   "execution_count": 16,
   "id": "d685ea2f",
   "metadata": {
    "execution": {
     "iopub.execute_input": "2023-09-30T10:56:03.478104Z",
     "iopub.status.busy": "2023-09-30T10:56:03.477611Z",
     "iopub.status.idle": "2023-09-30T10:56:03.483167Z",
     "shell.execute_reply": "2023-09-30T10:56:03.482148Z"
    },
    "papermill": {
     "duration": 0.01478,
     "end_time": "2023-09-30T10:56:03.484989",
     "exception": false,
     "start_time": "2023-09-30T10:56:03.470209",
     "status": "completed"
    },
    "tags": []
   },
   "outputs": [
    {
     "data": {
      "text/plain": [
       "Index(['UserName', 'Avatar', 'Location', 'Metadata', 'snapshot_date',\n",
       "       'Latitude', 'Longitude', 'GeoLocation', 'Country', 'joined',\n",
       "       'last_seen', 'tenure', 'last_seen_days', 'Competitions', 'Datasets',\n",
       "       'Notebooks', 'Discussion', 'HighestRank'],\n",
       "      dtype='object')"
      ]
     },
     "execution_count": 16,
     "metadata": {},
     "output_type": "execute_result"
    }
   ],
   "source": [
    "user_df.columns"
   ]
  },
  {
   "cell_type": "code",
   "execution_count": 17,
   "id": "0294157c",
   "metadata": {
    "execution": {
     "iopub.execute_input": "2023-09-30T10:56:03.498658Z",
     "iopub.status.busy": "2023-09-30T10:56:03.498330Z",
     "iopub.status.idle": "2023-09-30T10:56:03.995794Z",
     "shell.execute_reply": "2023-09-30T10:56:03.994708Z"
    },
    "papermill": {
     "duration": 0.506639,
     "end_time": "2023-09-30T10:56:03.997914",
     "exception": false,
     "start_time": "2023-09-30T10:56:03.491275",
     "status": "completed"
    },
    "tags": []
   },
   "outputs": [
    {
     "data": {
      "image/png": "[encoded data removed]",
      "text/plain": [
       "<Figure size 800x400 with 1 Axes>"
      ]
     },
     "metadata": {},
     "output_type": "display_data"
    }
   ],
   "source": [
    "plot_distribution_pairs(user_df, \"tenure\", \"tenure (in months)\", \"tenure\")"
   ]
  },
  {
   "cell_type": "code",
   "execution_count": 18,
   "id": "4a5841d8",
   "metadata": {
    "execution": {
     "iopub.execute_input": "2023-09-30T10:56:04.014174Z",
     "iopub.status.busy": "2023-09-30T10:56:04.013768Z",
     "iopub.status.idle": "2023-09-30T10:56:04.020221Z",
     "shell.execute_reply": "2023-09-30T10:56:04.019345Z"
    },
    "papermill": {
     "duration": 0.017108,
     "end_time": "2023-09-30T10:56:04.022328",
     "exception": false,
     "start_time": "2023-09-30T10:56:04.005220",
     "status": "completed"
    },
    "tags": []
   },
   "outputs": [],
   "source": [
    "gm_user_all_df = user_df.loc[user_df.Notebooks.isin([\"master\", \"grandmaster\"])]"
   ]
  },
  {
   "cell_type": "code",
   "execution_count": 19,
   "id": "e812200f",
   "metadata": {
    "execution": {
     "iopub.execute_input": "2023-09-30T10:56:04.038607Z",
     "iopub.status.busy": "2023-09-30T10:56:04.038274Z",
     "iopub.status.idle": "2023-09-30T10:56:04.045258Z",
     "shell.execute_reply": "2023-09-30T10:56:04.044535Z"
    },
    "papermill": {
     "duration": 0.017044,
     "end_time": "2023-09-30T10:56:04.046961",
     "exception": false,
     "start_time": "2023-09-30T10:56:04.029917",
     "status": "completed"
    },
    "tags": []
   },
   "outputs": [],
   "source": [
    "gm_user_df = user_df.loc[user_df.Notebooks.isin([\"master\", \"grandmaster\"]) & (user_df.last_seen_days < 181)]"
   ]
  },
  {
   "cell_type": "code",
   "execution_count": 20,
   "id": "a805d236",
   "metadata": {
    "execution": {
     "iopub.execute_input": "2023-09-30T10:56:04.063039Z",
     "iopub.status.busy": "2023-09-30T10:56:04.062478Z",
     "iopub.status.idle": "2023-09-30T10:56:04.067329Z",
     "shell.execute_reply": "2023-09-30T10:56:04.066706Z"
    },
    "papermill": {
     "duration": 0.01473,
     "end_time": "2023-09-30T10:56:04.068994",
     "exception": false,
     "start_time": "2023-09-30T10:56:04.054264",
     "status": "completed"
    },
    "tags": []
   },
   "outputs": [
    {
     "data": {
      "text/plain": [
       "((619, 18), (578, 18))"
      ]
     },
     "execution_count": 20,
     "metadata": {},
     "output_type": "execute_result"
    }
   ],
   "source": [
    "gm_user_all_df.shape, gm_user_df.shape"
   ]
  },
  {
   "cell_type": "code",
   "execution_count": 21,
   "id": "2aae5e74",
   "metadata": {
    "execution": {
     "iopub.execute_input": "2023-09-30T10:56:04.085355Z",
     "iopub.status.busy": "2023-09-30T10:56:04.084808Z",
     "iopub.status.idle": "2023-09-30T10:56:04.604299Z",
     "shell.execute_reply": "2023-09-30T10:56:04.603137Z"
    },
    "papermill": {
     "duration": 0.53033,
     "end_time": "2023-09-30T10:56:04.606567",
     "exception": false,
     "start_time": "2023-09-30T10:56:04.076237",
     "status": "completed"
    },
    "tags": []
   },
   "outputs": [
    {
     "data": {
      "image/png": "[encoded data removed]",
      "text/plain": [
       "<Figure size 800x400 with 1 Axes>"
      ]
     },
     "metadata": {},
     "output_type": "display_data"
    }
   ],
   "source": [
    "plot_distribution_pairs(gm_user_df, \"last_seen_days\", \"when they were seen last time (in days)\", \"Days since last seen\", hue=\"Notebooks\")"
   ]
  },
  {
   "cell_type": "code",
   "execution_count": 22,
   "id": "d360346a",
   "metadata": {
    "execution": {
     "iopub.execute_input": "2023-09-30T10:56:04.624118Z",
     "iopub.status.busy": "2023-09-30T10:56:04.623476Z",
     "iopub.status.idle": "2023-09-30T10:56:05.578046Z",
     "shell.execute_reply": "2023-09-30T10:56:05.576965Z"
    },
    "papermill": {
     "duration": 0.965734,
     "end_time": "2023-09-30T10:56:05.580076",
     "exception": false,
     "start_time": "2023-09-30T10:56:04.614342",
     "status": "completed"
    },
    "tags": []
   },
   "outputs": [
    {
     "data": {
      "image/png": "[encoded data removed]",
      "text/plain": [
       "<Figure size 800x400 with 1 Axes>"
      ]
     },
     "metadata": {},
     "output_type": "display_data"
    }
   ],
   "source": [
    "plot_distribution_pairs(gm_user_all_df, \"last_seen_days\", \"when were seen last time (in days)\", \"Days since last seen\", hue=\"Notebooks\")"
   ]
  }
 ],
 "metadata": {
  "kernelspec": {
   "display_name": "Python 3",
   "language": "python",
   "name": "python3"
  },
  "language_info": {
   "codemirror_mode": {
    "name": "ipython",
    "version": 3
   },
   "file_extension": ".py",
   "mimetype": "text/x-python",
   "name": "python",
   "nbconvert_exporter": "python",
   "pygments_lexer": "ipython3",
   "version": "3.10.12"
  },
  "papermill": {
   "default_parameters": {},
   "duration": 8.190669,
   "end_time": "2023-09-30T10:56:06.208492",
   "environment_variables": {},
   "exception": null,
   "input_path": "__notebook__.ipynb",
   "output_path": "__notebook__.ipynb",
   "parameters": {},
   "start_time": "2023-09-30T10:55:58.017823",
   "version": "2.4.0"
  }
 },
 "nbformat": 4,
 "nbformat_minor": 5
}
