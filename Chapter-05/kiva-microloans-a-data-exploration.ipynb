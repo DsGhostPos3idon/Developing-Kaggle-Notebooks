{
 "cells": [
  {
   "cell_type": "markdown",
   "id": "fb764940",
   "metadata": {
    "papermill": {
     "duration": 0.014804,
     "end_time": "2023-06-01T17:13:48.523263",
     "exception": false,
     "start_time": "2023-06-01T17:13:48.508459",
     "status": "completed"
    },
    "tags": []
   },
   "source": [
    "<center><img src=\"https://upload.wikimedia.org/wikipedia/commons/thumb/c/cd/Kiva.org_logo_2016.svg/640px-Kiva.org_logo_2016.svg.png\" width=\"400\"></img></center>  \n",
    "<br><br>\n",
    "<center><h1><font color=\"#64a644\">Kiva Microloans - A Data exploration</font></h1></center>\n",
    "<br><br>\n",
    "\n",
    "\n",
    "### <a id=\"0\"></a><font color=\"#64a444\">Content</font>\n",
    "* <a href=\"#1\" style=\"text-decoration:none\"><font color=\"#64a444\">Introduction</font></a>\n",
    "* <a href=\"#2\" style=\"text-decoration:none\"><font color=\"#64a444\">Prepare analysis</font></a>\n",
    "* <a href=\"#3\" style=\"text-decoration:none\"><font color=\"#64a444\">Summary of the data</font></a>\n",
    "* <a href=\"#4\" style=\"text-decoration:none\"><font color=\"#64a444\">Loans in numbers</font></a>\n",
    "* <a href=\"#5\" style=\"text-decoration:none\"><font color=\"#64a444\">References</font></a>\n",
    "\n"
   ]
  },
  {
   "cell_type": "markdown",
   "id": "835d9d08",
   "metadata": {
    "papermill": {
     "duration": 0.014625,
     "end_time": "2023-06-01T17:13:48.552971",
     "exception": false,
     "start_time": "2023-06-01T17:13:48.538346",
     "status": "completed"
    },
    "tags": []
   },
   "source": [
    "# <a id=\"1\"></a><font color=\"#64a444\">Introduction</font>  \n",
    "\n",
    "\n",
    "[Kiva.org](https://www.kiva.org) is an online crowdfunding platform dedicated to extend financial services to poor people around the World.\n",
    "\n",
    "Kiva is inviting the Kaggle community to help them build more localized models to estimate the poverty levels of residents in the regions where Kiva has active loans.\n",
    "\n",
    "\n",
    "## <font color=\"#64a444\">How Kiva works?</font>\n",
    "\n",
    "The lending process by Kiva is simple, following just few steps:  \n",
    "\n",
    "* The borrower mets with a Field Partner of Kiva and requests a loan;  \n",
    "\n",
    "* The Field Partner disburses a loan to the borrower;  \n",
    "\n",
    "* The Field Partner uploads the loan request to Kiva. The request is reviewed by a team of volunteer editors and translators and then published on Kiva.org;  \n",
    "\n",
    "* Kiva lenders found the loan request, and Kiva sends the loan to the Field Partner;  \n",
    "\n",
    "* The borrower makes repayments and the Field Partner send funds owed to Kiva. Kiva repays lenders;  \n",
    "\n",
    "* The lenders can make another loan, donate to Kiva or withdraw their money to their PayPal account. 70% of the lenders choose to fund another loan.    \n",
    "\n",
    "In this Kernel we will explore the data provided by Kiva, trying to understand the welfare condition of Kiva borrowers.  "
   ]
  },
  {
   "cell_type": "markdown",
   "id": "d8a1e9a8",
   "metadata": {
    "papermill": {
     "duration": 0.014407,
     "end_time": "2023-06-01T17:13:48.582342",
     "exception": false,
     "start_time": "2023-06-01T17:13:48.567935",
     "status": "completed"
    },
    "tags": []
   },
   "source": [
    "# <a id=\"2\"></a><font color=\"#64a444\">Prepare analysis</font>  \n",
    "\n",
    "\n",
    "## <font color=\"#64a444\">Load packages</font>  \n",
    "\n",
    "We will use, besides the usual `numpy` and `pandas` Python libraries, `plotly` for data visualization."
   ]
  },
  {
   "cell_type": "code",
   "execution_count": 1,
   "id": "95dd4ec6",
   "metadata": {
    "_kg_hide-input": true,
    "execution": {
     "iopub.execute_input": "2023-06-01T17:13:48.613036Z",
     "iopub.status.busy": "2023-06-01T17:13:48.612628Z",
     "iopub.status.idle": "2023-06-01T17:13:51.509330Z",
     "shell.execute_reply": "2023-06-01T17:13:51.508030Z"
    },
    "papermill": {
     "duration": 2.915146,
     "end_time": "2023-06-01T17:13:51.512067",
     "exception": false,
     "start_time": "2023-06-01T17:13:48.596921",
     "status": "completed"
    },
    "tags": []
   },
   "outputs": [
    {
     "data": {
      "text/html": [
       "        <script type=\"text/javascript\">\n",
       "        window.PlotlyConfig = {MathJaxConfig: 'local'};\n",
       "        if (window.MathJax && window.MathJax.Hub && window.MathJax.Hub.Config) {window.MathJax.Hub.Config({SVG: {font: \"STIX-Web\"}});}\n",
       "        if (typeof require !== 'undefined') {\n",
       "        require.undef(\"plotly\");\n",
       "        requirejs.config({\n",
       "            paths: {\n",
       "                'plotly': ['https://cdn.plot.ly/plotly-2.20.0.min']\n",
       "            }\n",
       "        });\n",
       "        require(['plotly'], function(Plotly) {\n",
       "            window._Plotly = Plotly;\n",
       "        });\n",
       "        }\n",
       "        </script>\n",
       "        "
      ]
     },
     "metadata": {},
     "output_type": "display_data"
    }
   ],
   "source": [
    "import warnings\n",
    "warnings.filterwarnings(\"ignore\")\n",
    "import numpy as np\n",
    "import pandas as pd\n",
    "from IPython.display import Markdown\n",
    "import plotly.graph_objs as go\n",
    "import plotly.figure_factory as ff\n",
    "from plotly import tools\n",
    "from plotly.offline import download_plotlyjs, init_notebook_mode, plot, iplot\n",
    "import plotly.express as px\n",
    "init_notebook_mode(connected=True)"
   ]
  },
  {
   "cell_type": "code",
   "execution_count": 2,
   "id": "f9a899bc",
   "metadata": {
    "_kg_hide-input": true,
    "execution": {
     "iopub.execute_input": "2023-06-01T17:13:51.545716Z",
     "iopub.status.busy": "2023-06-01T17:13:51.545334Z",
     "iopub.status.idle": "2023-06-01T17:13:51.801561Z",
     "shell.execute_reply": "2023-06-01T17:13:51.800415Z"
    },
    "papermill": {
     "duration": 0.275792,
     "end_time": "2023-06-01T17:13:51.804107",
     "exception": false,
     "start_time": "2023-06-01T17:13:51.528315",
     "status": "completed"
    },
    "tags": []
   },
   "outputs": [],
   "source": [
    "from data_quality_stats import missing_data, unique_values, most_frequent_values\n",
    "from plot_style_utils import set_color_map"
   ]
  },
  {
   "cell_type": "markdown",
   "id": "a9c1f901",
   "metadata": {
    "papermill": {
     "duration": 0.015231,
     "end_time": "2023-06-01T17:13:51.834819",
     "exception": false,
     "start_time": "2023-06-01T17:13:51.819588",
     "status": "completed"
    },
    "tags": []
   },
   "source": [
    "---\n",
    "\n",
    "<div style=\"float: right;\">\n",
    "        <a href=\"#0\" class=\"button btn-success btn-sm\" role=\"button\" aria-pressed=\"true\" style=\"color:white\" data-toggle=\"popover\" title=\"Go to Top\">Go to Top</a>\n",
    "</div>"
   ]
  },
  {
   "cell_type": "markdown",
   "id": "29c10e1c",
   "metadata": {
    "papermill": {
     "duration": 0.014911,
     "end_time": "2023-06-01T17:13:51.865130",
     "exception": false,
     "start_time": "2023-06-01T17:13:51.850219",
     "status": "completed"
    },
    "tags": []
   },
   "source": [
    "## <font color=\"#64a444\">Load the data</font>   \n",
    "\n",
    "We will load two datasets:   \n",
    "* Kiva's own dataset, [Data Science for Good: Kiva Crowdfunding](https://www.kaggle.com/datasets/kiva/data-science-for-good-kiva-crowdfunding);  \n",
    "* [Country Statistics - UNData](https://www.kaggle.com/datasets/sudalairajkumar/undata-country-profiles), contributed by [SRK](https://www.kaggle.com/sudalairajkumar)"
   ]
  },
  {
   "cell_type": "code",
   "execution_count": 3,
   "id": "eddabec8",
   "metadata": {
    "_cell_guid": "b1076dfc-b9ad-4769-8c92-a6c4dae69d19",
    "_kg_hide-input": true,
    "_uuid": "8f2839f25d086af736a60e9eeb907d3b93b6e0e5",
    "execution": {
     "iopub.execute_input": "2023-06-01T17:13:51.896681Z",
     "iopub.status.busy": "2023-06-01T17:13:51.895663Z",
     "iopub.status.idle": "2023-06-01T17:13:58.646138Z",
     "shell.execute_reply": "2023-06-01T17:13:58.644881Z"
    },
    "papermill": {
     "duration": 6.768744,
     "end_time": "2023-06-01T17:13:58.648488",
     "exception": false,
     "start_time": "2023-06-01T17:13:51.879744",
     "status": "completed"
    },
    "tags": []
   },
   "outputs": [],
   "source": [
    "kiva_loans_df = pd.read_csv(\"/kaggle/input/data-science-for-good-kiva-crowdfunding/kiva_loans.csv\")\n",
    "kiva_mpi_region_locations_df = pd.read_csv(\"/kaggle/input/data-science-for-good-kiva-crowdfunding/kiva_mpi_region_locations.csv\")\n",
    "loan_theme_ids_df= pd.read_csv(\"/kaggle/input/data-science-for-good-kiva-crowdfunding/loan_theme_ids.csv\")\n",
    "loan_themes_by_region_df = pd.read_csv(\"/kaggle/input/data-science-for-good-kiva-crowdfunding/loan_themes_by_region.csv\")"
   ]
  },
  {
   "cell_type": "code",
   "execution_count": 4,
   "id": "96284873",
   "metadata": {
    "_kg_hide-input": true,
    "execution": {
     "iopub.execute_input": "2023-06-01T17:13:58.677686Z",
     "iopub.status.busy": "2023-06-01T17:13:58.677270Z",
     "iopub.status.idle": "2023-06-01T17:13:58.702279Z",
     "shell.execute_reply": "2023-06-01T17:13:58.701064Z"
    },
    "papermill": {
     "duration": 0.042599,
     "end_time": "2023-06-01T17:13:58.704970",
     "exception": false,
     "start_time": "2023-06-01T17:13:58.662371",
     "status": "completed"
    },
    "tags": []
   },
   "outputs": [],
   "source": [
    "country_profile_variables_df = pd.read_csv(\"/kaggle/input/undata-country-profiles/country_profile_variables.csv\")\n",
    "kiva_country_profiles_variables_df = pd.read_csv(\"/kaggle/input/undata-country-profiles/kiva_country_profile_variables.csv\")"
   ]
  },
  {
   "cell_type": "markdown",
   "id": "de3c2f82",
   "metadata": {
    "papermill": {
     "duration": 0.01429,
     "end_time": "2023-06-01T17:13:58.733940",
     "exception": false,
     "start_time": "2023-06-01T17:13:58.719650",
     "status": "completed"
    },
    "tags": []
   },
   "source": [
    "---\n",
    "<div style=\"float: right;\">\n",
    "        <a href=\"#0\" class=\"button btn-success btn-sm\" role=\"button\" aria-pressed=\"true\" style=\"color:white\" data-toggle=\"popover\" title=\"Go to Top\">Go to Top</a>\n",
    "</div>"
   ]
  },
  {
   "cell_type": "markdown",
   "id": "daa4db35",
   "metadata": {
    "papermill": {
     "duration": 0.014529,
     "end_time": "2023-06-01T17:13:58.762985",
     "exception": false,
     "start_time": "2023-06-01T17:13:58.748456",
     "status": "completed"
    },
    "tags": []
   },
   "source": [
    "# <a id=\"3\"></a><font color=\"#64a444\">Summary of the data</font>"
   ]
  },
  {
   "cell_type": "markdown",
   "id": "e46395e4",
   "metadata": {
    "papermill": {
     "duration": 0.013801,
     "end_time": "2023-06-01T17:13:58.791154",
     "exception": false,
     "start_time": "2023-06-01T17:13:58.777353",
     "status": "completed"
    },
    "tags": []
   },
   "source": [
    "## </a><font color=\"#64a444\">Data quality</font>"
   ]
  },
  {
   "cell_type": "code",
   "execution_count": 5,
   "id": "eb911086",
   "metadata": {
    "_kg_hide-input": true,
    "execution": {
     "iopub.execute_input": "2023-06-01T17:13:58.821169Z",
     "iopub.status.busy": "2023-06-01T17:13:58.820826Z",
     "iopub.status.idle": "2023-06-01T17:13:58.859637Z",
     "shell.execute_reply": "2023-06-01T17:13:58.858063Z"
    },
    "papermill": {
     "duration": 0.056367,
     "end_time": "2023-06-01T17:13:58.861710",
     "exception": false,
     "start_time": "2023-06-01T17:13:58.805343",
     "status": "completed"
    },
    "tags": []
   },
   "outputs": [
    {
     "data": {
      "text/html": [
       "<div>\n",
       "<style scoped>\n",
       "    .dataframe tbody tr th:only-of-type {\n",
       "        vertical-align: middle;\n",
       "    }\n",
       "\n",
       "    .dataframe tbody tr th {\n",
       "        vertical-align: top;\n",
       "    }\n",
       "\n",
       "    .dataframe thead th {\n",
       "        text-align: right;\n",
       "    }\n",
       "</style>\n",
       "<table border=\"1\" class=\"dataframe\">\n",
       "  <thead>\n",
       "    <tr style=\"text-align: right;\">\n",
       "      <th></th>\n",
       "      <th>id</th>\n",
       "      <th>funded_amount</th>\n",
       "      <th>loan_amount</th>\n",
       "      <th>activity</th>\n",
       "      <th>sector</th>\n",
       "      <th>use</th>\n",
       "      <th>country_code</th>\n",
       "      <th>country</th>\n",
       "      <th>region</th>\n",
       "      <th>currency</th>\n",
       "      <th>partner_id</th>\n",
       "      <th>posted_time</th>\n",
       "      <th>disbursed_time</th>\n",
       "      <th>funded_time</th>\n",
       "      <th>term_in_months</th>\n",
       "      <th>lender_count</th>\n",
       "      <th>tags</th>\n",
       "      <th>borrower_genders</th>\n",
       "      <th>repayment_interval</th>\n",
       "      <th>date</th>\n",
       "    </tr>\n",
       "  </thead>\n",
       "  <tbody>\n",
       "    <tr>\n",
       "      <th>0</th>\n",
       "      <td>653051</td>\n",
       "      <td>300.0</td>\n",
       "      <td>300.0</td>\n",
       "      <td>Fruits &amp; Vegetables</td>\n",
       "      <td>Food</td>\n",
       "      <td>To buy seasonal, fresh fruits to sell.</td>\n",
       "      <td>PK</td>\n",
       "      <td>Pakistan</td>\n",
       "      <td>Lahore</td>\n",
       "      <td>PKR</td>\n",
       "      <td>247.0</td>\n",
       "      <td>2014-01-01 06:12:39+00:00</td>\n",
       "      <td>2013-12-17 08:00:00+00:00</td>\n",
       "      <td>2014-01-02 10:06:32+00:00</td>\n",
       "      <td>12.0</td>\n",
       "      <td>12</td>\n",
       "      <td>NaN</td>\n",
       "      <td>female</td>\n",
       "      <td>irregular</td>\n",
       "      <td>2014-01-01</td>\n",
       "    </tr>\n",
       "    <tr>\n",
       "      <th>1</th>\n",
       "      <td>653053</td>\n",
       "      <td>575.0</td>\n",
       "      <td>575.0</td>\n",
       "      <td>Rickshaw</td>\n",
       "      <td>Transportation</td>\n",
       "      <td>to repair and maintain the auto rickshaw used ...</td>\n",
       "      <td>PK</td>\n",
       "      <td>Pakistan</td>\n",
       "      <td>Lahore</td>\n",
       "      <td>PKR</td>\n",
       "      <td>247.0</td>\n",
       "      <td>2014-01-01 06:51:08+00:00</td>\n",
       "      <td>2013-12-17 08:00:00+00:00</td>\n",
       "      <td>2014-01-02 09:17:23+00:00</td>\n",
       "      <td>11.0</td>\n",
       "      <td>14</td>\n",
       "      <td>NaN</td>\n",
       "      <td>female, female</td>\n",
       "      <td>irregular</td>\n",
       "      <td>2014-01-01</td>\n",
       "    </tr>\n",
       "  </tbody>\n",
       "</table>\n",
       "</div>"
      ],
      "text/plain": [
       "       id  funded_amount  loan_amount             activity          sector  \\\n",
       "0  653051          300.0        300.0  Fruits & Vegetables            Food   \n",
       "1  653053          575.0        575.0             Rickshaw  Transportation   \n",
       "\n",
       "                                                 use country_code   country  \\\n",
       "0            To buy seasonal, fresh fruits to sell.            PK  Pakistan   \n",
       "1  to repair and maintain the auto rickshaw used ...           PK  Pakistan   \n",
       "\n",
       "   region currency  partner_id                posted_time  \\\n",
       "0  Lahore      PKR       247.0  2014-01-01 06:12:39+00:00   \n",
       "1  Lahore      PKR       247.0  2014-01-01 06:51:08+00:00   \n",
       "\n",
       "              disbursed_time                funded_time  term_in_months  \\\n",
       "0  2013-12-17 08:00:00+00:00  2014-01-02 10:06:32+00:00            12.0   \n",
       "1  2013-12-17 08:00:00+00:00  2014-01-02 09:17:23+00:00            11.0   \n",
       "\n",
       "   lender_count tags borrower_genders repayment_interval        date  \n",
       "0            12  NaN           female          irregular  2014-01-01  \n",
       "1            14  NaN   female, female          irregular  2014-01-01  "
      ]
     },
     "execution_count": 5,
     "metadata": {},
     "output_type": "execute_result"
    }
   ],
   "source": [
    "kiva_loans_df.head(2)"
   ]
  },
  {
   "cell_type": "code",
   "execution_count": 6,
   "id": "6b447851",
   "metadata": {
    "_kg_hide-input": true,
    "execution": {
     "iopub.execute_input": "2023-06-01T17:13:58.895080Z",
     "iopub.status.busy": "2023-06-01T17:13:58.894705Z",
     "iopub.status.idle": "2023-06-01T17:13:58.910064Z",
     "shell.execute_reply": "2023-06-01T17:13:58.908621Z"
    },
    "papermill": {
     "duration": 0.034489,
     "end_time": "2023-06-01T17:13:58.912320",
     "exception": false,
     "start_time": "2023-06-01T17:13:58.877831",
     "status": "completed"
    },
    "tags": []
   },
   "outputs": [
    {
     "data": {
      "text/html": [
       "<div>\n",
       "<style scoped>\n",
       "    .dataframe tbody tr th:only-of-type {\n",
       "        vertical-align: middle;\n",
       "    }\n",
       "\n",
       "    .dataframe tbody tr th {\n",
       "        vertical-align: top;\n",
       "    }\n",
       "\n",
       "    .dataframe thead th {\n",
       "        text-align: right;\n",
       "    }\n",
       "</style>\n",
       "<table border=\"1\" class=\"dataframe\">\n",
       "  <thead>\n",
       "    <tr style=\"text-align: right;\">\n",
       "      <th></th>\n",
       "      <th>LocationName</th>\n",
       "      <th>ISO</th>\n",
       "      <th>country</th>\n",
       "      <th>region</th>\n",
       "      <th>world_region</th>\n",
       "      <th>MPI</th>\n",
       "      <th>geo</th>\n",
       "      <th>lat</th>\n",
       "      <th>lon</th>\n",
       "    </tr>\n",
       "  </thead>\n",
       "  <tbody>\n",
       "    <tr>\n",
       "      <th>0</th>\n",
       "      <td>Badakhshan, Afghanistan</td>\n",
       "      <td>AFG</td>\n",
       "      <td>Afghanistan</td>\n",
       "      <td>Badakhshan</td>\n",
       "      <td>South Asia</td>\n",
       "      <td>0.387</td>\n",
       "      <td>(36.7347725, 70.81199529999999)</td>\n",
       "      <td>36.734772</td>\n",
       "      <td>70.811995</td>\n",
       "    </tr>\n",
       "    <tr>\n",
       "      <th>1</th>\n",
       "      <td>Badghis, Afghanistan</td>\n",
       "      <td>AFG</td>\n",
       "      <td>Afghanistan</td>\n",
       "      <td>Badghis</td>\n",
       "      <td>South Asia</td>\n",
       "      <td>0.466</td>\n",
       "      <td>(35.1671339, 63.7695384)</td>\n",
       "      <td>35.167134</td>\n",
       "      <td>63.769538</td>\n",
       "    </tr>\n",
       "    <tr>\n",
       "      <th>2</th>\n",
       "      <td>Baghlan, Afghanistan</td>\n",
       "      <td>AFG</td>\n",
       "      <td>Afghanistan</td>\n",
       "      <td>Baghlan</td>\n",
       "      <td>South Asia</td>\n",
       "      <td>0.300</td>\n",
       "      <td>(35.8042947, 69.2877535)</td>\n",
       "      <td>35.804295</td>\n",
       "      <td>69.287754</td>\n",
       "    </tr>\n",
       "    <tr>\n",
       "      <th>3</th>\n",
       "      <td>Balkh, Afghanistan</td>\n",
       "      <td>AFG</td>\n",
       "      <td>Afghanistan</td>\n",
       "      <td>Balkh</td>\n",
       "      <td>South Asia</td>\n",
       "      <td>0.301</td>\n",
       "      <td>(36.7550603, 66.8975372)</td>\n",
       "      <td>36.755060</td>\n",
       "      <td>66.897537</td>\n",
       "    </tr>\n",
       "    <tr>\n",
       "      <th>4</th>\n",
       "      <td>Bamyan, Afghanistan</td>\n",
       "      <td>AFG</td>\n",
       "      <td>Afghanistan</td>\n",
       "      <td>Bamyan</td>\n",
       "      <td>South Asia</td>\n",
       "      <td>0.325</td>\n",
       "      <td>(34.8100067, 67.8212104)</td>\n",
       "      <td>34.810007</td>\n",
       "      <td>67.821210</td>\n",
       "    </tr>\n",
       "  </tbody>\n",
       "</table>\n",
       "</div>"
      ],
      "text/plain": [
       "              LocationName  ISO      country      region world_region    MPI  \\\n",
       "0  Badakhshan, Afghanistan  AFG  Afghanistan  Badakhshan   South Asia  0.387   \n",
       "1     Badghis, Afghanistan  AFG  Afghanistan     Badghis   South Asia  0.466   \n",
       "2     Baghlan, Afghanistan  AFG  Afghanistan     Baghlan   South Asia  0.300   \n",
       "3       Balkh, Afghanistan  AFG  Afghanistan       Balkh   South Asia  0.301   \n",
       "4      Bamyan, Afghanistan  AFG  Afghanistan      Bamyan   South Asia  0.325   \n",
       "\n",
       "                               geo        lat        lon  \n",
       "0  (36.7347725, 70.81199529999999)  36.734772  70.811995  \n",
       "1         (35.1671339, 63.7695384)  35.167134  63.769538  \n",
       "2         (35.8042947, 69.2877535)  35.804295  69.287754  \n",
       "3         (36.7550603, 66.8975372)  36.755060  66.897537  \n",
       "4         (34.8100067, 67.8212104)  34.810007  67.821210  "
      ]
     },
     "execution_count": 6,
     "metadata": {},
     "output_type": "execute_result"
    }
   ],
   "source": [
    "kiva_mpi_region_locations_df.head()"
   ]
  },
  {
   "cell_type": "code",
   "execution_count": 7,
   "id": "11fcdda5",
   "metadata": {
    "_kg_hide-input": true,
    "execution": {
     "iopub.execute_input": "2023-06-01T17:13:58.943067Z",
     "iopub.status.busy": "2023-06-01T17:13:58.942729Z",
     "iopub.status.idle": "2023-06-01T17:13:58.953079Z",
     "shell.execute_reply": "2023-06-01T17:13:58.952068Z"
    },
    "papermill": {
     "duration": 0.029025,
     "end_time": "2023-06-01T17:13:58.955917",
     "exception": false,
     "start_time": "2023-06-01T17:13:58.926892",
     "status": "completed"
    },
    "tags": []
   },
   "outputs": [
    {
     "data": {
      "text/html": [
       "<div>\n",
       "<style scoped>\n",
       "    .dataframe tbody tr th:only-of-type {\n",
       "        vertical-align: middle;\n",
       "    }\n",
       "\n",
       "    .dataframe tbody tr th {\n",
       "        vertical-align: top;\n",
       "    }\n",
       "\n",
       "    .dataframe thead th {\n",
       "        text-align: right;\n",
       "    }\n",
       "</style>\n",
       "<table border=\"1\" class=\"dataframe\">\n",
       "  <thead>\n",
       "    <tr style=\"text-align: right;\">\n",
       "      <th></th>\n",
       "      <th>id</th>\n",
       "      <th>Loan Theme ID</th>\n",
       "      <th>Loan Theme Type</th>\n",
       "      <th>Partner ID</th>\n",
       "    </tr>\n",
       "  </thead>\n",
       "  <tbody>\n",
       "    <tr>\n",
       "      <th>0</th>\n",
       "      <td>638631</td>\n",
       "      <td>a1050000000skGl</td>\n",
       "      <td>General</td>\n",
       "      <td>151.0</td>\n",
       "    </tr>\n",
       "    <tr>\n",
       "      <th>1</th>\n",
       "      <td>640322</td>\n",
       "      <td>a1050000000skGl</td>\n",
       "      <td>General</td>\n",
       "      <td>151.0</td>\n",
       "    </tr>\n",
       "    <tr>\n",
       "      <th>2</th>\n",
       "      <td>641006</td>\n",
       "      <td>a1050000002X1ij</td>\n",
       "      <td>Higher Education</td>\n",
       "      <td>160.0</td>\n",
       "    </tr>\n",
       "    <tr>\n",
       "      <th>3</th>\n",
       "      <td>641019</td>\n",
       "      <td>a1050000002X1ij</td>\n",
       "      <td>Higher Education</td>\n",
       "      <td>160.0</td>\n",
       "    </tr>\n",
       "    <tr>\n",
       "      <th>4</th>\n",
       "      <td>641594</td>\n",
       "      <td>a1050000002VbsW</td>\n",
       "      <td>Subsistence Agriculture</td>\n",
       "      <td>336.0</td>\n",
       "    </tr>\n",
       "  </tbody>\n",
       "</table>\n",
       "</div>"
      ],
      "text/plain": [
       "       id    Loan Theme ID          Loan Theme Type  Partner ID\n",
       "0  638631  a1050000000skGl                  General       151.0\n",
       "1  640322  a1050000000skGl                  General       151.0\n",
       "2  641006  a1050000002X1ij         Higher Education       160.0\n",
       "3  641019  a1050000002X1ij         Higher Education       160.0\n",
       "4  641594  a1050000002VbsW  Subsistence Agriculture       336.0"
      ]
     },
     "execution_count": 7,
     "metadata": {},
     "output_type": "execute_result"
    }
   ],
   "source": [
    "loan_theme_ids_df.head()"
   ]
  },
  {
   "cell_type": "code",
   "execution_count": 8,
   "id": "b90a51db",
   "metadata": {
    "_kg_hide-input": true,
    "execution": {
     "iopub.execute_input": "2023-06-01T17:13:58.987019Z",
     "iopub.status.busy": "2023-06-01T17:13:58.986677Z",
     "iopub.status.idle": "2023-06-01T17:13:59.012572Z",
     "shell.execute_reply": "2023-06-01T17:13:59.011210Z"
    },
    "papermill": {
     "duration": 0.044149,
     "end_time": "2023-06-01T17:13:59.014964",
     "exception": false,
     "start_time": "2023-06-01T17:13:58.970815",
     "status": "completed"
    },
    "tags": []
   },
   "outputs": [
    {
     "data": {
      "text/html": [
       "<div>\n",
       "<style scoped>\n",
       "    .dataframe tbody tr th:only-of-type {\n",
       "        vertical-align: middle;\n",
       "    }\n",
       "\n",
       "    .dataframe tbody tr th {\n",
       "        vertical-align: top;\n",
       "    }\n",
       "\n",
       "    .dataframe thead th {\n",
       "        text-align: right;\n",
       "    }\n",
       "</style>\n",
       "<table border=\"1\" class=\"dataframe\">\n",
       "  <thead>\n",
       "    <tr style=\"text-align: right;\">\n",
       "      <th></th>\n",
       "      <th>Partner ID</th>\n",
       "      <th>Field Partner Name</th>\n",
       "      <th>sector</th>\n",
       "      <th>Loan Theme ID</th>\n",
       "      <th>Loan Theme Type</th>\n",
       "      <th>country</th>\n",
       "      <th>forkiva</th>\n",
       "      <th>region</th>\n",
       "      <th>geocode_old</th>\n",
       "      <th>ISO</th>\n",
       "      <th>...</th>\n",
       "      <th>amount</th>\n",
       "      <th>LocationName</th>\n",
       "      <th>geocode</th>\n",
       "      <th>names</th>\n",
       "      <th>geo</th>\n",
       "      <th>lat</th>\n",
       "      <th>lon</th>\n",
       "      <th>mpi_region</th>\n",
       "      <th>mpi_geo</th>\n",
       "      <th>rural_pct</th>\n",
       "    </tr>\n",
       "  </thead>\n",
       "  <tbody>\n",
       "    <tr>\n",
       "      <th>0</th>\n",
       "      <td>9</td>\n",
       "      <td>KREDIT Microfinance Institution</td>\n",
       "      <td>General Financial Inclusion</td>\n",
       "      <td>a1050000000slfi</td>\n",
       "      <td>Higher Education</td>\n",
       "      <td>Cambodia</td>\n",
       "      <td>No</td>\n",
       "      <td>Banteay Meanchey</td>\n",
       "      <td>(13.75, 103.0)</td>\n",
       "      <td>KHM</td>\n",
       "      <td>...</td>\n",
       "      <td>450</td>\n",
       "      <td>Banteay Meanchey, Cambodia</td>\n",
       "      <td>[(13.6672596, 102.8975098)]</td>\n",
       "      <td>Banteay Meanchey Province; Cambodia</td>\n",
       "      <td>(13.6672596, 102.8975098)</td>\n",
       "      <td>13.667260</td>\n",
       "      <td>102.897510</td>\n",
       "      <td>Banteay Mean Chey, Cambodia</td>\n",
       "      <td>(13.6672596, 102.8975098)</td>\n",
       "      <td>90.0</td>\n",
       "    </tr>\n",
       "    <tr>\n",
       "      <th>1</th>\n",
       "      <td>9</td>\n",
       "      <td>KREDIT Microfinance Institution</td>\n",
       "      <td>General Financial Inclusion</td>\n",
       "      <td>a10500000068jPe</td>\n",
       "      <td>Vulnerable Populations</td>\n",
       "      <td>Cambodia</td>\n",
       "      <td>No</td>\n",
       "      <td>Battambang Province</td>\n",
       "      <td>NaN</td>\n",
       "      <td>KHM</td>\n",
       "      <td>...</td>\n",
       "      <td>20275</td>\n",
       "      <td>Battambang Province, Cambodia</td>\n",
       "      <td>[(13.0286971, 102.989615)]</td>\n",
       "      <td>Battambang Province; Cambodia</td>\n",
       "      <td>(13.0286971, 102.989615)</td>\n",
       "      <td>13.028697</td>\n",
       "      <td>102.989615</td>\n",
       "      <td>Banteay Mean Chey, Cambodia</td>\n",
       "      <td>(13.6672596, 102.8975098)</td>\n",
       "      <td>90.0</td>\n",
       "    </tr>\n",
       "    <tr>\n",
       "      <th>2</th>\n",
       "      <td>9</td>\n",
       "      <td>KREDIT Microfinance Institution</td>\n",
       "      <td>General Financial Inclusion</td>\n",
       "      <td>a1050000000slfi</td>\n",
       "      <td>Higher Education</td>\n",
       "      <td>Cambodia</td>\n",
       "      <td>No</td>\n",
       "      <td>Battambang Province</td>\n",
       "      <td>NaN</td>\n",
       "      <td>KHM</td>\n",
       "      <td>...</td>\n",
       "      <td>9150</td>\n",
       "      <td>Battambang Province, Cambodia</td>\n",
       "      <td>[(13.0286971, 102.989615)]</td>\n",
       "      <td>Battambang Province; Cambodia</td>\n",
       "      <td>(13.0286971, 102.989615)</td>\n",
       "      <td>13.028697</td>\n",
       "      <td>102.989615</td>\n",
       "      <td>Banteay Mean Chey, Cambodia</td>\n",
       "      <td>(13.6672596, 102.8975098)</td>\n",
       "      <td>90.0</td>\n",
       "    </tr>\n",
       "    <tr>\n",
       "      <th>3</th>\n",
       "      <td>9</td>\n",
       "      <td>KREDIT Microfinance Institution</td>\n",
       "      <td>General Financial Inclusion</td>\n",
       "      <td>a10500000068jPe</td>\n",
       "      <td>Vulnerable Populations</td>\n",
       "      <td>Cambodia</td>\n",
       "      <td>No</td>\n",
       "      <td>Kampong Cham Province</td>\n",
       "      <td>(12.0, 105.5)</td>\n",
       "      <td>KHM</td>\n",
       "      <td>...</td>\n",
       "      <td>604950</td>\n",
       "      <td>Kampong Cham Province, Cambodia</td>\n",
       "      <td>[(12.0982918, 105.3131185)]</td>\n",
       "      <td>Kampong Cham Province; Cambodia</td>\n",
       "      <td>(12.0982918, 105.3131185)</td>\n",
       "      <td>12.098292</td>\n",
       "      <td>105.313119</td>\n",
       "      <td>Kampong Cham, Cambodia</td>\n",
       "      <td>(11.9924294, 105.4645408)</td>\n",
       "      <td>90.0</td>\n",
       "    </tr>\n",
       "    <tr>\n",
       "      <th>4</th>\n",
       "      <td>9</td>\n",
       "      <td>KREDIT Microfinance Institution</td>\n",
       "      <td>General Financial Inclusion</td>\n",
       "      <td>a1050000002X1Uu</td>\n",
       "      <td>Sanitation</td>\n",
       "      <td>Cambodia</td>\n",
       "      <td>No</td>\n",
       "      <td>Kampong Cham Province</td>\n",
       "      <td>(12.0, 105.5)</td>\n",
       "      <td>KHM</td>\n",
       "      <td>...</td>\n",
       "      <td>275</td>\n",
       "      <td>Kampong Cham Province, Cambodia</td>\n",
       "      <td>[(12.0982918, 105.3131185)]</td>\n",
       "      <td>Kampong Cham Province; Cambodia</td>\n",
       "      <td>(12.0982918, 105.3131185)</td>\n",
       "      <td>12.098292</td>\n",
       "      <td>105.313119</td>\n",
       "      <td>Kampong Cham, Cambodia</td>\n",
       "      <td>(11.9924294, 105.4645408)</td>\n",
       "      <td>90.0</td>\n",
       "    </tr>\n",
       "  </tbody>\n",
       "</table>\n",
       "<p>5 rows × 21 columns</p>\n",
       "</div>"
      ],
      "text/plain": [
       "   Partner ID               Field Partner Name                       sector  \\\n",
       "0           9  KREDIT Microfinance Institution  General Financial Inclusion   \n",
       "1           9  KREDIT Microfinance Institution  General Financial Inclusion   \n",
       "2           9  KREDIT Microfinance Institution  General Financial Inclusion   \n",
       "3           9  KREDIT Microfinance Institution  General Financial Inclusion   \n",
       "4           9  KREDIT Microfinance Institution  General Financial Inclusion   \n",
       "\n",
       "     Loan Theme ID         Loan Theme Type   country forkiva  \\\n",
       "0  a1050000000slfi        Higher Education  Cambodia      No   \n",
       "1  a10500000068jPe  Vulnerable Populations  Cambodia      No   \n",
       "2  a1050000000slfi        Higher Education  Cambodia      No   \n",
       "3  a10500000068jPe  Vulnerable Populations  Cambodia      No   \n",
       "4  a1050000002X1Uu              Sanitation  Cambodia      No   \n",
       "\n",
       "                  region     geocode_old  ISO  ...  amount  \\\n",
       "0       Banteay Meanchey  (13.75, 103.0)  KHM  ...     450   \n",
       "1    Battambang Province             NaN  KHM  ...   20275   \n",
       "2    Battambang Province             NaN  KHM  ...    9150   \n",
       "3  Kampong Cham Province   (12.0, 105.5)  KHM  ...  604950   \n",
       "4  Kampong Cham Province   (12.0, 105.5)  KHM  ...     275   \n",
       "\n",
       "                      LocationName                      geocode  \\\n",
       "0       Banteay Meanchey, Cambodia  [(13.6672596, 102.8975098)]   \n",
       "1    Battambang Province, Cambodia   [(13.0286971, 102.989615)]   \n",
       "2    Battambang Province, Cambodia   [(13.0286971, 102.989615)]   \n",
       "3  Kampong Cham Province, Cambodia  [(12.0982918, 105.3131185)]   \n",
       "4  Kampong Cham Province, Cambodia  [(12.0982918, 105.3131185)]   \n",
       "\n",
       "                                 names                        geo        lat  \\\n",
       "0  Banteay Meanchey Province; Cambodia  (13.6672596, 102.8975098)  13.667260   \n",
       "1        Battambang Province; Cambodia   (13.0286971, 102.989615)  13.028697   \n",
       "2        Battambang Province; Cambodia   (13.0286971, 102.989615)  13.028697   \n",
       "3      Kampong Cham Province; Cambodia  (12.0982918, 105.3131185)  12.098292   \n",
       "4      Kampong Cham Province; Cambodia  (12.0982918, 105.3131185)  12.098292   \n",
       "\n",
       "          lon                   mpi_region                    mpi_geo  \\\n",
       "0  102.897510  Banteay Mean Chey, Cambodia  (13.6672596, 102.8975098)   \n",
       "1  102.989615  Banteay Mean Chey, Cambodia  (13.6672596, 102.8975098)   \n",
       "2  102.989615  Banteay Mean Chey, Cambodia  (13.6672596, 102.8975098)   \n",
       "3  105.313119       Kampong Cham, Cambodia  (11.9924294, 105.4645408)   \n",
       "4  105.313119       Kampong Cham, Cambodia  (11.9924294, 105.4645408)   \n",
       "\n",
       "  rural_pct  \n",
       "0      90.0  \n",
       "1      90.0  \n",
       "2      90.0  \n",
       "3      90.0  \n",
       "4      90.0  \n",
       "\n",
       "[5 rows x 21 columns]"
      ]
     },
     "execution_count": 8,
     "metadata": {},
     "output_type": "execute_result"
    }
   ],
   "source": [
    "loan_themes_by_region_df.head()"
   ]
  },
  {
   "cell_type": "code",
   "execution_count": 9,
   "id": "cc9365be",
   "metadata": {
    "_kg_hide-input": true,
    "execution": {
     "iopub.execute_input": "2023-06-01T17:13:59.046942Z",
     "iopub.status.busy": "2023-06-01T17:13:59.046586Z",
     "iopub.status.idle": "2023-06-01T17:13:59.069627Z",
     "shell.execute_reply": "2023-06-01T17:13:59.068800Z"
    },
    "papermill": {
     "duration": 0.041816,
     "end_time": "2023-06-01T17:13:59.071885",
     "exception": false,
     "start_time": "2023-06-01T17:13:59.030069",
     "status": "completed"
    },
    "tags": []
   },
   "outputs": [
    {
     "data": {
      "text/html": [
       "<div>\n",
       "<style scoped>\n",
       "    .dataframe tbody tr th:only-of-type {\n",
       "        vertical-align: middle;\n",
       "    }\n",
       "\n",
       "    .dataframe tbody tr th {\n",
       "        vertical-align: top;\n",
       "    }\n",
       "\n",
       "    .dataframe thead th {\n",
       "        text-align: right;\n",
       "    }\n",
       "</style>\n",
       "<table border=\"1\" class=\"dataframe\">\n",
       "  <thead>\n",
       "    <tr style=\"text-align: right;\">\n",
       "      <th></th>\n",
       "      <th>country</th>\n",
       "      <th>Region</th>\n",
       "      <th>Surface area (km2)</th>\n",
       "      <th>Population in thousands (2017)</th>\n",
       "      <th>Population density (per km2, 2017)</th>\n",
       "      <th>Sex ratio (m per 100 f, 2017)</th>\n",
       "      <th>GDP: Gross domestic product (million current US$)</th>\n",
       "      <th>GDP growth rate (annual %, const. 2005 prices)</th>\n",
       "      <th>GDP per capita (current US$)</th>\n",
       "      <th>Economy: Agriculture (% of GVA)</th>\n",
       "      <th>...</th>\n",
       "      <th>Mobile-cellular subscriptions (per 100 inhabitants).1</th>\n",
       "      <th>Individuals using the Internet (per 100 inhabitants)</th>\n",
       "      <th>Threatened species (number)</th>\n",
       "      <th>Forested area (% of land area)</th>\n",
       "      <th>CO2 emission estimates (million tons/tons per capita)</th>\n",
       "      <th>Energy production, primary (Petajoules)</th>\n",
       "      <th>Energy supply per capita (Gigajoules)</th>\n",
       "      <th>Pop. using improved drinking water (urban/rural, %)</th>\n",
       "      <th>Pop. using improved sanitation facilities (urban/rural, %)</th>\n",
       "      <th>Net Official Development Assist. received (% of GNI)</th>\n",
       "    </tr>\n",
       "  </thead>\n",
       "  <tbody>\n",
       "    <tr>\n",
       "      <th>0</th>\n",
       "      <td>Afghanistan</td>\n",
       "      <td>SouthernAsia</td>\n",
       "      <td>652864</td>\n",
       "      <td>35530</td>\n",
       "      <td>54.4</td>\n",
       "      <td>106.3</td>\n",
       "      <td>20270</td>\n",
       "      <td>-2.4</td>\n",
       "      <td>623.2</td>\n",
       "      <td>23.3</td>\n",
       "      <td>...</td>\n",
       "      <td>8.3</td>\n",
       "      <td>42</td>\n",
       "      <td>2.1</td>\n",
       "      <td>9.8/0.3</td>\n",
       "      <td>63</td>\n",
       "      <td>5</td>\n",
       "      <td>78.2/47.0</td>\n",
       "      <td>45.1/27.0</td>\n",
       "      <td>21.43</td>\n",
       "      <td>-99</td>\n",
       "    </tr>\n",
       "    <tr>\n",
       "      <th>1</th>\n",
       "      <td>Albania</td>\n",
       "      <td>SouthernEurope</td>\n",
       "      <td>28748</td>\n",
       "      <td>2930</td>\n",
       "      <td>106.9</td>\n",
       "      <td>101.9</td>\n",
       "      <td>11541</td>\n",
       "      <td>2.6</td>\n",
       "      <td>3984.2</td>\n",
       "      <td>22.4</td>\n",
       "      <td>...</td>\n",
       "      <td>63.3</td>\n",
       "      <td>130</td>\n",
       "      <td>28.2</td>\n",
       "      <td>5.7/2.0</td>\n",
       "      <td>84</td>\n",
       "      <td>36</td>\n",
       "      <td>94.9/95.2</td>\n",
       "      <td>95.5/90.2</td>\n",
       "      <td>2.96</td>\n",
       "      <td>-99</td>\n",
       "    </tr>\n",
       "    <tr>\n",
       "      <th>2</th>\n",
       "      <td>Algeria</td>\n",
       "      <td>NorthernAfrica</td>\n",
       "      <td>2381741</td>\n",
       "      <td>41318</td>\n",
       "      <td>17.3</td>\n",
       "      <td>102.0</td>\n",
       "      <td>164779</td>\n",
       "      <td>3.8</td>\n",
       "      <td>4154.1</td>\n",
       "      <td>12.2</td>\n",
       "      <td>...</td>\n",
       "      <td>38.2</td>\n",
       "      <td>135</td>\n",
       "      <td>0.8</td>\n",
       "      <td>145.4/3.7</td>\n",
       "      <td>5900</td>\n",
       "      <td>55</td>\n",
       "      <td>84.3/81.8</td>\n",
       "      <td>89.8/82.2</td>\n",
       "      <td>0.05</td>\n",
       "      <td>-99</td>\n",
       "    </tr>\n",
       "    <tr>\n",
       "      <th>3</th>\n",
       "      <td>American Samoa</td>\n",
       "      <td>Polynesia</td>\n",
       "      <td>199</td>\n",
       "      <td>56</td>\n",
       "      <td>278.2</td>\n",
       "      <td>103.6</td>\n",
       "      <td>-99</td>\n",
       "      <td>-99</td>\n",
       "      <td>-99.0</td>\n",
       "      <td>-99</td>\n",
       "      <td>...</td>\n",
       "      <td>-99</td>\n",
       "      <td>92</td>\n",
       "      <td>87.9</td>\n",
       "      <td>-99</td>\n",
       "      <td>-99</td>\n",
       "      <td>-99</td>\n",
       "      <td>100.0/100.0</td>\n",
       "      <td>62.5/62.5</td>\n",
       "      <td>-99</td>\n",
       "      <td>-99</td>\n",
       "    </tr>\n",
       "    <tr>\n",
       "      <th>4</th>\n",
       "      <td>Andorra</td>\n",
       "      <td>SouthernEurope</td>\n",
       "      <td>468</td>\n",
       "      <td>77</td>\n",
       "      <td>163.8</td>\n",
       "      <td>102.3</td>\n",
       "      <td>2812</td>\n",
       "      <td>0.8</td>\n",
       "      <td>39896.4</td>\n",
       "      <td>0.5</td>\n",
       "      <td>...</td>\n",
       "      <td>96.9</td>\n",
       "      <td>13</td>\n",
       "      <td>34.0</td>\n",
       "      <td>0.5/6.4</td>\n",
       "      <td>1</td>\n",
       "      <td>119</td>\n",
       "      <td>100.0/100.0</td>\n",
       "      <td>100.0/100.0</td>\n",
       "      <td>-99</td>\n",
       "      <td>-99</td>\n",
       "    </tr>\n",
       "  </tbody>\n",
       "</table>\n",
       "<p>5 rows × 50 columns</p>\n",
       "</div>"
      ],
      "text/plain": [
       "          country          Region Surface area (km2)  \\\n",
       "0     Afghanistan    SouthernAsia             652864   \n",
       "1         Albania  SouthernEurope              28748   \n",
       "2         Algeria  NorthernAfrica            2381741   \n",
       "3  American Samoa       Polynesia                199   \n",
       "4         Andorra  SouthernEurope                468   \n",
       "\n",
       "   Population in thousands (2017)  Population density (per km2, 2017)  \\\n",
       "0                           35530                                54.4   \n",
       "1                            2930                               106.9   \n",
       "2                           41318                                17.3   \n",
       "3                              56                               278.2   \n",
       "4                              77                               163.8   \n",
       "\n",
       "   Sex ratio (m per 100 f, 2017)  \\\n",
       "0                          106.3   \n",
       "1                          101.9   \n",
       "2                          102.0   \n",
       "3                          103.6   \n",
       "4                          102.3   \n",
       "\n",
       "   GDP: Gross domestic product (million current US$)  \\\n",
       "0                                              20270   \n",
       "1                                              11541   \n",
       "2                                             164779   \n",
       "3                                                -99   \n",
       "4                                               2812   \n",
       "\n",
       "  GDP growth rate (annual %, const. 2005 prices)  \\\n",
       "0                                           -2.4   \n",
       "1                                            2.6   \n",
       "2                                            3.8   \n",
       "3                                            -99   \n",
       "4                                            0.8   \n",
       "\n",
       "   GDP per capita (current US$) Economy: Agriculture (% of GVA)  ...  \\\n",
       "0                         623.2                            23.3  ...   \n",
       "1                        3984.2                            22.4  ...   \n",
       "2                        4154.1                            12.2  ...   \n",
       "3                         -99.0                             -99  ...   \n",
       "4                       39896.4                             0.5  ...   \n",
       "\n",
       "   Mobile-cellular subscriptions (per 100 inhabitants).1  \\\n",
       "0                                                8.3       \n",
       "1                                               63.3       \n",
       "2                                               38.2       \n",
       "3                                                -99       \n",
       "4                                               96.9       \n",
       "\n",
       "   Individuals using the Internet (per 100 inhabitants)  \\\n",
       "0                                                 42      \n",
       "1                                                130      \n",
       "2                                                135      \n",
       "3                                                 92      \n",
       "4                                                 13      \n",
       "\n",
       "  Threatened species (number) Forested area (% of land area)  \\\n",
       "0                         2.1                        9.8/0.3   \n",
       "1                        28.2                        5.7/2.0   \n",
       "2                         0.8                      145.4/3.7   \n",
       "3                        87.9                            -99   \n",
       "4                        34.0                        0.5/6.4   \n",
       "\n",
       "  CO2 emission estimates (million tons/tons per capita)  \\\n",
       "0                                                 63      \n",
       "1                                                 84      \n",
       "2                                               5900      \n",
       "3                                                -99      \n",
       "4                                                  1      \n",
       "\n",
       "  Energy production, primary (Petajoules)  \\\n",
       "0                                       5   \n",
       "1                                      36   \n",
       "2                                      55   \n",
       "3                                     -99   \n",
       "4                                     119   \n",
       "\n",
       "  Energy supply per capita (Gigajoules)  \\\n",
       "0                             78.2/47.0   \n",
       "1                             94.9/95.2   \n",
       "2                             84.3/81.8   \n",
       "3                           100.0/100.0   \n",
       "4                           100.0/100.0   \n",
       "\n",
       "   Pop. using improved drinking water (urban/rural, %)  \\\n",
       "0                                          45.1/27.0     \n",
       "1                                          95.5/90.2     \n",
       "2                                          89.8/82.2     \n",
       "3                                          62.5/62.5     \n",
       "4                                        100.0/100.0     \n",
       "\n",
       "   Pop. using improved sanitation facilities (urban/rural, %)  \\\n",
       "0                                              21.43            \n",
       "1                                               2.96            \n",
       "2                                               0.05            \n",
       "3                                                -99            \n",
       "4                                                -99            \n",
       "\n",
       "  Net Official Development Assist. received (% of GNI)  \n",
       "0                                                -99    \n",
       "1                                                -99    \n",
       "2                                                -99    \n",
       "3                                                -99    \n",
       "4                                                -99    \n",
       "\n",
       "[5 rows x 50 columns]"
      ]
     },
     "execution_count": 9,
     "metadata": {},
     "output_type": "execute_result"
    }
   ],
   "source": [
    "country_profile_variables_df.head()"
   ]
  },
  {
   "cell_type": "code",
   "execution_count": 10,
   "id": "ec26ff56",
   "metadata": {
    "_kg_hide-input": true,
    "execution": {
     "iopub.execute_input": "2023-06-01T17:13:59.107188Z",
     "iopub.status.busy": "2023-06-01T17:13:59.106810Z",
     "iopub.status.idle": "2023-06-01T17:13:59.131907Z",
     "shell.execute_reply": "2023-06-01T17:13:59.130319Z"
    },
    "papermill": {
     "duration": 0.045085,
     "end_time": "2023-06-01T17:13:59.133732",
     "exception": false,
     "start_time": "2023-06-01T17:13:59.088647",
     "status": "completed"
    },
    "tags": []
   },
   "outputs": [
    {
     "data": {
      "text/html": [
       "<div>\n",
       "<style scoped>\n",
       "    .dataframe tbody tr th:only-of-type {\n",
       "        vertical-align: middle;\n",
       "    }\n",
       "\n",
       "    .dataframe tbody tr th {\n",
       "        vertical-align: top;\n",
       "    }\n",
       "\n",
       "    .dataframe thead th {\n",
       "        text-align: right;\n",
       "    }\n",
       "</style>\n",
       "<table border=\"1\" class=\"dataframe\">\n",
       "  <thead>\n",
       "    <tr style=\"text-align: right;\">\n",
       "      <th></th>\n",
       "      <th>country</th>\n",
       "      <th>Region</th>\n",
       "      <th>Surface area (km2)</th>\n",
       "      <th>Population in thousands (2017)</th>\n",
       "      <th>Population density (per km2, 2017)</th>\n",
       "      <th>Sex ratio (m per 100 f, 2017)</th>\n",
       "      <th>GDP: Gross domestic product (million current US$)</th>\n",
       "      <th>GDP growth rate (annual %, const. 2005 prices)</th>\n",
       "      <th>GDP per capita (current US$)</th>\n",
       "      <th>Economy: Agriculture (% of GVA)</th>\n",
       "      <th>...</th>\n",
       "      <th>Mobile-cellular subscriptions (per 100 inhabitants).1</th>\n",
       "      <th>Individuals using the Internet (per 100 inhabitants)</th>\n",
       "      <th>Threatened species (number)</th>\n",
       "      <th>Forested area (% of land area)</th>\n",
       "      <th>CO2 emission estimates (million tons/tons per capita)</th>\n",
       "      <th>Energy production, primary (Petajoules)</th>\n",
       "      <th>Energy supply per capita (Gigajoules)</th>\n",
       "      <th>Pop. using improved drinking water (urban/rural, %)</th>\n",
       "      <th>Pop. using improved sanitation facilities (urban/rural, %)</th>\n",
       "      <th>Net Official Development Assist. received (% of GNI)</th>\n",
       "    </tr>\n",
       "  </thead>\n",
       "  <tbody>\n",
       "    <tr>\n",
       "      <th>0</th>\n",
       "      <td>Afghanistan</td>\n",
       "      <td>SouthernAsia</td>\n",
       "      <td>652864</td>\n",
       "      <td>35530</td>\n",
       "      <td>54.4</td>\n",
       "      <td>106.3</td>\n",
       "      <td>20270</td>\n",
       "      <td>-2.4</td>\n",
       "      <td>623.2</td>\n",
       "      <td>23.3</td>\n",
       "      <td>...</td>\n",
       "      <td>8.3</td>\n",
       "      <td>42</td>\n",
       "      <td>2.1</td>\n",
       "      <td>9.8/0.3</td>\n",
       "      <td>63</td>\n",
       "      <td>5</td>\n",
       "      <td>78.2/47.0</td>\n",
       "      <td>45.1/27.0</td>\n",
       "      <td>21.43</td>\n",
       "      <td>-99</td>\n",
       "    </tr>\n",
       "    <tr>\n",
       "      <th>1</th>\n",
       "      <td>Albania</td>\n",
       "      <td>SouthernEurope</td>\n",
       "      <td>28748</td>\n",
       "      <td>2930</td>\n",
       "      <td>106.9</td>\n",
       "      <td>101.9</td>\n",
       "      <td>11541</td>\n",
       "      <td>2.6</td>\n",
       "      <td>3984.2</td>\n",
       "      <td>22.4</td>\n",
       "      <td>...</td>\n",
       "      <td>63.3</td>\n",
       "      <td>130</td>\n",
       "      <td>28.2</td>\n",
       "      <td>5.7/2.0</td>\n",
       "      <td>84</td>\n",
       "      <td>36</td>\n",
       "      <td>94.9/95.2</td>\n",
       "      <td>95.5/90.2</td>\n",
       "      <td>2.96</td>\n",
       "      <td>-99</td>\n",
       "    </tr>\n",
       "    <tr>\n",
       "      <th>2</th>\n",
       "      <td>Armenia</td>\n",
       "      <td>WesternAsia</td>\n",
       "      <td>29743</td>\n",
       "      <td>2930</td>\n",
       "      <td>102.9</td>\n",
       "      <td>88.8</td>\n",
       "      <td>10529</td>\n",
       "      <td>3.0</td>\n",
       "      <td>3489.1</td>\n",
       "      <td>19.0</td>\n",
       "      <td>...</td>\n",
       "      <td>58.2</td>\n",
       "      <td>114</td>\n",
       "      <td>11.7</td>\n",
       "      <td>5.5/1.8</td>\n",
       "      <td>48</td>\n",
       "      <td>46</td>\n",
       "      <td>100.0/100.0</td>\n",
       "      <td>96.2/78.2</td>\n",
       "      <td>3.17</td>\n",
       "      <td>-99</td>\n",
       "    </tr>\n",
       "    <tr>\n",
       "      <th>3</th>\n",
       "      <td>Azerbaijan</td>\n",
       "      <td>WesternAsia</td>\n",
       "      <td>86600</td>\n",
       "      <td>9828</td>\n",
       "      <td>118.9</td>\n",
       "      <td>99.3</td>\n",
       "      <td>53049</td>\n",
       "      <td>0.7</td>\n",
       "      <td>5438.7</td>\n",
       "      <td>6.7</td>\n",
       "      <td>...</td>\n",
       "      <td>77.0</td>\n",
       "      <td>97</td>\n",
       "      <td>13.5</td>\n",
       "      <td>37.5/3.9</td>\n",
       "      <td>2459</td>\n",
       "      <td>61</td>\n",
       "      <td>94.7/77.8</td>\n",
       "      <td>91.6/86.6</td>\n",
       "      <td>0.14</td>\n",
       "      <td>-99</td>\n",
       "    </tr>\n",
       "    <tr>\n",
       "      <th>4</th>\n",
       "      <td>Belize</td>\n",
       "      <td>CentralAmerica</td>\n",
       "      <td>22966</td>\n",
       "      <td>375</td>\n",
       "      <td>16.4</td>\n",
       "      <td>99.2</td>\n",
       "      <td>1721</td>\n",
       "      <td>1.2</td>\n",
       "      <td>4789.4</td>\n",
       "      <td>14.6</td>\n",
       "      <td>...</td>\n",
       "      <td>41.6</td>\n",
       "      <td>117</td>\n",
       "      <td>60.1</td>\n",
       "      <td>0.5/1.4</td>\n",
       "      <td>9</td>\n",
       "      <td>36</td>\n",
       "      <td>98.9/100.0</td>\n",
       "      <td>93.5/88.2</td>\n",
       "      <td>1.68</td>\n",
       "      <td>-99</td>\n",
       "    </tr>\n",
       "  </tbody>\n",
       "</table>\n",
       "<p>5 rows × 50 columns</p>\n",
       "</div>"
      ],
      "text/plain": [
       "       country          Region  Surface area (km2)  \\\n",
       "0  Afghanistan    SouthernAsia              652864   \n",
       "1      Albania  SouthernEurope               28748   \n",
       "2      Armenia     WesternAsia               29743   \n",
       "3   Azerbaijan     WesternAsia               86600   \n",
       "4       Belize  CentralAmerica               22966   \n",
       "\n",
       "   Population in thousands (2017)  Population density (per km2, 2017)  \\\n",
       "0                           35530                                54.4   \n",
       "1                            2930                               106.9   \n",
       "2                            2930                               102.9   \n",
       "3                            9828                               118.9   \n",
       "4                             375                                16.4   \n",
       "\n",
       "   Sex ratio (m per 100 f, 2017)  \\\n",
       "0                          106.3   \n",
       "1                          101.9   \n",
       "2                           88.8   \n",
       "3                           99.3   \n",
       "4                           99.2   \n",
       "\n",
       "   GDP: Gross domestic product (million current US$)  \\\n",
       "0                                              20270   \n",
       "1                                              11541   \n",
       "2                                              10529   \n",
       "3                                              53049   \n",
       "4                                               1721   \n",
       "\n",
       "  GDP growth rate (annual %, const. 2005 prices)  \\\n",
       "0                                           -2.4   \n",
       "1                                            2.6   \n",
       "2                                            3.0   \n",
       "3                                            0.7   \n",
       "4                                            1.2   \n",
       "\n",
       "   GDP per capita (current US$)  Economy: Agriculture (% of GVA)  ...  \\\n",
       "0                         623.2                             23.3  ...   \n",
       "1                        3984.2                             22.4  ...   \n",
       "2                        3489.1                             19.0  ...   \n",
       "3                        5438.7                              6.7  ...   \n",
       "4                        4789.4                             14.6  ...   \n",
       "\n",
       "   Mobile-cellular subscriptions (per 100 inhabitants).1  \\\n",
       "0                                                8.3       \n",
       "1                                               63.3       \n",
       "2                                               58.2       \n",
       "3                                               77.0       \n",
       "4                                               41.6       \n",
       "\n",
       "   Individuals using the Internet (per 100 inhabitants)  \\\n",
       "0                                                 42      \n",
       "1                                                130      \n",
       "2                                                114      \n",
       "3                                                 97      \n",
       "4                                                117      \n",
       "\n",
       "   Threatened species (number)  Forested area (% of land area)  \\\n",
       "0                          2.1                         9.8/0.3   \n",
       "1                         28.2                         5.7/2.0   \n",
       "2                         11.7                         5.5/1.8   \n",
       "3                         13.5                        37.5/3.9   \n",
       "4                         60.1                         0.5/1.4   \n",
       "\n",
       "   CO2 emission estimates (million tons/tons per capita)  \\\n",
       "0                                                 63       \n",
       "1                                                 84       \n",
       "2                                                 48       \n",
       "3                                               2459       \n",
       "4                                                  9       \n",
       "\n",
       "  Energy production, primary (Petajoules)  \\\n",
       "0                                       5   \n",
       "1                                      36   \n",
       "2                                      46   \n",
       "3                                      61   \n",
       "4                                      36   \n",
       "\n",
       "  Energy supply per capita (Gigajoules)  \\\n",
       "0                             78.2/47.0   \n",
       "1                             94.9/95.2   \n",
       "2                           100.0/100.0   \n",
       "3                             94.7/77.8   \n",
       "4                            98.9/100.0   \n",
       "\n",
       "   Pop. using improved drinking water (urban/rural, %)  \\\n",
       "0                                          45.1/27.0     \n",
       "1                                          95.5/90.2     \n",
       "2                                          96.2/78.2     \n",
       "3                                          91.6/86.6     \n",
       "4                                          93.5/88.2     \n",
       "\n",
       "   Pop. using improved sanitation facilities (urban/rural, %)  \\\n",
       "0                                              21.43            \n",
       "1                                               2.96            \n",
       "2                                               3.17            \n",
       "3                                               0.14            \n",
       "4                                               1.68            \n",
       "\n",
       "   Net Official Development Assist. received (% of GNI)  \n",
       "0                                                -99     \n",
       "1                                                -99     \n",
       "2                                                -99     \n",
       "3                                                -99     \n",
       "4                                                -99     \n",
       "\n",
       "[5 rows x 50 columns]"
      ]
     },
     "execution_count": 10,
     "metadata": {},
     "output_type": "execute_result"
    }
   ],
   "source": [
    "kiva_country_profiles_variables_df.head()"
   ]
  },
  {
   "cell_type": "code",
   "execution_count": 11,
   "id": "60f105e1",
   "metadata": {
    "_kg_hide-input": true,
    "execution": {
     "iopub.execute_input": "2023-06-01T17:13:59.167178Z",
     "iopub.status.busy": "2023-06-01T17:13:59.166497Z",
     "iopub.status.idle": "2023-06-01T17:14:02.946245Z",
     "shell.execute_reply": "2023-06-01T17:14:02.945646Z"
    },
    "papermill": {
     "duration": 3.798738,
     "end_time": "2023-06-01T17:14:02.947979",
     "exception": false,
     "start_time": "2023-06-01T17:13:59.149241",
     "status": "completed"
    },
    "tags": []
   },
   "outputs": [
    {
     "data": {
      "text/html": [
       "<div>\n",
       "<style scoped>\n",
       "    .dataframe tbody tr th:only-of-type {\n",
       "        vertical-align: middle;\n",
       "    }\n",
       "\n",
       "    .dataframe tbody tr th {\n",
       "        vertical-align: top;\n",
       "    }\n",
       "\n",
       "    .dataframe thead th {\n",
       "        text-align: right;\n",
       "    }\n",
       "</style>\n",
       "<table border=\"1\" class=\"dataframe\">\n",
       "  <thead>\n",
       "    <tr style=\"text-align: right;\">\n",
       "      <th></th>\n",
       "      <th>id</th>\n",
       "      <th>funded_amount</th>\n",
       "      <th>loan_amount</th>\n",
       "      <th>activity</th>\n",
       "      <th>sector</th>\n",
       "      <th>use</th>\n",
       "      <th>country_code</th>\n",
       "      <th>country</th>\n",
       "      <th>region</th>\n",
       "      <th>currency</th>\n",
       "      <th>partner_id</th>\n",
       "      <th>posted_time</th>\n",
       "      <th>disbursed_time</th>\n",
       "      <th>funded_time</th>\n",
       "      <th>term_in_months</th>\n",
       "      <th>lender_count</th>\n",
       "      <th>tags</th>\n",
       "      <th>borrower_genders</th>\n",
       "      <th>repayment_interval</th>\n",
       "      <th>date</th>\n",
       "    </tr>\n",
       "  </thead>\n",
       "  <tbody>\n",
       "    <tr>\n",
       "      <th>Total</th>\n",
       "      <td>0</td>\n",
       "      <td>0</td>\n",
       "      <td>0</td>\n",
       "      <td>0</td>\n",
       "      <td>0</td>\n",
       "      <td>4232</td>\n",
       "      <td>8</td>\n",
       "      <td>0</td>\n",
       "      <td>56800</td>\n",
       "      <td>0</td>\n",
       "      <td>13507</td>\n",
       "      <td>0</td>\n",
       "      <td>2396</td>\n",
       "      <td>48331</td>\n",
       "      <td>0</td>\n",
       "      <td>0</td>\n",
       "      <td>171416</td>\n",
       "      <td>4221</td>\n",
       "      <td>0</td>\n",
       "      <td>0</td>\n",
       "    </tr>\n",
       "    <tr>\n",
       "      <th>Percent</th>\n",
       "      <td>0.0</td>\n",
       "      <td>0.0</td>\n",
       "      <td>0.0</td>\n",
       "      <td>0.0</td>\n",
       "      <td>0.0</td>\n",
       "      <td>0.630508</td>\n",
       "      <td>0.001192</td>\n",
       "      <td>0.0</td>\n",
       "      <td>8.462392</td>\n",
       "      <td>0.0</td>\n",
       "      <td>2.012351</td>\n",
       "      <td>0.0</td>\n",
       "      <td>0.35697</td>\n",
       "      <td>7.200632</td>\n",
       "      <td>0.0</td>\n",
       "      <td>0.0</td>\n",
       "      <td>25.538546</td>\n",
       "      <td>0.628869</td>\n",
       "      <td>0.0</td>\n",
       "      <td>0.0</td>\n",
       "    </tr>\n",
       "    <tr>\n",
       "      <th>Types</th>\n",
       "      <td>int64</td>\n",
       "      <td>float64</td>\n",
       "      <td>float64</td>\n",
       "      <td>object</td>\n",
       "      <td>object</td>\n",
       "      <td>object</td>\n",
       "      <td>object</td>\n",
       "      <td>object</td>\n",
       "      <td>object</td>\n",
       "      <td>object</td>\n",
       "      <td>float64</td>\n",
       "      <td>object</td>\n",
       "      <td>object</td>\n",
       "      <td>object</td>\n",
       "      <td>float64</td>\n",
       "      <td>int64</td>\n",
       "      <td>object</td>\n",
       "      <td>object</td>\n",
       "      <td>object</td>\n",
       "      <td>object</td>\n",
       "    </tr>\n",
       "  </tbody>\n",
       "</table>\n",
       "</div>"
      ],
      "text/plain": [
       "            id funded_amount loan_amount activity  sector       use  \\\n",
       "Total        0             0           0        0       0      4232   \n",
       "Percent    0.0           0.0         0.0      0.0     0.0  0.630508   \n",
       "Types    int64       float64     float64   object  object    object   \n",
       "\n",
       "        country_code country    region currency partner_id posted_time  \\\n",
       "Total              8       0     56800        0      13507           0   \n",
       "Percent     0.001192     0.0  8.462392      0.0   2.012351         0.0   \n",
       "Types         object  object    object   object    float64      object   \n",
       "\n",
       "        disbursed_time funded_time term_in_months lender_count       tags  \\\n",
       "Total             2396       48331              0            0     171416   \n",
       "Percent        0.35697    7.200632            0.0          0.0  25.538546   \n",
       "Types           object      object        float64        int64     object   \n",
       "\n",
       "        borrower_genders repayment_interval    date  \n",
       "Total               4221                  0       0  \n",
       "Percent         0.628869                0.0     0.0  \n",
       "Types             object             object  object  "
      ]
     },
     "execution_count": 11,
     "metadata": {},
     "output_type": "execute_result"
    }
   ],
   "source": [
    "missing_data(kiva_loans_df)"
   ]
  },
  {
   "cell_type": "code",
   "execution_count": 12,
   "id": "f63bffdd",
   "metadata": {
    "_kg_hide-input": true,
    "execution": {
     "iopub.execute_input": "2023-06-01T17:14:02.983422Z",
     "iopub.status.busy": "2023-06-01T17:14:02.982829Z",
     "iopub.status.idle": "2023-06-01T17:14:03.011322Z",
     "shell.execute_reply": "2023-06-01T17:14:03.009391Z"
    },
    "papermill": {
     "duration": 0.050643,
     "end_time": "2023-06-01T17:14:03.015036",
     "exception": false,
     "start_time": "2023-06-01T17:14:02.964393",
     "status": "completed"
    },
    "tags": []
   },
   "outputs": [
    {
     "data": {
      "text/html": [
       "<div>\n",
       "<style scoped>\n",
       "    .dataframe tbody tr th:only-of-type {\n",
       "        vertical-align: middle;\n",
       "    }\n",
       "\n",
       "    .dataframe tbody tr th {\n",
       "        vertical-align: top;\n",
       "    }\n",
       "\n",
       "    .dataframe thead th {\n",
       "        text-align: right;\n",
       "    }\n",
       "</style>\n",
       "<table border=\"1\" class=\"dataframe\">\n",
       "  <thead>\n",
       "    <tr style=\"text-align: right;\">\n",
       "      <th></th>\n",
       "      <th>LocationName</th>\n",
       "      <th>ISO</th>\n",
       "      <th>country</th>\n",
       "      <th>region</th>\n",
       "      <th>world_region</th>\n",
       "      <th>MPI</th>\n",
       "      <th>geo</th>\n",
       "      <th>lat</th>\n",
       "      <th>lon</th>\n",
       "    </tr>\n",
       "  </thead>\n",
       "  <tbody>\n",
       "    <tr>\n",
       "      <th>Total</th>\n",
       "      <td>1788</td>\n",
       "      <td>1764</td>\n",
       "      <td>1764</td>\n",
       "      <td>1788</td>\n",
       "      <td>1764</td>\n",
       "      <td>1788</td>\n",
       "      <td>0</td>\n",
       "      <td>1880</td>\n",
       "      <td>1880</td>\n",
       "    </tr>\n",
       "    <tr>\n",
       "      <th>Percent</th>\n",
       "      <td>64.502165</td>\n",
       "      <td>63.636364</td>\n",
       "      <td>63.636364</td>\n",
       "      <td>64.502165</td>\n",
       "      <td>63.636364</td>\n",
       "      <td>64.502165</td>\n",
       "      <td>0.0</td>\n",
       "      <td>67.821068</td>\n",
       "      <td>67.821068</td>\n",
       "    </tr>\n",
       "    <tr>\n",
       "      <th>Types</th>\n",
       "      <td>object</td>\n",
       "      <td>object</td>\n",
       "      <td>object</td>\n",
       "      <td>object</td>\n",
       "      <td>object</td>\n",
       "      <td>float64</td>\n",
       "      <td>object</td>\n",
       "      <td>float64</td>\n",
       "      <td>float64</td>\n",
       "    </tr>\n",
       "  </tbody>\n",
       "</table>\n",
       "</div>"
      ],
      "text/plain": [
       "        LocationName        ISO    country     region world_region        MPI  \\\n",
       "Total           1788       1764       1764       1788         1764       1788   \n",
       "Percent    64.502165  63.636364  63.636364  64.502165    63.636364  64.502165   \n",
       "Types         object     object     object     object       object    float64   \n",
       "\n",
       "            geo        lat        lon  \n",
       "Total         0       1880       1880  \n",
       "Percent     0.0  67.821068  67.821068  \n",
       "Types    object    float64    float64  "
      ]
     },
     "execution_count": 12,
     "metadata": {},
     "output_type": "execute_result"
    }
   ],
   "source": [
    "missing_data(kiva_mpi_region_locations_df)"
   ]
  },
  {
   "cell_type": "code",
   "execution_count": 13,
   "id": "040c0c86",
   "metadata": {
    "_kg_hide-input": true,
    "execution": {
     "iopub.execute_input": "2023-06-01T17:14:03.053944Z",
     "iopub.status.busy": "2023-06-01T17:14:03.053272Z",
     "iopub.status.idle": "2023-06-01T17:14:03.676861Z",
     "shell.execute_reply": "2023-06-01T17:14:03.675608Z"
    },
    "papermill": {
     "duration": 0.64528,
     "end_time": "2023-06-01T17:14:03.679521",
     "exception": false,
     "start_time": "2023-06-01T17:14:03.034241",
     "status": "completed"
    },
    "tags": []
   },
   "outputs": [
    {
     "data": {
      "text/html": [
       "<div>\n",
       "<style scoped>\n",
       "    .dataframe tbody tr th:only-of-type {\n",
       "        vertical-align: middle;\n",
       "    }\n",
       "\n",
       "    .dataframe tbody tr th {\n",
       "        vertical-align: top;\n",
       "    }\n",
       "\n",
       "    .dataframe thead th {\n",
       "        text-align: right;\n",
       "    }\n",
       "</style>\n",
       "<table border=\"1\" class=\"dataframe\">\n",
       "  <thead>\n",
       "    <tr style=\"text-align: right;\">\n",
       "      <th></th>\n",
       "      <th>id</th>\n",
       "      <th>Loan Theme ID</th>\n",
       "      <th>Loan Theme Type</th>\n",
       "      <th>Partner ID</th>\n",
       "    </tr>\n",
       "  </thead>\n",
       "  <tbody>\n",
       "    <tr>\n",
       "      <th>Total</th>\n",
       "      <td>0</td>\n",
       "      <td>14813</td>\n",
       "      <td>14813</td>\n",
       "      <td>14813</td>\n",
       "    </tr>\n",
       "    <tr>\n",
       "      <th>Percent</th>\n",
       "      <td>0.0</td>\n",
       "      <td>1.901316</td>\n",
       "      <td>1.901316</td>\n",
       "      <td>1.901316</td>\n",
       "    </tr>\n",
       "    <tr>\n",
       "      <th>Types</th>\n",
       "      <td>int64</td>\n",
       "      <td>object</td>\n",
       "      <td>object</td>\n",
       "      <td>float64</td>\n",
       "    </tr>\n",
       "  </tbody>\n",
       "</table>\n",
       "</div>"
      ],
      "text/plain": [
       "            id Loan Theme ID Loan Theme Type Partner ID\n",
       "Total        0         14813           14813      14813\n",
       "Percent    0.0      1.901316        1.901316   1.901316\n",
       "Types    int64        object          object    float64"
      ]
     },
     "execution_count": 13,
     "metadata": {},
     "output_type": "execute_result"
    }
   ],
   "source": [
    "missing_data(loan_theme_ids_df)"
   ]
  },
  {
   "cell_type": "code",
   "execution_count": 14,
   "id": "b7668ac1",
   "metadata": {
    "_kg_hide-input": true,
    "execution": {
     "iopub.execute_input": "2023-06-01T17:14:03.714054Z",
     "iopub.status.busy": "2023-06-01T17:14:03.713676Z",
     "iopub.status.idle": "2023-06-01T17:14:03.837911Z",
     "shell.execute_reply": "2023-06-01T17:14:03.836115Z"
    },
    "papermill": {
     "duration": 0.144647,
     "end_time": "2023-06-01T17:14:03.840594",
     "exception": false,
     "start_time": "2023-06-01T17:14:03.695947",
     "status": "completed"
    },
    "tags": []
   },
   "outputs": [
    {
     "data": {
      "text/html": [
       "<div>\n",
       "<style scoped>\n",
       "    .dataframe tbody tr th:only-of-type {\n",
       "        vertical-align: middle;\n",
       "    }\n",
       "\n",
       "    .dataframe tbody tr th {\n",
       "        vertical-align: top;\n",
       "    }\n",
       "\n",
       "    .dataframe thead th {\n",
       "        text-align: right;\n",
       "    }\n",
       "</style>\n",
       "<table border=\"1\" class=\"dataframe\">\n",
       "  <thead>\n",
       "    <tr style=\"text-align: right;\">\n",
       "      <th></th>\n",
       "      <th>Partner ID</th>\n",
       "      <th>Field Partner Name</th>\n",
       "      <th>sector</th>\n",
       "      <th>Loan Theme ID</th>\n",
       "      <th>Loan Theme Type</th>\n",
       "      <th>country</th>\n",
       "      <th>forkiva</th>\n",
       "      <th>region</th>\n",
       "      <th>geocode_old</th>\n",
       "      <th>ISO</th>\n",
       "      <th>...</th>\n",
       "      <th>amount</th>\n",
       "      <th>LocationName</th>\n",
       "      <th>geocode</th>\n",
       "      <th>names</th>\n",
       "      <th>geo</th>\n",
       "      <th>lat</th>\n",
       "      <th>lon</th>\n",
       "      <th>mpi_region</th>\n",
       "      <th>mpi_geo</th>\n",
       "      <th>rural_pct</th>\n",
       "    </tr>\n",
       "  </thead>\n",
       "  <tbody>\n",
       "    <tr>\n",
       "      <th>Total</th>\n",
       "      <td>0</td>\n",
       "      <td>0</td>\n",
       "      <td>0</td>\n",
       "      <td>0</td>\n",
       "      <td>0</td>\n",
       "      <td>0</td>\n",
       "      <td>0</td>\n",
       "      <td>0</td>\n",
       "      <td>14536</td>\n",
       "      <td>14</td>\n",
       "      <td>...</td>\n",
       "      <td>0</td>\n",
       "      <td>0</td>\n",
       "      <td>2074</td>\n",
       "      <td>2075</td>\n",
       "      <td>0</td>\n",
       "      <td>2074</td>\n",
       "      <td>2074</td>\n",
       "      <td>14</td>\n",
       "      <td>6065</td>\n",
       "      <td>1392</td>\n",
       "    </tr>\n",
       "    <tr>\n",
       "      <th>Percent</th>\n",
       "      <td>0.0</td>\n",
       "      <td>0.0</td>\n",
       "      <td>0.0</td>\n",
       "      <td>0.0</td>\n",
       "      <td>0.0</td>\n",
       "      <td>0.0</td>\n",
       "      <td>0.0</td>\n",
       "      <td>0.0</td>\n",
       "      <td>92.374174</td>\n",
       "      <td>0.088968</td>\n",
       "      <td>...</td>\n",
       "      <td>0.0</td>\n",
       "      <td>0.0</td>\n",
       "      <td>13.179969</td>\n",
       "      <td>13.186324</td>\n",
       "      <td>0.0</td>\n",
       "      <td>13.179969</td>\n",
       "      <td>13.179969</td>\n",
       "      <td>0.088968</td>\n",
       "      <td>38.542196</td>\n",
       "      <td>8.845958</td>\n",
       "    </tr>\n",
       "    <tr>\n",
       "      <th>Types</th>\n",
       "      <td>int64</td>\n",
       "      <td>object</td>\n",
       "      <td>object</td>\n",
       "      <td>object</td>\n",
       "      <td>object</td>\n",
       "      <td>object</td>\n",
       "      <td>object</td>\n",
       "      <td>object</td>\n",
       "      <td>object</td>\n",
       "      <td>object</td>\n",
       "      <td>...</td>\n",
       "      <td>int64</td>\n",
       "      <td>object</td>\n",
       "      <td>object</td>\n",
       "      <td>object</td>\n",
       "      <td>object</td>\n",
       "      <td>float64</td>\n",
       "      <td>float64</td>\n",
       "      <td>object</td>\n",
       "      <td>object</td>\n",
       "      <td>float64</td>\n",
       "    </tr>\n",
       "  </tbody>\n",
       "</table>\n",
       "<p>3 rows × 21 columns</p>\n",
       "</div>"
      ],
      "text/plain": [
       "        Partner ID Field Partner Name  sector Loan Theme ID Loan Theme Type  \\\n",
       "Total            0                  0       0             0               0   \n",
       "Percent        0.0                0.0     0.0           0.0             0.0   \n",
       "Types        int64             object  object        object          object   \n",
       "\n",
       "        country forkiva  region geocode_old       ISO  ... amount  \\\n",
       "Total         0       0       0       14536        14  ...      0   \n",
       "Percent     0.0     0.0     0.0   92.374174  0.088968  ...    0.0   \n",
       "Types    object  object  object      object    object  ...  int64   \n",
       "\n",
       "        LocationName    geocode      names     geo        lat        lon  \\\n",
       "Total              0       2074       2075       0       2074       2074   \n",
       "Percent          0.0  13.179969  13.186324     0.0  13.179969  13.179969   \n",
       "Types         object     object     object  object    float64    float64   \n",
       "\n",
       "        mpi_region    mpi_geo rural_pct  \n",
       "Total           14       6065      1392  \n",
       "Percent   0.088968  38.542196  8.845958  \n",
       "Types       object     object   float64  \n",
       "\n",
       "[3 rows x 21 columns]"
      ]
     },
     "execution_count": 14,
     "metadata": {},
     "output_type": "execute_result"
    }
   ],
   "source": [
    "missing_data(loan_themes_by_region_df)"
   ]
  },
  {
   "cell_type": "code",
   "execution_count": 15,
   "id": "7463400f",
   "metadata": {
    "_kg_hide-input": true,
    "execution": {
     "iopub.execute_input": "2023-06-01T17:14:03.879615Z",
     "iopub.status.busy": "2023-06-01T17:14:03.878017Z",
     "iopub.status.idle": "2023-06-01T17:14:06.299240Z",
     "shell.execute_reply": "2023-06-01T17:14:06.297929Z"
    },
    "papermill": {
     "duration": 2.443961,
     "end_time": "2023-06-01T17:14:06.302071",
     "exception": false,
     "start_time": "2023-06-01T17:14:03.858110",
     "status": "completed"
    },
    "tags": []
   },
   "outputs": [
    {
     "data": {
      "text/html": [
       "<div>\n",
       "<style scoped>\n",
       "    .dataframe tbody tr th:only-of-type {\n",
       "        vertical-align: middle;\n",
       "    }\n",
       "\n",
       "    .dataframe tbody tr th {\n",
       "        vertical-align: top;\n",
       "    }\n",
       "\n",
       "    .dataframe thead th {\n",
       "        text-align: right;\n",
       "    }\n",
       "</style>\n",
       "<table border=\"1\" class=\"dataframe\">\n",
       "  <thead>\n",
       "    <tr style=\"text-align: right;\">\n",
       "      <th></th>\n",
       "      <th>id</th>\n",
       "      <th>funded_amount</th>\n",
       "      <th>loan_amount</th>\n",
       "      <th>activity</th>\n",
       "      <th>sector</th>\n",
       "      <th>use</th>\n",
       "      <th>country_code</th>\n",
       "      <th>country</th>\n",
       "      <th>region</th>\n",
       "      <th>currency</th>\n",
       "      <th>partner_id</th>\n",
       "      <th>posted_time</th>\n",
       "      <th>disbursed_time</th>\n",
       "      <th>funded_time</th>\n",
       "      <th>term_in_months</th>\n",
       "      <th>lender_count</th>\n",
       "      <th>tags</th>\n",
       "      <th>borrower_genders</th>\n",
       "      <th>repayment_interval</th>\n",
       "      <th>date</th>\n",
       "    </tr>\n",
       "  </thead>\n",
       "  <tbody>\n",
       "    <tr>\n",
       "      <th>Total</th>\n",
       "      <td>671205</td>\n",
       "      <td>671205</td>\n",
       "      <td>671205</td>\n",
       "      <td>671205</td>\n",
       "      <td>671205</td>\n",
       "      <td>666973</td>\n",
       "      <td>671197</td>\n",
       "      <td>671205</td>\n",
       "      <td>614405</td>\n",
       "      <td>671205</td>\n",
       "      <td>657698</td>\n",
       "      <td>671205</td>\n",
       "      <td>668809</td>\n",
       "      <td>622874</td>\n",
       "      <td>671205</td>\n",
       "      <td>671205</td>\n",
       "      <td>499789</td>\n",
       "      <td>666984</td>\n",
       "      <td>671205</td>\n",
       "      <td>671205</td>\n",
       "    </tr>\n",
       "    <tr>\n",
       "      <th>Uniques</th>\n",
       "      <td>671205</td>\n",
       "      <td>610</td>\n",
       "      <td>479</td>\n",
       "      <td>163</td>\n",
       "      <td>15</td>\n",
       "      <td>424912</td>\n",
       "      <td>86</td>\n",
       "      <td>87</td>\n",
       "      <td>12695</td>\n",
       "      <td>67</td>\n",
       "      <td>366</td>\n",
       "      <td>667399</td>\n",
       "      <td>5719</td>\n",
       "      <td>498007</td>\n",
       "      <td>148</td>\n",
       "      <td>503</td>\n",
       "      <td>86719</td>\n",
       "      <td>11298</td>\n",
       "      <td>4</td>\n",
       "      <td>1298</td>\n",
       "    </tr>\n",
       "  </tbody>\n",
       "</table>\n",
       "</div>"
      ],
      "text/plain": [
       "             id  funded_amount  loan_amount  activity  sector     use  \\\n",
       "Total    671205         671205       671205    671205  671205  666973   \n",
       "Uniques  671205            610          479       163      15  424912   \n",
       "\n",
       "         country_code  country  region  currency  partner_id  posted_time  \\\n",
       "Total          671197   671205  614405    671205      657698       671205   \n",
       "Uniques            86       87   12695        67         366       667399   \n",
       "\n",
       "         disbursed_time  funded_time  term_in_months  lender_count    tags  \\\n",
       "Total            668809       622874          671205        671205  499789   \n",
       "Uniques            5719       498007             148           503   86719   \n",
       "\n",
       "         borrower_genders  repayment_interval    date  \n",
       "Total              666984              671205  671205  \n",
       "Uniques             11298                   4    1298  "
      ]
     },
     "execution_count": 15,
     "metadata": {},
     "output_type": "execute_result"
    }
   ],
   "source": [
    "unique_values(kiva_loans_df)"
   ]
  },
  {
   "cell_type": "code",
   "execution_count": 16,
   "id": "568b906e",
   "metadata": {
    "_kg_hide-input": true,
    "execution": {
     "iopub.execute_input": "2023-06-01T17:14:06.341331Z",
     "iopub.status.busy": "2023-06-01T17:14:06.340964Z",
     "iopub.status.idle": "2023-06-01T17:14:06.357074Z",
     "shell.execute_reply": "2023-06-01T17:14:06.356027Z"
    },
    "papermill": {
     "duration": 0.038028,
     "end_time": "2023-06-01T17:14:06.358980",
     "exception": false,
     "start_time": "2023-06-01T17:14:06.320952",
     "status": "completed"
    },
    "tags": []
   },
   "outputs": [
    {
     "data": {
      "text/html": [
       "<div>\n",
       "<style scoped>\n",
       "    .dataframe tbody tr th:only-of-type {\n",
       "        vertical-align: middle;\n",
       "    }\n",
       "\n",
       "    .dataframe tbody tr th {\n",
       "        vertical-align: top;\n",
       "    }\n",
       "\n",
       "    .dataframe thead th {\n",
       "        text-align: right;\n",
       "    }\n",
       "</style>\n",
       "<table border=\"1\" class=\"dataframe\">\n",
       "  <thead>\n",
       "    <tr style=\"text-align: right;\">\n",
       "      <th></th>\n",
       "      <th>LocationName</th>\n",
       "      <th>ISO</th>\n",
       "      <th>country</th>\n",
       "      <th>region</th>\n",
       "      <th>world_region</th>\n",
       "      <th>MPI</th>\n",
       "      <th>geo</th>\n",
       "      <th>lat</th>\n",
       "      <th>lon</th>\n",
       "    </tr>\n",
       "  </thead>\n",
       "  <tbody>\n",
       "    <tr>\n",
       "      <th>Total</th>\n",
       "      <td>984</td>\n",
       "      <td>1008</td>\n",
       "      <td>1008</td>\n",
       "      <td>984</td>\n",
       "      <td>1008</td>\n",
       "      <td>984</td>\n",
       "      <td>2772</td>\n",
       "      <td>892</td>\n",
       "      <td>892</td>\n",
       "    </tr>\n",
       "    <tr>\n",
       "      <th>Uniques</th>\n",
       "      <td>984</td>\n",
       "      <td>102</td>\n",
       "      <td>102</td>\n",
       "      <td>928</td>\n",
       "      <td>6</td>\n",
       "      <td>452</td>\n",
       "      <td>881</td>\n",
       "      <td>880</td>\n",
       "      <td>787</td>\n",
       "    </tr>\n",
       "  </tbody>\n",
       "</table>\n",
       "</div>"
      ],
      "text/plain": [
       "         LocationName   ISO  country  region  world_region  MPI   geo  lat  \\\n",
       "Total             984  1008     1008     984          1008  984  2772  892   \n",
       "Uniques           984   102      102     928             6  452   881  880   \n",
       "\n",
       "         lon  \n",
       "Total    892  \n",
       "Uniques  787  "
      ]
     },
     "execution_count": 16,
     "metadata": {},
     "output_type": "execute_result"
    }
   ],
   "source": [
    "unique_values(kiva_mpi_region_locations_df)"
   ]
  },
  {
   "cell_type": "code",
   "execution_count": 17,
   "id": "73f72e46",
   "metadata": {
    "_kg_hide-input": true,
    "execution": {
     "iopub.execute_input": "2023-06-01T17:14:06.396729Z",
     "iopub.status.busy": "2023-06-01T17:14:06.395833Z",
     "iopub.status.idle": "2023-06-01T17:14:06.700456Z",
     "shell.execute_reply": "2023-06-01T17:14:06.699485Z"
    },
    "papermill": {
     "duration": 0.325397,
     "end_time": "2023-06-01T17:14:06.702230",
     "exception": false,
     "start_time": "2023-06-01T17:14:06.376833",
     "status": "completed"
    },
    "tags": []
   },
   "outputs": [
    {
     "data": {
      "text/html": [
       "<div>\n",
       "<style scoped>\n",
       "    .dataframe tbody tr th:only-of-type {\n",
       "        vertical-align: middle;\n",
       "    }\n",
       "\n",
       "    .dataframe tbody tr th {\n",
       "        vertical-align: top;\n",
       "    }\n",
       "\n",
       "    .dataframe thead th {\n",
       "        text-align: right;\n",
       "    }\n",
       "</style>\n",
       "<table border=\"1\" class=\"dataframe\">\n",
       "  <thead>\n",
       "    <tr style=\"text-align: right;\">\n",
       "      <th></th>\n",
       "      <th>id</th>\n",
       "      <th>Loan Theme ID</th>\n",
       "      <th>Loan Theme Type</th>\n",
       "      <th>Partner ID</th>\n",
       "    </tr>\n",
       "  </thead>\n",
       "  <tbody>\n",
       "    <tr>\n",
       "      <th>Total</th>\n",
       "      <td>779092</td>\n",
       "      <td>764279</td>\n",
       "      <td>764279</td>\n",
       "      <td>764279</td>\n",
       "    </tr>\n",
       "    <tr>\n",
       "      <th>Uniques</th>\n",
       "      <td>779092</td>\n",
       "      <td>956</td>\n",
       "      <td>203</td>\n",
       "      <td>384</td>\n",
       "    </tr>\n",
       "  </tbody>\n",
       "</table>\n",
       "</div>"
      ],
      "text/plain": [
       "             id  Loan Theme ID  Loan Theme Type  Partner ID\n",
       "Total    779092         764279           764279      764279\n",
       "Uniques  779092            956              203         384"
      ]
     },
     "execution_count": 17,
     "metadata": {},
     "output_type": "execute_result"
    }
   ],
   "source": [
    "unique_values(loan_theme_ids_df)"
   ]
  },
  {
   "cell_type": "code",
   "execution_count": 18,
   "id": "c557b7d7",
   "metadata": {
    "_kg_hide-input": true,
    "execution": {
     "iopub.execute_input": "2023-06-01T17:14:06.739430Z",
     "iopub.status.busy": "2023-06-01T17:14:06.738724Z",
     "iopub.status.idle": "2023-06-01T17:14:06.808322Z",
     "shell.execute_reply": "2023-06-01T17:14:06.806981Z"
    },
    "papermill": {
     "duration": 0.091101,
     "end_time": "2023-06-01T17:14:06.810837",
     "exception": false,
     "start_time": "2023-06-01T17:14:06.719736",
     "status": "completed"
    },
    "tags": []
   },
   "outputs": [
    {
     "data": {
      "text/html": [
       "<div>\n",
       "<style scoped>\n",
       "    .dataframe tbody tr th:only-of-type {\n",
       "        vertical-align: middle;\n",
       "    }\n",
       "\n",
       "    .dataframe tbody tr th {\n",
       "        vertical-align: top;\n",
       "    }\n",
       "\n",
       "    .dataframe thead th {\n",
       "        text-align: right;\n",
       "    }\n",
       "</style>\n",
       "<table border=\"1\" class=\"dataframe\">\n",
       "  <thead>\n",
       "    <tr style=\"text-align: right;\">\n",
       "      <th></th>\n",
       "      <th>Partner ID</th>\n",
       "      <th>Field Partner Name</th>\n",
       "      <th>sector</th>\n",
       "      <th>Loan Theme ID</th>\n",
       "      <th>Loan Theme Type</th>\n",
       "      <th>country</th>\n",
       "      <th>forkiva</th>\n",
       "      <th>region</th>\n",
       "      <th>geocode_old</th>\n",
       "      <th>ISO</th>\n",
       "      <th>...</th>\n",
       "      <th>amount</th>\n",
       "      <th>LocationName</th>\n",
       "      <th>geocode</th>\n",
       "      <th>names</th>\n",
       "      <th>geo</th>\n",
       "      <th>lat</th>\n",
       "      <th>lon</th>\n",
       "      <th>mpi_region</th>\n",
       "      <th>mpi_geo</th>\n",
       "      <th>rural_pct</th>\n",
       "    </tr>\n",
       "  </thead>\n",
       "  <tbody>\n",
       "    <tr>\n",
       "      <th>Total</th>\n",
       "      <td>15736</td>\n",
       "      <td>15736</td>\n",
       "      <td>15736</td>\n",
       "      <td>15736</td>\n",
       "      <td>15736</td>\n",
       "      <td>15736</td>\n",
       "      <td>15736</td>\n",
       "      <td>15736</td>\n",
       "      <td>1200</td>\n",
       "      <td>15722</td>\n",
       "      <td>...</td>\n",
       "      <td>15736</td>\n",
       "      <td>15736</td>\n",
       "      <td>13662</td>\n",
       "      <td>13661</td>\n",
       "      <td>15736</td>\n",
       "      <td>13662</td>\n",
       "      <td>13662</td>\n",
       "      <td>15722</td>\n",
       "      <td>9671</td>\n",
       "      <td>14344</td>\n",
       "    </tr>\n",
       "    <tr>\n",
       "      <th>Uniques</th>\n",
       "      <td>302</td>\n",
       "      <td>302</td>\n",
       "      <td>11</td>\n",
       "      <td>718</td>\n",
       "      <td>170</td>\n",
       "      <td>79</td>\n",
       "      <td>2</td>\n",
       "      <td>9526</td>\n",
       "      <td>340</td>\n",
       "      <td>77</td>\n",
       "      <td>...</td>\n",
       "      <td>2532</td>\n",
       "      <td>9561</td>\n",
       "      <td>6557</td>\n",
       "      <td>6275</td>\n",
       "      <td>6558</td>\n",
       "      <td>6550</td>\n",
       "      <td>6015</td>\n",
       "      <td>392</td>\n",
       "      <td>335</td>\n",
       "      <td>56</td>\n",
       "    </tr>\n",
       "  </tbody>\n",
       "</table>\n",
       "<p>2 rows × 21 columns</p>\n",
       "</div>"
      ],
      "text/plain": [
       "         Partner ID  Field Partner Name  sector  Loan Theme ID  \\\n",
       "Total         15736               15736   15736          15736   \n",
       "Uniques         302                 302      11            718   \n",
       "\n",
       "         Loan Theme Type  country  forkiva  region  geocode_old    ISO  ...  \\\n",
       "Total              15736    15736    15736   15736         1200  15722  ...   \n",
       "Uniques              170       79        2    9526          340     77  ...   \n",
       "\n",
       "         amount  LocationName  geocode  names    geo    lat    lon  \\\n",
       "Total     15736         15736    13662  13661  15736  13662  13662   \n",
       "Uniques    2532          9561     6557   6275   6558   6550   6015   \n",
       "\n",
       "         mpi_region  mpi_geo  rural_pct  \n",
       "Total         15722     9671      14344  \n",
       "Uniques         392      335         56  \n",
       "\n",
       "[2 rows x 21 columns]"
      ]
     },
     "execution_count": 18,
     "metadata": {},
     "output_type": "execute_result"
    }
   ],
   "source": [
    "unique_values(loan_themes_by_region_df)"
   ]
  },
  {
   "cell_type": "code",
   "execution_count": 19,
   "id": "c4a44d49",
   "metadata": {
    "_kg_hide-input": true,
    "execution": {
     "iopub.execute_input": "2023-06-01T17:14:06.851073Z",
     "iopub.status.busy": "2023-06-01T17:14:06.850623Z",
     "iopub.status.idle": "2023-06-01T17:14:06.877137Z",
     "shell.execute_reply": "2023-06-01T17:14:06.875659Z"
    },
    "papermill": {
     "duration": 0.050466,
     "end_time": "2023-06-01T17:14:06.879466",
     "exception": false,
     "start_time": "2023-06-01T17:14:06.829000",
     "status": "completed"
    },
    "tags": []
   },
   "outputs": [
    {
     "data": {
      "text/html": [
       "<div>\n",
       "<style scoped>\n",
       "    .dataframe tbody tr th:only-of-type {\n",
       "        vertical-align: middle;\n",
       "    }\n",
       "\n",
       "    .dataframe tbody tr th {\n",
       "        vertical-align: top;\n",
       "    }\n",
       "\n",
       "    .dataframe thead th {\n",
       "        text-align: right;\n",
       "    }\n",
       "</style>\n",
       "<table border=\"1\" class=\"dataframe\">\n",
       "  <thead>\n",
       "    <tr style=\"text-align: right;\">\n",
       "      <th></th>\n",
       "      <th>country</th>\n",
       "      <th>Region</th>\n",
       "      <th>Surface area (km2)</th>\n",
       "      <th>Population in thousands (2017)</th>\n",
       "      <th>Population density (per km2, 2017)</th>\n",
       "      <th>Sex ratio (m per 100 f, 2017)</th>\n",
       "      <th>GDP: Gross domestic product (million current US$)</th>\n",
       "      <th>GDP growth rate (annual %, const. 2005 prices)</th>\n",
       "      <th>GDP per capita (current US$)</th>\n",
       "      <th>Economy: Agriculture (% of GVA)</th>\n",
       "      <th>...</th>\n",
       "      <th>Mobile-cellular subscriptions (per 100 inhabitants).1</th>\n",
       "      <th>Individuals using the Internet (per 100 inhabitants)</th>\n",
       "      <th>Threatened species (number)</th>\n",
       "      <th>Forested area (% of land area)</th>\n",
       "      <th>CO2 emission estimates (million tons/tons per capita)</th>\n",
       "      <th>Energy production, primary (Petajoules)</th>\n",
       "      <th>Energy supply per capita (Gigajoules)</th>\n",
       "      <th>Pop. using improved drinking water (urban/rural, %)</th>\n",
       "      <th>Pop. using improved sanitation facilities (urban/rural, %)</th>\n",
       "      <th>Net Official Development Assist. received (% of GNI)</th>\n",
       "    </tr>\n",
       "  </thead>\n",
       "  <tbody>\n",
       "    <tr>\n",
       "      <th>Total</th>\n",
       "      <td>229</td>\n",
       "      <td>229</td>\n",
       "      <td>229</td>\n",
       "      <td>229</td>\n",
       "      <td>229</td>\n",
       "      <td>229</td>\n",
       "      <td>229</td>\n",
       "      <td>229</td>\n",
       "      <td>229</td>\n",
       "      <td>229</td>\n",
       "      <td>...</td>\n",
       "      <td>229</td>\n",
       "      <td>229</td>\n",
       "      <td>229</td>\n",
       "      <td>229</td>\n",
       "      <td>229</td>\n",
       "      <td>229</td>\n",
       "      <td>229</td>\n",
       "      <td>229</td>\n",
       "      <td>229</td>\n",
       "      <td>229</td>\n",
       "    </tr>\n",
       "    <tr>\n",
       "      <th>Uniques</th>\n",
       "      <td>229</td>\n",
       "      <td>22</td>\n",
       "      <td>225</td>\n",
       "      <td>218</td>\n",
       "      <td>219</td>\n",
       "      <td>129</td>\n",
       "      <td>209</td>\n",
       "      <td>91</td>\n",
       "      <td>208</td>\n",
       "      <td>139</td>\n",
       "      <td>...</td>\n",
       "      <td>195</td>\n",
       "      <td>172</td>\n",
       "      <td>194</td>\n",
       "      <td>214</td>\n",
       "      <td>155</td>\n",
       "      <td>121</td>\n",
       "      <td>163</td>\n",
       "      <td>186</td>\n",
       "      <td>120</td>\n",
       "      <td>1</td>\n",
       "    </tr>\n",
       "  </tbody>\n",
       "</table>\n",
       "<p>2 rows × 50 columns</p>\n",
       "</div>"
      ],
      "text/plain": [
       "         country  Region  Surface area (km2)  Population in thousands (2017)  \\\n",
       "Total        229     229                 229                             229   \n",
       "Uniques      229      22                 225                             218   \n",
       "\n",
       "         Population density (per km2, 2017)  Sex ratio (m per 100 f, 2017)  \\\n",
       "Total                                   229                            229   \n",
       "Uniques                                 219                            129   \n",
       "\n",
       "         GDP: Gross domestic product (million current US$)  \\\n",
       "Total                                                  229   \n",
       "Uniques                                                209   \n",
       "\n",
       "         GDP growth rate (annual %, const. 2005 prices)  \\\n",
       "Total                                               229   \n",
       "Uniques                                              91   \n",
       "\n",
       "         GDP per capita (current US$)  Economy: Agriculture (% of GVA)  ...  \\\n",
       "Total                             229                              229  ...   \n",
       "Uniques                           208                              139  ...   \n",
       "\n",
       "         Mobile-cellular subscriptions (per 100 inhabitants).1  \\\n",
       "Total                                                  229       \n",
       "Uniques                                                195       \n",
       "\n",
       "         Individuals using the Internet (per 100 inhabitants)  \\\n",
       "Total                                                  229      \n",
       "Uniques                                                172      \n",
       "\n",
       "         Threatened species (number)  Forested area (% of land area)  \\\n",
       "Total                            229                             229   \n",
       "Uniques                          194                             214   \n",
       "\n",
       "         CO2 emission estimates (million tons/tons per capita)  \\\n",
       "Total                                                  229       \n",
       "Uniques                                                155       \n",
       "\n",
       "         Energy production, primary (Petajoules)  \\\n",
       "Total                                        229   \n",
       "Uniques                                      121   \n",
       "\n",
       "         Energy supply per capita (Gigajoules)  \\\n",
       "Total                                      229   \n",
       "Uniques                                    163   \n",
       "\n",
       "         Pop. using improved drinking water (urban/rural, %)  \\\n",
       "Total                                                  229     \n",
       "Uniques                                                186     \n",
       "\n",
       "         Pop. using improved sanitation facilities (urban/rural, %)  \\\n",
       "Total                                                  229            \n",
       "Uniques                                                120            \n",
       "\n",
       "         Net Official Development Assist. received (% of GNI)  \n",
       "Total                                                  229     \n",
       "Uniques                                                  1     \n",
       "\n",
       "[2 rows x 50 columns]"
      ]
     },
     "execution_count": 19,
     "metadata": {},
     "output_type": "execute_result"
    }
   ],
   "source": [
    "unique_values(country_profile_variables_df)"
   ]
  },
  {
   "cell_type": "code",
   "execution_count": 20,
   "id": "1dce1614",
   "metadata": {
    "_kg_hide-input": true,
    "execution": {
     "iopub.execute_input": "2023-06-01T17:14:06.918715Z",
     "iopub.status.busy": "2023-06-01T17:14:06.918289Z",
     "iopub.status.idle": "2023-06-01T17:14:06.944517Z",
     "shell.execute_reply": "2023-06-01T17:14:06.943403Z"
    },
    "papermill": {
     "duration": 0.048532,
     "end_time": "2023-06-01T17:14:06.946344",
     "exception": false,
     "start_time": "2023-06-01T17:14:06.897812",
     "status": "completed"
    },
    "tags": []
   },
   "outputs": [
    {
     "data": {
      "text/html": [
       "<div>\n",
       "<style scoped>\n",
       "    .dataframe tbody tr th:only-of-type {\n",
       "        vertical-align: middle;\n",
       "    }\n",
       "\n",
       "    .dataframe tbody tr th {\n",
       "        vertical-align: top;\n",
       "    }\n",
       "\n",
       "    .dataframe thead th {\n",
       "        text-align: right;\n",
       "    }\n",
       "</style>\n",
       "<table border=\"1\" class=\"dataframe\">\n",
       "  <thead>\n",
       "    <tr style=\"text-align: right;\">\n",
       "      <th></th>\n",
       "      <th>country</th>\n",
       "      <th>Region</th>\n",
       "      <th>Surface area (km2)</th>\n",
       "      <th>Population in thousands (2017)</th>\n",
       "      <th>Population density (per km2, 2017)</th>\n",
       "      <th>Sex ratio (m per 100 f, 2017)</th>\n",
       "      <th>GDP: Gross domestic product (million current US$)</th>\n",
       "      <th>GDP growth rate (annual %, const. 2005 prices)</th>\n",
       "      <th>GDP per capita (current US$)</th>\n",
       "      <th>Economy: Agriculture (% of GVA)</th>\n",
       "      <th>...</th>\n",
       "      <th>Mobile-cellular subscriptions (per 100 inhabitants).1</th>\n",
       "      <th>Individuals using the Internet (per 100 inhabitants)</th>\n",
       "      <th>Threatened species (number)</th>\n",
       "      <th>Forested area (% of land area)</th>\n",
       "      <th>CO2 emission estimates (million tons/tons per capita)</th>\n",
       "      <th>Energy production, primary (Petajoules)</th>\n",
       "      <th>Energy supply per capita (Gigajoules)</th>\n",
       "      <th>Pop. using improved drinking water (urban/rural, %)</th>\n",
       "      <th>Pop. using improved sanitation facilities (urban/rural, %)</th>\n",
       "      <th>Net Official Development Assist. received (% of GNI)</th>\n",
       "    </tr>\n",
       "  </thead>\n",
       "  <tbody>\n",
       "    <tr>\n",
       "      <th>Total</th>\n",
       "      <td>86</td>\n",
       "      <td>86</td>\n",
       "      <td>86</td>\n",
       "      <td>86</td>\n",
       "      <td>86</td>\n",
       "      <td>86</td>\n",
       "      <td>86</td>\n",
       "      <td>86</td>\n",
       "      <td>86</td>\n",
       "      <td>86</td>\n",
       "      <td>...</td>\n",
       "      <td>86</td>\n",
       "      <td>86</td>\n",
       "      <td>86</td>\n",
       "      <td>86</td>\n",
       "      <td>86</td>\n",
       "      <td>86</td>\n",
       "      <td>86</td>\n",
       "      <td>86</td>\n",
       "      <td>86</td>\n",
       "      <td>86</td>\n",
       "    </tr>\n",
       "    <tr>\n",
       "      <th>Uniques</th>\n",
       "      <td>86</td>\n",
       "      <td>19</td>\n",
       "      <td>86</td>\n",
       "      <td>85</td>\n",
       "      <td>86</td>\n",
       "      <td>64</td>\n",
       "      <td>85</td>\n",
       "      <td>57</td>\n",
       "      <td>84</td>\n",
       "      <td>74</td>\n",
       "      <td>...</td>\n",
       "      <td>81</td>\n",
       "      <td>81</td>\n",
       "      <td>83</td>\n",
       "      <td>84</td>\n",
       "      <td>77</td>\n",
       "      <td>47</td>\n",
       "      <td>81</td>\n",
       "      <td>85</td>\n",
       "      <td>77</td>\n",
       "      <td>1</td>\n",
       "    </tr>\n",
       "  </tbody>\n",
       "</table>\n",
       "<p>2 rows × 50 columns</p>\n",
       "</div>"
      ],
      "text/plain": [
       "         country  Region  Surface area (km2)  Population in thousands (2017)  \\\n",
       "Total         86      86                  86                              86   \n",
       "Uniques       86      19                  86                              85   \n",
       "\n",
       "         Population density (per km2, 2017)  Sex ratio (m per 100 f, 2017)  \\\n",
       "Total                                    86                             86   \n",
       "Uniques                                  86                             64   \n",
       "\n",
       "         GDP: Gross domestic product (million current US$)  \\\n",
       "Total                                                   86   \n",
       "Uniques                                                 85   \n",
       "\n",
       "         GDP growth rate (annual %, const. 2005 prices)  \\\n",
       "Total                                                86   \n",
       "Uniques                                              57   \n",
       "\n",
       "         GDP per capita (current US$)  Economy: Agriculture (% of GVA)  ...  \\\n",
       "Total                              86                               86  ...   \n",
       "Uniques                            84                               74  ...   \n",
       "\n",
       "         Mobile-cellular subscriptions (per 100 inhabitants).1  \\\n",
       "Total                                                   86       \n",
       "Uniques                                                 81       \n",
       "\n",
       "         Individuals using the Internet (per 100 inhabitants)  \\\n",
       "Total                                                   86      \n",
       "Uniques                                                 81      \n",
       "\n",
       "         Threatened species (number)  Forested area (% of land area)  \\\n",
       "Total                             86                              86   \n",
       "Uniques                           83                              84   \n",
       "\n",
       "         CO2 emission estimates (million tons/tons per capita)  \\\n",
       "Total                                                   86       \n",
       "Uniques                                                 77       \n",
       "\n",
       "         Energy production, primary (Petajoules)  \\\n",
       "Total                                         86   \n",
       "Uniques                                       47   \n",
       "\n",
       "         Energy supply per capita (Gigajoules)  \\\n",
       "Total                                       86   \n",
       "Uniques                                     81   \n",
       "\n",
       "         Pop. using improved drinking water (urban/rural, %)  \\\n",
       "Total                                                   86     \n",
       "Uniques                                                 85     \n",
       "\n",
       "         Pop. using improved sanitation facilities (urban/rural, %)  \\\n",
       "Total                                                   86            \n",
       "Uniques                                                 77            \n",
       "\n",
       "         Net Official Development Assist. received (% of GNI)  \n",
       "Total                                                   86     \n",
       "Uniques                                                  1     \n",
       "\n",
       "[2 rows x 50 columns]"
      ]
     },
     "execution_count": 20,
     "metadata": {},
     "output_type": "execute_result"
    }
   ],
   "source": [
    "unique_values(kiva_country_profiles_variables_df)"
   ]
  },
  {
   "cell_type": "code",
   "execution_count": 21,
   "id": "930dfea4",
   "metadata": {
    "_kg_hide-input": true,
    "execution": {
     "iopub.execute_input": "2023-06-01T17:14:06.984105Z",
     "iopub.status.busy": "2023-06-01T17:14:06.983717Z",
     "iopub.status.idle": "2023-06-01T17:14:12.865949Z",
     "shell.execute_reply": "2023-06-01T17:14:12.865072Z"
    },
    "papermill": {
     "duration": 5.903764,
     "end_time": "2023-06-01T17:14:12.867931",
     "exception": false,
     "start_time": "2023-06-01T17:14:06.964167",
     "status": "completed"
    },
    "tags": []
   },
   "outputs": [
    {
     "data": {
      "text/html": [
       "<div>\n",
       "<style scoped>\n",
       "    .dataframe tbody tr th:only-of-type {\n",
       "        vertical-align: middle;\n",
       "    }\n",
       "\n",
       "    .dataframe tbody tr th {\n",
       "        vertical-align: top;\n",
       "    }\n",
       "\n",
       "    .dataframe thead th {\n",
       "        text-align: right;\n",
       "    }\n",
       "</style>\n",
       "<table border=\"1\" class=\"dataframe\">\n",
       "  <thead>\n",
       "    <tr style=\"text-align: right;\">\n",
       "      <th></th>\n",
       "      <th>id</th>\n",
       "      <th>funded_amount</th>\n",
       "      <th>loan_amount</th>\n",
       "      <th>activity</th>\n",
       "      <th>sector</th>\n",
       "      <th>use</th>\n",
       "      <th>country_code</th>\n",
       "      <th>country</th>\n",
       "      <th>region</th>\n",
       "      <th>currency</th>\n",
       "      <th>partner_id</th>\n",
       "      <th>posted_time</th>\n",
       "      <th>disbursed_time</th>\n",
       "      <th>funded_time</th>\n",
       "      <th>term_in_months</th>\n",
       "      <th>lender_count</th>\n",
       "      <th>tags</th>\n",
       "      <th>borrower_genders</th>\n",
       "      <th>repayment_interval</th>\n",
       "      <th>date</th>\n",
       "    </tr>\n",
       "  </thead>\n",
       "  <tbody>\n",
       "    <tr>\n",
       "      <th>Total</th>\n",
       "      <td>671205</td>\n",
       "      <td>671205</td>\n",
       "      <td>671205</td>\n",
       "      <td>671205</td>\n",
       "      <td>671205</td>\n",
       "      <td>666973</td>\n",
       "      <td>671197</td>\n",
       "      <td>671205</td>\n",
       "      <td>614405</td>\n",
       "      <td>671205</td>\n",
       "      <td>657698</td>\n",
       "      <td>671205</td>\n",
       "      <td>668809</td>\n",
       "      <td>622874</td>\n",
       "      <td>671205</td>\n",
       "      <td>671205</td>\n",
       "      <td>499789</td>\n",
       "      <td>666984</td>\n",
       "      <td>671205</td>\n",
       "      <td>671205</td>\n",
       "    </tr>\n",
       "    <tr>\n",
       "      <th>Most frequent item</th>\n",
       "      <td>653051</td>\n",
       "      <td>225.0</td>\n",
       "      <td>225.0</td>\n",
       "      <td>Farming</td>\n",
       "      <td>Agriculture</td>\n",
       "      <td>to buy a water filter to provide safe drinking...</td>\n",
       "      <td>PH</td>\n",
       "      <td>Philippines</td>\n",
       "      <td>Kaduna</td>\n",
       "      <td>PHP</td>\n",
       "      <td>145.0</td>\n",
       "      <td>2017-05-15 00:00:00+00:00</td>\n",
       "      <td>2017-02-01 08:00:00+00:00</td>\n",
       "      <td>2016-09-21 13:03:24+00:00</td>\n",
       "      <td>14.0</td>\n",
       "      <td>8</td>\n",
       "      <td>user_favorite</td>\n",
       "      <td>female</td>\n",
       "      <td>monthly</td>\n",
       "      <td>2017-03-20</td>\n",
       "    </tr>\n",
       "    <tr>\n",
       "      <th>Frequence</th>\n",
       "      <td>1</td>\n",
       "      <td>34402</td>\n",
       "      <td>33157</td>\n",
       "      <td>72955</td>\n",
       "      <td>180302</td>\n",
       "      <td>5217</td>\n",
       "      <td>160441</td>\n",
       "      <td>160441</td>\n",
       "      <td>10000</td>\n",
       "      <td>160440</td>\n",
       "      <td>107188</td>\n",
       "      <td>25</td>\n",
       "      <td>2800</td>\n",
       "      <td>33</td>\n",
       "      <td>166750</td>\n",
       "      <td>34204</td>\n",
       "      <td>27088</td>\n",
       "      <td>426502</td>\n",
       "      <td>342717</td>\n",
       "      <td>1308</td>\n",
       "    </tr>\n",
       "    <tr>\n",
       "      <th>Percent from total</th>\n",
       "      <td>0.0</td>\n",
       "      <td>5.125</td>\n",
       "      <td>4.94</td>\n",
       "      <td>10.869</td>\n",
       "      <td>26.862</td>\n",
       "      <td>0.782</td>\n",
       "      <td>23.904</td>\n",
       "      <td>23.903</td>\n",
       "      <td>1.628</td>\n",
       "      <td>23.903</td>\n",
       "      <td>16.297</td>\n",
       "      <td>0.004</td>\n",
       "      <td>0.419</td>\n",
       "      <td>0.005</td>\n",
       "      <td>24.843</td>\n",
       "      <td>5.096</td>\n",
       "      <td>5.42</td>\n",
       "      <td>63.945</td>\n",
       "      <td>51.06</td>\n",
       "      <td>0.195</td>\n",
       "    </tr>\n",
       "  </tbody>\n",
       "</table>\n",
       "</div>"
      ],
      "text/plain": [
       "                        id funded_amount loan_amount activity       sector  \\\n",
       "Total               671205        671205      671205   671205       671205   \n",
       "Most frequent item  653051         225.0       225.0  Farming  Agriculture   \n",
       "Frequence                1         34402       33157    72955       180302   \n",
       "Percent from total     0.0         5.125        4.94   10.869       26.862   \n",
       "\n",
       "                                                                  use  \\\n",
       "Total                                                          666973   \n",
       "Most frequent item  to buy a water filter to provide safe drinking...   \n",
       "Frequence                                                        5217   \n",
       "Percent from total                                              0.782   \n",
       "\n",
       "                   country_code      country  region currency partner_id  \\\n",
       "Total                    671197       671205  614405   671205     657698   \n",
       "Most frequent item           PH  Philippines  Kaduna      PHP      145.0   \n",
       "Frequence                160441       160441   10000   160440     107188   \n",
       "Percent from total       23.904       23.903   1.628   23.903     16.297   \n",
       "\n",
       "                                  posted_time             disbursed_time  \\\n",
       "Total                                  671205                     668809   \n",
       "Most frequent item  2017-05-15 00:00:00+00:00  2017-02-01 08:00:00+00:00   \n",
       "Frequence                                  25                       2800   \n",
       "Percent from total                      0.004                      0.419   \n",
       "\n",
       "                                  funded_time term_in_months lender_count  \\\n",
       "Total                                  622874         671205       671205   \n",
       "Most frequent item  2016-09-21 13:03:24+00:00           14.0            8   \n",
       "Frequence                                  33         166750        34204   \n",
       "Percent from total                      0.005         24.843        5.096   \n",
       "\n",
       "                             tags borrower_genders repayment_interval  \\\n",
       "Total                      499789           666984             671205   \n",
       "Most frequent item  user_favorite           female            monthly   \n",
       "Frequence                   27088           426502             342717   \n",
       "Percent from total           5.42           63.945              51.06   \n",
       "\n",
       "                          date  \n",
       "Total                   671205  \n",
       "Most frequent item  2017-03-20  \n",
       "Frequence                 1308  \n",
       "Percent from total       0.195  "
      ]
     },
     "execution_count": 21,
     "metadata": {},
     "output_type": "execute_result"
    }
   ],
   "source": [
    "most_frequent_values(kiva_loans_df)"
   ]
  },
  {
   "cell_type": "code",
   "execution_count": 22,
   "id": "74e946b2",
   "metadata": {
    "_kg_hide-input": true,
    "execution": {
     "iopub.execute_input": "2023-06-01T17:14:12.908045Z",
     "iopub.status.busy": "2023-06-01T17:14:12.907183Z",
     "iopub.status.idle": "2023-06-01T17:14:12.934628Z",
     "shell.execute_reply": "2023-06-01T17:14:12.933688Z"
    },
    "papermill": {
     "duration": 0.048693,
     "end_time": "2023-06-01T17:14:12.936678",
     "exception": false,
     "start_time": "2023-06-01T17:14:12.887985",
     "status": "completed"
    },
    "tags": []
   },
   "outputs": [
    {
     "data": {
      "text/html": [
       "<div>\n",
       "<style scoped>\n",
       "    .dataframe tbody tr th:only-of-type {\n",
       "        vertical-align: middle;\n",
       "    }\n",
       "\n",
       "    .dataframe tbody tr th {\n",
       "        vertical-align: top;\n",
       "    }\n",
       "\n",
       "    .dataframe thead th {\n",
       "        text-align: right;\n",
       "    }\n",
       "</style>\n",
       "<table border=\"1\" class=\"dataframe\">\n",
       "  <thead>\n",
       "    <tr style=\"text-align: right;\">\n",
       "      <th></th>\n",
       "      <th>LocationName</th>\n",
       "      <th>ISO</th>\n",
       "      <th>country</th>\n",
       "      <th>region</th>\n",
       "      <th>world_region</th>\n",
       "      <th>MPI</th>\n",
       "      <th>geo</th>\n",
       "      <th>lat</th>\n",
       "      <th>lon</th>\n",
       "    </tr>\n",
       "  </thead>\n",
       "  <tbody>\n",
       "    <tr>\n",
       "      <th>Total</th>\n",
       "      <td>984</td>\n",
       "      <td>1008</td>\n",
       "      <td>1008</td>\n",
       "      <td>984</td>\n",
       "      <td>1008</td>\n",
       "      <td>984</td>\n",
       "      <td>2772</td>\n",
       "      <td>892</td>\n",
       "      <td>892</td>\n",
       "    </tr>\n",
       "    <tr>\n",
       "      <th>Most frequent item</th>\n",
       "      <td>Badakhshan, Afghanistan</td>\n",
       "      <td>NGA</td>\n",
       "      <td>Nigeria</td>\n",
       "      <td>Central</td>\n",
       "      <td>Sub-Saharan Africa</td>\n",
       "      <td>0.006</td>\n",
       "      <td>(1000.0, 1000.0)</td>\n",
       "      <td>14.497401</td>\n",
       "      <td>17.668887</td>\n",
       "    </tr>\n",
       "    <tr>\n",
       "      <th>Frequence</th>\n",
       "      <td>1</td>\n",
       "      <td>37</td>\n",
       "      <td>37</td>\n",
       "      <td>8</td>\n",
       "      <td>432</td>\n",
       "      <td>11</td>\n",
       "      <td>1880</td>\n",
       "      <td>3</td>\n",
       "      <td>4</td>\n",
       "    </tr>\n",
       "    <tr>\n",
       "      <th>Percent from total</th>\n",
       "      <td>0.102</td>\n",
       "      <td>3.671</td>\n",
       "      <td>3.671</td>\n",
       "      <td>0.813</td>\n",
       "      <td>42.857</td>\n",
       "      <td>1.118</td>\n",
       "      <td>67.821</td>\n",
       "      <td>0.336</td>\n",
       "      <td>0.448</td>\n",
       "    </tr>\n",
       "  </tbody>\n",
       "</table>\n",
       "</div>"
      ],
      "text/plain": [
       "                               LocationName    ISO  country   region  \\\n",
       "Total                                   984   1008     1008      984   \n",
       "Most frequent item  Badakhshan, Afghanistan    NGA  Nigeria  Central   \n",
       "Frequence                                 1     37       37        8   \n",
       "Percent from total                    0.102  3.671    3.671    0.813   \n",
       "\n",
       "                          world_region    MPI               geo        lat  \\\n",
       "Total                             1008    984              2772        892   \n",
       "Most frequent item  Sub-Saharan Africa  0.006  (1000.0, 1000.0)  14.497401   \n",
       "Frequence                          432     11              1880          3   \n",
       "Percent from total              42.857  1.118            67.821      0.336   \n",
       "\n",
       "                          lon  \n",
       "Total                     892  \n",
       "Most frequent item  17.668887  \n",
       "Frequence                   4  \n",
       "Percent from total      0.448  "
      ]
     },
     "execution_count": 22,
     "metadata": {},
     "output_type": "execute_result"
    }
   ],
   "source": [
    "most_frequent_values(kiva_mpi_region_locations_df)"
   ]
  },
  {
   "cell_type": "code",
   "execution_count": 23,
   "id": "6ee5bc7a",
   "metadata": {
    "_kg_hide-input": true,
    "execution": {
     "iopub.execute_input": "2023-06-01T17:14:12.976282Z",
     "iopub.status.busy": "2023-06-01T17:14:12.975666Z",
     "iopub.status.idle": "2023-06-01T17:14:13.467902Z",
     "shell.execute_reply": "2023-06-01T17:14:13.466995Z"
    },
    "papermill": {
     "duration": 0.514389,
     "end_time": "2023-06-01T17:14:13.469938",
     "exception": false,
     "start_time": "2023-06-01T17:14:12.955549",
     "status": "completed"
    },
    "tags": []
   },
   "outputs": [
    {
     "data": {
      "text/html": [
       "<div>\n",
       "<style scoped>\n",
       "    .dataframe tbody tr th:only-of-type {\n",
       "        vertical-align: middle;\n",
       "    }\n",
       "\n",
       "    .dataframe tbody tr th {\n",
       "        vertical-align: top;\n",
       "    }\n",
       "\n",
       "    .dataframe thead th {\n",
       "        text-align: right;\n",
       "    }\n",
       "</style>\n",
       "<table border=\"1\" class=\"dataframe\">\n",
       "  <thead>\n",
       "    <tr style=\"text-align: right;\">\n",
       "      <th></th>\n",
       "      <th>id</th>\n",
       "      <th>Loan Theme ID</th>\n",
       "      <th>Loan Theme Type</th>\n",
       "      <th>Partner ID</th>\n",
       "    </tr>\n",
       "  </thead>\n",
       "  <tbody>\n",
       "    <tr>\n",
       "      <th>Total</th>\n",
       "      <td>779092</td>\n",
       "      <td>764279</td>\n",
       "      <td>764279</td>\n",
       "      <td>764279</td>\n",
       "    </tr>\n",
       "    <tr>\n",
       "      <th>Most frequent item</th>\n",
       "      <td>638631</td>\n",
       "      <td>a1050000000wf0q</td>\n",
       "      <td>General</td>\n",
       "      <td>145.0</td>\n",
       "    </tr>\n",
       "    <tr>\n",
       "      <th>Frequence</th>\n",
       "      <td>1</td>\n",
       "      <td>110264</td>\n",
       "      <td>380693</td>\n",
       "      <td>125375</td>\n",
       "    </tr>\n",
       "    <tr>\n",
       "      <th>Percent from total</th>\n",
       "      <td>0.0</td>\n",
       "      <td>14.427</td>\n",
       "      <td>49.811</td>\n",
       "      <td>16.404</td>\n",
       "    </tr>\n",
       "  </tbody>\n",
       "</table>\n",
       "</div>"
      ],
      "text/plain": [
       "                        id    Loan Theme ID Loan Theme Type Partner ID\n",
       "Total               779092           764279          764279     764279\n",
       "Most frequent item  638631  a1050000000wf0q         General      145.0\n",
       "Frequence                1           110264          380693     125375\n",
       "Percent from total     0.0           14.427          49.811     16.404"
      ]
     },
     "execution_count": 23,
     "metadata": {},
     "output_type": "execute_result"
    }
   ],
   "source": [
    "most_frequent_values(loan_theme_ids_df)"
   ]
  },
  {
   "cell_type": "code",
   "execution_count": 24,
   "id": "d36c5bdc",
   "metadata": {
    "_kg_hide-input": true,
    "execution": {
     "iopub.execute_input": "2023-06-01T17:14:13.510167Z",
     "iopub.status.busy": "2023-06-01T17:14:13.509600Z",
     "iopub.status.idle": "2023-06-01T17:14:13.615669Z",
     "shell.execute_reply": "2023-06-01T17:14:13.614689Z"
    },
    "papermill": {
     "duration": 0.128259,
     "end_time": "2023-06-01T17:14:13.617694",
     "exception": false,
     "start_time": "2023-06-01T17:14:13.489435",
     "status": "completed"
    },
    "tags": []
   },
   "outputs": [
    {
     "data": {
      "text/html": [
       "<div>\n",
       "<style scoped>\n",
       "    .dataframe tbody tr th:only-of-type {\n",
       "        vertical-align: middle;\n",
       "    }\n",
       "\n",
       "    .dataframe tbody tr th {\n",
       "        vertical-align: top;\n",
       "    }\n",
       "\n",
       "    .dataframe thead th {\n",
       "        text-align: right;\n",
       "    }\n",
       "</style>\n",
       "<table border=\"1\" class=\"dataframe\">\n",
       "  <thead>\n",
       "    <tr style=\"text-align: right;\">\n",
       "      <th></th>\n",
       "      <th>Partner ID</th>\n",
       "      <th>Field Partner Name</th>\n",
       "      <th>sector</th>\n",
       "      <th>Loan Theme ID</th>\n",
       "      <th>Loan Theme Type</th>\n",
       "      <th>country</th>\n",
       "      <th>forkiva</th>\n",
       "      <th>region</th>\n",
       "      <th>geocode_old</th>\n",
       "      <th>ISO</th>\n",
       "      <th>...</th>\n",
       "      <th>amount</th>\n",
       "      <th>LocationName</th>\n",
       "      <th>geocode</th>\n",
       "      <th>names</th>\n",
       "      <th>geo</th>\n",
       "      <th>lat</th>\n",
       "      <th>lon</th>\n",
       "      <th>mpi_region</th>\n",
       "      <th>mpi_geo</th>\n",
       "      <th>rural_pct</th>\n",
       "    </tr>\n",
       "  </thead>\n",
       "  <tbody>\n",
       "    <tr>\n",
       "      <th>Total</th>\n",
       "      <td>15736</td>\n",
       "      <td>15736</td>\n",
       "      <td>15736</td>\n",
       "      <td>15736</td>\n",
       "      <td>15736</td>\n",
       "      <td>15736</td>\n",
       "      <td>15736</td>\n",
       "      <td>15736</td>\n",
       "      <td>1200</td>\n",
       "      <td>15722</td>\n",
       "      <td>...</td>\n",
       "      <td>15736</td>\n",
       "      <td>15736</td>\n",
       "      <td>13662</td>\n",
       "      <td>13661</td>\n",
       "      <td>15736</td>\n",
       "      <td>13662</td>\n",
       "      <td>13662</td>\n",
       "      <td>15722</td>\n",
       "      <td>9671</td>\n",
       "      <td>14344</td>\n",
       "    </tr>\n",
       "    <tr>\n",
       "      <th>Most frequent item</th>\n",
       "      <td>123</td>\n",
       "      <td>Alalay sa Kaunlaran (ASKI)</td>\n",
       "      <td>General Financial Inclusion</td>\n",
       "      <td>a1050000000wf0V</td>\n",
       "      <td>General</td>\n",
       "      <td>Philippines</td>\n",
       "      <td>No</td>\n",
       "      <td>Chouf</td>\n",
       "      <td>(-1.2833333, 36.8166667)</td>\n",
       "      <td>PHL</td>\n",
       "      <td>...</td>\n",
       "      <td>1000</td>\n",
       "      <td>Chouf, Lebanon</td>\n",
       "      <td>[(19.7126764, 105.8393447)]</td>\n",
       "      <td>Philippines</td>\n",
       "      <td>(1000.0, 1000.0)</td>\n",
       "      <td>19.712676</td>\n",
       "      <td>105.839345</td>\n",
       "      <td>Northern Mindanao, Philippines</td>\n",
       "      <td>(8.020163499999999, 124.6856509)</td>\n",
       "      <td>84.0</td>\n",
       "    </tr>\n",
       "    <tr>\n",
       "      <th>Frequence</th>\n",
       "      <td>1207</td>\n",
       "      <td>1207</td>\n",
       "      <td>13679</td>\n",
       "      <td>1152</td>\n",
       "      <td>5661</td>\n",
       "      <td>3467</td>\n",
       "      <td>13211</td>\n",
       "      <td>25</td>\n",
       "      <td>20</td>\n",
       "      <td>3467</td>\n",
       "      <td>...</td>\n",
       "      <td>196</td>\n",
       "      <td>25</td>\n",
       "      <td>43</td>\n",
       "      <td>137</td>\n",
       "      <td>2074</td>\n",
       "      <td>43</td>\n",
       "      <td>43</td>\n",
       "      <td>1174</td>\n",
       "      <td>1174</td>\n",
       "      <td>1209</td>\n",
       "    </tr>\n",
       "    <tr>\n",
       "      <th>Percent from total</th>\n",
       "      <td>7.67</td>\n",
       "      <td>7.67</td>\n",
       "      <td>86.928</td>\n",
       "      <td>7.321</td>\n",
       "      <td>35.975</td>\n",
       "      <td>22.032</td>\n",
       "      <td>83.954</td>\n",
       "      <td>0.159</td>\n",
       "      <td>1.667</td>\n",
       "      <td>22.052</td>\n",
       "      <td>...</td>\n",
       "      <td>1.246</td>\n",
       "      <td>0.159</td>\n",
       "      <td>0.315</td>\n",
       "      <td>1.003</td>\n",
       "      <td>13.18</td>\n",
       "      <td>0.315</td>\n",
       "      <td>0.315</td>\n",
       "      <td>7.467</td>\n",
       "      <td>12.139</td>\n",
       "      <td>8.429</td>\n",
       "    </tr>\n",
       "  </tbody>\n",
       "</table>\n",
       "<p>4 rows × 21 columns</p>\n",
       "</div>"
      ],
      "text/plain": [
       "                   Partner ID          Field Partner Name  \\\n",
       "Total                   15736                       15736   \n",
       "Most frequent item        123  Alalay sa Kaunlaran (ASKI)   \n",
       "Frequence                1207                        1207   \n",
       "Percent from total       7.67                        7.67   \n",
       "\n",
       "                                         sector    Loan Theme ID  \\\n",
       "Total                                     15736            15736   \n",
       "Most frequent item  General Financial Inclusion  a1050000000wf0V   \n",
       "Frequence                                 13679             1152   \n",
       "Percent from total                       86.928            7.321   \n",
       "\n",
       "                   Loan Theme Type      country forkiva region  \\\n",
       "Total                        15736        15736   15736  15736   \n",
       "Most frequent item         General  Philippines      No  Chouf   \n",
       "Frequence                     5661         3467   13211     25   \n",
       "Percent from total          35.975       22.032  83.954  0.159   \n",
       "\n",
       "                                 geocode_old     ISO  ... amount  \\\n",
       "Total                                   1200   15722  ...  15736   \n",
       "Most frequent item  (-1.2833333, 36.8166667)     PHL  ...   1000   \n",
       "Frequence                                 20    3467  ...    196   \n",
       "Percent from total                     1.667  22.052  ...  1.246   \n",
       "\n",
       "                      LocationName                      geocode        names  \\\n",
       "Total                        15736                        13662        13661   \n",
       "Most frequent item  Chouf, Lebanon  [(19.7126764, 105.8393447)]  Philippines   \n",
       "Frequence                       25                           43          137   \n",
       "Percent from total           0.159                        0.315        1.003   \n",
       "\n",
       "                                 geo        lat         lon  \\\n",
       "Total                          15736      13662       13662   \n",
       "Most frequent item  (1000.0, 1000.0)  19.712676  105.839345   \n",
       "Frequence                       2074         43          43   \n",
       "Percent from total             13.18      0.315       0.315   \n",
       "\n",
       "                                        mpi_region  \\\n",
       "Total                                        15722   \n",
       "Most frequent item  Northern Mindanao, Philippines   \n",
       "Frequence                                     1174   \n",
       "Percent from total                           7.467   \n",
       "\n",
       "                                             mpi_geo rural_pct  \n",
       "Total                                           9671     14344  \n",
       "Most frequent item  (8.020163499999999, 124.6856509)      84.0  \n",
       "Frequence                                       1174      1209  \n",
       "Percent from total                            12.139     8.429  \n",
       "\n",
       "[4 rows x 21 columns]"
      ]
     },
     "execution_count": 24,
     "metadata": {},
     "output_type": "execute_result"
    }
   ],
   "source": [
    "most_frequent_values(loan_themes_by_region_df)"
   ]
  },
  {
   "cell_type": "code",
   "execution_count": 25,
   "id": "eafffd2f",
   "metadata": {
    "_kg_hide-input": true,
    "execution": {
     "iopub.execute_input": "2023-06-01T17:14:13.657898Z",
     "iopub.status.busy": "2023-06-01T17:14:13.657383Z",
     "iopub.status.idle": "2023-06-01T17:14:13.710370Z",
     "shell.execute_reply": "2023-06-01T17:14:13.709084Z"
    },
    "papermill": {
     "duration": 0.075754,
     "end_time": "2023-06-01T17:14:13.712410",
     "exception": false,
     "start_time": "2023-06-01T17:14:13.636656",
     "status": "completed"
    },
    "tags": []
   },
   "outputs": [
    {
     "data": {
      "text/html": [
       "<div>\n",
       "<style scoped>\n",
       "    .dataframe tbody tr th:only-of-type {\n",
       "        vertical-align: middle;\n",
       "    }\n",
       "\n",
       "    .dataframe tbody tr th {\n",
       "        vertical-align: top;\n",
       "    }\n",
       "\n",
       "    .dataframe thead th {\n",
       "        text-align: right;\n",
       "    }\n",
       "</style>\n",
       "<table border=\"1\" class=\"dataframe\">\n",
       "  <thead>\n",
       "    <tr style=\"text-align: right;\">\n",
       "      <th></th>\n",
       "      <th>country</th>\n",
       "      <th>Region</th>\n",
       "      <th>Surface area (km2)</th>\n",
       "      <th>Population in thousands (2017)</th>\n",
       "      <th>Population density (per km2, 2017)</th>\n",
       "      <th>Sex ratio (m per 100 f, 2017)</th>\n",
       "      <th>GDP: Gross domestic product (million current US$)</th>\n",
       "      <th>GDP growth rate (annual %, const. 2005 prices)</th>\n",
       "      <th>GDP per capita (current US$)</th>\n",
       "      <th>Economy: Agriculture (% of GVA)</th>\n",
       "      <th>...</th>\n",
       "      <th>Mobile-cellular subscriptions (per 100 inhabitants).1</th>\n",
       "      <th>Individuals using the Internet (per 100 inhabitants)</th>\n",
       "      <th>Threatened species (number)</th>\n",
       "      <th>Forested area (% of land area)</th>\n",
       "      <th>CO2 emission estimates (million tons/tons per capita)</th>\n",
       "      <th>Energy production, primary (Petajoules)</th>\n",
       "      <th>Energy supply per capita (Gigajoules)</th>\n",
       "      <th>Pop. using improved drinking water (urban/rural, %)</th>\n",
       "      <th>Pop. using improved sanitation facilities (urban/rural, %)</th>\n",
       "      <th>Net Official Development Assist. received (% of GNI)</th>\n",
       "    </tr>\n",
       "  </thead>\n",
       "  <tbody>\n",
       "    <tr>\n",
       "      <th>Total</th>\n",
       "      <td>229</td>\n",
       "      <td>229</td>\n",
       "      <td>229</td>\n",
       "      <td>229</td>\n",
       "      <td>229</td>\n",
       "      <td>229</td>\n",
       "      <td>229</td>\n",
       "      <td>229</td>\n",
       "      <td>229</td>\n",
       "      <td>229</td>\n",
       "      <td>...</td>\n",
       "      <td>229</td>\n",
       "      <td>229</td>\n",
       "      <td>229</td>\n",
       "      <td>229</td>\n",
       "      <td>229</td>\n",
       "      <td>229</td>\n",
       "      <td>229</td>\n",
       "      <td>229</td>\n",
       "      <td>229</td>\n",
       "      <td>229</td>\n",
       "    </tr>\n",
       "    <tr>\n",
       "      <th>Most frequent item</th>\n",
       "      <td>Afghanistan</td>\n",
       "      <td>Caribbean</td>\n",
       "      <td>-99</td>\n",
       "      <td>2890</td>\n",
       "      <td>4.0</td>\n",
       "      <td>100.2</td>\n",
       "      <td>-99</td>\n",
       "      <td>-99</td>\n",
       "      <td>-99.0</td>\n",
       "      <td>-99</td>\n",
       "      <td>...</td>\n",
       "      <td>-99</td>\n",
       "      <td>104</td>\n",
       "      <td>-99</td>\n",
       "      <td>-99</td>\n",
       "      <td>0</td>\n",
       "      <td>-99</td>\n",
       "      <td>100.0/100.0</td>\n",
       "      <td>-99</td>\n",
       "      <td>-99</td>\n",
       "      <td>-99</td>\n",
       "    </tr>\n",
       "    <tr>\n",
       "      <th>Frequence</th>\n",
       "      <td>1</td>\n",
       "      <td>25</td>\n",
       "      <td>3</td>\n",
       "      <td>2</td>\n",
       "      <td>3</td>\n",
       "      <td>7</td>\n",
       "      <td>21</td>\n",
       "      <td>21</td>\n",
       "      <td>21</td>\n",
       "      <td>23</td>\n",
       "      <td>...</td>\n",
       "      <td>16</td>\n",
       "      <td>4</td>\n",
       "      <td>8</td>\n",
       "      <td>13</td>\n",
       "      <td>23</td>\n",
       "      <td>10</td>\n",
       "      <td>38</td>\n",
       "      <td>21</td>\n",
       "      <td>87</td>\n",
       "      <td>229</td>\n",
       "    </tr>\n",
       "    <tr>\n",
       "      <th>Percent from total</th>\n",
       "      <td>0.437</td>\n",
       "      <td>10.917</td>\n",
       "      <td>1.31</td>\n",
       "      <td>0.873</td>\n",
       "      <td>1.31</td>\n",
       "      <td>3.057</td>\n",
       "      <td>9.17</td>\n",
       "      <td>9.17</td>\n",
       "      <td>9.17</td>\n",
       "      <td>10.044</td>\n",
       "      <td>...</td>\n",
       "      <td>6.987</td>\n",
       "      <td>1.747</td>\n",
       "      <td>3.493</td>\n",
       "      <td>5.677</td>\n",
       "      <td>10.044</td>\n",
       "      <td>4.367</td>\n",
       "      <td>16.594</td>\n",
       "      <td>9.17</td>\n",
       "      <td>37.991</td>\n",
       "      <td>100.0</td>\n",
       "    </tr>\n",
       "  </tbody>\n",
       "</table>\n",
       "<p>4 rows × 50 columns</p>\n",
       "</div>"
      ],
      "text/plain": [
       "                        country     Region Surface area (km2)  \\\n",
       "Total                       229        229                229   \n",
       "Most frequent item  Afghanistan  Caribbean                -99   \n",
       "Frequence                     1         25                  3   \n",
       "Percent from total        0.437     10.917               1.31   \n",
       "\n",
       "                   Population in thousands (2017)  \\\n",
       "Total                                         229   \n",
       "Most frequent item                           2890   \n",
       "Frequence                                       2   \n",
       "Percent from total                          0.873   \n",
       "\n",
       "                   Population density (per km2, 2017)  \\\n",
       "Total                                             229   \n",
       "Most frequent item                                4.0   \n",
       "Frequence                                           3   \n",
       "Percent from total                               1.31   \n",
       "\n",
       "                   Sex ratio (m per 100 f, 2017)  \\\n",
       "Total                                        229   \n",
       "Most frequent item                         100.2   \n",
       "Frequence                                      7   \n",
       "Percent from total                         3.057   \n",
       "\n",
       "                   GDP: Gross domestic product (million current US$)  \\\n",
       "Total                                                            229   \n",
       "Most frequent item                                               -99   \n",
       "Frequence                                                         21   \n",
       "Percent from total                                              9.17   \n",
       "\n",
       "                   GDP growth rate (annual %, const. 2005 prices)  \\\n",
       "Total                                                         229   \n",
       "Most frequent item                                            -99   \n",
       "Frequence                                                      21   \n",
       "Percent from total                                           9.17   \n",
       "\n",
       "                   GDP per capita (current US$)  \\\n",
       "Total                                       229   \n",
       "Most frequent item                        -99.0   \n",
       "Frequence                                    21   \n",
       "Percent from total                         9.17   \n",
       "\n",
       "                   Economy: Agriculture (% of GVA)  ...  \\\n",
       "Total                                          229  ...   \n",
       "Most frequent item                             -99  ...   \n",
       "Frequence                                       23  ...   \n",
       "Percent from total                          10.044  ...   \n",
       "\n",
       "                   Mobile-cellular subscriptions (per 100 inhabitants).1  \\\n",
       "Total                                                             229      \n",
       "Most frequent item                                                -99      \n",
       "Frequence                                                          16      \n",
       "Percent from total                                              6.987      \n",
       "\n",
       "                   Individuals using the Internet (per 100 inhabitants)  \\\n",
       "Total                                                             229     \n",
       "Most frequent item                                                104     \n",
       "Frequence                                                           4     \n",
       "Percent from total                                              1.747     \n",
       "\n",
       "                   Threatened species (number) Forested area (% of land area)  \\\n",
       "Total                                      229                            229   \n",
       "Most frequent item                         -99                            -99   \n",
       "Frequence                                    8                             13   \n",
       "Percent from total                       3.493                          5.677   \n",
       "\n",
       "                   CO2 emission estimates (million tons/tons per capita)  \\\n",
       "Total                                                             229      \n",
       "Most frequent item                                                  0      \n",
       "Frequence                                                          23      \n",
       "Percent from total                                             10.044      \n",
       "\n",
       "                   Energy production, primary (Petajoules)  \\\n",
       "Total                                                  229   \n",
       "Most frequent item                                     -99   \n",
       "Frequence                                               10   \n",
       "Percent from total                                   4.367   \n",
       "\n",
       "                   Energy supply per capita (Gigajoules)  \\\n",
       "Total                                                229   \n",
       "Most frequent item                           100.0/100.0   \n",
       "Frequence                                             38   \n",
       "Percent from total                                16.594   \n",
       "\n",
       "                   Pop. using improved drinking water (urban/rural, %)  \\\n",
       "Total                                                             229    \n",
       "Most frequent item                                                -99    \n",
       "Frequence                                                          21    \n",
       "Percent from total                                               9.17    \n",
       "\n",
       "                   Pop. using improved sanitation facilities (urban/rural, %)  \\\n",
       "Total                                                             229           \n",
       "Most frequent item                                                -99           \n",
       "Frequence                                                          87           \n",
       "Percent from total                                             37.991           \n",
       "\n",
       "                   Net Official Development Assist. received (% of GNI)  \n",
       "Total                                                             229    \n",
       "Most frequent item                                                -99    \n",
       "Frequence                                                         229    \n",
       "Percent from total                                              100.0    \n",
       "\n",
       "[4 rows x 50 columns]"
      ]
     },
     "execution_count": 25,
     "metadata": {},
     "output_type": "execute_result"
    }
   ],
   "source": [
    "most_frequent_values(country_profile_variables_df)"
   ]
  },
  {
   "cell_type": "code",
   "execution_count": 26,
   "id": "7e706ee9",
   "metadata": {
    "_kg_hide-input": true,
    "execution": {
     "iopub.execute_input": "2023-06-01T17:14:13.752832Z",
     "iopub.status.busy": "2023-06-01T17:14:13.752515Z",
     "iopub.status.idle": "2023-06-01T17:14:13.808072Z",
     "shell.execute_reply": "2023-06-01T17:14:13.806889Z"
    },
    "papermill": {
     "duration": 0.078271,
     "end_time": "2023-06-01T17:14:13.810043",
     "exception": false,
     "start_time": "2023-06-01T17:14:13.731772",
     "status": "completed"
    },
    "tags": []
   },
   "outputs": [
    {
     "data": {
      "text/html": [
       "<div>\n",
       "<style scoped>\n",
       "    .dataframe tbody tr th:only-of-type {\n",
       "        vertical-align: middle;\n",
       "    }\n",
       "\n",
       "    .dataframe tbody tr th {\n",
       "        vertical-align: top;\n",
       "    }\n",
       "\n",
       "    .dataframe thead th {\n",
       "        text-align: right;\n",
       "    }\n",
       "</style>\n",
       "<table border=\"1\" class=\"dataframe\">\n",
       "  <thead>\n",
       "    <tr style=\"text-align: right;\">\n",
       "      <th></th>\n",
       "      <th>country</th>\n",
       "      <th>Region</th>\n",
       "      <th>Surface area (km2)</th>\n",
       "      <th>Population in thousands (2017)</th>\n",
       "      <th>Population density (per km2, 2017)</th>\n",
       "      <th>Sex ratio (m per 100 f, 2017)</th>\n",
       "      <th>GDP: Gross domestic product (million current US$)</th>\n",
       "      <th>GDP growth rate (annual %, const. 2005 prices)</th>\n",
       "      <th>GDP per capita (current US$)</th>\n",
       "      <th>Economy: Agriculture (% of GVA)</th>\n",
       "      <th>...</th>\n",
       "      <th>Mobile-cellular subscriptions (per 100 inhabitants).1</th>\n",
       "      <th>Individuals using the Internet (per 100 inhabitants)</th>\n",
       "      <th>Threatened species (number)</th>\n",
       "      <th>Forested area (% of land area)</th>\n",
       "      <th>CO2 emission estimates (million tons/tons per capita)</th>\n",
       "      <th>Energy production, primary (Petajoules)</th>\n",
       "      <th>Energy supply per capita (Gigajoules)</th>\n",
       "      <th>Pop. using improved drinking water (urban/rural, %)</th>\n",
       "      <th>Pop. using improved sanitation facilities (urban/rural, %)</th>\n",
       "      <th>Net Official Development Assist. received (% of GNI)</th>\n",
       "    </tr>\n",
       "  </thead>\n",
       "  <tbody>\n",
       "    <tr>\n",
       "      <th>Total</th>\n",
       "      <td>86</td>\n",
       "      <td>86</td>\n",
       "      <td>86</td>\n",
       "      <td>86</td>\n",
       "      <td>86</td>\n",
       "      <td>86</td>\n",
       "      <td>86</td>\n",
       "      <td>86</td>\n",
       "      <td>86</td>\n",
       "      <td>86</td>\n",
       "      <td>...</td>\n",
       "      <td>86</td>\n",
       "      <td>86</td>\n",
       "      <td>86</td>\n",
       "      <td>86</td>\n",
       "      <td>86</td>\n",
       "      <td>86</td>\n",
       "      <td>86</td>\n",
       "      <td>86</td>\n",
       "      <td>86</td>\n",
       "      <td>86</td>\n",
       "    </tr>\n",
       "    <tr>\n",
       "      <th>Most frequent item</th>\n",
       "      <td>Afghanistan</td>\n",
       "      <td>EasternAfrica</td>\n",
       "      <td>652864</td>\n",
       "      <td>2930</td>\n",
       "      <td>54.4</td>\n",
       "      <td>99.5</td>\n",
       "      <td>-99</td>\n",
       "      <td>2.8</td>\n",
       "      <td>-99.0</td>\n",
       "      <td>19.0</td>\n",
       "      <td>...</td>\n",
       "      <td>19.0</td>\n",
       "      <td>42</td>\n",
       "      <td>8.1</td>\n",
       "      <td>-99</td>\n",
       "      <td>31</td>\n",
       "      <td>12</td>\n",
       "      <td>100.0/100.0</td>\n",
       "      <td>100.0/100.0</td>\n",
       "      <td>-99.0</td>\n",
       "      <td>-99</td>\n",
       "    </tr>\n",
       "    <tr>\n",
       "      <th>Frequence</th>\n",
       "      <td>1</td>\n",
       "      <td>12</td>\n",
       "      <td>1</td>\n",
       "      <td>2</td>\n",
       "      <td>1</td>\n",
       "      <td>4</td>\n",
       "      <td>2</td>\n",
       "      <td>4</td>\n",
       "      <td>2</td>\n",
       "      <td>3</td>\n",
       "      <td>...</td>\n",
       "      <td>2</td>\n",
       "      <td>2</td>\n",
       "      <td>2</td>\n",
       "      <td>3</td>\n",
       "      <td>3</td>\n",
       "      <td>5</td>\n",
       "      <td>6</td>\n",
       "      <td>2</td>\n",
       "      <td>5</td>\n",
       "      <td>86</td>\n",
       "    </tr>\n",
       "    <tr>\n",
       "      <th>Percent from total</th>\n",
       "      <td>1.163</td>\n",
       "      <td>13.953</td>\n",
       "      <td>1.163</td>\n",
       "      <td>2.326</td>\n",
       "      <td>1.163</td>\n",
       "      <td>4.651</td>\n",
       "      <td>2.326</td>\n",
       "      <td>4.651</td>\n",
       "      <td>2.326</td>\n",
       "      <td>3.488</td>\n",
       "      <td>...</td>\n",
       "      <td>2.326</td>\n",
       "      <td>2.326</td>\n",
       "      <td>2.326</td>\n",
       "      <td>3.488</td>\n",
       "      <td>3.488</td>\n",
       "      <td>5.814</td>\n",
       "      <td>6.977</td>\n",
       "      <td>2.326</td>\n",
       "      <td>5.814</td>\n",
       "      <td>100.0</td>\n",
       "    </tr>\n",
       "  </tbody>\n",
       "</table>\n",
       "<p>4 rows × 50 columns</p>\n",
       "</div>"
      ],
      "text/plain": [
       "                        country         Region Surface area (km2)  \\\n",
       "Total                        86             86                 86   \n",
       "Most frequent item  Afghanistan  EasternAfrica             652864   \n",
       "Frequence                     1             12                  1   \n",
       "Percent from total        1.163         13.953              1.163   \n",
       "\n",
       "                   Population in thousands (2017)  \\\n",
       "Total                                          86   \n",
       "Most frequent item                           2930   \n",
       "Frequence                                       2   \n",
       "Percent from total                          2.326   \n",
       "\n",
       "                   Population density (per km2, 2017)  \\\n",
       "Total                                              86   \n",
       "Most frequent item                               54.4   \n",
       "Frequence                                           1   \n",
       "Percent from total                              1.163   \n",
       "\n",
       "                   Sex ratio (m per 100 f, 2017)  \\\n",
       "Total                                         86   \n",
       "Most frequent item                          99.5   \n",
       "Frequence                                      4   \n",
       "Percent from total                         4.651   \n",
       "\n",
       "                   GDP: Gross domestic product (million current US$)  \\\n",
       "Total                                                             86   \n",
       "Most frequent item                                               -99   \n",
       "Frequence                                                          2   \n",
       "Percent from total                                             2.326   \n",
       "\n",
       "                   GDP growth rate (annual %, const. 2005 prices)  \\\n",
       "Total                                                          86   \n",
       "Most frequent item                                            2.8   \n",
       "Frequence                                                       4   \n",
       "Percent from total                                          4.651   \n",
       "\n",
       "                   GDP per capita (current US$)  \\\n",
       "Total                                        86   \n",
       "Most frequent item                        -99.0   \n",
       "Frequence                                     2   \n",
       "Percent from total                        2.326   \n",
       "\n",
       "                   Economy: Agriculture (% of GVA)  ...  \\\n",
       "Total                                           86  ...   \n",
       "Most frequent item                            19.0  ...   \n",
       "Frequence                                        3  ...   \n",
       "Percent from total                           3.488  ...   \n",
       "\n",
       "                   Mobile-cellular subscriptions (per 100 inhabitants).1  \\\n",
       "Total                                                              86      \n",
       "Most frequent item                                               19.0      \n",
       "Frequence                                                           2      \n",
       "Percent from total                                              2.326      \n",
       "\n",
       "                   Individuals using the Internet (per 100 inhabitants)  \\\n",
       "Total                                                              86     \n",
       "Most frequent item                                                 42     \n",
       "Frequence                                                           2     \n",
       "Percent from total                                              2.326     \n",
       "\n",
       "                   Threatened species (number) Forested area (% of land area)  \\\n",
       "Total                                       86                             86   \n",
       "Most frequent item                         8.1                            -99   \n",
       "Frequence                                    2                              3   \n",
       "Percent from total                       2.326                          3.488   \n",
       "\n",
       "                   CO2 emission estimates (million tons/tons per capita)  \\\n",
       "Total                                                              86      \n",
       "Most frequent item                                                 31      \n",
       "Frequence                                                           3      \n",
       "Percent from total                                              3.488      \n",
       "\n",
       "                   Energy production, primary (Petajoules)  \\\n",
       "Total                                                   86   \n",
       "Most frequent item                                      12   \n",
       "Frequence                                                5   \n",
       "Percent from total                                   5.814   \n",
       "\n",
       "                   Energy supply per capita (Gigajoules)  \\\n",
       "Total                                                 86   \n",
       "Most frequent item                           100.0/100.0   \n",
       "Frequence                                              6   \n",
       "Percent from total                                 6.977   \n",
       "\n",
       "                   Pop. using improved drinking water (urban/rural, %)  \\\n",
       "Total                                                              86    \n",
       "Most frequent item                                        100.0/100.0    \n",
       "Frequence                                                           2    \n",
       "Percent from total                                              2.326    \n",
       "\n",
       "                   Pop. using improved sanitation facilities (urban/rural, %)  \\\n",
       "Total                                                              86           \n",
       "Most frequent item                                              -99.0           \n",
       "Frequence                                                           5           \n",
       "Percent from total                                              5.814           \n",
       "\n",
       "                   Net Official Development Assist. received (% of GNI)  \n",
       "Total                                                              86    \n",
       "Most frequent item                                                -99    \n",
       "Frequence                                                          86    \n",
       "Percent from total                                              100.0    \n",
       "\n",
       "[4 rows x 50 columns]"
      ]
     },
     "execution_count": 26,
     "metadata": {},
     "output_type": "execute_result"
    }
   ],
   "source": [
    "most_frequent_values(kiva_country_profiles_variables_df)"
   ]
  },
  {
   "cell_type": "markdown",
   "id": "d471f7a0",
   "metadata": {
    "papermill": {
     "duration": 0.019627,
     "end_time": "2023-06-01T17:14:13.849996",
     "exception": false,
     "start_time": "2023-06-01T17:14:13.830369",
     "status": "completed"
    },
    "tags": []
   },
   "source": [
    "---\n",
    "<div style=\"float: right;\">\n",
    "        <a href=\"#0\" class=\"button btn-success btn-sm\" role=\"button\" aria-pressed=\"true\" style=\"color:white\" data-toggle=\"popover\" title=\"Go to Top\">Go to Top</a>\n",
    "</div>"
   ]
  },
  {
   "cell_type": "markdown",
   "id": "164b231f",
   "metadata": {
    "papermill": {
     "duration": 0.019685,
     "end_time": "2023-06-01T17:14:13.892161",
     "exception": false,
     "start_time": "2023-06-01T17:14:13.872476",
     "status": "completed"
    },
    "tags": []
   },
   "source": [
    "# <a id=\"4\"></a><font color=\"#64a444\">Loans in numbers</font>   "
   ]
  },
  {
   "cell_type": "code",
   "execution_count": 27,
   "id": "4425ff59",
   "metadata": {
    "_kg_hide-input": true,
    "execution": {
     "iopub.execute_input": "2023-06-01T17:14:13.936080Z",
     "iopub.status.busy": "2023-06-01T17:14:13.935046Z",
     "iopub.status.idle": "2023-06-01T17:14:14.156742Z",
     "shell.execute_reply": "2023-06-01T17:14:14.155569Z"
    },
    "papermill": {
     "duration": 0.247,
     "end_time": "2023-06-01T17:14:14.159382",
     "exception": false,
     "start_time": "2023-06-01T17:14:13.912382",
     "status": "completed"
    },
    "tags": []
   },
   "outputs": [
    {
     "data": {
      "text/markdown": [
       "\n",
       "Let’s explore now into more details the loans information.  \n",
       "There are a number of **671205** loans, grouped in **15** sectors, for **163** activities, in **87** countries and in **12695** different regions.  \n",
       "The funded amounts are between **0.0** and **100000.0** while the loan amount is between **25.0** and **100000.0**, in **67** different currencies.  \n",
       "The term in months for repayment of loan ranges from **1.0** to **158.0** months.   \n",
       "<font color=\"#64a444\">**Note**</font>: this section was generated using **Markdown** feature, mixing executed code and static content (text).  \n",
       "\n",
       "Let’s represent all sectors, and top 20 for activities, countries and regions by number of loans.\n",
       "\n",
       "\n"
      ],
      "text/plain": [
       "<IPython.core.display.Markdown object>"
      ]
     },
     "execution_count": 27,
     "metadata": {},
     "output_type": "execute_result"
    }
   ],
   "source": [
    "Markdown(\"\"\"\n",
    "Let’s explore now into more details the loans information.  \n",
    "There are a number of **{}** loans, grouped in **{}** sectors, for **{}** activities, in **{}** countries and in **{}** different regions.  \n",
    "The funded amounts are between **{}** and **{}** while the loan amount is between **{}** and **{}**, in **{}** different currencies.  \n",
    "The term in months for repayment of loan ranges from **{}** to **{}** months.   \n",
    "<font color=\"#64a444\">**Note**</font>: this section was generated using **Markdown** feature, mixing executed code and static content (text).  \n",
    "\n",
    "Let’s represent all sectors, and top 20 for activities, countries and regions by number of loans.\n",
    "\n",
    "\n",
    "\"\"\".format(kiva_loans_df.sector.shape[0], \n",
    "        kiva_loans_df.sector.nunique(),\n",
    "        kiva_loans_df.activity.nunique(),\n",
    "        kiva_loans_df.country.nunique(),\n",
    "        kiva_loans_df.region.nunique(),\n",
    "        kiva_loans_df.funded_amount.min(),\n",
    "        kiva_loans_df.funded_amount.max(),\n",
    "        kiva_loans_df.loan_amount.min(),\n",
    "        kiva_loans_df.loan_amount.max(),\n",
    "        kiva_loans_df.currency.nunique(),\n",
    "        kiva_loans_df.term_in_months.min(),\n",
    "        kiva_loans_df.term_in_months.max())\n",
    ")"
   ]
  },
  {
   "cell_type": "markdown",
   "id": "e05e4190",
   "metadata": {
    "papermill": {
     "duration": 0.019536,
     "end_time": "2023-06-01T17:14:14.198737",
     "exception": false,
     "start_time": "2023-06-01T17:14:14.179201",
     "status": "completed"
    },
    "tags": []
   },
   "source": [
    "Let's setup the color scheme for this Notebook. We will use various shades of green, including the green theme used by Kiva."
   ]
  },
  {
   "cell_type": "code",
   "execution_count": 28,
   "id": "88f56083",
   "metadata": {
    "_kg_hide-input": true,
    "execution": {
     "iopub.execute_input": "2023-06-01T17:14:14.240354Z",
     "iopub.status.busy": "2023-06-01T17:14:14.239955Z",
     "iopub.status.idle": "2023-06-01T17:14:14.317394Z",
     "shell.execute_reply": "2023-06-01T17:14:14.316370Z"
    },
    "papermill": {
     "duration": 0.101066,
     "end_time": "2023-06-01T17:14:14.320013",
     "exception": false,
     "start_time": "2023-06-01T17:14:14.218947",
     "status": "completed"
    },
    "tags": []
   },
   "outputs": [
    {
     "name": "stdout",
     "output_type": "stream",
     "text": [
      "Notebook Color Schema:\n"
     ]
    },
    {
     "data": {
      "image/png": "[encoded data removed]",
      "text/plain": [
       "<Figure size 600x100 with 1 Axes>"
      ]
     },
     "metadata": {},
     "output_type": "display_data"
    }
   ],
   "source": [
    "color_list = [\"#e1eedb\", \"#b4d4a4\", \"#7fb466\", \"#64a444\",\"#1a6333\", \"#3b3b3b\"]\n",
    "cmap_custom = set_color_map(color_list)"
   ]
  },
  {
   "cell_type": "code",
   "execution_count": 29,
   "id": "0bfdf9f7",
   "metadata": {
    "_kg_hide-input": true,
    "execution": {
     "iopub.execute_input": "2023-06-01T17:14:14.361758Z",
     "iopub.status.busy": "2023-06-01T17:14:14.360900Z",
     "iopub.status.idle": "2023-06-01T17:14:14.788338Z",
     "shell.execute_reply": "2023-06-01T17:14:14.787019Z"
    },
    "papermill": {
     "duration": 0.451223,
     "end_time": "2023-06-01T17:14:14.791227",
     "exception": false,
     "start_time": "2023-06-01T17:14:14.340004",
     "status": "completed"
    },
    "tags": []
   },
   "outputs": [],
   "source": [
    "df = kiva_loans_df.groupby([\"sector\"])[\"loan_amount\"].agg([\"count\", \"min\", \"max\", \"mean\", \"median\"]).reset_index()\n",
    "df = df.sort_values(by=\"count\", ascending=False)\n",
    "sectors = go.Bar(\n",
    "        x = df['sector'],\n",
    "        y = df['count'],\n",
    "        marker=dict(color=color_list[1])\n",
    "    )\n",
    "df2 = kiva_loans_df.groupby([\"activity\"])[\"loan_amount\"].agg([\"count\", \"min\", \"max\", \"mean\", \"median\"]).reset_index()\n",
    "df2 = df2.sort_values(by=\"count\", ascending=False)\n",
    "df2 = df2[0:20]\n",
    "activities = go.Bar(\n",
    "        x = df2['activity'],\n",
    "        y = df2['count'],\n",
    "        marker=dict(color=color_list[2])\n",
    "    )\n",
    "df3 = kiva_loans_df.groupby([\"country\"])[\"loan_amount\"].agg([\"count\", \"min\", \"max\", \"mean\", \"median\"]).reset_index()\n",
    "df3 = df3.sort_values(by=\"count\", ascending=False)\n",
    "df3 = df3[0:20]\n",
    "countries = go.Bar(\n",
    "        x = df3['country'],\n",
    "        y = df3['count'],\n",
    "        marker=dict(color=color_list[3])\n",
    "    )\n",
    "df4 = kiva_loans_df.groupby([\"region\"])[\"loan_amount\"].agg([\"count\", \"min\", \"max\", \"mean\", \"median\"]).reset_index()\n",
    "df4 = df4.sort_values(by=\"count\", ascending=False)\n",
    "df4 = df4[0:20]\n",
    "regions = go.Bar(\n",
    "        x = df4['region'],\n",
    "        y = df4['count'],\n",
    "        marker=dict(color=color_list[4])\n",
    "    )"
   ]
  },
  {
   "cell_type": "code",
   "execution_count": 30,
   "id": "a0f93a0a",
   "metadata": {
    "_kg_hide-input": true,
    "execution": {
     "iopub.execute_input": "2023-06-01T17:14:14.835442Z",
     "iopub.status.busy": "2023-06-01T17:14:14.835026Z",
     "iopub.status.idle": "2023-06-01T17:14:15.180268Z",
     "shell.execute_reply": "2023-06-01T17:14:15.179280Z"
    },
    "papermill": {
     "duration": 0.370253,
     "end_time": "2023-06-01T17:14:15.182477",
     "exception": false,
     "start_time": "2023-06-01T17:14:14.812224",
     "status": "completed"
    },
    "tags": []
   },
   "outputs": [
    {
     "data": {
      "application/vnd.plotly.v1+json": {
       "config": {
        "plotlyServerURL": "https://plot.ly"
       },
       "data": [
        {
         "marker": {
          "color": "#b4d4a4"
         },
         "type": "bar",
         "x": [
          "Agriculture",
          "Food",
          "Retail",
          "Services",
          "Personal Use",
          "Housing",
          "Clothing",
          "Education",
          "Transportation",
          "Arts",
          "Health",
          "Construction",
          "Manufacturing",
          "Entertainment",
          "Wholesale"
         ],
         "xaxis": "x",
         "y": [
          180302,
          136657,
          124494,
          45140,
          36385,
          33731,
          32742,
          31013,
          15518,
          12060,
          9223,
          6268,
          6208,
          830,
          634
         ],
         "yaxis": "y"
        },
        {
         "marker": {
          "color": "#7fb466"
         },
         "type": "bar",
         "x": [
          "Farming",
          "General Store",
          "Personal Housing Expenses",
          "Food Production/Sales",
          "Agriculture",
          "Pigs",
          "Retail",
          "Clothing Sales",
          "Home Appliances",
          "Higher education costs",
          "Fruits & Vegetables",
          "Grocery Store",
          "Livestock",
          "Fish Selling",
          "Food",
          "Fishing",
          "Services",
          "Poultry",
          "Tailoring",
          "Animal Sales"
         ],
         "xaxis": "x2",
         "y": [
          72955,
          64729,
          32448,
          28106,
          27023,
          26624,
          24771,
          22339,
          20267,
          19742,
          16610,
          15102,
          13095,
          13060,
          10197,
          10066,
          9807,
          9783,
          9657,
          9237
         ],
         "yaxis": "y2"
        },
        {
         "marker": {
          "color": "#64a444"
         },
         "type": "bar",
         "x": [
          "Philippines",
          "Kenya",
          "El Salvador",
          "Cambodia",
          "Pakistan",
          "Peru",
          "Colombia",
          "Uganda",
          "Tajikistan",
          "Ecuador",
          "Paraguay",
          "Nicaragua",
          "India",
          "Vietnam",
          "Nigeria",
          "Bolivia",
          "Lebanon",
          "Armenia",
          "Palestine",
          "Samoa"
         ],
         "xaxis": "x3",
         "y": [
          160441,
          75825,
          39875,
          34836,
          26857,
          22233,
          21995,
          20601,
          19580,
          13521,
          11903,
          11781,
          11237,
          10843,
          10136,
          8806,
          8792,
          8631,
          8167,
          7396
         ],
         "yaxis": "y3"
        },
        {
         "marker": {
          "color": "#1a6333"
         },
         "type": "bar",
         "x": [
          "Kaduna",
          "Lahore",
          "Rawalpindi",
          "Cusco",
          "Dar es Salaam",
          "Kisii",
          "Palo, Leyte",
          "Narra, Palawan",
          "Quezon, Palawan",
          "Kitale",
          "Thanh Hoá",
          "Medellín",
          "San Miguel",
          "Tacloban City, Leyte",
          "Brookes Point, Palawan",
          "Kabankalan, Negros Occidental",
          "San Gabriel",
          "Eldoret",
          "Bais, Negros Oriental",
          "Cordova, Cebu"
         ],
         "xaxis": "x4",
         "y": [
          10000,
          7178,
          4496,
          3841,
          3719,
          3546,
          3320,
          3197,
          3120,
          3104,
          3086,
          3000,
          2850,
          2843,
          2793,
          2792,
          2773,
          2750,
          2665,
          2617
         ],
         "yaxis": "y4"
        }
       ],
       "layout": {
        "annotations": [
         {
          "font": {
           "size": 16
          },
          "showarrow": false,
          "text": "Loans per sector",
          "x": 0.225,
          "xanchor": "center",
          "xref": "paper",
          "y": 1.0,
          "yanchor": "bottom",
          "yref": "paper"
         },
         {
          "font": {
           "size": 16
          },
          "showarrow": false,
          "text": "Loans per activity (top 20)",
          "x": 0.775,
          "xanchor": "center",
          "xref": "paper",
          "y": 1.0,
          "yanchor": "bottom",
          "yref": "paper"
         },
         {
          "font": {
           "size": 16
          },
          "showarrow": false,
          "text": "Loans per country (top 20)",
          "x": 0.225,
          "xanchor": "center",
          "xref": "paper",
          "y": 0.375,
          "yanchor": "bottom",
          "yref": "paper"
         },
         {
          "font": {
           "size": 16
          },
          "showarrow": false,
          "text": "Loans per region (top 20)",
          "x": 0.775,
          "xanchor": "center",
          "xref": "paper",
          "y": 0.375,
          "yanchor": "bottom",
          "yref": "paper"
         }
        ],
        "height": 1100,
        "showlegend": false,
        "template": {
         "data": {
          "bar": [
           {
            "error_x": {
             "color": "#2a3f5f"
            },
            "error_y": {
             "color": "#2a3f5f"
            },
            "marker": {
             "line": {
              "color": "#E5ECF6",
              "width": 0.5
             },
             "pattern": {
              "fillmode": "overlay",
              "size": 10,
              "solidity": 0.2
             }
            },
            "type": "bar"
           }
          ],
          "barpolar": [
           {
            "marker": {
             "line": {
              "color": "#E5ECF6",
              "width": 0.5
             },
             "pattern": {
              "fillmode": "overlay",
              "size": 10,
              "solidity": 0.2
             }
            },
            "type": "barpolar"
           }
          ],
          "carpet": [
           {
            "aaxis": {
             "endlinecolor": "#2a3f5f",
             "gridcolor": "white",
             "linecolor": "white",
             "minorgridcolor": "white",
             "startlinecolor": "#2a3f5f"
            },
            "baxis": {
             "endlinecolor": "#2a3f5f",
             "gridcolor": "white",
             "linecolor": "white",
             "minorgridcolor": "white",
             "startlinecolor": "#2a3f5f"
            },
            "type": "carpet"
           }
          ],
          "choropleth": [
           {
            "colorbar": {
             "outlinewidth": 0,
             "ticks": ""
            },
            "type": "choropleth"
           }
          ],
          "contour": [
           {
            "colorbar": {
             "outlinewidth": 0,
             "ticks": ""
            },
            "colorscale": [
             [
              0.0,
              "#0d0887"
             ],
             [
              0.1111111111111111,
              "#46039f"
             ],
             [
              0.2222222222222222,
              "#7201a8"
             ],
             [
              0.3333333333333333,
              "#9c179e"
             ],
             [
              0.4444444444444444,
              "#bd3786"
             ],
             [
              0.5555555555555556,
              "#d8576b"
             ],
             [
              0.6666666666666666,
              "#ed7953"
             ],
             [
              0.7777777777777778,
              "#fb9f3a"
             ],
             [
              0.8888888888888888,
              "#fdca26"
             ],
             [
              1.0,
              "#f0f921"
             ]
            ],
            "type": "contour"
           }
          ],
          "contourcarpet": [
           {
            "colorbar": {
             "outlinewidth": 0,
             "ticks": ""
            },
            "type": "contourcarpet"
           }
          ],
          "heatmap": [
           {
            "colorbar": {
             "outlinewidth": 0,
             "ticks": ""
            },
            "colorscale": [
             [
              0.0,
              "#0d0887"
             ],
             [
              0.1111111111111111,
              "#46039f"
             ],
             [
              0.2222222222222222,
              "#7201a8"
             ],
             [
              0.3333333333333333,
              "#9c179e"
             ],
             [
              0.4444444444444444,
              "#bd3786"
             ],
             [
              0.5555555555555556,
              "#d8576b"
             ],
             [
              0.6666666666666666,
              "#ed7953"
             ],
             [
              0.7777777777777778,
              "#fb9f3a"
             ],
             [
              0.8888888888888888,
              "#fdca26"
             ],
             [
              1.0,
              "#f0f921"
             ]
            ],
            "type": "heatmap"
           }
          ],
          "heatmapgl": [
           {
            "colorbar": {
             "outlinewidth": 0,
             "ticks": ""
            },
            "colorscale": [
             [
              0.0,
              "#0d0887"
             ],
             [
              0.1111111111111111,
              "#46039f"
             ],
             [
              0.2222222222222222,
              "#7201a8"
             ],
             [
              0.3333333333333333,
              "#9c179e"
             ],
             [
              0.4444444444444444,
              "#bd3786"
             ],
             [
              0.5555555555555556,
              "#d8576b"
             ],
             [
              0.6666666666666666,
              "#ed7953"
             ],
             [
              0.7777777777777778,
              "#fb9f3a"
             ],
             [
              0.8888888888888888,
              "#fdca26"
             ],
             [
              1.0,
              "#f0f921"
             ]
            ],
            "type": "heatmapgl"
           }
          ],
          "histogram": [
           {
            "marker": {
             "pattern": {
              "fillmode": "overlay",
              "size": 10,
              "solidity": 0.2
             }
            },
            "type": "histogram"
           }
          ],
          "histogram2d": [
           {
            "colorbar": {
             "outlinewidth": 0,
             "ticks": ""
            },
            "colorscale": [
             [
              0.0,
              "#0d0887"
             ],
             [
              0.1111111111111111,
              "#46039f"
             ],
             [
              0.2222222222222222,
              "#7201a8"
             ],
             [
              0.3333333333333333,
              "#9c179e"
             ],
             [
              0.4444444444444444,
              "#bd3786"
             ],
             [
              0.5555555555555556,
              "#d8576b"
             ],
             [
              0.6666666666666666,
              "#ed7953"
             ],
             [
              0.7777777777777778,
              "#fb9f3a"
             ],
             [
              0.8888888888888888,
              "#fdca26"
             ],
             [
              1.0,
              "#f0f921"
             ]
            ],
            "type": "histogram2d"
           }
          ],
          "histogram2dcontour": [
           {
            "colorbar": {
             "outlinewidth": 0,
             "ticks": ""
            },
            "colorscale": [
             [
              0.0,
              "#0d0887"
             ],
             [
              0.1111111111111111,
              "#46039f"
             ],
             [
              0.2222222222222222,
              "#7201a8"
             ],
             [
              0.3333333333333333,
              "#9c179e"
             ],
             [
              0.4444444444444444,
              "#bd3786"
             ],
             [
              0.5555555555555556,
              "#d8576b"
             ],
             [
              0.6666666666666666,
              "#ed7953"
             ],
             [
              0.7777777777777778,
              "#fb9f3a"
             ],
             [
              0.8888888888888888,
              "#fdca26"
             ],
             [
              1.0,
              "#f0f921"
             ]
            ],
            "type": "histogram2dcontour"
           }
          ],
          "mesh3d": [
           {
            "colorbar": {
             "outlinewidth": 0,
             "ticks": ""
            },
            "type": "mesh3d"
           }
          ],
          "parcoords": [
           {
            "line": {
             "colorbar": {
              "outlinewidth": 0,
              "ticks": ""
             }
            },
            "type": "parcoords"
           }
          ],
          "pie": [
           {
            "automargin": true,
            "type": "pie"
           }
          ],
          "scatter": [
           {
            "fillpattern": {
             "fillmode": "overlay",
             "size": 10,
             "solidity": 0.2
            },
            "type": "scatter"
           }
          ],
          "scatter3d": [
           {
            "line": {
             "colorbar": {
              "outlinewidth": 0,
              "ticks": ""
             }
            },
            "marker": {
             "colorbar": {
              "outlinewidth": 0,
              "ticks": ""
             }
            },
            "type": "scatter3d"
           }
          ],
          "scattercarpet": [
           {
            "marker": {
             "colorbar": {
              "outlinewidth": 0,
              "ticks": ""
             }
            },
            "type": "scattercarpet"
           }
          ],
          "scattergeo": [
           {
            "marker": {
             "colorbar": {
              "outlinewidth": 0,
              "ticks": ""
             }
            },
            "type": "scattergeo"
           }
          ],
          "scattergl": [
           {
            "marker": {
             "colorbar": {
              "outlinewidth": 0,
              "ticks": ""
             }
            },
            "type": "scattergl"
           }
          ],
          "scattermapbox": [
           {
            "marker": {
             "colorbar": {
              "outlinewidth": 0,
              "ticks": ""
             }
            },
            "type": "scattermapbox"
           }
          ],
          "scatterpolar": [
           {
            "marker": {
             "colorbar": {
              "outlinewidth": 0,
              "ticks": ""
             }
            },
            "type": "scatterpolar"
           }
          ],
          "scatterpolargl": [
           {
            "marker": {
             "colorbar": {
              "outlinewidth": 0,
              "ticks": ""
             }
            },
            "type": "scatterpolargl"
           }
          ],
          "scatterternary": [
           {
            "marker": {
             "colorbar": {
              "outlinewidth": 0,
              "ticks": ""
             }
            },
            "type": "scatterternary"
           }
          ],
          "surface": [
           {
            "colorbar": {
             "outlinewidth": 0,
             "ticks": ""
            },
            "colorscale": [
             [
              0.0,
              "#0d0887"
             ],
             [
              0.1111111111111111,
              "#46039f"
             ],
             [
              0.2222222222222222,
              "#7201a8"
             ],
             [
              0.3333333333333333,
              "#9c179e"
             ],
             [
              0.4444444444444444,
              "#bd3786"
             ],
             [
              0.5555555555555556,
              "#d8576b"
             ],
             [
              0.6666666666666666,
              "#ed7953"
             ],
             [
              0.7777777777777778,
              "#fb9f3a"
             ],
             [
              0.8888888888888888,
              "#fdca26"
             ],
             [
              1.0,
              "#f0f921"
             ]
            ],
            "type": "surface"
           }
          ],
          "table": [
           {
            "cells": {
             "fill": {
              "color": "#EBF0F8"
             },
             "line": {
              "color": "white"
             }
            },
            "header": {
             "fill": {
              "color": "#C8D4E3"
             },
             "line": {
              "color": "white"
             }
            },
            "type": "table"
           }
          ]
         },
         "layout": {
          "annotationdefaults": {
           "arrowcolor": "#2a3f5f",
           "arrowhead": 0,
           "arrowwidth": 1
          },
          "autotypenumbers": "strict",
          "coloraxis": {
           "colorbar": {
            "outlinewidth": 0,
            "ticks": ""
           }
          },
          "colorscale": {
           "diverging": [
            [
             0,
             "#8e0152"
            ],
            [
             0.1,
             "#c51b7d"
            ],
            [
             0.2,
             "#de77ae"
            ],
            [
             0.3,
             "#f1b6da"
            ],
            [
             0.4,
             "#fde0ef"
            ],
            [
             0.5,
             "#f7f7f7"
            ],
            [
             0.6,
             "#e6f5d0"
            ],
            [
             0.7,
             "#b8e186"
            ],
            [
             0.8,
             "#7fbc41"
            ],
            [
             0.9,
             "#4d9221"
            ],
            [
             1,
             "#276419"
            ]
           ],
           "sequential": [
            [
             0.0,
             "#0d0887"
            ],
            [
             0.1111111111111111,
             "#46039f"
            ],
            [
             0.2222222222222222,
             "#7201a8"
            ],
            [
             0.3333333333333333,
             "#9c179e"
            ],
            [
             0.4444444444444444,
             "#bd3786"
            ],
            [
             0.5555555555555556,
             "#d8576b"
            ],
            [
             0.6666666666666666,
             "#ed7953"
            ],
            [
             0.7777777777777778,
             "#fb9f3a"
            ],
            [
             0.8888888888888888,
             "#fdca26"
            ],
            [
             1.0,
             "#f0f921"
            ]
           ],
           "sequentialminus": [
            [
             0.0,
             "#0d0887"
            ],
            [
             0.1111111111111111,
             "#46039f"
            ],
            [
             0.2222222222222222,
             "#7201a8"
            ],
            [
             0.3333333333333333,
             "#9c179e"
            ],
            [
             0.4444444444444444,
             "#bd3786"
            ],
            [
             0.5555555555555556,
             "#d8576b"
            ],
            [
             0.6666666666666666,
             "#ed7953"
            ],
            [
             0.7777777777777778,
             "#fb9f3a"
            ],
            [
             0.8888888888888888,
             "#fdca26"
            ],
            [
             1.0,
             "#f0f921"
            ]
           ]
          },
          "colorway": [
           "#636efa",
           "#EF553B",
           "#00cc96",
           "#ab63fa",
           "#FFA15A",
           "#19d3f3",
           "#FF6692",
           "#B6E880",
           "#FF97FF",
           "#FECB52"
          ],
          "font": {
           "color": "#2a3f5f"
          },
          "geo": {
           "bgcolor": "white",
           "lakecolor": "white",
           "landcolor": "#E5ECF6",
           "showlakes": true,
           "showland": true,
           "subunitcolor": "white"
          },
          "hoverlabel": {
           "align": "left"
          },
          "hovermode": "closest",
          "mapbox": {
           "style": "light"
          },
          "paper_bgcolor": "white",
          "plot_bgcolor": "#E5ECF6",
          "polar": {
           "angularaxis": {
            "gridcolor": "white",
            "linecolor": "white",
            "ticks": ""
           },
           "bgcolor": "#E5ECF6",
           "radialaxis": {
            "gridcolor": "white",
            "linecolor": "white",
            "ticks": ""
           }
          },
          "scene": {
           "xaxis": {
            "backgroundcolor": "#E5ECF6",
            "gridcolor": "white",
            "gridwidth": 2,
            "linecolor": "white",
            "showbackground": true,
            "ticks": "",
            "zerolinecolor": "white"
           },
           "yaxis": {
            "backgroundcolor": "#E5ECF6",
            "gridcolor": "white",
            "gridwidth": 2,
            "linecolor": "white",
            "showbackground": true,
            "ticks": "",
            "zerolinecolor": "white"
           },
           "zaxis": {
            "backgroundcolor": "#E5ECF6",
            "gridcolor": "white",
            "gridwidth": 2,
            "linecolor": "white",
            "showbackground": true,
            "ticks": "",
            "zerolinecolor": "white"
           }
          },
          "shapedefaults": {
           "line": {
            "color": "#2a3f5f"
           }
          },
          "ternary": {
           "aaxis": {
            "gridcolor": "white",
            "linecolor": "white",
            "ticks": ""
           },
           "baxis": {
            "gridcolor": "white",
            "linecolor": "white",
            "ticks": ""
           },
           "bgcolor": "#E5ECF6",
           "caxis": {
            "gridcolor": "white",
            "linecolor": "white",
            "ticks": ""
           }
          },
          "title": {
           "x": 0.05
          },
          "xaxis": {
           "automargin": true,
           "gridcolor": "white",
           "linecolor": "white",
           "ticks": "",
           "title": {
            "standoff": 15
           },
           "zerolinecolor": "white",
           "zerolinewidth": 2
          },
          "yaxis": {
           "automargin": true,
           "gridcolor": "white",
           "linecolor": "white",
           "ticks": "",
           "title": {
            "standoff": 15
           },
           "zerolinecolor": "white",
           "zerolinewidth": 2
          }
         }
        },
        "width": 900,
        "xaxis": {
         "anchor": "y",
         "domain": [
          0.0,
          0.45
         ]
        },
        "xaxis2": {
         "anchor": "y2",
         "domain": [
          0.55,
          1.0
         ]
        },
        "xaxis3": {
         "anchor": "y3",
         "domain": [
          0.0,
          0.45
         ]
        },
        "xaxis4": {
         "anchor": "y4",
         "domain": [
          0.55,
          1.0
         ]
        },
        "yaxis": {
         "anchor": "x",
         "domain": [
          0.625,
          1.0
         ]
        },
        "yaxis2": {
         "anchor": "x2",
         "domain": [
          0.625,
          1.0
         ]
        },
        "yaxis3": {
         "anchor": "x3",
         "domain": [
          0.0,
          0.375
         ]
        },
        "yaxis4": {
         "anchor": "x4",
         "domain": [
          0.0,
          0.375
         ]
        }
       }
      },
      "text/html": [
       "<div>                            <div id=\"dd567e49-a3f6-4300-8021-994eed24f241\" class=\"plotly-graph-div\" style=\"height:1100px; width:900px;\"></div>            <script type=\"text/javascript\">                require([\"plotly\"], function(Plotly) {                    window.PLOTLYENV=window.PLOTLYENV || {};                                    if (document.getElementById(\"dd567e49-a3f6-4300-8021-994eed24f241\")) {                    Plotly.newPlot(                        \"dd567e49-a3f6-4300-8021-994eed24f241\",                        [{\"marker\":{\"color\":\"#b4d4a4\"},\"x\":[\"Agriculture\",\"Food\",\"Retail\",\"Services\",\"Personal Use\",\"Housing\",\"Clothing\",\"Education\",\"Transportation\",\"Arts\",\"Health\",\"Construction\",\"Manufacturing\",\"Entertainment\",\"Wholesale\"],\"y\":[180302,136657,124494,45140,36385,33731,32742,31013,15518,12060,9223,6268,6208,830,634],\"type\":\"bar\",\"xaxis\":\"x\",\"yaxis\":\"y\"},{\"marker\":{\"color\":\"#7fb466\"},\"x\":[\"Farming\",\"General Store\",\"Personal Housing Expenses\",\"Food Production/Sales\",\"Agriculture\",\"Pigs\",\"Retail\",\"Clothing Sales\",\"Home Appliances\",\"Higher education costs\",\"Fruits & Vegetables\",\"Grocery Store\",\"Livestock\",\"Fish Selling\",\"Food\",\"Fishing\",\"Services\",\"Poultry\",\"Tailoring\",\"Animal Sales\"],\"y\":[72955,64729,32448,28106,27023,26624,24771,22339,20267,19742,16610,15102,13095,13060,10197,10066,9807,9783,9657,9237],\"type\":\"bar\",\"xaxis\":\"x2\",\"yaxis\":\"y2\"},{\"marker\":{\"color\":\"#64a444\"},\"x\":[\"Philippines\",\"Kenya\",\"El Salvador\",\"Cambodia\",\"Pakistan\",\"Peru\",\"Colombia\",\"Uganda\",\"Tajikistan\",\"Ecuador\",\"Paraguay\",\"Nicaragua\",\"India\",\"Vietnam\",\"Nigeria\",\"Bolivia\",\"Lebanon\",\"Armenia\",\"Palestine\",\"Samoa\"],\"y\":[160441,75825,39875,34836,26857,22233,21995,20601,19580,13521,11903,11781,11237,10843,10136,8806,8792,8631,8167,7396],\"type\":\"bar\",\"xaxis\":\"x3\",\"yaxis\":\"y3\"},{\"marker\":{\"color\":\"#1a6333\"},\"x\":[\"Kaduna\",\"Lahore\",\"Rawalpindi\",\"Cusco\",\"Dar es Salaam\",\"Kisii\",\"Palo, Leyte\",\"Narra, Palawan\",\"Quezon, Palawan\",\"Kitale\",\"Thanh Hoá\",\"Medellín\",\"San Miguel\",\"Tacloban City, Leyte\",\"Brookes Point, Palawan\",\"Kabankalan, Negros Occidental\",\"San Gabriel\",\"Eldoret\",\"Bais, Negros Oriental\",\"Cordova, Cebu\"],\"y\":[10000,7178,4496,3841,3719,3546,3320,3197,3120,3104,3086,3000,2850,2843,2793,2792,2773,2750,2665,2617],\"type\":\"bar\",\"xaxis\":\"x4\",\"yaxis\":\"y4\"}],                        {\"template\":{\"data\":{\"histogram2dcontour\":[{\"type\":\"histogram2dcontour\",\"colorbar\":{\"outlinewidth\":0,\"ticks\":\"\"},\"colorscale\":[[0.0,\"#0d0887\"],[0.1111111111111111,\"#46039f\"],[0.2222222222222222,\"#7201a8\"],[0.3333333333333333,\"#9c179e\"],[0.4444444444444444,\"#bd3786\"],[0.5555555555555556,\"#d8576b\"],[0.6666666666666666,\"#ed7953\"],[0.7777777777777778,\"#fb9f3a\"],[0.8888888888888888,\"#fdca26\"],[1.0,\"#f0f921\"]]}],\"choropleth\":[{\"type\":\"choropleth\",\"colorbar\":{\"outlinewidth\":0,\"ticks\":\"\"}}],\"histogram2d\":[{\"type\":\"histogram2d\",\"colorbar\":{\"outlinewidth\":0,\"ticks\":\"\"},\"colorscale\":[[0.0,\"#0d0887\"],[0.1111111111111111,\"#46039f\"],[0.2222222222222222,\"#7201a8\"],[0.3333333333333333,\"#9c179e\"],[0.4444444444444444,\"#bd3786\"],[0.5555555555555556,\"#d8576b\"],[0.6666666666666666,\"#ed7953\"],[0.7777777777777778,\"#fb9f3a\"],[0.8888888888888888,\"#fdca26\"],[1.0,\"#f0f921\"]]}],\"heatmap\":[{\"type\":\"heatmap\",\"colorbar\":{\"outlinewidth\":0,\"ticks\":\"\"},\"colorscale\":[[0.0,\"#0d0887\"],[0.1111111111111111,\"#46039f\"],[0.2222222222222222,\"#7201a8\"],[0.3333333333333333,\"#9c179e\"],[0.4444444444444444,\"#bd3786\"],[0.5555555555555556,\"#d8576b\"],[0.6666666666666666,\"#ed7953\"],[0.7777777777777778,\"#fb9f3a\"],[0.8888888888888888,\"#fdca26\"],[1.0,\"#f0f921\"]]}],\"heatmapgl\":[{\"type\":\"heatmapgl\",\"colorbar\":{\"outlinewidth\":0,\"ticks\":\"\"},\"colorscale\":[[0.0,\"#0d0887\"],[0.1111111111111111,\"#46039f\"],[0.2222222222222222,\"#7201a8\"],[0.3333333333333333,\"#9c179e\"],[0.4444444444444444,\"#bd3786\"],[0.5555555555555556,\"#d8576b\"],[0.6666666666666666,\"#ed7953\"],[0.7777777777777778,\"#fb9f3a\"],[0.8888888888888888,\"#fdca26\"],[1.0,\"#f0f921\"]]}],\"contourcarpet\":[{\"type\":\"contourcarpet\",\"colorbar\":{\"outlinewidth\":0,\"ticks\":\"\"}}],\"contour\":[{\"type\":\"contour\",\"colorbar\":{\"outlinewidth\":0,\"ticks\":\"\"},\"colorscale\":[[0.0,\"#0d0887\"],[0.1111111111111111,\"#46039f\"],[0.2222222222222222,\"#7201a8\"],[0.3333333333333333,\"#9c179e\"],[0.4444444444444444,\"#bd3786\"],[0.5555555555555556,\"#d8576b\"],[0.6666666666666666,\"#ed7953\"],[0.7777777777777778,\"#fb9f3a\"],[0.8888888888888888,\"#fdca26\"],[1.0,\"#f0f921\"]]}],\"surface\":[{\"type\":\"surface\",\"colorbar\":{\"outlinewidth\":0,\"ticks\":\"\"},\"colorscale\":[[0.0,\"#0d0887\"],[0.1111111111111111,\"#46039f\"],[0.2222222222222222,\"#7201a8\"],[0.3333333333333333,\"#9c179e\"],[0.4444444444444444,\"#bd3786\"],[0.5555555555555556,\"#d8576b\"],[0.6666666666666666,\"#ed7953\"],[0.7777777777777778,\"#fb9f3a\"],[0.8888888888888888,\"#fdca26\"],[1.0,\"#f0f921\"]]}],\"mesh3d\":[{\"type\":\"mesh3d\",\"colorbar\":{\"outlinewidth\":0,\"ticks\":\"\"}}],\"scatter\":[{\"fillpattern\":{\"fillmode\":\"overlay\",\"size\":10,\"solidity\":0.2},\"type\":\"scatter\"}],\"parcoords\":[{\"type\":\"parcoords\",\"line\":{\"colorbar\":{\"outlinewidth\":0,\"ticks\":\"\"}}}],\"scatterpolargl\":[{\"type\":\"scatterpolargl\",\"marker\":{\"colorbar\":{\"outlinewidth\":0,\"ticks\":\"\"}}}],\"bar\":[{\"error_x\":{\"color\":\"#2a3f5f\"},\"error_y\":{\"color\":\"#2a3f5f\"},\"marker\":{\"line\":{\"color\":\"#E5ECF6\",\"width\":0.5},\"pattern\":{\"fillmode\":\"overlay\",\"size\":10,\"solidity\":0.2}},\"type\":\"bar\"}],\"scattergeo\":[{\"type\":\"scattergeo\",\"marker\":{\"colorbar\":{\"outlinewidth\":0,\"ticks\":\"\"}}}],\"scatterpolar\":[{\"type\":\"scatterpolar\",\"marker\":{\"colorbar\":{\"outlinewidth\":0,\"ticks\":\"\"}}}],\"histogram\":[{\"marker\":{\"pattern\":{\"fillmode\":\"overlay\",\"size\":10,\"solidity\":0.2}},\"type\":\"histogram\"}],\"scattergl\":[{\"type\":\"scattergl\",\"marker\":{\"colorbar\":{\"outlinewidth\":0,\"ticks\":\"\"}}}],\"scatter3d\":[{\"type\":\"scatter3d\",\"line\":{\"colorbar\":{\"outlinewidth\":0,\"ticks\":\"\"}},\"marker\":{\"colorbar\":{\"outlinewidth\":0,\"ticks\":\"\"}}}],\"scattermapbox\":[{\"type\":\"scattermapbox\",\"marker\":{\"colorbar\":{\"outlinewidth\":0,\"ticks\":\"\"}}}],\"scatterternary\":[{\"type\":\"scatterternary\",\"marker\":{\"colorbar\":{\"outlinewidth\":0,\"ticks\":\"\"}}}],\"scattercarpet\":[{\"type\":\"scattercarpet\",\"marker\":{\"colorbar\":{\"outlinewidth\":0,\"ticks\":\"\"}}}],\"carpet\":[{\"aaxis\":{\"endlinecolor\":\"#2a3f5f\",\"gridcolor\":\"white\",\"linecolor\":\"white\",\"minorgridcolor\":\"white\",\"startlinecolor\":\"#2a3f5f\"},\"baxis\":{\"endlinecolor\":\"#2a3f5f\",\"gridcolor\":\"white\",\"linecolor\":\"white\",\"minorgridcolor\":\"white\",\"startlinecolor\":\"#2a3f5f\"},\"type\":\"carpet\"}],\"table\":[{\"cells\":{\"fill\":{\"color\":\"#EBF0F8\"},\"line\":{\"color\":\"white\"}},\"header\":{\"fill\":{\"color\":\"#C8D4E3\"},\"line\":{\"color\":\"white\"}},\"type\":\"table\"}],\"barpolar\":[{\"marker\":{\"line\":{\"color\":\"#E5ECF6\",\"width\":0.5},\"pattern\":{\"fillmode\":\"overlay\",\"size\":10,\"solidity\":0.2}},\"type\":\"barpolar\"}],\"pie\":[{\"automargin\":true,\"type\":\"pie\"}]},\"layout\":{\"autotypenumbers\":\"strict\",\"colorway\":[\"#636efa\",\"#EF553B\",\"#00cc96\",\"#ab63fa\",\"#FFA15A\",\"#19d3f3\",\"#FF6692\",\"#B6E880\",\"#FF97FF\",\"#FECB52\"],\"font\":{\"color\":\"#2a3f5f\"},\"hovermode\":\"closest\",\"hoverlabel\":{\"align\":\"left\"},\"paper_bgcolor\":\"white\",\"plot_bgcolor\":\"#E5ECF6\",\"polar\":{\"bgcolor\":\"#E5ECF6\",\"angularaxis\":{\"gridcolor\":\"white\",\"linecolor\":\"white\",\"ticks\":\"\"},\"radialaxis\":{\"gridcolor\":\"white\",\"linecolor\":\"white\",\"ticks\":\"\"}},\"ternary\":{\"bgcolor\":\"#E5ECF6\",\"aaxis\":{\"gridcolor\":\"white\",\"linecolor\":\"white\",\"ticks\":\"\"},\"baxis\":{\"gridcolor\":\"white\",\"linecolor\":\"white\",\"ticks\":\"\"},\"caxis\":{\"gridcolor\":\"white\",\"linecolor\":\"white\",\"ticks\":\"\"}},\"coloraxis\":{\"colorbar\":{\"outlinewidth\":0,\"ticks\":\"\"}},\"colorscale\":{\"sequential\":[[0.0,\"#0d0887\"],[0.1111111111111111,\"#46039f\"],[0.2222222222222222,\"#7201a8\"],[0.3333333333333333,\"#9c179e\"],[0.4444444444444444,\"#bd3786\"],[0.5555555555555556,\"#d8576b\"],[0.6666666666666666,\"#ed7953\"],[0.7777777777777778,\"#fb9f3a\"],[0.8888888888888888,\"#fdca26\"],[1.0,\"#f0f921\"]],\"sequentialminus\":[[0.0,\"#0d0887\"],[0.1111111111111111,\"#46039f\"],[0.2222222222222222,\"#7201a8\"],[0.3333333333333333,\"#9c179e\"],[0.4444444444444444,\"#bd3786\"],[0.5555555555555556,\"#d8576b\"],[0.6666666666666666,\"#ed7953\"],[0.7777777777777778,\"#fb9f3a\"],[0.8888888888888888,\"#fdca26\"],[1.0,\"#f0f921\"]],\"diverging\":[[0,\"#8e0152\"],[0.1,\"#c51b7d\"],[0.2,\"#de77ae\"],[0.3,\"#f1b6da\"],[0.4,\"#fde0ef\"],[0.5,\"#f7f7f7\"],[0.6,\"#e6f5d0\"],[0.7,\"#b8e186\"],[0.8,\"#7fbc41\"],[0.9,\"#4d9221\"],[1,\"#276419\"]]},\"xaxis\":{\"gridcolor\":\"white\",\"linecolor\":\"white\",\"ticks\":\"\",\"title\":{\"standoff\":15},\"zerolinecolor\":\"white\",\"automargin\":true,\"zerolinewidth\":2},\"yaxis\":{\"gridcolor\":\"white\",\"linecolor\":\"white\",\"ticks\":\"\",\"title\":{\"standoff\":15},\"zerolinecolor\":\"white\",\"automargin\":true,\"zerolinewidth\":2},\"scene\":{\"xaxis\":{\"backgroundcolor\":\"#E5ECF6\",\"gridcolor\":\"white\",\"linecolor\":\"white\",\"showbackground\":true,\"ticks\":\"\",\"zerolinecolor\":\"white\",\"gridwidth\":2},\"yaxis\":{\"backgroundcolor\":\"#E5ECF6\",\"gridcolor\":\"white\",\"linecolor\":\"white\",\"showbackground\":true,\"ticks\":\"\",\"zerolinecolor\":\"white\",\"gridwidth\":2},\"zaxis\":{\"backgroundcolor\":\"#E5ECF6\",\"gridcolor\":\"white\",\"linecolor\":\"white\",\"showbackground\":true,\"ticks\":\"\",\"zerolinecolor\":\"white\",\"gridwidth\":2}},\"shapedefaults\":{\"line\":{\"color\":\"#2a3f5f\"}},\"annotationdefaults\":{\"arrowcolor\":\"#2a3f5f\",\"arrowhead\":0,\"arrowwidth\":1},\"geo\":{\"bgcolor\":\"white\",\"landcolor\":\"#E5ECF6\",\"subunitcolor\":\"white\",\"showland\":true,\"showlakes\":true,\"lakecolor\":\"white\"},\"title\":{\"x\":0.05},\"mapbox\":{\"style\":\"light\"}}},\"xaxis\":{\"anchor\":\"y\",\"domain\":[0.0,0.45]},\"yaxis\":{\"anchor\":\"x\",\"domain\":[0.625,1.0]},\"xaxis2\":{\"anchor\":\"y2\",\"domain\":[0.55,1.0]},\"yaxis2\":{\"anchor\":\"x2\",\"domain\":[0.625,1.0]},\"xaxis3\":{\"anchor\":\"y3\",\"domain\":[0.0,0.45]},\"yaxis3\":{\"anchor\":\"x3\",\"domain\":[0.0,0.375]},\"xaxis4\":{\"anchor\":\"y4\",\"domain\":[0.55,1.0]},\"yaxis4\":{\"anchor\":\"x4\",\"domain\":[0.0,0.375]},\"annotations\":[{\"font\":{\"size\":16},\"showarrow\":false,\"text\":\"Loans per sector\",\"x\":0.225,\"xanchor\":\"center\",\"xref\":\"paper\",\"y\":1.0,\"yanchor\":\"bottom\",\"yref\":\"paper\"},{\"font\":{\"size\":16},\"showarrow\":false,\"text\":\"Loans per activity (top 20)\",\"x\":0.775,\"xanchor\":\"center\",\"xref\":\"paper\",\"y\":1.0,\"yanchor\":\"bottom\",\"yref\":\"paper\"},{\"font\":{\"size\":16},\"showarrow\":false,\"text\":\"Loans per country (top 20)\",\"x\":0.225,\"xanchor\":\"center\",\"xref\":\"paper\",\"y\":0.375,\"yanchor\":\"bottom\",\"yref\":\"paper\"},{\"font\":{\"size\":16},\"showarrow\":false,\"text\":\"Loans per region (top 20)\",\"x\":0.775,\"xanchor\":\"center\",\"xref\":\"paper\",\"y\":0.375,\"yanchor\":\"bottom\",\"yref\":\"paper\"}],\"height\":1100,\"width\":900,\"showlegend\":false},                        {\"responsive\": true}                    ).then(function(){\n",
       "                            \n",
       "var gd = document.getElementById('dd567e49-a3f6-4300-8021-994eed24f241');\n",
       "var x = new MutationObserver(function (mutations, observer) {{\n",
       "        var display = window.getComputedStyle(gd).display;\n",
       "        if (!display || display === 'none') {{\n",
       "            console.log([gd, 'removed!']);\n",
       "            Plotly.purge(gd);\n",
       "            observer.disconnect();\n",
       "        }}\n",
       "}});\n",
       "\n",
       "// Listen for the removal of the full notebook cells\n",
       "var notebookContainer = gd.closest('#notebook-container');\n",
       "if (notebookContainer) {{\n",
       "    x.observe(notebookContainer, {childList: true});\n",
       "}}\n",
       "\n",
       "// Listen for the clearing of the current output cell\n",
       "var outputEl = gd.closest('.output');\n",
       "if (outputEl) {{\n",
       "    x.observe(outputEl, {childList: true});\n",
       "}}\n",
       "\n",
       "                        })                };                });            </script>        </div>"
      ]
     },
     "metadata": {},
     "output_type": "display_data"
    }
   ],
   "source": [
    "import plotly.graph_objects as go\n",
    "from plotly.subplots import make_subplots\n",
    "\n",
    "fig = make_subplots(rows=2, cols=2, start_cell=\"top-left\",\n",
    "                   subplot_titles=(\"Loans per sector\", \"Loans per activity (top 20)\", \n",
    "                                   \"Loans per country (top 20)\", \"Loans per region (top 20)\"))\n",
    "\n",
    "fig.add_trace(sectors, row=1, col=1)\n",
    "fig.add_trace(activities, row=1, col=2)\n",
    "fig.add_trace(countries, row=2, col=1)\n",
    "fig.add_trace(regions, row=2, col=2)\n",
    "layout = go.Layout(height=1100, width=900)\n",
    "fig.update_layout(layout)\n",
    "fig.update_layout(showlegend=False)\n",
    "fig.show()"
   ]
  },
  {
   "cell_type": "markdown",
   "id": "5764578e",
   "metadata": {
    "papermill": {
     "duration": 0.02715,
     "end_time": "2023-06-01T17:14:15.235518",
     "exception": false,
     "start_time": "2023-06-01T17:14:15.208368",
     "status": "completed"
    },
    "tags": []
   },
   "source": [
    "First three sectors in termns of number of loans are Agriculture, Food, Retail, all with over 100,000 loans.  \n",
    "\n",
    "The first two activities are Farming and General Store, both with over 60,000 loans. Philippines is dominating the countries top, with over 150,000 loans, followed, at large distance, by Kenya and El Salvador. The top 3 identified regions are Kaduna, Lahore and Rawalpindi.  \n",
    "\n",
    "Most of the loans are registered under unknown region (we can suppose that most of them will go to Philippines, but we will have to verify this).  "
   ]
  },
  {
   "cell_type": "markdown",
   "id": "1ee6a03e",
   "metadata": {
    "papermill": {
     "duration": 0.025383,
     "end_time": "2023-06-01T17:14:15.286154",
     "exception": false,
     "start_time": "2023-06-01T17:14:15.260771",
     "status": "completed"
    },
    "tags": []
   },
   "source": [
    "---\n",
    "<div style=\"float: right;\">\n",
    "        <a href=\"#0\" class=\"button btn-success btn-sm\" role=\"button\" aria-pressed=\"true\" style=\"color:white\" data-toggle=\"popover\" title=\"Go to Top\">Go to Top</a>\n",
    "</div>"
   ]
  },
  {
   "cell_type": "markdown",
   "id": "ff99a2ea",
   "metadata": {
    "papermill": {
     "duration": 0.025865,
     "end_time": "2023-06-01T17:14:15.337510",
     "exception": false,
     "start_time": "2023-06-01T17:14:15.311645",
     "status": "completed"
    },
    "tags": []
   },
   "source": [
    "## <font color=\"#64a444\">Loans per country and region</font>  \n",
    "\n",
    "Let’s represent now the number of loans aggregated per country and region, as a treemap. We will filter only the first 100 entries/country. To show more than 100 entries/country is not necessary, since it will became very difficult to visualize (and is also using a lot of resources). "
   ]
  },
  {
   "cell_type": "markdown",
   "id": "92277ddc",
   "metadata": {
    "execution": {
     "iopub.execute_input": "2023-05-20T19:48:59.297496Z",
     "iopub.status.busy": "2023-05-20T19:48:59.297127Z",
     "iopub.status.idle": "2023-05-20T19:49:02.691905Z",
     "shell.execute_reply": "2023-05-20T19:49:02.690913Z"
    },
    "papermill": {
     "duration": 0.025435,
     "end_time": "2023-06-01T17:14:15.390010",
     "exception": false,
     "start_time": "2023-06-01T17:14:15.364575",
     "status": "completed"
    },
    "tags": []
   },
   "source": [
    "df = kiva_loans_df.groupby([\"country\", \"region\"])[\"loan_amount\"].agg([\"count\"]).reset_index()\n",
    "df = df.sort_values(by=[\"country\", \"count\"], ascending=False)\n",
    "df = df.groupby([\"country\"]).head(100)\n",
    "df.columns = [\"Country\", \"Region\", \"Number of loans\"]\n",
    "fig = px.treemap(df, path=['Country', 'Region'], values='Number of loans',\n",
    "                  color='Number of loans', hover_data=['Country'],\n",
    "                  color_continuous_scale=\"Greens\",\n",
    "                  color_continuous_midpoint=np.average(df['Number of loans'], \n",
    "                                                       weights=df['Number of loans']))\n",
    "fig.update_layout(margin = dict(t=50, l=25, r=25, b=25), height=1000,\n",
    "                 title=\"Loans per country and region (top 100 regions per country)\")\n",
    "fig.show()"
   ]
  },
  {
   "cell_type": "markdown",
   "id": "b705c137",
   "metadata": {
    "papermill": {
     "duration": 0.026266,
     "end_time": "2023-06-01T17:14:15.442833",
     "exception": false,
     "start_time": "2023-06-01T17:14:15.416567",
     "status": "completed"
    },
    "tags": []
   },
   "source": [
    "Let's also look to the loans per country. For this we will use cloropleth maps in plotly express."
   ]
  },
  {
   "cell_type": "code",
   "execution_count": 31,
   "id": "5261738a",
   "metadata": {
    "execution": {
     "iopub.execute_input": "2023-06-01T17:14:15.498195Z",
     "iopub.status.busy": "2023-06-01T17:14:15.497517Z",
     "iopub.status.idle": "2023-06-01T17:14:15.518410Z",
     "shell.execute_reply": "2023-06-01T17:14:15.516847Z"
    },
    "papermill": {
     "duration": 0.051888,
     "end_time": "2023-06-01T17:14:15.520561",
     "exception": false,
     "start_time": "2023-06-01T17:14:15.468673",
     "status": "completed"
    },
    "tags": []
   },
   "outputs": [
    {
     "data": {
      "text/html": [
       "<div>\n",
       "<style scoped>\n",
       "    .dataframe tbody tr th:only-of-type {\n",
       "        vertical-align: middle;\n",
       "    }\n",
       "\n",
       "    .dataframe tbody tr th {\n",
       "        vertical-align: top;\n",
       "    }\n",
       "\n",
       "    .dataframe thead th {\n",
       "        text-align: right;\n",
       "    }\n",
       "</style>\n",
       "<table border=\"1\" class=\"dataframe\">\n",
       "  <thead>\n",
       "    <tr style=\"text-align: right;\">\n",
       "      <th></th>\n",
       "      <th>id</th>\n",
       "      <th>funded_amount</th>\n",
       "      <th>loan_amount</th>\n",
       "      <th>activity</th>\n",
       "      <th>sector</th>\n",
       "      <th>use</th>\n",
       "      <th>country_code</th>\n",
       "      <th>country</th>\n",
       "      <th>region</th>\n",
       "      <th>currency</th>\n",
       "      <th>partner_id</th>\n",
       "      <th>posted_time</th>\n",
       "      <th>disbursed_time</th>\n",
       "      <th>funded_time</th>\n",
       "      <th>term_in_months</th>\n",
       "      <th>lender_count</th>\n",
       "      <th>tags</th>\n",
       "      <th>borrower_genders</th>\n",
       "      <th>repayment_interval</th>\n",
       "      <th>date</th>\n",
       "    </tr>\n",
       "  </thead>\n",
       "  <tbody>\n",
       "    <tr>\n",
       "      <th>0</th>\n",
       "      <td>653051</td>\n",
       "      <td>300.0</td>\n",
       "      <td>300.0</td>\n",
       "      <td>Fruits &amp; Vegetables</td>\n",
       "      <td>Food</td>\n",
       "      <td>To buy seasonal, fresh fruits to sell.</td>\n",
       "      <td>PK</td>\n",
       "      <td>Pakistan</td>\n",
       "      <td>Lahore</td>\n",
       "      <td>PKR</td>\n",
       "      <td>247.0</td>\n",
       "      <td>2014-01-01 06:12:39+00:00</td>\n",
       "      <td>2013-12-17 08:00:00+00:00</td>\n",
       "      <td>2014-01-02 10:06:32+00:00</td>\n",
       "      <td>12.0</td>\n",
       "      <td>12</td>\n",
       "      <td>NaN</td>\n",
       "      <td>female</td>\n",
       "      <td>irregular</td>\n",
       "      <td>2014-01-01</td>\n",
       "    </tr>\n",
       "    <tr>\n",
       "      <th>1</th>\n",
       "      <td>653053</td>\n",
       "      <td>575.0</td>\n",
       "      <td>575.0</td>\n",
       "      <td>Rickshaw</td>\n",
       "      <td>Transportation</td>\n",
       "      <td>to repair and maintain the auto rickshaw used ...</td>\n",
       "      <td>PK</td>\n",
       "      <td>Pakistan</td>\n",
       "      <td>Lahore</td>\n",
       "      <td>PKR</td>\n",
       "      <td>247.0</td>\n",
       "      <td>2014-01-01 06:51:08+00:00</td>\n",
       "      <td>2013-12-17 08:00:00+00:00</td>\n",
       "      <td>2014-01-02 09:17:23+00:00</td>\n",
       "      <td>11.0</td>\n",
       "      <td>14</td>\n",
       "      <td>NaN</td>\n",
       "      <td>female, female</td>\n",
       "      <td>irregular</td>\n",
       "      <td>2014-01-01</td>\n",
       "    </tr>\n",
       "    <tr>\n",
       "      <th>2</th>\n",
       "      <td>653068</td>\n",
       "      <td>150.0</td>\n",
       "      <td>150.0</td>\n",
       "      <td>Transportation</td>\n",
       "      <td>Transportation</td>\n",
       "      <td>To repair their old cycle-van and buy another ...</td>\n",
       "      <td>IN</td>\n",
       "      <td>India</td>\n",
       "      <td>Maynaguri</td>\n",
       "      <td>INR</td>\n",
       "      <td>334.0</td>\n",
       "      <td>2014-01-01 09:58:07+00:00</td>\n",
       "      <td>2013-12-17 08:00:00+00:00</td>\n",
       "      <td>2014-01-01 16:01:36+00:00</td>\n",
       "      <td>43.0</td>\n",
       "      <td>6</td>\n",
       "      <td>user_favorite, user_favorite</td>\n",
       "      <td>female</td>\n",
       "      <td>bullet</td>\n",
       "      <td>2014-01-01</td>\n",
       "    </tr>\n",
       "    <tr>\n",
       "      <th>3</th>\n",
       "      <td>653063</td>\n",
       "      <td>200.0</td>\n",
       "      <td>200.0</td>\n",
       "      <td>Embroidery</td>\n",
       "      <td>Arts</td>\n",
       "      <td>to purchase an embroidery machine and a variet...</td>\n",
       "      <td>PK</td>\n",
       "      <td>Pakistan</td>\n",
       "      <td>Lahore</td>\n",
       "      <td>PKR</td>\n",
       "      <td>247.0</td>\n",
       "      <td>2014-01-01 08:03:11+00:00</td>\n",
       "      <td>2013-12-24 08:00:00+00:00</td>\n",
       "      <td>2014-01-01 13:00:00+00:00</td>\n",
       "      <td>11.0</td>\n",
       "      <td>8</td>\n",
       "      <td>NaN</td>\n",
       "      <td>female</td>\n",
       "      <td>irregular</td>\n",
       "      <td>2014-01-01</td>\n",
       "    </tr>\n",
       "    <tr>\n",
       "      <th>4</th>\n",
       "      <td>653084</td>\n",
       "      <td>400.0</td>\n",
       "      <td>400.0</td>\n",
       "      <td>Milk Sales</td>\n",
       "      <td>Food</td>\n",
       "      <td>to purchase one buffalo.</td>\n",
       "      <td>PK</td>\n",
       "      <td>Pakistan</td>\n",
       "      <td>Abdul Hakeem</td>\n",
       "      <td>PKR</td>\n",
       "      <td>245.0</td>\n",
       "      <td>2014-01-01 11:53:19+00:00</td>\n",
       "      <td>2013-12-17 08:00:00+00:00</td>\n",
       "      <td>2014-01-01 19:18:51+00:00</td>\n",
       "      <td>14.0</td>\n",
       "      <td>16</td>\n",
       "      <td>NaN</td>\n",
       "      <td>female</td>\n",
       "      <td>monthly</td>\n",
       "      <td>2014-01-01</td>\n",
       "    </tr>\n",
       "  </tbody>\n",
       "</table>\n",
       "</div>"
      ],
      "text/plain": [
       "       id  funded_amount  loan_amount             activity          sector  \\\n",
       "0  653051          300.0        300.0  Fruits & Vegetables            Food   \n",
       "1  653053          575.0        575.0             Rickshaw  Transportation   \n",
       "2  653068          150.0        150.0       Transportation  Transportation   \n",
       "3  653063          200.0        200.0           Embroidery            Arts   \n",
       "4  653084          400.0        400.0           Milk Sales            Food   \n",
       "\n",
       "                                                 use country_code   country  \\\n",
       "0            To buy seasonal, fresh fruits to sell.            PK  Pakistan   \n",
       "1  to repair and maintain the auto rickshaw used ...           PK  Pakistan   \n",
       "2  To repair their old cycle-van and buy another ...           IN     India   \n",
       "3  to purchase an embroidery machine and a variet...           PK  Pakistan   \n",
       "4                           to purchase one buffalo.           PK  Pakistan   \n",
       "\n",
       "         region currency  partner_id                posted_time  \\\n",
       "0        Lahore      PKR       247.0  2014-01-01 06:12:39+00:00   \n",
       "1        Lahore      PKR       247.0  2014-01-01 06:51:08+00:00   \n",
       "2     Maynaguri      INR       334.0  2014-01-01 09:58:07+00:00   \n",
       "3        Lahore      PKR       247.0  2014-01-01 08:03:11+00:00   \n",
       "4  Abdul Hakeem      PKR       245.0  2014-01-01 11:53:19+00:00   \n",
       "\n",
       "              disbursed_time                funded_time  term_in_months  \\\n",
       "0  2013-12-17 08:00:00+00:00  2014-01-02 10:06:32+00:00            12.0   \n",
       "1  2013-12-17 08:00:00+00:00  2014-01-02 09:17:23+00:00            11.0   \n",
       "2  2013-12-17 08:00:00+00:00  2014-01-01 16:01:36+00:00            43.0   \n",
       "3  2013-12-24 08:00:00+00:00  2014-01-01 13:00:00+00:00            11.0   \n",
       "4  2013-12-17 08:00:00+00:00  2014-01-01 19:18:51+00:00            14.0   \n",
       "\n",
       "   lender_count                          tags borrower_genders  \\\n",
       "0            12                           NaN           female   \n",
       "1            14                           NaN   female, female   \n",
       "2             6  user_favorite, user_favorite           female   \n",
       "3             8                           NaN           female   \n",
       "4            16                           NaN           female   \n",
       "\n",
       "  repayment_interval        date  \n",
       "0          irregular  2014-01-01  \n",
       "1          irregular  2014-01-01  \n",
       "2             bullet  2014-01-01  \n",
       "3          irregular  2014-01-01  \n",
       "4            monthly  2014-01-01  "
      ]
     },
     "execution_count": 31,
     "metadata": {},
     "output_type": "execute_result"
    }
   ],
   "source": [
    "kiva_loans_df.head()"
   ]
  },
  {
   "cell_type": "code",
   "execution_count": 32,
   "id": "2287a7f5",
   "metadata": {
    "execution": {
     "iopub.execute_input": "2023-06-01T17:14:15.580191Z",
     "iopub.status.busy": "2023-06-01T17:14:15.579463Z",
     "iopub.status.idle": "2023-06-01T17:14:15.601041Z",
     "shell.execute_reply": "2023-06-01T17:14:15.599759Z"
    },
    "papermill": {
     "duration": 0.053534,
     "end_time": "2023-06-01T17:14:15.602909",
     "exception": false,
     "start_time": "2023-06-01T17:14:15.549375",
     "status": "completed"
    },
    "tags": []
   },
   "outputs": [
    {
     "data": {
      "text/html": [
       "<div>\n",
       "<style scoped>\n",
       "    .dataframe tbody tr th:only-of-type {\n",
       "        vertical-align: middle;\n",
       "    }\n",
       "\n",
       "    .dataframe tbody tr th {\n",
       "        vertical-align: top;\n",
       "    }\n",
       "\n",
       "    .dataframe thead th {\n",
       "        text-align: right;\n",
       "    }\n",
       "</style>\n",
       "<table border=\"1\" class=\"dataframe\">\n",
       "  <thead>\n",
       "    <tr style=\"text-align: right;\">\n",
       "      <th></th>\n",
       "      <th>country</th>\n",
       "      <th>Region</th>\n",
       "      <th>Surface area (km2)</th>\n",
       "      <th>Population in thousands (2017)</th>\n",
       "      <th>Population density (per km2, 2017)</th>\n",
       "      <th>Sex ratio (m per 100 f, 2017)</th>\n",
       "      <th>GDP: Gross domestic product (million current US$)</th>\n",
       "      <th>GDP growth rate (annual %, const. 2005 prices)</th>\n",
       "      <th>GDP per capita (current US$)</th>\n",
       "      <th>Economy: Agriculture (% of GVA)</th>\n",
       "      <th>...</th>\n",
       "      <th>Mobile-cellular subscriptions (per 100 inhabitants).1</th>\n",
       "      <th>Individuals using the Internet (per 100 inhabitants)</th>\n",
       "      <th>Threatened species (number)</th>\n",
       "      <th>Forested area (% of land area)</th>\n",
       "      <th>CO2 emission estimates (million tons/tons per capita)</th>\n",
       "      <th>Energy production, primary (Petajoules)</th>\n",
       "      <th>Energy supply per capita (Gigajoules)</th>\n",
       "      <th>Pop. using improved drinking water (urban/rural, %)</th>\n",
       "      <th>Pop. using improved sanitation facilities (urban/rural, %)</th>\n",
       "      <th>Net Official Development Assist. received (% of GNI)</th>\n",
       "    </tr>\n",
       "  </thead>\n",
       "  <tbody>\n",
       "    <tr>\n",
       "      <th>0</th>\n",
       "      <td>Afghanistan</td>\n",
       "      <td>SouthernAsia</td>\n",
       "      <td>652864</td>\n",
       "      <td>35530</td>\n",
       "      <td>54.4</td>\n",
       "      <td>106.3</td>\n",
       "      <td>20270</td>\n",
       "      <td>-2.4</td>\n",
       "      <td>623.2</td>\n",
       "      <td>23.3</td>\n",
       "      <td>...</td>\n",
       "      <td>8.3</td>\n",
       "      <td>42</td>\n",
       "      <td>2.1</td>\n",
       "      <td>9.8/0.3</td>\n",
       "      <td>63</td>\n",
       "      <td>5</td>\n",
       "      <td>78.2/47.0</td>\n",
       "      <td>45.1/27.0</td>\n",
       "      <td>21.43</td>\n",
       "      <td>-99</td>\n",
       "    </tr>\n",
       "    <tr>\n",
       "      <th>1</th>\n",
       "      <td>Albania</td>\n",
       "      <td>SouthernEurope</td>\n",
       "      <td>28748</td>\n",
       "      <td>2930</td>\n",
       "      <td>106.9</td>\n",
       "      <td>101.9</td>\n",
       "      <td>11541</td>\n",
       "      <td>2.6</td>\n",
       "      <td>3984.2</td>\n",
       "      <td>22.4</td>\n",
       "      <td>...</td>\n",
       "      <td>63.3</td>\n",
       "      <td>130</td>\n",
       "      <td>28.2</td>\n",
       "      <td>5.7/2.0</td>\n",
       "      <td>84</td>\n",
       "      <td>36</td>\n",
       "      <td>94.9/95.2</td>\n",
       "      <td>95.5/90.2</td>\n",
       "      <td>2.96</td>\n",
       "      <td>-99</td>\n",
       "    </tr>\n",
       "    <tr>\n",
       "      <th>2</th>\n",
       "      <td>Algeria</td>\n",
       "      <td>NorthernAfrica</td>\n",
       "      <td>2381741</td>\n",
       "      <td>41318</td>\n",
       "      <td>17.3</td>\n",
       "      <td>102.0</td>\n",
       "      <td>164779</td>\n",
       "      <td>3.8</td>\n",
       "      <td>4154.1</td>\n",
       "      <td>12.2</td>\n",
       "      <td>...</td>\n",
       "      <td>38.2</td>\n",
       "      <td>135</td>\n",
       "      <td>0.8</td>\n",
       "      <td>145.4/3.7</td>\n",
       "      <td>5900</td>\n",
       "      <td>55</td>\n",
       "      <td>84.3/81.8</td>\n",
       "      <td>89.8/82.2</td>\n",
       "      <td>0.05</td>\n",
       "      <td>-99</td>\n",
       "    </tr>\n",
       "    <tr>\n",
       "      <th>3</th>\n",
       "      <td>American Samoa</td>\n",
       "      <td>Polynesia</td>\n",
       "      <td>199</td>\n",
       "      <td>56</td>\n",
       "      <td>278.2</td>\n",
       "      <td>103.6</td>\n",
       "      <td>-99</td>\n",
       "      <td>-99</td>\n",
       "      <td>-99.0</td>\n",
       "      <td>-99</td>\n",
       "      <td>...</td>\n",
       "      <td>-99</td>\n",
       "      <td>92</td>\n",
       "      <td>87.9</td>\n",
       "      <td>-99</td>\n",
       "      <td>-99</td>\n",
       "      <td>-99</td>\n",
       "      <td>100.0/100.0</td>\n",
       "      <td>62.5/62.5</td>\n",
       "      <td>-99</td>\n",
       "      <td>-99</td>\n",
       "    </tr>\n",
       "    <tr>\n",
       "      <th>4</th>\n",
       "      <td>Andorra</td>\n",
       "      <td>SouthernEurope</td>\n",
       "      <td>468</td>\n",
       "      <td>77</td>\n",
       "      <td>163.8</td>\n",
       "      <td>102.3</td>\n",
       "      <td>2812</td>\n",
       "      <td>0.8</td>\n",
       "      <td>39896.4</td>\n",
       "      <td>0.5</td>\n",
       "      <td>...</td>\n",
       "      <td>96.9</td>\n",
       "      <td>13</td>\n",
       "      <td>34.0</td>\n",
       "      <td>0.5/6.4</td>\n",
       "      <td>1</td>\n",
       "      <td>119</td>\n",
       "      <td>100.0/100.0</td>\n",
       "      <td>100.0/100.0</td>\n",
       "      <td>-99</td>\n",
       "      <td>-99</td>\n",
       "    </tr>\n",
       "  </tbody>\n",
       "</table>\n",
       "<p>5 rows × 50 columns</p>\n",
       "</div>"
      ],
      "text/plain": [
       "          country          Region Surface area (km2)  \\\n",
       "0     Afghanistan    SouthernAsia             652864   \n",
       "1         Albania  SouthernEurope              28748   \n",
       "2         Algeria  NorthernAfrica            2381741   \n",
       "3  American Samoa       Polynesia                199   \n",
       "4         Andorra  SouthernEurope                468   \n",
       "\n",
       "   Population in thousands (2017)  Population density (per km2, 2017)  \\\n",
       "0                           35530                                54.4   \n",
       "1                            2930                               106.9   \n",
       "2                           41318                                17.3   \n",
       "3                              56                               278.2   \n",
       "4                              77                               163.8   \n",
       "\n",
       "   Sex ratio (m per 100 f, 2017)  \\\n",
       "0                          106.3   \n",
       "1                          101.9   \n",
       "2                          102.0   \n",
       "3                          103.6   \n",
       "4                          102.3   \n",
       "\n",
       "   GDP: Gross domestic product (million current US$)  \\\n",
       "0                                              20270   \n",
       "1                                              11541   \n",
       "2                                             164779   \n",
       "3                                                -99   \n",
       "4                                               2812   \n",
       "\n",
       "  GDP growth rate (annual %, const. 2005 prices)  \\\n",
       "0                                           -2.4   \n",
       "1                                            2.6   \n",
       "2                                            3.8   \n",
       "3                                            -99   \n",
       "4                                            0.8   \n",
       "\n",
       "   GDP per capita (current US$) Economy: Agriculture (% of GVA)  ...  \\\n",
       "0                         623.2                            23.3  ...   \n",
       "1                        3984.2                            22.4  ...   \n",
       "2                        4154.1                            12.2  ...   \n",
       "3                         -99.0                             -99  ...   \n",
       "4                       39896.4                             0.5  ...   \n",
       "\n",
       "   Mobile-cellular subscriptions (per 100 inhabitants).1  \\\n",
       "0                                                8.3       \n",
       "1                                               63.3       \n",
       "2                                               38.2       \n",
       "3                                                -99       \n",
       "4                                               96.9       \n",
       "\n",
       "   Individuals using the Internet (per 100 inhabitants)  \\\n",
       "0                                                 42      \n",
       "1                                                130      \n",
       "2                                                135      \n",
       "3                                                 92      \n",
       "4                                                 13      \n",
       "\n",
       "  Threatened species (number) Forested area (% of land area)  \\\n",
       "0                         2.1                        9.8/0.3   \n",
       "1                        28.2                        5.7/2.0   \n",
       "2                         0.8                      145.4/3.7   \n",
       "3                        87.9                            -99   \n",
       "4                        34.0                        0.5/6.4   \n",
       "\n",
       "  CO2 emission estimates (million tons/tons per capita)  \\\n",
       "0                                                 63      \n",
       "1                                                 84      \n",
       "2                                               5900      \n",
       "3                                                -99      \n",
       "4                                                  1      \n",
       "\n",
       "  Energy production, primary (Petajoules)  \\\n",
       "0                                       5   \n",
       "1                                      36   \n",
       "2                                      55   \n",
       "3                                     -99   \n",
       "4                                     119   \n",
       "\n",
       "  Energy supply per capita (Gigajoules)  \\\n",
       "0                             78.2/47.0   \n",
       "1                             94.9/95.2   \n",
       "2                             84.3/81.8   \n",
       "3                           100.0/100.0   \n",
       "4                           100.0/100.0   \n",
       "\n",
       "   Pop. using improved drinking water (urban/rural, %)  \\\n",
       "0                                          45.1/27.0     \n",
       "1                                          95.5/90.2     \n",
       "2                                          89.8/82.2     \n",
       "3                                          62.5/62.5     \n",
       "4                                        100.0/100.0     \n",
       "\n",
       "   Pop. using improved sanitation facilities (urban/rural, %)  \\\n",
       "0                                              21.43            \n",
       "1                                               2.96            \n",
       "2                                               0.05            \n",
       "3                                                -99            \n",
       "4                                                -99            \n",
       "\n",
       "  Net Official Development Assist. received (% of GNI)  \n",
       "0                                                -99    \n",
       "1                                                -99    \n",
       "2                                                -99    \n",
       "3                                                -99    \n",
       "4                                                -99    \n",
       "\n",
       "[5 rows x 50 columns]"
      ]
     },
     "execution_count": 32,
     "metadata": {},
     "output_type": "execute_result"
    }
   ],
   "source": [
    "country_profile_variables_df.head()"
   ]
  },
  {
   "cell_type": "code",
   "execution_count": 33,
   "id": "8aa09990",
   "metadata": {
    "execution": {
     "iopub.execute_input": "2023-06-01T17:14:15.658118Z",
     "iopub.status.busy": "2023-06-01T17:14:15.657760Z",
     "iopub.status.idle": "2023-06-01T17:14:15.768738Z",
     "shell.execute_reply": "2023-06-01T17:14:15.767771Z"
    },
    "papermill": {
     "duration": 0.141057,
     "end_time": "2023-06-01T17:14:15.771114",
     "exception": false,
     "start_time": "2023-06-01T17:14:15.630057",
     "status": "completed"
    },
    "tags": []
   },
   "outputs": [],
   "source": [
    "df = kiva_loans_df.groupby([\"country\", \"country_code\"])[\"loan_amount\"].agg([\"count\"]).reset_index()"
   ]
  },
  {
   "cell_type": "code",
   "execution_count": 34,
   "id": "4f47e216",
   "metadata": {
    "_kg_hide-input": true,
    "_kg_hide-output": true,
    "execution": {
     "iopub.execute_input": "2023-06-01T17:14:15.824709Z",
     "iopub.status.busy": "2023-06-01T17:14:15.824361Z",
     "iopub.status.idle": "2023-06-01T17:14:27.837169Z",
     "shell.execute_reply": "2023-06-01T17:14:27.835503Z"
    },
    "papermill": {
     "duration": 12.04294,
     "end_time": "2023-06-01T17:14:27.839998",
     "exception": false,
     "start_time": "2023-06-01T17:14:15.797058",
     "status": "completed"
    },
    "tags": []
   },
   "outputs": [
    {
     "name": "stdout",
     "output_type": "stream",
     "text": [
      "Collecting country-converter\r\n",
      "  Downloading country_converter-1.0.0-py3-none-any.whl (44 kB)\r\n",
      "\u001b[2K     \u001b[90m━━━━━━━━━━━━━━━━━━━━━━━━━━━━━━━━━━━━━━━━\u001b[0m \u001b[32m44.5/44.5 kB\u001b[0m \u001b[31m2.7 MB/s\u001b[0m eta \u001b[36m0:00:00\u001b[0m\r\n",
      "\u001b[?25hRequirement already satisfied: pandas>=1.0 in /opt/conda/lib/python3.10/site-packages (from country-converter) (1.5.3)\r\n",
      "Requirement already satisfied: python-dateutil>=2.8.1 in /opt/conda/lib/python3.10/site-packages (from pandas>=1.0->country-converter) (2.8.2)\r\n",
      "Requirement already satisfied: pytz>=2020.1 in /opt/conda/lib/python3.10/site-packages (from pandas>=1.0->country-converter) (2023.3)\r\n",
      "Requirement already satisfied: numpy>=1.21.0 in /opt/conda/lib/python3.10/site-packages (from pandas>=1.0->country-converter) (1.23.5)\r\n",
      "Requirement already satisfied: six>=1.5 in /opt/conda/lib/python3.10/site-packages (from python-dateutil>=2.8.1->pandas>=1.0->country-converter) (1.16.0)\r\n",
      "Installing collected packages: country-converter\r\n",
      "Successfully installed country-converter-1.0.0\r\n",
      "\u001b[33mWARNING: Running pip as the 'root' user can result in broken permissions and conflicting behaviour with the system package manager. It is recommended to use a virtual environment instead: https://pip.pypa.io/warnings/venv\u001b[0m\u001b[33m\r\n",
      "\u001b[0m"
     ]
    }
   ],
   "source": [
    "!pip install country-converter"
   ]
  },
  {
   "cell_type": "code",
   "execution_count": 35,
   "id": "5137642b",
   "metadata": {
    "execution": {
     "iopub.execute_input": "2023-06-01T17:14:27.897224Z",
     "iopub.status.busy": "2023-06-01T17:14:27.896798Z",
     "iopub.status.idle": "2023-06-01T17:14:27.908219Z",
     "shell.execute_reply": "2023-06-01T17:14:27.907203Z"
    },
    "papermill": {
     "duration": 0.043447,
     "end_time": "2023-06-01T17:14:27.911002",
     "exception": false,
     "start_time": "2023-06-01T17:14:27.867555",
     "status": "completed"
    },
    "tags": []
   },
   "outputs": [],
   "source": [
    "import country_converter as cc"
   ]
  },
  {
   "cell_type": "code",
   "execution_count": 36,
   "id": "c9d45fe1",
   "metadata": {
    "execution": {
     "iopub.execute_input": "2023-06-01T17:14:27.966699Z",
     "iopub.status.busy": "2023-06-01T17:14:27.966358Z",
     "iopub.status.idle": "2023-06-01T17:14:35.687617Z",
     "shell.execute_reply": "2023-06-01T17:14:35.685794Z"
    },
    "papermill": {
     "duration": 7.751784,
     "end_time": "2023-06-01T17:14:35.689982",
     "exception": false,
     "start_time": "2023-06-01T17:14:27.938198",
     "status": "completed"
    },
    "tags": []
   },
   "outputs": [
    {
     "data": {
      "application/vnd.plotly.v1+json": {
       "config": {
        "plotlyServerURL": "https://plot.ly"
       },
       "data": [
        {
         "coloraxis": "coloraxis",
         "geo": "geo",
         "hovertemplate": "iso_alpha=%{location}<br>Number of loans=%{z}<extra></extra>",
         "locations": [
          "AFG",
          "ALB",
          "ARM",
          "AZE",
          "BLZ",
          "BEN",
          "BTN",
          "BOL",
          "BRA",
          "BFA",
          "BDI",
          "KHM",
          "CMR",
          "CHL",
          "CHN",
          "COL",
          "COG",
          "CRI",
          "CIV",
          "DOM",
          "ECU",
          "EGY",
          "SLV",
          "GEO",
          "GHA",
          "GUM",
          "GTM",
          "HTI",
          "HND",
          "IND",
          "IDN",
          "IRQ",
          "ISR",
          "JOR",
          "KEN",
          "XKX",
          "KGZ",
          "LAO",
          "LBN",
          "LSO",
          "LBR",
          "MDG",
          "MWI",
          "MLI",
          "MRT",
          "MEX",
          "MDA",
          "MNG",
          "MOZ",
          "MMR",
          "NPL",
          "NIC",
          "NGA",
          "PAK",
          "PSE",
          "PAN",
          "PRY",
          "PER",
          "PHL",
          "PRI",
          "RWA",
          "VCT",
          "WSM",
          "SEN",
          "SLE",
          "SLB",
          "SOM",
          "ZAF",
          "SSD",
          "SUR",
          "TJK",
          "TZA",
          "THA",
          "COD",
          "TLS",
          "TGO",
          "TUR",
          "UGA",
          "UKR",
          "USA",
          "VUT",
          "VNM",
          "VIR",
          "YEM",
          "ZMB",
          "ZWE"
         ],
         "name": "",
         "type": "choropleth",
         "z": [
          2,
          1934,
          8631,
          1945,
          125,
          497,
          2,
          8806,
          284,
          2460,
          880,
          34836,
          2230,
          10,
          134,
          21995,
          128,
          1561,
          1,
          496,
          13521,
          1639,
          39875,
          2409,
          4374,
          1,
          7310,
          3618,
          6557,
          11237,
          6214,
          993,
          190,
          4167,
          75825,
          1419,
          5774,
          1486,
          8792,
          422,
          3682,
          3821,
          1320,
          6639,
          1,
          5741,
          348,
          964,
          3483,
          1870,
          717,
          11781,
          10136,
          26857,
          8167,
          193,
          11903,
          22233,
          160441,
          68,
          6735,
          16,
          7396,
          3269,
          5415,
          554,
          75,
          378,
          160,
          223,
          19580,
          5219,
          180,
          3073,
          2690,
          5749,
          1703,
          20601,
          963,
          6093,
          4,
          10843,
          2,
          2313,
          784,
          4034
         ]
        }
       ],
       "layout": {
        "coloraxis": {
         "colorbar": {
          "title": {
           "text": "Number of loans"
          }
         },
         "colorscale": [
          [
           0.0,
           "rgb(247,252,245)"
          ],
          [
           0.125,
           "rgb(229,245,224)"
          ],
          [
           0.25,
           "rgb(199,233,192)"
          ],
          [
           0.375,
           "rgb(161,217,155)"
          ],
          [
           0.5,
           "rgb(116,196,118)"
          ],
          [
           0.625,
           "rgb(65,171,93)"
          ],
          [
           0.75,
           "rgb(35,139,69)"
          ],
          [
           0.875,
           "rgb(0,109,44)"
          ],
          [
           1.0,
           "rgb(0,68,27)"
          ]
         ]
        },
        "geo": {
         "center": {},
         "domain": {
          "x": [
           0.0,
           1.0
          ],
          "y": [
           0.0,
           1.0
          ]
         },
         "scope": "world"
        },
        "legend": {
         "tracegroupgap": 0
        },
        "margin": {
         "t": 60
        },
        "template": {
         "data": {
          "bar": [
           {
            "error_x": {
             "color": "#2a3f5f"
            },
            "error_y": {
             "color": "#2a3f5f"
            },
            "marker": {
             "line": {
              "color": "#E5ECF6",
              "width": 0.5
             },
             "pattern": {
              "fillmode": "overlay",
              "size": 10,
              "solidity": 0.2
             }
            },
            "type": "bar"
           }
          ],
          "barpolar": [
           {
            "marker": {
             "line": {
              "color": "#E5ECF6",
              "width": 0.5
             },
             "pattern": {
              "fillmode": "overlay",
              "size": 10,
              "solidity": 0.2
             }
            },
            "type": "barpolar"
           }
          ],
          "carpet": [
           {
            "aaxis": {
             "endlinecolor": "#2a3f5f",
             "gridcolor": "white",
             "linecolor": "white",
             "minorgridcolor": "white",
             "startlinecolor": "#2a3f5f"
            },
            "baxis": {
             "endlinecolor": "#2a3f5f",
             "gridcolor": "white",
             "linecolor": "white",
             "minorgridcolor": "white",
             "startlinecolor": "#2a3f5f"
            },
            "type": "carpet"
           }
          ],
          "choropleth": [
           {
            "colorbar": {
             "outlinewidth": 0,
             "ticks": ""
            },
            "type": "choropleth"
           }
          ],
          "contour": [
           {
            "colorbar": {
             "outlinewidth": 0,
             "ticks": ""
            },
            "colorscale": [
             [
              0.0,
              "#0d0887"
             ],
             [
              0.1111111111111111,
              "#46039f"
             ],
             [
              0.2222222222222222,
              "#7201a8"
             ],
             [
              0.3333333333333333,
              "#9c179e"
             ],
             [
              0.4444444444444444,
              "#bd3786"
             ],
             [
              0.5555555555555556,
              "#d8576b"
             ],
             [
              0.6666666666666666,
              "#ed7953"
             ],
             [
              0.7777777777777778,
              "#fb9f3a"
             ],
             [
              0.8888888888888888,
              "#fdca26"
             ],
             [
              1.0,
              "#f0f921"
             ]
            ],
            "type": "contour"
           }
          ],
          "contourcarpet": [
           {
            "colorbar": {
             "outlinewidth": 0,
             "ticks": ""
            },
            "type": "contourcarpet"
           }
          ],
          "heatmap": [
           {
            "colorbar": {
             "outlinewidth": 0,
             "ticks": ""
            },
            "colorscale": [
             [
              0.0,
              "#0d0887"
             ],
             [
              0.1111111111111111,
              "#46039f"
             ],
             [
              0.2222222222222222,
              "#7201a8"
             ],
             [
              0.3333333333333333,
              "#9c179e"
             ],
             [
              0.4444444444444444,
              "#bd3786"
             ],
             [
              0.5555555555555556,
              "#d8576b"
             ],
             [
              0.6666666666666666,
              "#ed7953"
             ],
             [
              0.7777777777777778,
              "#fb9f3a"
             ],
             [
              0.8888888888888888,
              "#fdca26"
             ],
             [
              1.0,
              "#f0f921"
             ]
            ],
            "type": "heatmap"
           }
          ],
          "heatmapgl": [
           {
            "colorbar": {
             "outlinewidth": 0,
             "ticks": ""
            },
            "colorscale": [
             [
              0.0,
              "#0d0887"
             ],
             [
              0.1111111111111111,
              "#46039f"
             ],
             [
              0.2222222222222222,
              "#7201a8"
             ],
             [
              0.3333333333333333,
              "#9c179e"
             ],
             [
              0.4444444444444444,
              "#bd3786"
             ],
             [
              0.5555555555555556,
              "#d8576b"
             ],
             [
              0.6666666666666666,
              "#ed7953"
             ],
             [
              0.7777777777777778,
              "#fb9f3a"
             ],
             [
              0.8888888888888888,
              "#fdca26"
             ],
             [
              1.0,
              "#f0f921"
             ]
            ],
            "type": "heatmapgl"
           }
          ],
          "histogram": [
           {
            "marker": {
             "pattern": {
              "fillmode": "overlay",
              "size": 10,
              "solidity": 0.2
             }
            },
            "type": "histogram"
           }
          ],
          "histogram2d": [
           {
            "colorbar": {
             "outlinewidth": 0,
             "ticks": ""
            },
            "colorscale": [
             [
              0.0,
              "#0d0887"
             ],
             [
              0.1111111111111111,
              "#46039f"
             ],
             [
              0.2222222222222222,
              "#7201a8"
             ],
             [
              0.3333333333333333,
              "#9c179e"
             ],
             [
              0.4444444444444444,
              "#bd3786"
             ],
             [
              0.5555555555555556,
              "#d8576b"
             ],
             [
              0.6666666666666666,
              "#ed7953"
             ],
             [
              0.7777777777777778,
              "#fb9f3a"
             ],
             [
              0.8888888888888888,
              "#fdca26"
             ],
             [
              1.0,
              "#f0f921"
             ]
            ],
            "type": "histogram2d"
           }
          ],
          "histogram2dcontour": [
           {
            "colorbar": {
             "outlinewidth": 0,
             "ticks": ""
            },
            "colorscale": [
             [
              0.0,
              "#0d0887"
             ],
             [
              0.1111111111111111,
              "#46039f"
             ],
             [
              0.2222222222222222,
              "#7201a8"
             ],
             [
              0.3333333333333333,
              "#9c179e"
             ],
             [
              0.4444444444444444,
              "#bd3786"
             ],
             [
              0.5555555555555556,
              "#d8576b"
             ],
             [
              0.6666666666666666,
              "#ed7953"
             ],
             [
              0.7777777777777778,
              "#fb9f3a"
             ],
             [
              0.8888888888888888,
              "#fdca26"
             ],
             [
              1.0,
              "#f0f921"
             ]
            ],
            "type": "histogram2dcontour"
           }
          ],
          "mesh3d": [
           {
            "colorbar": {
             "outlinewidth": 0,
             "ticks": ""
            },
            "type": "mesh3d"
           }
          ],
          "parcoords": [
           {
            "line": {
             "colorbar": {
              "outlinewidth": 0,
              "ticks": ""
             }
            },
            "type": "parcoords"
           }
          ],
          "pie": [
           {
            "automargin": true,
            "type": "pie"
           }
          ],
          "scatter": [
           {
            "fillpattern": {
             "fillmode": "overlay",
             "size": 10,
             "solidity": 0.2
            },
            "type": "scatter"
           }
          ],
          "scatter3d": [
           {
            "line": {
             "colorbar": {
              "outlinewidth": 0,
              "ticks": ""
             }
            },
            "marker": {
             "colorbar": {
              "outlinewidth": 0,
              "ticks": ""
             }
            },
            "type": "scatter3d"
           }
          ],
          "scattercarpet": [
           {
            "marker": {
             "colorbar": {
              "outlinewidth": 0,
              "ticks": ""
             }
            },
            "type": "scattercarpet"
           }
          ],
          "scattergeo": [
           {
            "marker": {
             "colorbar": {
              "outlinewidth": 0,
              "ticks": ""
             }
            },
            "type": "scattergeo"
           }
          ],
          "scattergl": [
           {
            "marker": {
             "colorbar": {
              "outlinewidth": 0,
              "ticks": ""
             }
            },
            "type": "scattergl"
           }
          ],
          "scattermapbox": [
           {
            "marker": {
             "colorbar": {
              "outlinewidth": 0,
              "ticks": ""
             }
            },
            "type": "scattermapbox"
           }
          ],
          "scatterpolar": [
           {
            "marker": {
             "colorbar": {
              "outlinewidth": 0,
              "ticks": ""
             }
            },
            "type": "scatterpolar"
           }
          ],
          "scatterpolargl": [
           {
            "marker": {
             "colorbar": {
              "outlinewidth": 0,
              "ticks": ""
             }
            },
            "type": "scatterpolargl"
           }
          ],
          "scatterternary": [
           {
            "marker": {
             "colorbar": {
              "outlinewidth": 0,
              "ticks": ""
             }
            },
            "type": "scatterternary"
           }
          ],
          "surface": [
           {
            "colorbar": {
             "outlinewidth": 0,
             "ticks": ""
            },
            "colorscale": [
             [
              0.0,
              "#0d0887"
             ],
             [
              0.1111111111111111,
              "#46039f"
             ],
             [
              0.2222222222222222,
              "#7201a8"
             ],
             [
              0.3333333333333333,
              "#9c179e"
             ],
             [
              0.4444444444444444,
              "#bd3786"
             ],
             [
              0.5555555555555556,
              "#d8576b"
             ],
             [
              0.6666666666666666,
              "#ed7953"
             ],
             [
              0.7777777777777778,
              "#fb9f3a"
             ],
             [
              0.8888888888888888,
              "#fdca26"
             ],
             [
              1.0,
              "#f0f921"
             ]
            ],
            "type": "surface"
           }
          ],
          "table": [
           {
            "cells": {
             "fill": {
              "color": "#EBF0F8"
             },
             "line": {
              "color": "white"
             }
            },
            "header": {
             "fill": {
              "color": "#C8D4E3"
             },
             "line": {
              "color": "white"
             }
            },
            "type": "table"
           }
          ]
         },
         "layout": {
          "annotationdefaults": {
           "arrowcolor": "#2a3f5f",
           "arrowhead": 0,
           "arrowwidth": 1
          },
          "autotypenumbers": "strict",
          "coloraxis": {
           "colorbar": {
            "outlinewidth": 0,
            "ticks": ""
           }
          },
          "colorscale": {
           "diverging": [
            [
             0,
             "#8e0152"
            ],
            [
             0.1,
             "#c51b7d"
            ],
            [
             0.2,
             "#de77ae"
            ],
            [
             0.3,
             "#f1b6da"
            ],
            [
             0.4,
             "#fde0ef"
            ],
            [
             0.5,
             "#f7f7f7"
            ],
            [
             0.6,
             "#e6f5d0"
            ],
            [
             0.7,
             "#b8e186"
            ],
            [
             0.8,
             "#7fbc41"
            ],
            [
             0.9,
             "#4d9221"
            ],
            [
             1,
             "#276419"
            ]
           ],
           "sequential": [
            [
             0.0,
             "#0d0887"
            ],
            [
             0.1111111111111111,
             "#46039f"
            ],
            [
             0.2222222222222222,
             "#7201a8"
            ],
            [
             0.3333333333333333,
             "#9c179e"
            ],
            [
             0.4444444444444444,
             "#bd3786"
            ],
            [
             0.5555555555555556,
             "#d8576b"
            ],
            [
             0.6666666666666666,
             "#ed7953"
            ],
            [
             0.7777777777777778,
             "#fb9f3a"
            ],
            [
             0.8888888888888888,
             "#fdca26"
            ],
            [
             1.0,
             "#f0f921"
            ]
           ],
           "sequentialminus": [
            [
             0.0,
             "#0d0887"
            ],
            [
             0.1111111111111111,
             "#46039f"
            ],
            [
             0.2222222222222222,
             "#7201a8"
            ],
            [
             0.3333333333333333,
             "#9c179e"
            ],
            [
             0.4444444444444444,
             "#bd3786"
            ],
            [
             0.5555555555555556,
             "#d8576b"
            ],
            [
             0.6666666666666666,
             "#ed7953"
            ],
            [
             0.7777777777777778,
             "#fb9f3a"
            ],
            [
             0.8888888888888888,
             "#fdca26"
            ],
            [
             1.0,
             "#f0f921"
            ]
           ]
          },
          "colorway": [
           "#636efa",
           "#EF553B",
           "#00cc96",
           "#ab63fa",
           "#FFA15A",
           "#19d3f3",
           "#FF6692",
           "#B6E880",
           "#FF97FF",
           "#FECB52"
          ],
          "font": {
           "color": "#2a3f5f"
          },
          "geo": {
           "bgcolor": "white",
           "lakecolor": "white",
           "landcolor": "#E5ECF6",
           "showlakes": true,
           "showland": true,
           "subunitcolor": "white"
          },
          "hoverlabel": {
           "align": "left"
          },
          "hovermode": "closest",
          "mapbox": {
           "style": "light"
          },
          "paper_bgcolor": "white",
          "plot_bgcolor": "#E5ECF6",
          "polar": {
           "angularaxis": {
            "gridcolor": "white",
            "linecolor": "white",
            "ticks": ""
           },
           "bgcolor": "#E5ECF6",
           "radialaxis": {
            "gridcolor": "white",
            "linecolor": "white",
            "ticks": ""
           }
          },
          "scene": {
           "xaxis": {
            "backgroundcolor": "#E5ECF6",
            "gridcolor": "white",
            "gridwidth": 2,
            "linecolor": "white",
            "showbackground": true,
            "ticks": "",
            "zerolinecolor": "white"
           },
           "yaxis": {
            "backgroundcolor": "#E5ECF6",
            "gridcolor": "white",
            "gridwidth": 2,
            "linecolor": "white",
            "showbackground": true,
            "ticks": "",
            "zerolinecolor": "white"
           },
           "zaxis": {
            "backgroundcolor": "#E5ECF6",
            "gridcolor": "white",
            "gridwidth": 2,
            "linecolor": "white",
            "showbackground": true,
            "ticks": "",
            "zerolinecolor": "white"
           }
          },
          "shapedefaults": {
           "line": {
            "color": "#2a3f5f"
           }
          },
          "ternary": {
           "aaxis": {
            "gridcolor": "white",
            "linecolor": "white",
            "ticks": ""
           },
           "baxis": {
            "gridcolor": "white",
            "linecolor": "white",
            "ticks": ""
           },
           "bgcolor": "#E5ECF6",
           "caxis": {
            "gridcolor": "white",
            "linecolor": "white",
            "ticks": ""
           }
          },
          "title": {
           "x": 0.05
          },
          "xaxis": {
           "automargin": true,
           "gridcolor": "white",
           "linecolor": "white",
           "ticks": "",
           "title": {
            "standoff": 15
           },
           "zerolinecolor": "white",
           "zerolinewidth": 2
          },
          "yaxis": {
           "automargin": true,
           "gridcolor": "white",
           "linecolor": "white",
           "ticks": "",
           "title": {
            "standoff": 15
           },
           "zerolinecolor": "white",
           "zerolinewidth": 2
          }
         }
        },
        "title": {
         "text": "Loans per country<br>Source:<a href=\"https://www.kaggle.com/kiva/data-science-for-good-kiva-crowdfunding\">Kiva - Data Science for Good</a>"
        }
       }
      },
      "text/html": [
       "<div>                            <div id=\"5d2a52cb-98f5-42cf-8d99-54dbcac7c71f\" class=\"plotly-graph-div\" style=\"height:525px; width:100%;\"></div>            <script type=\"text/javascript\">                require([\"plotly\"], function(Plotly) {                    window.PLOTLYENV=window.PLOTLYENV || {};                                    if (document.getElementById(\"5d2a52cb-98f5-42cf-8d99-54dbcac7c71f\")) {                    Plotly.newPlot(                        \"5d2a52cb-98f5-42cf-8d99-54dbcac7c71f\",                        [{\"coloraxis\":\"coloraxis\",\"geo\":\"geo\",\"hovertemplate\":\"iso_alpha=%{location}<br>Number of loans=%{z}<extra></extra>\",\"locations\":[\"AFG\",\"ALB\",\"ARM\",\"AZE\",\"BLZ\",\"BEN\",\"BTN\",\"BOL\",\"BRA\",\"BFA\",\"BDI\",\"KHM\",\"CMR\",\"CHL\",\"CHN\",\"COL\",\"COG\",\"CRI\",\"CIV\",\"DOM\",\"ECU\",\"EGY\",\"SLV\",\"GEO\",\"GHA\",\"GUM\",\"GTM\",\"HTI\",\"HND\",\"IND\",\"IDN\",\"IRQ\",\"ISR\",\"JOR\",\"KEN\",\"XKX\",\"KGZ\",\"LAO\",\"LBN\",\"LSO\",\"LBR\",\"MDG\",\"MWI\",\"MLI\",\"MRT\",\"MEX\",\"MDA\",\"MNG\",\"MOZ\",\"MMR\",\"NPL\",\"NIC\",\"NGA\",\"PAK\",\"PSE\",\"PAN\",\"PRY\",\"PER\",\"PHL\",\"PRI\",\"RWA\",\"VCT\",\"WSM\",\"SEN\",\"SLE\",\"SLB\",\"SOM\",\"ZAF\",\"SSD\",\"SUR\",\"TJK\",\"TZA\",\"THA\",\"COD\",\"TLS\",\"TGO\",\"TUR\",\"UGA\",\"UKR\",\"USA\",\"VUT\",\"VNM\",\"VIR\",\"YEM\",\"ZMB\",\"ZWE\"],\"name\":\"\",\"z\":[2,1934,8631,1945,125,497,2,8806,284,2460,880,34836,2230,10,134,21995,128,1561,1,496,13521,1639,39875,2409,4374,1,7310,3618,6557,11237,6214,993,190,4167,75825,1419,5774,1486,8792,422,3682,3821,1320,6639,1,5741,348,964,3483,1870,717,11781,10136,26857,8167,193,11903,22233,160441,68,6735,16,7396,3269,5415,554,75,378,160,223,19580,5219,180,3073,2690,5749,1703,20601,963,6093,4,10843,2,2313,784,4034],\"type\":\"choropleth\"}],                        {\"template\":{\"data\":{\"histogram2dcontour\":[{\"type\":\"histogram2dcontour\",\"colorbar\":{\"outlinewidth\":0,\"ticks\":\"\"},\"colorscale\":[[0.0,\"#0d0887\"],[0.1111111111111111,\"#46039f\"],[0.2222222222222222,\"#7201a8\"],[0.3333333333333333,\"#9c179e\"],[0.4444444444444444,\"#bd3786\"],[0.5555555555555556,\"#d8576b\"],[0.6666666666666666,\"#ed7953\"],[0.7777777777777778,\"#fb9f3a\"],[0.8888888888888888,\"#fdca26\"],[1.0,\"#f0f921\"]]}],\"choropleth\":[{\"type\":\"choropleth\",\"colorbar\":{\"outlinewidth\":0,\"ticks\":\"\"}}],\"histogram2d\":[{\"type\":\"histogram2d\",\"colorbar\":{\"outlinewidth\":0,\"ticks\":\"\"},\"colorscale\":[[0.0,\"#0d0887\"],[0.1111111111111111,\"#46039f\"],[0.2222222222222222,\"#7201a8\"],[0.3333333333333333,\"#9c179e\"],[0.4444444444444444,\"#bd3786\"],[0.5555555555555556,\"#d8576b\"],[0.6666666666666666,\"#ed7953\"],[0.7777777777777778,\"#fb9f3a\"],[0.8888888888888888,\"#fdca26\"],[1.0,\"#f0f921\"]]}],\"heatmap\":[{\"type\":\"heatmap\",\"colorbar\":{\"outlinewidth\":0,\"ticks\":\"\"},\"colorscale\":[[0.0,\"#0d0887\"],[0.1111111111111111,\"#46039f\"],[0.2222222222222222,\"#7201a8\"],[0.3333333333333333,\"#9c179e\"],[0.4444444444444444,\"#bd3786\"],[0.5555555555555556,\"#d8576b\"],[0.6666666666666666,\"#ed7953\"],[0.7777777777777778,\"#fb9f3a\"],[0.8888888888888888,\"#fdca26\"],[1.0,\"#f0f921\"]]}],\"heatmapgl\":[{\"type\":\"heatmapgl\",\"colorbar\":{\"outlinewidth\":0,\"ticks\":\"\"},\"colorscale\":[[0.0,\"#0d0887\"],[0.1111111111111111,\"#46039f\"],[0.2222222222222222,\"#7201a8\"],[0.3333333333333333,\"#9c179e\"],[0.4444444444444444,\"#bd3786\"],[0.5555555555555556,\"#d8576b\"],[0.6666666666666666,\"#ed7953\"],[0.7777777777777778,\"#fb9f3a\"],[0.8888888888888888,\"#fdca26\"],[1.0,\"#f0f921\"]]}],\"contourcarpet\":[{\"type\":\"contourcarpet\",\"colorbar\":{\"outlinewidth\":0,\"ticks\":\"\"}}],\"contour\":[{\"type\":\"contour\",\"colorbar\":{\"outlinewidth\":0,\"ticks\":\"\"},\"colorscale\":[[0.0,\"#0d0887\"],[0.1111111111111111,\"#46039f\"],[0.2222222222222222,\"#7201a8\"],[0.3333333333333333,\"#9c179e\"],[0.4444444444444444,\"#bd3786\"],[0.5555555555555556,\"#d8576b\"],[0.6666666666666666,\"#ed7953\"],[0.7777777777777778,\"#fb9f3a\"],[0.8888888888888888,\"#fdca26\"],[1.0,\"#f0f921\"]]}],\"surface\":[{\"type\":\"surface\",\"colorbar\":{\"outlinewidth\":0,\"ticks\":\"\"},\"colorscale\":[[0.0,\"#0d0887\"],[0.1111111111111111,\"#46039f\"],[0.2222222222222222,\"#7201a8\"],[0.3333333333333333,\"#9c179e\"],[0.4444444444444444,\"#bd3786\"],[0.5555555555555556,\"#d8576b\"],[0.6666666666666666,\"#ed7953\"],[0.7777777777777778,\"#fb9f3a\"],[0.8888888888888888,\"#fdca26\"],[1.0,\"#f0f921\"]]}],\"mesh3d\":[{\"type\":\"mesh3d\",\"colorbar\":{\"outlinewidth\":0,\"ticks\":\"\"}}],\"scatter\":[{\"fillpattern\":{\"fillmode\":\"overlay\",\"size\":10,\"solidity\":0.2},\"type\":\"scatter\"}],\"parcoords\":[{\"type\":\"parcoords\",\"line\":{\"colorbar\":{\"outlinewidth\":0,\"ticks\":\"\"}}}],\"scatterpolargl\":[{\"type\":\"scatterpolargl\",\"marker\":{\"colorbar\":{\"outlinewidth\":0,\"ticks\":\"\"}}}],\"bar\":[{\"error_x\":{\"color\":\"#2a3f5f\"},\"error_y\":{\"color\":\"#2a3f5f\"},\"marker\":{\"line\":{\"color\":\"#E5ECF6\",\"width\":0.5},\"pattern\":{\"fillmode\":\"overlay\",\"size\":10,\"solidity\":0.2}},\"type\":\"bar\"}],\"scattergeo\":[{\"type\":\"scattergeo\",\"marker\":{\"colorbar\":{\"outlinewidth\":0,\"ticks\":\"\"}}}],\"scatterpolar\":[{\"type\":\"scatterpolar\",\"marker\":{\"colorbar\":{\"outlinewidth\":0,\"ticks\":\"\"}}}],\"histogram\":[{\"marker\":{\"pattern\":{\"fillmode\":\"overlay\",\"size\":10,\"solidity\":0.2}},\"type\":\"histogram\"}],\"scattergl\":[{\"type\":\"scattergl\",\"marker\":{\"colorbar\":{\"outlinewidth\":0,\"ticks\":\"\"}}}],\"scatter3d\":[{\"type\":\"scatter3d\",\"line\":{\"colorbar\":{\"outlinewidth\":0,\"ticks\":\"\"}},\"marker\":{\"colorbar\":{\"outlinewidth\":0,\"ticks\":\"\"}}}],\"scattermapbox\":[{\"type\":\"scattermapbox\",\"marker\":{\"colorbar\":{\"outlinewidth\":0,\"ticks\":\"\"}}}],\"scatterternary\":[{\"type\":\"scatterternary\",\"marker\":{\"colorbar\":{\"outlinewidth\":0,\"ticks\":\"\"}}}],\"scattercarpet\":[{\"type\":\"scattercarpet\",\"marker\":{\"colorbar\":{\"outlinewidth\":0,\"ticks\":\"\"}}}],\"carpet\":[{\"aaxis\":{\"endlinecolor\":\"#2a3f5f\",\"gridcolor\":\"white\",\"linecolor\":\"white\",\"minorgridcolor\":\"white\",\"startlinecolor\":\"#2a3f5f\"},\"baxis\":{\"endlinecolor\":\"#2a3f5f\",\"gridcolor\":\"white\",\"linecolor\":\"white\",\"minorgridcolor\":\"white\",\"startlinecolor\":\"#2a3f5f\"},\"type\":\"carpet\"}],\"table\":[{\"cells\":{\"fill\":{\"color\":\"#EBF0F8\"},\"line\":{\"color\":\"white\"}},\"header\":{\"fill\":{\"color\":\"#C8D4E3\"},\"line\":{\"color\":\"white\"}},\"type\":\"table\"}],\"barpolar\":[{\"marker\":{\"line\":{\"color\":\"#E5ECF6\",\"width\":0.5},\"pattern\":{\"fillmode\":\"overlay\",\"size\":10,\"solidity\":0.2}},\"type\":\"barpolar\"}],\"pie\":[{\"automargin\":true,\"type\":\"pie\"}]},\"layout\":{\"autotypenumbers\":\"strict\",\"colorway\":[\"#636efa\",\"#EF553B\",\"#00cc96\",\"#ab63fa\",\"#FFA15A\",\"#19d3f3\",\"#FF6692\",\"#B6E880\",\"#FF97FF\",\"#FECB52\"],\"font\":{\"color\":\"#2a3f5f\"},\"hovermode\":\"closest\",\"hoverlabel\":{\"align\":\"left\"},\"paper_bgcolor\":\"white\",\"plot_bgcolor\":\"#E5ECF6\",\"polar\":{\"bgcolor\":\"#E5ECF6\",\"angularaxis\":{\"gridcolor\":\"white\",\"linecolor\":\"white\",\"ticks\":\"\"},\"radialaxis\":{\"gridcolor\":\"white\",\"linecolor\":\"white\",\"ticks\":\"\"}},\"ternary\":{\"bgcolor\":\"#E5ECF6\",\"aaxis\":{\"gridcolor\":\"white\",\"linecolor\":\"white\",\"ticks\":\"\"},\"baxis\":{\"gridcolor\":\"white\",\"linecolor\":\"white\",\"ticks\":\"\"},\"caxis\":{\"gridcolor\":\"white\",\"linecolor\":\"white\",\"ticks\":\"\"}},\"coloraxis\":{\"colorbar\":{\"outlinewidth\":0,\"ticks\":\"\"}},\"colorscale\":{\"sequential\":[[0.0,\"#0d0887\"],[0.1111111111111111,\"#46039f\"],[0.2222222222222222,\"#7201a8\"],[0.3333333333333333,\"#9c179e\"],[0.4444444444444444,\"#bd3786\"],[0.5555555555555556,\"#d8576b\"],[0.6666666666666666,\"#ed7953\"],[0.7777777777777778,\"#fb9f3a\"],[0.8888888888888888,\"#fdca26\"],[1.0,\"#f0f921\"]],\"sequentialminus\":[[0.0,\"#0d0887\"],[0.1111111111111111,\"#46039f\"],[0.2222222222222222,\"#7201a8\"],[0.3333333333333333,\"#9c179e\"],[0.4444444444444444,\"#bd3786\"],[0.5555555555555556,\"#d8576b\"],[0.6666666666666666,\"#ed7953\"],[0.7777777777777778,\"#fb9f3a\"],[0.8888888888888888,\"#fdca26\"],[1.0,\"#f0f921\"]],\"diverging\":[[0,\"#8e0152\"],[0.1,\"#c51b7d\"],[0.2,\"#de77ae\"],[0.3,\"#f1b6da\"],[0.4,\"#fde0ef\"],[0.5,\"#f7f7f7\"],[0.6,\"#e6f5d0\"],[0.7,\"#b8e186\"],[0.8,\"#7fbc41\"],[0.9,\"#4d9221\"],[1,\"#276419\"]]},\"xaxis\":{\"gridcolor\":\"white\",\"linecolor\":\"white\",\"ticks\":\"\",\"title\":{\"standoff\":15},\"zerolinecolor\":\"white\",\"automargin\":true,\"zerolinewidth\":2},\"yaxis\":{\"gridcolor\":\"white\",\"linecolor\":\"white\",\"ticks\":\"\",\"title\":{\"standoff\":15},\"zerolinecolor\":\"white\",\"automargin\":true,\"zerolinewidth\":2},\"scene\":{\"xaxis\":{\"backgroundcolor\":\"#E5ECF6\",\"gridcolor\":\"white\",\"linecolor\":\"white\",\"showbackground\":true,\"ticks\":\"\",\"zerolinecolor\":\"white\",\"gridwidth\":2},\"yaxis\":{\"backgroundcolor\":\"#E5ECF6\",\"gridcolor\":\"white\",\"linecolor\":\"white\",\"showbackground\":true,\"ticks\":\"\",\"zerolinecolor\":\"white\",\"gridwidth\":2},\"zaxis\":{\"backgroundcolor\":\"#E5ECF6\",\"gridcolor\":\"white\",\"linecolor\":\"white\",\"showbackground\":true,\"ticks\":\"\",\"zerolinecolor\":\"white\",\"gridwidth\":2}},\"shapedefaults\":{\"line\":{\"color\":\"#2a3f5f\"}},\"annotationdefaults\":{\"arrowcolor\":\"#2a3f5f\",\"arrowhead\":0,\"arrowwidth\":1},\"geo\":{\"bgcolor\":\"white\",\"landcolor\":\"#E5ECF6\",\"subunitcolor\":\"white\",\"showland\":true,\"showlakes\":true,\"lakecolor\":\"white\"},\"title\":{\"x\":0.05},\"mapbox\":{\"style\":\"light\"}}},\"geo\":{\"domain\":{\"x\":[0.0,1.0],\"y\":[0.0,1.0]},\"center\":{},\"scope\":\"world\"},\"coloraxis\":{\"colorbar\":{\"title\":{\"text\":\"Number of loans\"}},\"colorscale\":[[0.0,\"rgb(247,252,245)\"],[0.125,\"rgb(229,245,224)\"],[0.25,\"rgb(199,233,192)\"],[0.375,\"rgb(161,217,155)\"],[0.5,\"rgb(116,196,118)\"],[0.625,\"rgb(65,171,93)\"],[0.75,\"rgb(35,139,69)\"],[0.875,\"rgb(0,109,44)\"],[1.0,\"rgb(0,68,27)\"]]},\"legend\":{\"tracegroupgap\":0},\"margin\":{\"t\":60},\"title\":{\"text\":\"Loans per country<br>Source:<a href=\\\"https://www.kaggle.com/kiva/data-science-for-good-kiva-crowdfunding\\\">Kiva - Data Science for Good</a>\"}},                        {\"responsive\": true}                    ).then(function(){\n",
       "                            \n",
       "var gd = document.getElementById('5d2a52cb-98f5-42cf-8d99-54dbcac7c71f');\n",
       "var x = new MutationObserver(function (mutations, observer) {{\n",
       "        var display = window.getComputedStyle(gd).display;\n",
       "        if (!display || display === 'none') {{\n",
       "            console.log([gd, 'removed!']);\n",
       "            Plotly.purge(gd);\n",
       "            observer.disconnect();\n",
       "        }}\n",
       "}});\n",
       "\n",
       "// Listen for the removal of the full notebook cells\n",
       "var notebookContainer = gd.closest('#notebook-container');\n",
       "if (notebookContainer) {{\n",
       "    x.observe(notebookContainer, {childList: true});\n",
       "}}\n",
       "\n",
       "// Listen for the clearing of the current output cell\n",
       "var outputEl = gd.closest('.output');\n",
       "if (outputEl) {{\n",
       "    x.observe(outputEl, {childList: true});\n",
       "}}\n",
       "\n",
       "                        })                };                });            </script>        </div>"
      ]
     },
     "metadata": {},
     "output_type": "display_data"
    }
   ],
   "source": [
    "df = kiva_loans_df.groupby([\"country\", \"country_code\"])[\"loan_amount\"].agg([\"count\"]).reset_index()\n",
    "df['iso_alpha'] = df.country_code.apply(lambda x: cc.convert(x, to='ISO3'))\n",
    "fig = px.choropleth(df,locations='iso_alpha', color='count',\n",
    "                           color_continuous_scale=\"Greens\",\n",
    "                           scope=\"world\",\n",
    "                           labels={'count':'Number of loans'}\n",
    "                          )\n",
    "fig.update_layout(title='Loans per country<br>Source:<a href=\"https://www.kaggle.com/kiva/data-science-for-good-kiva-crowdfunding\">Kiva - Data Science for Good</a>')\n",
    "fig.show()"
   ]
  },
  {
   "cell_type": "markdown",
   "id": "2c82c4dc",
   "metadata": {
    "papermill": {
     "duration": 0.03428,
     "end_time": "2023-06-01T17:14:35.761189",
     "exception": false,
     "start_time": "2023-06-01T17:14:35.726909",
     "status": "completed"
    },
    "tags": []
   },
   "source": [
    "---\n",
    "<div style=\"float: right;\">\n",
    "        <a href=\"#0\" class=\"button btn-success btn-sm\" role=\"button\" aria-pressed=\"true\" style=\"color:white\" data-toggle=\"popover\" title=\"Go to Top\">Go to Top</a>\n",
    "</div>"
   ]
  },
  {
   "cell_type": "markdown",
   "id": "c2465213",
   "metadata": {
    "papermill": {
     "duration": 0.036174,
     "end_time": "2023-06-01T17:14:35.832161",
     "exception": false,
     "start_time": "2023-06-01T17:14:35.795987",
     "status": "completed"
    },
    "tags": []
   },
   "source": [
    "## <font color=\"#64a444\">Loans per sector and activity</font>  \n",
    "\n",
    "Let’re represent now the treemap for the couple {sectors, activities}, showing the size and color of tiles proportional with the number of loans."
   ]
  },
  {
   "cell_type": "markdown",
   "id": "bd63b7ad",
   "metadata": {
    "execution": {
     "iopub.execute_input": "2023-05-20T19:49:24.381535Z",
     "iopub.status.busy": "2023-05-20T19:49:24.380843Z",
     "iopub.status.idle": "2023-05-20T19:49:24.686306Z",
     "shell.execute_reply": "2023-05-20T19:49:24.685501Z"
    },
    "papermill": {
     "duration": 0.032173,
     "end_time": "2023-06-01T17:14:35.899333",
     "exception": false,
     "start_time": "2023-06-01T17:14:35.867160",
     "status": "completed"
    },
    "tags": []
   },
   "source": [
    "df = kiva_loans_df.groupby([\"sector\", \"activity\"])[\"loan_amount\"].agg([\"count\"]).reset_index()\n",
    "df = df.sort_values(by=[\"sector\", \"activity\"], ascending=False)\n",
    "df.columns = [\"Sector\", \"Activity\", \"Number of loans\"]\n",
    "fig = px.treemap(df, path=[\"Sector\", \"Activity\"], values='Number of loans',\n",
    "                  color='Number of loans', hover_data=['Sector'],\n",
    "                  color_continuous_scale=\"Greens\",\n",
    "                  color_continuous_midpoint=np.average(df['Number of loans'], \n",
    "                                                       weights=df['Number of loans']))\n",
    "fig.update_layout(margin = dict(t=50, l=25, r=25, b=25), height=1000,\n",
    "                 title=\"Loans per sector and activity\")\n",
    "fig.show()"
   ]
  },
  {
   "cell_type": "markdown",
   "id": "3b15c594",
   "metadata": {
    "papermill": {
     "duration": 0.030683,
     "end_time": "2023-06-01T17:14:35.961181",
     "exception": false,
     "start_time": "2023-06-01T17:14:35.930498",
     "status": "completed"
    },
    "tags": []
   },
   "source": [
    "---\n",
    "<div style=\"float: right;\">\n",
    "        <a href=\"#0\" class=\"button btn-success btn-sm\" role=\"button\" aria-pressed=\"true\" style=\"color:white\" data-toggle=\"popover\" title=\"Go to Top\">Go to Top</a>\n",
    "</div>"
   ]
  },
  {
   "cell_type": "markdown",
   "id": "9dc96e4c",
   "metadata": {
    "papermill": {
     "duration": 0.031404,
     "end_time": "2023-06-01T17:14:36.027081",
     "exception": false,
     "start_time": "2023-06-01T17:14:35.995677",
     "status": "completed"
    },
    "tags": []
   },
   "source": [
    "## <font color=\"#64a444\">Loans currencies</font>  \n",
    "\n",
    "Let’s see now what are the currencies in which these loans are given. First, let's look for the currency used in each country."
   ]
  },
  {
   "cell_type": "markdown",
   "id": "49281024",
   "metadata": {
    "_kg_hide-input": true,
    "execution": {
     "iopub.execute_input": "2023-05-20T19:49:25.438615Z",
     "iopub.status.busy": "2023-05-20T19:49:25.437894Z",
     "iopub.status.idle": "2023-05-20T19:49:25.758366Z",
     "shell.execute_reply": "2023-05-20T19:49:25.757373Z"
    },
    "papermill": {
     "duration": 0.030989,
     "end_time": "2023-06-01T17:14:36.089456",
     "exception": false,
     "start_time": "2023-06-01T17:14:36.058467",
     "status": "completed"
    },
    "tags": []
   },
   "source": [
    "df = kiva_loans_df.groupby([\"country\", \"currency\"])[\"loan_amount\"].agg([\"count\"]).reset_index()\n",
    "df = df.sort_values(by=[\"country\", \"currency\"], ascending=False)\n",
    "df.columns = [\"Country\", \"Currency\", \"Number of loans\"]\n",
    "fig = px.treemap(df, path=[\"Country\", \"Currency\"], values='Number of loans',\n",
    "                  color='Number of loans', hover_data=['Country'],\n",
    "                  color_continuous_scale=\"Greens\",\n",
    "                  color_continuous_midpoint=np.average(df['Number of loans'], \n",
    "                                                       weights=df['Number of loans']))\n",
    "fig.update_layout(margin = dict(t=50, l=25, r=25, b=25), height=1000,\n",
    "                 title=\"Loans per country and currency\")\n",
    "fig.show()"
   ]
  },
  {
   "cell_type": "markdown",
   "id": "4834213e",
   "metadata": {
    "papermill": {
     "duration": 0.030361,
     "end_time": "2023-06-01T17:14:36.151750",
     "exception": false,
     "start_time": "2023-06-01T17:14:36.121389",
     "status": "completed"
    },
    "tags": []
   },
   "source": [
    "Most of the loans are in PHP (for Philippines - which is natural, since Phillipines has most of the loans) and in USD (El Salvador, Ecuador, Palestine, Lebanon, United States, Cambodia, Nicaragua).  \n",
    "\n",
    "Let’s check as well the distribution of loan amount for the loans in USD, the term in months and the repayment interval.  \n",
    "\n",
    "We start with the distribution of loan amount for the loans in USD, grouped by sectors. We will also remove upper 99% quantile."
   ]
  },
  {
   "cell_type": "code",
   "execution_count": 37,
   "id": "5d3729b6",
   "metadata": {
    "_kg_hide-input": true,
    "execution": {
     "iopub.execute_input": "2023-06-01T17:14:36.218118Z",
     "iopub.status.busy": "2023-06-01T17:14:36.217757Z",
     "iopub.status.idle": "2023-06-01T17:14:36.342154Z",
     "shell.execute_reply": "2023-06-01T17:14:36.340619Z"
    },
    "papermill": {
     "duration": 0.161232,
     "end_time": "2023-06-01T17:14:36.345011",
     "exception": false,
     "start_time": "2023-06-01T17:14:36.183779",
     "status": "completed"
    },
    "tags": []
   },
   "outputs": [],
   "source": [
    "q99 = np.quantile(kiva_loans_df.loan_amount, 0.99)\n",
    "df = kiva_loans_df.loc[(kiva_loans_df.currency==\"USD\") & (kiva_loans_df.loan_amount < q99)][[\"sector\", \"loan_amount\", \"currency\"]]"
   ]
  },
  {
   "cell_type": "markdown",
   "id": "0626e674",
   "metadata": {
    "_kg_hide-input": true,
    "execution": {
     "iopub.execute_input": "2023-05-20T19:49:26.806543Z",
     "iopub.status.busy": "2023-05-20T19:49:26.805603Z",
     "iopub.status.idle": "2023-05-20T19:49:27.675950Z",
     "shell.execute_reply": "2023-05-20T19:49:27.674717Z"
    },
    "papermill": {
     "duration": 0.032626,
     "end_time": "2023-06-01T17:14:36.409176",
     "exception": false,
     "start_time": "2023-06-01T17:14:36.376550",
     "status": "completed"
    },
    "tags": []
   },
   "source": [
    "def draw_trace(dataset, sector, feature):\n",
    "    dfS = dataset[dataset['sector']==sector];\n",
    "    trace = go.Box(\n",
    "        x = dfS[feature],\n",
    "        name=sector,\n",
    "        marker=dict(\n",
    "                    line=dict(\n",
    "                        color='black',\n",
    "                        width=0.8),\n",
    "                ),\n",
    "        text=dfS['sector'], \n",
    "    )\n",
    "    return trace\n",
    "\n",
    "\n",
    "def draw_group(dataset, feature, title, feature_title, sectors, height=800):\n",
    "    data = list()\n",
    "    for sector in sectors:\n",
    "        data.append(draw_trace(dataset, sector, feature))\n",
    "\n",
    "\n",
    "    layout = dict(title = title,\n",
    "              xaxis = dict(title = feature_title,showticklabels=True),\n",
    "              yaxis = dict(title = 'Sector', showticklabels=True, tickfont=dict(\n",
    "                family='Old Standard TT, serif',\n",
    "                size=12,\n",
    "                color='black'),), \n",
    "              hovermode = 'closest',\n",
    "              showlegend=False,\n",
    "                  width=800,\n",
    "                  height=height,\n",
    "             )\n",
    "    fig = dict(data=data, layout=layout)\n",
    "    iplot(fig, filename='loans-sector')\n",
    "\n",
    "draw_group(df, \"loan_amount\", \n",
    "           \"Loans amounts per sector (only USD loans)\", \n",
    "           'Amount of loans (USD)', \n",
    "           df.sector.unique())"
   ]
  },
  {
   "cell_type": "markdown",
   "id": "3e01048d",
   "metadata": {
    "papermill": {
     "duration": 0.031521,
     "end_time": "2023-06-01T17:14:36.475242",
     "exception": false,
     "start_time": "2023-06-01T17:14:36.443721",
     "status": "completed"
    },
    "tags": []
   },
   "source": [
    "We can see that for Housing sector, both the average and variation of values are smallest whilst for Entertainment the average is the largest as well as the variation. Also there are a lot of outliers in the fourth Quartile.\n",
    "\n",
    "Let’s show on a map the geographical distribution of USD loans (hover over the countries to see the details for each country)."
   ]
  },
  {
   "cell_type": "code",
   "execution_count": 38,
   "id": "57372f5f",
   "metadata": {
    "execution": {
     "iopub.execute_input": "2023-06-01T17:14:36.541595Z",
     "iopub.status.busy": "2023-06-01T17:14:36.541255Z",
     "iopub.status.idle": "2023-06-01T17:14:36.632112Z",
     "shell.execute_reply": "2023-06-01T17:14:36.630796Z"
    },
    "papermill": {
     "duration": 0.126799,
     "end_time": "2023-06-01T17:14:36.634655",
     "exception": false,
     "start_time": "2023-06-01T17:14:36.507856",
     "status": "completed"
    },
    "tags": []
   },
   "outputs": [],
   "source": [
    "df = kiva_loans_df.loc[kiva_loans_df.currency==\"USD\"].groupby([\"country\"])[\"loan_amount\"].sum().reset_index()"
   ]
  },
  {
   "cell_type": "code",
   "execution_count": 39,
   "id": "02a20290",
   "metadata": {
    "execution": {
     "iopub.execute_input": "2023-06-01T17:14:36.698694Z",
     "iopub.status.busy": "2023-06-01T17:14:36.698353Z",
     "iopub.status.idle": "2023-06-01T17:14:41.513225Z",
     "shell.execute_reply": "2023-06-01T17:14:41.511567Z"
    },
    "papermill": {
     "duration": 4.850229,
     "end_time": "2023-06-01T17:14:41.515899",
     "exception": false,
     "start_time": "2023-06-01T17:14:36.665670",
     "status": "completed"
    },
    "tags": []
   },
   "outputs": [
    {
     "data": {
      "application/vnd.plotly.v1+json": {
       "config": {
        "plotlyServerURL": "https://plot.ly"
       },
       "data": [
        {
         "coloraxis": "coloraxis",
         "geo": "geo",
         "hovertemplate": "iso_alpha=%{location}<br>Total loans amount=%{z}<extra></extra>",
         "locations": [
          "AFG",
          "ALB",
          "ARM",
          "AZE",
          "BEN",
          "BTN",
          "BOL",
          "BRA",
          "KHM",
          "CHL",
          "CHN",
          "COL",
          "CIV",
          "ECU",
          "SLV",
          "GEO",
          "GHA",
          "GUM",
          "GTM",
          "HTI",
          "HND",
          "IND",
          "IDN",
          "IRQ",
          "ISR",
          "KEN",
          "KGZ",
          "LAO",
          "LBN",
          "LBR",
          "MDG",
          "MWI",
          "MLI",
          "MRT",
          "MEX",
          "MNG",
          "MOZ",
          "MMR",
          "NPL",
          "NIC",
          "NGA",
          "PAK",
          "PSE",
          "PAN",
          "PRY",
          "PER",
          "PHL",
          "PRI",
          "RWA",
          "WSM",
          "SEN",
          "SLE",
          "SOM",
          "SSD",
          "TJK",
          "TZA",
          "THA",
          "COD",
          "TLS",
          "UGA",
          "USA",
          "not found",
          "ZMB",
          "ZWE"
         ],
         "name": "",
         "type": "choropleth",
         "z": [
          14000.0,
          50000.0,
          5096250.0,
          1200.0,
          50300.0,
          20000.0,
          2159075.0,
          64250.0,
          5382125.0,
          84925.0,
          72000.0,
          70400.0,
          50000.0,
          15000275.0,
          26603650.0,
          1573625.0,
          364500.0,
          4300.0,
          192850.0,
          737950.0,
          64300.0,
          32575.0,
          388500.0,
          2629050.0,
          2000.0,
          1309825.0,
          420850.0,
          69800.0,
          9817975.0,
          41175.0,
          50000.0,
          50000.0,
          8000.0,
          15000.0,
          487700.0,
          468050.0,
          50000.0,
          30000.0,
          50325.0,
          3868950.0,
          35000.0,
          50000.0,
          13054150.0,
          273275.0,
          125.0,
          1923375.0,
          25000.0,
          371400.0,
          347525.0,
          1500.0,
          3000.0,
          30000.0,
          225875.0,
          50000.0,
          2678750.0,
          413475.0,
          244675.0,
          11261150.0,
          2433900.0,
          368550.0,
          31496375.0,
          10000.0,
          79400.0,
          3447350.0
         ]
        }
       ],
       "layout": {
        "coloraxis": {
         "colorbar": {
          "title": {
           "text": "Total loans amount"
          }
         },
         "colorscale": [
          [
           0.0,
           "rgb(247,252,245)"
          ],
          [
           0.125,
           "rgb(229,245,224)"
          ],
          [
           0.25,
           "rgb(199,233,192)"
          ],
          [
           0.375,
           "rgb(161,217,155)"
          ],
          [
           0.5,
           "rgb(116,196,118)"
          ],
          [
           0.625,
           "rgb(65,171,93)"
          ],
          [
           0.75,
           "rgb(35,139,69)"
          ],
          [
           0.875,
           "rgb(0,109,44)"
          ],
          [
           1.0,
           "rgb(0,68,27)"
          ]
         ]
        },
        "geo": {
         "center": {},
         "domain": {
          "x": [
           0.0,
           1.0
          ],
          "y": [
           0.0,
           1.0
          ]
         },
         "scope": "world"
        },
        "legend": {
         "tracegroupgap": 0
        },
        "margin": {
         "t": 60
        },
        "template": {
         "data": {
          "bar": [
           {
            "error_x": {
             "color": "#2a3f5f"
            },
            "error_y": {
             "color": "#2a3f5f"
            },
            "marker": {
             "line": {
              "color": "#E5ECF6",
              "width": 0.5
             },
             "pattern": {
              "fillmode": "overlay",
              "size": 10,
              "solidity": 0.2
             }
            },
            "type": "bar"
           }
          ],
          "barpolar": [
           {
            "marker": {
             "line": {
              "color": "#E5ECF6",
              "width": 0.5
             },
             "pattern": {
              "fillmode": "overlay",
              "size": 10,
              "solidity": 0.2
             }
            },
            "type": "barpolar"
           }
          ],
          "carpet": [
           {
            "aaxis": {
             "endlinecolor": "#2a3f5f",
             "gridcolor": "white",
             "linecolor": "white",
             "minorgridcolor": "white",
             "startlinecolor": "#2a3f5f"
            },
            "baxis": {
             "endlinecolor": "#2a3f5f",
             "gridcolor": "white",
             "linecolor": "white",
             "minorgridcolor": "white",
             "startlinecolor": "#2a3f5f"
            },
            "type": "carpet"
           }
          ],
          "choropleth": [
           {
            "colorbar": {
             "outlinewidth": 0,
             "ticks": ""
            },
            "type": "choropleth"
           }
          ],
          "contour": [
           {
            "colorbar": {
             "outlinewidth": 0,
             "ticks": ""
            },
            "colorscale": [
             [
              0.0,
              "#0d0887"
             ],
             [
              0.1111111111111111,
              "#46039f"
             ],
             [
              0.2222222222222222,
              "#7201a8"
             ],
             [
              0.3333333333333333,
              "#9c179e"
             ],
             [
              0.4444444444444444,
              "#bd3786"
             ],
             [
              0.5555555555555556,
              "#d8576b"
             ],
             [
              0.6666666666666666,
              "#ed7953"
             ],
             [
              0.7777777777777778,
              "#fb9f3a"
             ],
             [
              0.8888888888888888,
              "#fdca26"
             ],
             [
              1.0,
              "#f0f921"
             ]
            ],
            "type": "contour"
           }
          ],
          "contourcarpet": [
           {
            "colorbar": {
             "outlinewidth": 0,
             "ticks": ""
            },
            "type": "contourcarpet"
           }
          ],
          "heatmap": [
           {
            "colorbar": {
             "outlinewidth": 0,
             "ticks": ""
            },
            "colorscale": [
             [
              0.0,
              "#0d0887"
             ],
             [
              0.1111111111111111,
              "#46039f"
             ],
             [
              0.2222222222222222,
              "#7201a8"
             ],
             [
              0.3333333333333333,
              "#9c179e"
             ],
             [
              0.4444444444444444,
              "#bd3786"
             ],
             [
              0.5555555555555556,
              "#d8576b"
             ],
             [
              0.6666666666666666,
              "#ed7953"
             ],
             [
              0.7777777777777778,
              "#fb9f3a"
             ],
             [
              0.8888888888888888,
              "#fdca26"
             ],
             [
              1.0,
              "#f0f921"
             ]
            ],
            "type": "heatmap"
           }
          ],
          "heatmapgl": [
           {
            "colorbar": {
             "outlinewidth": 0,
             "ticks": ""
            },
            "colorscale": [
             [
              0.0,
              "#0d0887"
             ],
             [
              0.1111111111111111,
              "#46039f"
             ],
             [
              0.2222222222222222,
              "#7201a8"
             ],
             [
              0.3333333333333333,
              "#9c179e"
             ],
             [
              0.4444444444444444,
              "#bd3786"
             ],
             [
              0.5555555555555556,
              "#d8576b"
             ],
             [
              0.6666666666666666,
              "#ed7953"
             ],
             [
              0.7777777777777778,
              "#fb9f3a"
             ],
             [
              0.8888888888888888,
              "#fdca26"
             ],
             [
              1.0,
              "#f0f921"
             ]
            ],
            "type": "heatmapgl"
           }
          ],
          "histogram": [
           {
            "marker": {
             "pattern": {
              "fillmode": "overlay",
              "size": 10,
              "solidity": 0.2
             }
            },
            "type": "histogram"
           }
          ],
          "histogram2d": [
           {
            "colorbar": {
             "outlinewidth": 0,
             "ticks": ""
            },
            "colorscale": [
             [
              0.0,
              "#0d0887"
             ],
             [
              0.1111111111111111,
              "#46039f"
             ],
             [
              0.2222222222222222,
              "#7201a8"
             ],
             [
              0.3333333333333333,
              "#9c179e"
             ],
             [
              0.4444444444444444,
              "#bd3786"
             ],
             [
              0.5555555555555556,
              "#d8576b"
             ],
             [
              0.6666666666666666,
              "#ed7953"
             ],
             [
              0.7777777777777778,
              "#fb9f3a"
             ],
             [
              0.8888888888888888,
              "#fdca26"
             ],
             [
              1.0,
              "#f0f921"
             ]
            ],
            "type": "histogram2d"
           }
          ],
          "histogram2dcontour": [
           {
            "colorbar": {
             "outlinewidth": 0,
             "ticks": ""
            },
            "colorscale": [
             [
              0.0,
              "#0d0887"
             ],
             [
              0.1111111111111111,
              "#46039f"
             ],
             [
              0.2222222222222222,
              "#7201a8"
             ],
             [
              0.3333333333333333,
              "#9c179e"
             ],
             [
              0.4444444444444444,
              "#bd3786"
             ],
             [
              0.5555555555555556,
              "#d8576b"
             ],
             [
              0.6666666666666666,
              "#ed7953"
             ],
             [
              0.7777777777777778,
              "#fb9f3a"
             ],
             [
              0.8888888888888888,
              "#fdca26"
             ],
             [
              1.0,
              "#f0f921"
             ]
            ],
            "type": "histogram2dcontour"
           }
          ],
          "mesh3d": [
           {
            "colorbar": {
             "outlinewidth": 0,
             "ticks": ""
            },
            "type": "mesh3d"
           }
          ],
          "parcoords": [
           {
            "line": {
             "colorbar": {
              "outlinewidth": 0,
              "ticks": ""
             }
            },
            "type": "parcoords"
           }
          ],
          "pie": [
           {
            "automargin": true,
            "type": "pie"
           }
          ],
          "scatter": [
           {
            "fillpattern": {
             "fillmode": "overlay",
             "size": 10,
             "solidity": 0.2
            },
            "type": "scatter"
           }
          ],
          "scatter3d": [
           {
            "line": {
             "colorbar": {
              "outlinewidth": 0,
              "ticks": ""
             }
            },
            "marker": {
             "colorbar": {
              "outlinewidth": 0,
              "ticks": ""
             }
            },
            "type": "scatter3d"
           }
          ],
          "scattercarpet": [
           {
            "marker": {
             "colorbar": {
              "outlinewidth": 0,
              "ticks": ""
             }
            },
            "type": "scattercarpet"
           }
          ],
          "scattergeo": [
           {
            "marker": {
             "colorbar": {
              "outlinewidth": 0,
              "ticks": ""
             }
            },
            "type": "scattergeo"
           }
          ],
          "scattergl": [
           {
            "marker": {
             "colorbar": {
              "outlinewidth": 0,
              "ticks": ""
             }
            },
            "type": "scattergl"
           }
          ],
          "scattermapbox": [
           {
            "marker": {
             "colorbar": {
              "outlinewidth": 0,
              "ticks": ""
             }
            },
            "type": "scattermapbox"
           }
          ],
          "scatterpolar": [
           {
            "marker": {
             "colorbar": {
              "outlinewidth": 0,
              "ticks": ""
             }
            },
            "type": "scatterpolar"
           }
          ],
          "scatterpolargl": [
           {
            "marker": {
             "colorbar": {
              "outlinewidth": 0,
              "ticks": ""
             }
            },
            "type": "scatterpolargl"
           }
          ],
          "scatterternary": [
           {
            "marker": {
             "colorbar": {
              "outlinewidth": 0,
              "ticks": ""
             }
            },
            "type": "scatterternary"
           }
          ],
          "surface": [
           {
            "colorbar": {
             "outlinewidth": 0,
             "ticks": ""
            },
            "colorscale": [
             [
              0.0,
              "#0d0887"
             ],
             [
              0.1111111111111111,
              "#46039f"
             ],
             [
              0.2222222222222222,
              "#7201a8"
             ],
             [
              0.3333333333333333,
              "#9c179e"
             ],
             [
              0.4444444444444444,
              "#bd3786"
             ],
             [
              0.5555555555555556,
              "#d8576b"
             ],
             [
              0.6666666666666666,
              "#ed7953"
             ],
             [
              0.7777777777777778,
              "#fb9f3a"
             ],
             [
              0.8888888888888888,
              "#fdca26"
             ],
             [
              1.0,
              "#f0f921"
             ]
            ],
            "type": "surface"
           }
          ],
          "table": [
           {
            "cells": {
             "fill": {
              "color": "#EBF0F8"
             },
             "line": {
              "color": "white"
             }
            },
            "header": {
             "fill": {
              "color": "#C8D4E3"
             },
             "line": {
              "color": "white"
             }
            },
            "type": "table"
           }
          ]
         },
         "layout": {
          "annotationdefaults": {
           "arrowcolor": "#2a3f5f",
           "arrowhead": 0,
           "arrowwidth": 1
          },
          "autotypenumbers": "strict",
          "coloraxis": {
           "colorbar": {
            "outlinewidth": 0,
            "ticks": ""
           }
          },
          "colorscale": {
           "diverging": [
            [
             0,
             "#8e0152"
            ],
            [
             0.1,
             "#c51b7d"
            ],
            [
             0.2,
             "#de77ae"
            ],
            [
             0.3,
             "#f1b6da"
            ],
            [
             0.4,
             "#fde0ef"
            ],
            [
             0.5,
             "#f7f7f7"
            ],
            [
             0.6,
             "#e6f5d0"
            ],
            [
             0.7,
             "#b8e186"
            ],
            [
             0.8,
             "#7fbc41"
            ],
            [
             0.9,
             "#4d9221"
            ],
            [
             1,
             "#276419"
            ]
           ],
           "sequential": [
            [
             0.0,
             "#0d0887"
            ],
            [
             0.1111111111111111,
             "#46039f"
            ],
            [
             0.2222222222222222,
             "#7201a8"
            ],
            [
             0.3333333333333333,
             "#9c179e"
            ],
            [
             0.4444444444444444,
             "#bd3786"
            ],
            [
             0.5555555555555556,
             "#d8576b"
            ],
            [
             0.6666666666666666,
             "#ed7953"
            ],
            [
             0.7777777777777778,
             "#fb9f3a"
            ],
            [
             0.8888888888888888,
             "#fdca26"
            ],
            [
             1.0,
             "#f0f921"
            ]
           ],
           "sequentialminus": [
            [
             0.0,
             "#0d0887"
            ],
            [
             0.1111111111111111,
             "#46039f"
            ],
            [
             0.2222222222222222,
             "#7201a8"
            ],
            [
             0.3333333333333333,
             "#9c179e"
            ],
            [
             0.4444444444444444,
             "#bd3786"
            ],
            [
             0.5555555555555556,
             "#d8576b"
            ],
            [
             0.6666666666666666,
             "#ed7953"
            ],
            [
             0.7777777777777778,
             "#fb9f3a"
            ],
            [
             0.8888888888888888,
             "#fdca26"
            ],
            [
             1.0,
             "#f0f921"
            ]
           ]
          },
          "colorway": [
           "#636efa",
           "#EF553B",
           "#00cc96",
           "#ab63fa",
           "#FFA15A",
           "#19d3f3",
           "#FF6692",
           "#B6E880",
           "#FF97FF",
           "#FECB52"
          ],
          "font": {
           "color": "#2a3f5f"
          },
          "geo": {
           "bgcolor": "white",
           "lakecolor": "white",
           "landcolor": "#E5ECF6",
           "showlakes": true,
           "showland": true,
           "subunitcolor": "white"
          },
          "hoverlabel": {
           "align": "left"
          },
          "hovermode": "closest",
          "mapbox": {
           "style": "light"
          },
          "paper_bgcolor": "white",
          "plot_bgcolor": "#E5ECF6",
          "polar": {
           "angularaxis": {
            "gridcolor": "white",
            "linecolor": "white",
            "ticks": ""
           },
           "bgcolor": "#E5ECF6",
           "radialaxis": {
            "gridcolor": "white",
            "linecolor": "white",
            "ticks": ""
           }
          },
          "scene": {
           "xaxis": {
            "backgroundcolor": "#E5ECF6",
            "gridcolor": "white",
            "gridwidth": 2,
            "linecolor": "white",
            "showbackground": true,
            "ticks": "",
            "zerolinecolor": "white"
           },
           "yaxis": {
            "backgroundcolor": "#E5ECF6",
            "gridcolor": "white",
            "gridwidth": 2,
            "linecolor": "white",
            "showbackground": true,
            "ticks": "",
            "zerolinecolor": "white"
           },
           "zaxis": {
            "backgroundcolor": "#E5ECF6",
            "gridcolor": "white",
            "gridwidth": 2,
            "linecolor": "white",
            "showbackground": true,
            "ticks": "",
            "zerolinecolor": "white"
           }
          },
          "shapedefaults": {
           "line": {
            "color": "#2a3f5f"
           }
          },
          "ternary": {
           "aaxis": {
            "gridcolor": "white",
            "linecolor": "white",
            "ticks": ""
           },
           "baxis": {
            "gridcolor": "white",
            "linecolor": "white",
            "ticks": ""
           },
           "bgcolor": "#E5ECF6",
           "caxis": {
            "gridcolor": "white",
            "linecolor": "white",
            "ticks": ""
           }
          },
          "title": {
           "x": 0.05
          },
          "xaxis": {
           "automargin": true,
           "gridcolor": "white",
           "linecolor": "white",
           "ticks": "",
           "title": {
            "standoff": 15
           },
           "zerolinecolor": "white",
           "zerolinewidth": 2
          },
          "yaxis": {
           "automargin": true,
           "gridcolor": "white",
           "linecolor": "white",
           "ticks": "",
           "title": {
            "standoff": 15
           },
           "zerolinecolor": "white",
           "zerolinewidth": 2
          }
         }
        },
        "title": {
         "text": "Loans per country<br>Source:<a href=\"https://www.kaggle.com/kiva/data-science-for-good-kiva-crowdfunding\">Kiva - Data Science for Good</a>"
        }
       }
      },
      "text/html": [
       "<div>                            <div id=\"d1b84e42-e1ae-496f-9415-7be44320a1a0\" class=\"plotly-graph-div\" style=\"height:525px; width:100%;\"></div>            <script type=\"text/javascript\">                require([\"plotly\"], function(Plotly) {                    window.PLOTLYENV=window.PLOTLYENV || {};                                    if (document.getElementById(\"d1b84e42-e1ae-496f-9415-7be44320a1a0\")) {                    Plotly.newPlot(                        \"d1b84e42-e1ae-496f-9415-7be44320a1a0\",                        [{\"coloraxis\":\"coloraxis\",\"geo\":\"geo\",\"hovertemplate\":\"iso_alpha=%{location}<br>Total loans amount=%{z}<extra></extra>\",\"locations\":[\"AFG\",\"ALB\",\"ARM\",\"AZE\",\"BEN\",\"BTN\",\"BOL\",\"BRA\",\"KHM\",\"CHL\",\"CHN\",\"COL\",\"CIV\",\"ECU\",\"SLV\",\"GEO\",\"GHA\",\"GUM\",\"GTM\",\"HTI\",\"HND\",\"IND\",\"IDN\",\"IRQ\",\"ISR\",\"KEN\",\"KGZ\",\"LAO\",\"LBN\",\"LBR\",\"MDG\",\"MWI\",\"MLI\",\"MRT\",\"MEX\",\"MNG\",\"MOZ\",\"MMR\",\"NPL\",\"NIC\",\"NGA\",\"PAK\",\"PSE\",\"PAN\",\"PRY\",\"PER\",\"PHL\",\"PRI\",\"RWA\",\"WSM\",\"SEN\",\"SLE\",\"SOM\",\"SSD\",\"TJK\",\"TZA\",\"THA\",\"COD\",\"TLS\",\"UGA\",\"USA\",\"not found\",\"ZMB\",\"ZWE\"],\"name\":\"\",\"z\":[14000.0,50000.0,5096250.0,1200.0,50300.0,20000.0,2159075.0,64250.0,5382125.0,84925.0,72000.0,70400.0,50000.0,15000275.0,26603650.0,1573625.0,364500.0,4300.0,192850.0,737950.0,64300.0,32575.0,388500.0,2629050.0,2000.0,1309825.0,420850.0,69800.0,9817975.0,41175.0,50000.0,50000.0,8000.0,15000.0,487700.0,468050.0,50000.0,30000.0,50325.0,3868950.0,35000.0,50000.0,13054150.0,273275.0,125.0,1923375.0,25000.0,371400.0,347525.0,1500.0,3000.0,30000.0,225875.0,50000.0,2678750.0,413475.0,244675.0,11261150.0,2433900.0,368550.0,31496375.0,10000.0,79400.0,3447350.0],\"type\":\"choropleth\"}],                        {\"template\":{\"data\":{\"histogram2dcontour\":[{\"type\":\"histogram2dcontour\",\"colorbar\":{\"outlinewidth\":0,\"ticks\":\"\"},\"colorscale\":[[0.0,\"#0d0887\"],[0.1111111111111111,\"#46039f\"],[0.2222222222222222,\"#7201a8\"],[0.3333333333333333,\"#9c179e\"],[0.4444444444444444,\"#bd3786\"],[0.5555555555555556,\"#d8576b\"],[0.6666666666666666,\"#ed7953\"],[0.7777777777777778,\"#fb9f3a\"],[0.8888888888888888,\"#fdca26\"],[1.0,\"#f0f921\"]]}],\"choropleth\":[{\"type\":\"choropleth\",\"colorbar\":{\"outlinewidth\":0,\"ticks\":\"\"}}],\"histogram2d\":[{\"type\":\"histogram2d\",\"colorbar\":{\"outlinewidth\":0,\"ticks\":\"\"},\"colorscale\":[[0.0,\"#0d0887\"],[0.1111111111111111,\"#46039f\"],[0.2222222222222222,\"#7201a8\"],[0.3333333333333333,\"#9c179e\"],[0.4444444444444444,\"#bd3786\"],[0.5555555555555556,\"#d8576b\"],[0.6666666666666666,\"#ed7953\"],[0.7777777777777778,\"#fb9f3a\"],[0.8888888888888888,\"#fdca26\"],[1.0,\"#f0f921\"]]}],\"heatmap\":[{\"type\":\"heatmap\",\"colorbar\":{\"outlinewidth\":0,\"ticks\":\"\"},\"colorscale\":[[0.0,\"#0d0887\"],[0.1111111111111111,\"#46039f\"],[0.2222222222222222,\"#7201a8\"],[0.3333333333333333,\"#9c179e\"],[0.4444444444444444,\"#bd3786\"],[0.5555555555555556,\"#d8576b\"],[0.6666666666666666,\"#ed7953\"],[0.7777777777777778,\"#fb9f3a\"],[0.8888888888888888,\"#fdca26\"],[1.0,\"#f0f921\"]]}],\"heatmapgl\":[{\"type\":\"heatmapgl\",\"colorbar\":{\"outlinewidth\":0,\"ticks\":\"\"},\"colorscale\":[[0.0,\"#0d0887\"],[0.1111111111111111,\"#46039f\"],[0.2222222222222222,\"#7201a8\"],[0.3333333333333333,\"#9c179e\"],[0.4444444444444444,\"#bd3786\"],[0.5555555555555556,\"#d8576b\"],[0.6666666666666666,\"#ed7953\"],[0.7777777777777778,\"#fb9f3a\"],[0.8888888888888888,\"#fdca26\"],[1.0,\"#f0f921\"]]}],\"contourcarpet\":[{\"type\":\"contourcarpet\",\"colorbar\":{\"outlinewidth\":0,\"ticks\":\"\"}}],\"contour\":[{\"type\":\"contour\",\"colorbar\":{\"outlinewidth\":0,\"ticks\":\"\"},\"colorscale\":[[0.0,\"#0d0887\"],[0.1111111111111111,\"#46039f\"],[0.2222222222222222,\"#7201a8\"],[0.3333333333333333,\"#9c179e\"],[0.4444444444444444,\"#bd3786\"],[0.5555555555555556,\"#d8576b\"],[0.6666666666666666,\"#ed7953\"],[0.7777777777777778,\"#fb9f3a\"],[0.8888888888888888,\"#fdca26\"],[1.0,\"#f0f921\"]]}],\"surface\":[{\"type\":\"surface\",\"colorbar\":{\"outlinewidth\":0,\"ticks\":\"\"},\"colorscale\":[[0.0,\"#0d0887\"],[0.1111111111111111,\"#46039f\"],[0.2222222222222222,\"#7201a8\"],[0.3333333333333333,\"#9c179e\"],[0.4444444444444444,\"#bd3786\"],[0.5555555555555556,\"#d8576b\"],[0.6666666666666666,\"#ed7953\"],[0.7777777777777778,\"#fb9f3a\"],[0.8888888888888888,\"#fdca26\"],[1.0,\"#f0f921\"]]}],\"mesh3d\":[{\"type\":\"mesh3d\",\"colorbar\":{\"outlinewidth\":0,\"ticks\":\"\"}}],\"scatter\":[{\"fillpattern\":{\"fillmode\":\"overlay\",\"size\":10,\"solidity\":0.2},\"type\":\"scatter\"}],\"parcoords\":[{\"type\":\"parcoords\",\"line\":{\"colorbar\":{\"outlinewidth\":0,\"ticks\":\"\"}}}],\"scatterpolargl\":[{\"type\":\"scatterpolargl\",\"marker\":{\"colorbar\":{\"outlinewidth\":0,\"ticks\":\"\"}}}],\"bar\":[{\"error_x\":{\"color\":\"#2a3f5f\"},\"error_y\":{\"color\":\"#2a3f5f\"},\"marker\":{\"line\":{\"color\":\"#E5ECF6\",\"width\":0.5},\"pattern\":{\"fillmode\":\"overlay\",\"size\":10,\"solidity\":0.2}},\"type\":\"bar\"}],\"scattergeo\":[{\"type\":\"scattergeo\",\"marker\":{\"colorbar\":{\"outlinewidth\":0,\"ticks\":\"\"}}}],\"scatterpolar\":[{\"type\":\"scatterpolar\",\"marker\":{\"colorbar\":{\"outlinewidth\":0,\"ticks\":\"\"}}}],\"histogram\":[{\"marker\":{\"pattern\":{\"fillmode\":\"overlay\",\"size\":10,\"solidity\":0.2}},\"type\":\"histogram\"}],\"scattergl\":[{\"type\":\"scattergl\",\"marker\":{\"colorbar\":{\"outlinewidth\":0,\"ticks\":\"\"}}}],\"scatter3d\":[{\"type\":\"scatter3d\",\"line\":{\"colorbar\":{\"outlinewidth\":0,\"ticks\":\"\"}},\"marker\":{\"colorbar\":{\"outlinewidth\":0,\"ticks\":\"\"}}}],\"scattermapbox\":[{\"type\":\"scattermapbox\",\"marker\":{\"colorbar\":{\"outlinewidth\":0,\"ticks\":\"\"}}}],\"scatterternary\":[{\"type\":\"scatterternary\",\"marker\":{\"colorbar\":{\"outlinewidth\":0,\"ticks\":\"\"}}}],\"scattercarpet\":[{\"type\":\"scattercarpet\",\"marker\":{\"colorbar\":{\"outlinewidth\":0,\"ticks\":\"\"}}}],\"carpet\":[{\"aaxis\":{\"endlinecolor\":\"#2a3f5f\",\"gridcolor\":\"white\",\"linecolor\":\"white\",\"minorgridcolor\":\"white\",\"startlinecolor\":\"#2a3f5f\"},\"baxis\":{\"endlinecolor\":\"#2a3f5f\",\"gridcolor\":\"white\",\"linecolor\":\"white\",\"minorgridcolor\":\"white\",\"startlinecolor\":\"#2a3f5f\"},\"type\":\"carpet\"}],\"table\":[{\"cells\":{\"fill\":{\"color\":\"#EBF0F8\"},\"line\":{\"color\":\"white\"}},\"header\":{\"fill\":{\"color\":\"#C8D4E3\"},\"line\":{\"color\":\"white\"}},\"type\":\"table\"}],\"barpolar\":[{\"marker\":{\"line\":{\"color\":\"#E5ECF6\",\"width\":0.5},\"pattern\":{\"fillmode\":\"overlay\",\"size\":10,\"solidity\":0.2}},\"type\":\"barpolar\"}],\"pie\":[{\"automargin\":true,\"type\":\"pie\"}]},\"layout\":{\"autotypenumbers\":\"strict\",\"colorway\":[\"#636efa\",\"#EF553B\",\"#00cc96\",\"#ab63fa\",\"#FFA15A\",\"#19d3f3\",\"#FF6692\",\"#B6E880\",\"#FF97FF\",\"#FECB52\"],\"font\":{\"color\":\"#2a3f5f\"},\"hovermode\":\"closest\",\"hoverlabel\":{\"align\":\"left\"},\"paper_bgcolor\":\"white\",\"plot_bgcolor\":\"#E5ECF6\",\"polar\":{\"bgcolor\":\"#E5ECF6\",\"angularaxis\":{\"gridcolor\":\"white\",\"linecolor\":\"white\",\"ticks\":\"\"},\"radialaxis\":{\"gridcolor\":\"white\",\"linecolor\":\"white\",\"ticks\":\"\"}},\"ternary\":{\"bgcolor\":\"#E5ECF6\",\"aaxis\":{\"gridcolor\":\"white\",\"linecolor\":\"white\",\"ticks\":\"\"},\"baxis\":{\"gridcolor\":\"white\",\"linecolor\":\"white\",\"ticks\":\"\"},\"caxis\":{\"gridcolor\":\"white\",\"linecolor\":\"white\",\"ticks\":\"\"}},\"coloraxis\":{\"colorbar\":{\"outlinewidth\":0,\"ticks\":\"\"}},\"colorscale\":{\"sequential\":[[0.0,\"#0d0887\"],[0.1111111111111111,\"#46039f\"],[0.2222222222222222,\"#7201a8\"],[0.3333333333333333,\"#9c179e\"],[0.4444444444444444,\"#bd3786\"],[0.5555555555555556,\"#d8576b\"],[0.6666666666666666,\"#ed7953\"],[0.7777777777777778,\"#fb9f3a\"],[0.8888888888888888,\"#fdca26\"],[1.0,\"#f0f921\"]],\"sequentialminus\":[[0.0,\"#0d0887\"],[0.1111111111111111,\"#46039f\"],[0.2222222222222222,\"#7201a8\"],[0.3333333333333333,\"#9c179e\"],[0.4444444444444444,\"#bd3786\"],[0.5555555555555556,\"#d8576b\"],[0.6666666666666666,\"#ed7953\"],[0.7777777777777778,\"#fb9f3a\"],[0.8888888888888888,\"#fdca26\"],[1.0,\"#f0f921\"]],\"diverging\":[[0,\"#8e0152\"],[0.1,\"#c51b7d\"],[0.2,\"#de77ae\"],[0.3,\"#f1b6da\"],[0.4,\"#fde0ef\"],[0.5,\"#f7f7f7\"],[0.6,\"#e6f5d0\"],[0.7,\"#b8e186\"],[0.8,\"#7fbc41\"],[0.9,\"#4d9221\"],[1,\"#276419\"]]},\"xaxis\":{\"gridcolor\":\"white\",\"linecolor\":\"white\",\"ticks\":\"\",\"title\":{\"standoff\":15},\"zerolinecolor\":\"white\",\"automargin\":true,\"zerolinewidth\":2},\"yaxis\":{\"gridcolor\":\"white\",\"linecolor\":\"white\",\"ticks\":\"\",\"title\":{\"standoff\":15},\"zerolinecolor\":\"white\",\"automargin\":true,\"zerolinewidth\":2},\"scene\":{\"xaxis\":{\"backgroundcolor\":\"#E5ECF6\",\"gridcolor\":\"white\",\"linecolor\":\"white\",\"showbackground\":true,\"ticks\":\"\",\"zerolinecolor\":\"white\",\"gridwidth\":2},\"yaxis\":{\"backgroundcolor\":\"#E5ECF6\",\"gridcolor\":\"white\",\"linecolor\":\"white\",\"showbackground\":true,\"ticks\":\"\",\"zerolinecolor\":\"white\",\"gridwidth\":2},\"zaxis\":{\"backgroundcolor\":\"#E5ECF6\",\"gridcolor\":\"white\",\"linecolor\":\"white\",\"showbackground\":true,\"ticks\":\"\",\"zerolinecolor\":\"white\",\"gridwidth\":2}},\"shapedefaults\":{\"line\":{\"color\":\"#2a3f5f\"}},\"annotationdefaults\":{\"arrowcolor\":\"#2a3f5f\",\"arrowhead\":0,\"arrowwidth\":1},\"geo\":{\"bgcolor\":\"white\",\"landcolor\":\"#E5ECF6\",\"subunitcolor\":\"white\",\"showland\":true,\"showlakes\":true,\"lakecolor\":\"white\"},\"title\":{\"x\":0.05},\"mapbox\":{\"style\":\"light\"}}},\"geo\":{\"domain\":{\"x\":[0.0,1.0],\"y\":[0.0,1.0]},\"center\":{},\"scope\":\"world\"},\"coloraxis\":{\"colorbar\":{\"title\":{\"text\":\"Total loans amount\"}},\"colorscale\":[[0.0,\"rgb(247,252,245)\"],[0.125,\"rgb(229,245,224)\"],[0.25,\"rgb(199,233,192)\"],[0.375,\"rgb(161,217,155)\"],[0.5,\"rgb(116,196,118)\"],[0.625,\"rgb(65,171,93)\"],[0.75,\"rgb(35,139,69)\"],[0.875,\"rgb(0,109,44)\"],[1.0,\"rgb(0,68,27)\"]]},\"legend\":{\"tracegroupgap\":0},\"margin\":{\"t\":60},\"title\":{\"text\":\"Loans per country<br>Source:<a href=\\\"https://www.kaggle.com/kiva/data-science-for-good-kiva-crowdfunding\\\">Kiva - Data Science for Good</a>\"}},                        {\"responsive\": true}                    ).then(function(){\n",
       "                            \n",
       "var gd = document.getElementById('d1b84e42-e1ae-496f-9415-7be44320a1a0');\n",
       "var x = new MutationObserver(function (mutations, observer) {{\n",
       "        var display = window.getComputedStyle(gd).display;\n",
       "        if (!display || display === 'none') {{\n",
       "            console.log([gd, 'removed!']);\n",
       "            Plotly.purge(gd);\n",
       "            observer.disconnect();\n",
       "        }}\n",
       "}});\n",
       "\n",
       "// Listen for the removal of the full notebook cells\n",
       "var notebookContainer = gd.closest('#notebook-container');\n",
       "if (notebookContainer) {{\n",
       "    x.observe(notebookContainer, {childList: true});\n",
       "}}\n",
       "\n",
       "// Listen for the clearing of the current output cell\n",
       "var outputEl = gd.closest('.output');\n",
       "if (outputEl) {{\n",
       "    x.observe(outputEl, {childList: true});\n",
       "}}\n",
       "\n",
       "                        })                };                });            </script>        </div>"
      ]
     },
     "metadata": {},
     "output_type": "display_data"
    }
   ],
   "source": [
    "df['iso_alpha'] = df.country.apply(lambda x: cc.convert(x, to='ISO3'))\n",
    "fig = px.choropleth(df,locations='iso_alpha', color='loan_amount',\n",
    "                           color_continuous_scale=\"Greens\",\n",
    "                           scope=\"world\",\n",
    "                           labels={'loan_amount':'Total loans amount'}\n",
    "                          )\n",
    "fig.update_layout(title='Loans per country<br>Source:<a href=\"https://www.kaggle.com/kiva/data-science-for-good-kiva-crowdfunding\">Kiva - Data Science for Good</a>')\n",
    "fig.show()"
   ]
  },
  {
   "cell_type": "markdown",
   "id": "7a88e407",
   "metadata": {
    "papermill": {
     "duration": 0.038376,
     "end_time": "2023-06-01T17:14:41.593402",
     "exception": false,
     "start_time": "2023-06-01T17:14:41.555026",
     "status": "completed"
    },
    "tags": []
   },
   "source": [
    "---\n",
    "<div style=\"float: right;\">\n",
    "        <a href=\"#0\" class=\"button btn-success btn-sm\" role=\"button\" aria-pressed=\"true\" style=\"color:white\" data-toggle=\"popover\" title=\"Go to Top\">Go to Top</a>\n",
    "</div>"
   ]
  },
  {
   "cell_type": "markdown",
   "id": "133e4bc0",
   "metadata": {
    "papermill": {
     "duration": 0.039109,
     "end_time": "2023-06-01T17:14:41.669174",
     "exception": false,
     "start_time": "2023-06-01T17:14:41.630065",
     "status": "completed"
    },
    "tags": []
   },
   "source": [
    "## <font color=\"#64a444\">Loan repayment term</font>"
   ]
  },
  {
   "cell_type": "markdown",
   "id": "cbd91737",
   "metadata": {
    "papermill": {
     "duration": 0.041347,
     "end_time": "2023-06-01T17:14:41.748698",
     "exception": false,
     "start_time": "2023-06-01T17:14:41.707351",
     "status": "completed"
    },
    "tags": []
   },
   "source": [
    "We follow with the distribution of the loan repayment term (in months), grouped by sectors.\n"
   ]
  },
  {
   "cell_type": "markdown",
   "id": "aeab4ba1",
   "metadata": {
    "execution": {
     "iopub.execute_input": "2023-05-20T19:49:40.640264Z",
     "iopub.status.busy": "2023-05-20T19:49:40.639735Z",
     "iopub.status.idle": "2023-05-20T19:49:46.128213Z",
     "shell.execute_reply": "2023-05-20T19:49:46.126962Z"
    },
    "papermill": {
     "duration": 0.03866,
     "end_time": "2023-06-01T17:14:41.825717",
     "exception": false,
     "start_time": "2023-06-01T17:14:41.787057",
     "status": "completed"
    },
    "tags": []
   },
   "source": [
    "draw_group(kiva_loans_df, \"term_in_months\", \n",
    "           \"Loans repayment terms per sector\", \n",
    "           'Loans repayment terms (months)', \n",
    "           kiva_loans_df.sector.unique())"
   ]
  },
  {
   "cell_type": "markdown",
   "id": "0350c12d",
   "metadata": {
    "papermill": {
     "duration": 0.036336,
     "end_time": "2023-06-01T17:14:41.900192",
     "exception": false,
     "start_time": "2023-06-01T17:14:41.863856",
     "status": "completed"
    },
    "tags": []
   },
   "source": [
    "We observe that most of the Sectors have small repayment period, with around 12 month average (with Food and Retail with lowest averages). The largest average values are for Entertainment, Education and Housing.\n",
    "\n",
    "Education has a lot of outliers in the upper Quartile which shows a larger spread of repayment months, up to 150 months."
   ]
  },
  {
   "cell_type": "markdown",
   "id": "7d391fdb",
   "metadata": {
    "papermill": {
     "duration": 0.036645,
     "end_time": "2023-06-01T17:14:41.973589",
     "exception": false,
     "start_time": "2023-06-01T17:14:41.936944",
     "status": "completed"
    },
    "tags": []
   },
   "source": [
    "---\n",
    "<div style=\"float: right;\">\n",
    "        <a href=\"#0\" class=\"button btn-success btn-sm\" role=\"button\" aria-pressed=\"true\" style=\"color:white\" data-toggle=\"popover\" title=\"Go to Top\">Go to Top</a>\n",
    "</div>"
   ]
  },
  {
   "cell_type": "markdown",
   "id": "e2cfb460",
   "metadata": {
    "papermill": {
     "duration": 0.044205,
     "end_time": "2023-06-01T17:14:42.058063",
     "exception": false,
     "start_time": "2023-06-01T17:14:42.013858",
     "status": "completed"
    },
    "tags": []
   },
   "source": [
    "## <font color=\"#64a444\">Loan repayment interval</font> \n",
    "\n",
    "We show here the number of loans for each Sector, grouped by repayment interval (monthly, irregular, weekly, bullet)."
   ]
  },
  {
   "cell_type": "code",
   "execution_count": 40,
   "id": "f0cc14e5",
   "metadata": {
    "_kg_hide-input": true,
    "execution": {
     "iopub.execute_input": "2023-06-01T17:14:42.136508Z",
     "iopub.status.busy": "2023-06-01T17:14:42.135805Z",
     "iopub.status.idle": "2023-06-01T17:14:42.182971Z",
     "shell.execute_reply": "2023-06-01T17:14:42.181932Z"
    },
    "papermill": {
     "duration": 0.089497,
     "end_time": "2023-06-01T17:14:42.185620",
     "exception": false,
     "start_time": "2023-06-01T17:14:42.096123",
     "status": "completed"
    },
    "tags": []
   },
   "outputs": [
    {
     "data": {
      "text/plain": [
       "array(['irregular', 'bullet', 'monthly', 'weekly'], dtype=object)"
      ]
     },
     "execution_count": 40,
     "metadata": {},
     "output_type": "execute_result"
    }
   ],
   "source": [
    "repayment_interval = kiva_loans_df.repayment_interval.unique()\n",
    "repayment_interval"
   ]
  },
  {
   "cell_type": "code",
   "execution_count": 41,
   "id": "c6fc6cff",
   "metadata": {
    "_kg_hide-input": true,
    "execution": {
     "iopub.execute_input": "2023-06-01T17:14:42.265519Z",
     "iopub.status.busy": "2023-06-01T17:14:42.265076Z",
     "iopub.status.idle": "2023-06-01T17:14:42.763183Z",
     "shell.execute_reply": "2023-06-01T17:14:42.762081Z"
    },
    "papermill": {
     "duration": 0.539657,
     "end_time": "2023-06-01T17:14:42.765389",
     "exception": false,
     "start_time": "2023-06-01T17:14:42.225732",
     "status": "completed"
    },
    "tags": []
   },
   "outputs": [
    {
     "data": {
      "application/vnd.plotly.v1+json": {
       "config": {
        "linkText": "Export to plot.ly",
        "plotlyServerURL": "https://plot.ly",
        "showLink": false
       },
       "data": [
        {
         "marker": {
          "color": "#3b3b3b",
          "line": {
           "color": "#3b3b3b",
           "width": 1
          },
          "opacity": 0.9
         },
         "name": "irregular",
         "text": [
          "Agriculture",
          "Arts",
          "Clothing",
          "Construction",
          "Education",
          "Entertainment",
          "Food",
          "Health",
          "Housing",
          "Manufacturing",
          "Personal Use",
          "Retail",
          "Services",
          "Transportation",
          "Wholesale"
         ],
         "type": "bar",
         "x": [
          "Agriculture",
          "Arts",
          "Clothing",
          "Construction",
          "Education",
          "Entertainment",
          "Food",
          "Health",
          "Housing",
          "Manufacturing",
          "Personal Use",
          "Retail",
          "Services",
          "Transportation",
          "Wholesale"
         ],
         "y": [
          47524,
          4636,
          13559,
          1549,
          4351,
          226,
          75914,
          1659,
          8451,
          2439,
          4083,
          73646,
          12552,
          6405,
          164
         ]
        },
        {
         "marker": {
          "color": "#7fb466",
          "line": {
           "color": "#7fb466",
           "width": 1
          },
          "opacity": 0.9
         },
         "name": "bullet",
         "text": [
          "Agriculture",
          "Arts",
          "Clothing",
          "Construction",
          "Education",
          "Entertainment",
          "Food",
          "Health",
          "Housing",
          "Manufacturing",
          "Personal Use",
          "Retail",
          "Services",
          "Transportation",
          "Wholesale"
         ],
         "type": "bar",
         "x": [
          "Agriculture",
          "Arts",
          "Clothing",
          "Construction",
          "Education",
          "Entertainment",
          "Food",
          "Health",
          "Housing",
          "Manufacturing",
          "Personal Use",
          "Retail",
          "Services",
          "Transportation",
          "Wholesale"
         ],
         "y": [
          43963,
          1475,
          1048,
          294,
          2437,
          155,
          4607,
          138,
          880,
          451,
          4791,
          4940,
          5083,
          410,
          56
         ]
        },
        {
         "marker": {
          "color": "#b4d4a4",
          "line": {
           "color": "#b4d4a4",
           "width": 1
          },
          "opacity": 0.9
         },
         "name": "monthly",
         "text": [
          "Agriculture",
          "Arts",
          "Clothing",
          "Construction",
          "Education",
          "Entertainment",
          "Food",
          "Health",
          "Housing",
          "Manufacturing",
          "Personal Use",
          "Retail",
          "Services",
          "Transportation",
          "Wholesale"
         ],
         "type": "bar",
         "x": [
          "Agriculture",
          "Arts",
          "Clothing",
          "Construction",
          "Education",
          "Entertainment",
          "Food",
          "Health",
          "Housing",
          "Manufacturing",
          "Personal Use",
          "Retail",
          "Services",
          "Transportation",
          "Wholesale"
         ],
         "y": [
          88776,
          5934,
          17997,
          4414,
          24225,
          449,
          56039,
          7413,
          24400,
          3318,
          27511,
          45784,
          27352,
          8691,
          414
         ]
        },
        {
         "marker": {
          "color": "#1a6333",
          "line": {
           "color": "#1a6333",
           "width": 1
          },
          "opacity": 0.9
         },
         "name": "weekly",
         "text": [
          "Agriculture",
          "Arts",
          "Clothing",
          "Construction",
          "Food",
          "Health",
          "Retail",
          "Services",
          "Transportation"
         ],
         "type": "bar",
         "x": [
          "Agriculture",
          "Arts",
          "Clothing",
          "Construction",
          "Food",
          "Health",
          "Retail",
          "Services",
          "Transportation"
         ],
         "y": [
          39,
          15,
          138,
          11,
          97,
          13,
          124,
          153,
          12
         ]
        }
       ],
       "layout": {
        "hovermode": "closest",
        "template": {
         "data": {
          "bar": [
           {
            "error_x": {
             "color": "#2a3f5f"
            },
            "error_y": {
             "color": "#2a3f5f"
            },
            "marker": {
             "line": {
              "color": "#E5ECF6",
              "width": 0.5
             },
             "pattern": {
              "fillmode": "overlay",
              "size": 10,
              "solidity": 0.2
             }
            },
            "type": "bar"
           }
          ],
          "barpolar": [
           {
            "marker": {
             "line": {
              "color": "#E5ECF6",
              "width": 0.5
             },
             "pattern": {
              "fillmode": "overlay",
              "size": 10,
              "solidity": 0.2
             }
            },
            "type": "barpolar"
           }
          ],
          "carpet": [
           {
            "aaxis": {
             "endlinecolor": "#2a3f5f",
             "gridcolor": "white",
             "linecolor": "white",
             "minorgridcolor": "white",
             "startlinecolor": "#2a3f5f"
            },
            "baxis": {
             "endlinecolor": "#2a3f5f",
             "gridcolor": "white",
             "linecolor": "white",
             "minorgridcolor": "white",
             "startlinecolor": "#2a3f5f"
            },
            "type": "carpet"
           }
          ],
          "choropleth": [
           {
            "colorbar": {
             "outlinewidth": 0,
             "ticks": ""
            },
            "type": "choropleth"
           }
          ],
          "contour": [
           {
            "colorbar": {
             "outlinewidth": 0,
             "ticks": ""
            },
            "colorscale": [
             [
              0.0,
              "#0d0887"
             ],
             [
              0.1111111111111111,
              "#46039f"
             ],
             [
              0.2222222222222222,
              "#7201a8"
             ],
             [
              0.3333333333333333,
              "#9c179e"
             ],
             [
              0.4444444444444444,
              "#bd3786"
             ],
             [
              0.5555555555555556,
              "#d8576b"
             ],
             [
              0.6666666666666666,
              "#ed7953"
             ],
             [
              0.7777777777777778,
              "#fb9f3a"
             ],
             [
              0.8888888888888888,
              "#fdca26"
             ],
             [
              1.0,
              "#f0f921"
             ]
            ],
            "type": "contour"
           }
          ],
          "contourcarpet": [
           {
            "colorbar": {
             "outlinewidth": 0,
             "ticks": ""
            },
            "type": "contourcarpet"
           }
          ],
          "heatmap": [
           {
            "colorbar": {
             "outlinewidth": 0,
             "ticks": ""
            },
            "colorscale": [
             [
              0.0,
              "#0d0887"
             ],
             [
              0.1111111111111111,
              "#46039f"
             ],
             [
              0.2222222222222222,
              "#7201a8"
             ],
             [
              0.3333333333333333,
              "#9c179e"
             ],
             [
              0.4444444444444444,
              "#bd3786"
             ],
             [
              0.5555555555555556,
              "#d8576b"
             ],
             [
              0.6666666666666666,
              "#ed7953"
             ],
             [
              0.7777777777777778,
              "#fb9f3a"
             ],
             [
              0.8888888888888888,
              "#fdca26"
             ],
             [
              1.0,
              "#f0f921"
             ]
            ],
            "type": "heatmap"
           }
          ],
          "heatmapgl": [
           {
            "colorbar": {
             "outlinewidth": 0,
             "ticks": ""
            },
            "colorscale": [
             [
              0.0,
              "#0d0887"
             ],
             [
              0.1111111111111111,
              "#46039f"
             ],
             [
              0.2222222222222222,
              "#7201a8"
             ],
             [
              0.3333333333333333,
              "#9c179e"
             ],
             [
              0.4444444444444444,
              "#bd3786"
             ],
             [
              0.5555555555555556,
              "#d8576b"
             ],
             [
              0.6666666666666666,
              "#ed7953"
             ],
             [
              0.7777777777777778,
              "#fb9f3a"
             ],
             [
              0.8888888888888888,
              "#fdca26"
             ],
             [
              1.0,
              "#f0f921"
             ]
            ],
            "type": "heatmapgl"
           }
          ],
          "histogram": [
           {
            "marker": {
             "pattern": {
              "fillmode": "overlay",
              "size": 10,
              "solidity": 0.2
             }
            },
            "type": "histogram"
           }
          ],
          "histogram2d": [
           {
            "colorbar": {
             "outlinewidth": 0,
             "ticks": ""
            },
            "colorscale": [
             [
              0.0,
              "#0d0887"
             ],
             [
              0.1111111111111111,
              "#46039f"
             ],
             [
              0.2222222222222222,
              "#7201a8"
             ],
             [
              0.3333333333333333,
              "#9c179e"
             ],
             [
              0.4444444444444444,
              "#bd3786"
             ],
             [
              0.5555555555555556,
              "#d8576b"
             ],
             [
              0.6666666666666666,
              "#ed7953"
             ],
             [
              0.7777777777777778,
              "#fb9f3a"
             ],
             [
              0.8888888888888888,
              "#fdca26"
             ],
             [
              1.0,
              "#f0f921"
             ]
            ],
            "type": "histogram2d"
           }
          ],
          "histogram2dcontour": [
           {
            "colorbar": {
             "outlinewidth": 0,
             "ticks": ""
            },
            "colorscale": [
             [
              0.0,
              "#0d0887"
             ],
             [
              0.1111111111111111,
              "#46039f"
             ],
             [
              0.2222222222222222,
              "#7201a8"
             ],
             [
              0.3333333333333333,
              "#9c179e"
             ],
             [
              0.4444444444444444,
              "#bd3786"
             ],
             [
              0.5555555555555556,
              "#d8576b"
             ],
             [
              0.6666666666666666,
              "#ed7953"
             ],
             [
              0.7777777777777778,
              "#fb9f3a"
             ],
             [
              0.8888888888888888,
              "#fdca26"
             ],
             [
              1.0,
              "#f0f921"
             ]
            ],
            "type": "histogram2dcontour"
           }
          ],
          "mesh3d": [
           {
            "colorbar": {
             "outlinewidth": 0,
             "ticks": ""
            },
            "type": "mesh3d"
           }
          ],
          "parcoords": [
           {
            "line": {
             "colorbar": {
              "outlinewidth": 0,
              "ticks": ""
             }
            },
            "type": "parcoords"
           }
          ],
          "pie": [
           {
            "automargin": true,
            "type": "pie"
           }
          ],
          "scatter": [
           {
            "fillpattern": {
             "fillmode": "overlay",
             "size": 10,
             "solidity": 0.2
            },
            "type": "scatter"
           }
          ],
          "scatter3d": [
           {
            "line": {
             "colorbar": {
              "outlinewidth": 0,
              "ticks": ""
             }
            },
            "marker": {
             "colorbar": {
              "outlinewidth": 0,
              "ticks": ""
             }
            },
            "type": "scatter3d"
           }
          ],
          "scattercarpet": [
           {
            "marker": {
             "colorbar": {
              "outlinewidth": 0,
              "ticks": ""
             }
            },
            "type": "scattercarpet"
           }
          ],
          "scattergeo": [
           {
            "marker": {
             "colorbar": {
              "outlinewidth": 0,
              "ticks": ""
             }
            },
            "type": "scattergeo"
           }
          ],
          "scattergl": [
           {
            "marker": {
             "colorbar": {
              "outlinewidth": 0,
              "ticks": ""
             }
            },
            "type": "scattergl"
           }
          ],
          "scattermapbox": [
           {
            "marker": {
             "colorbar": {
              "outlinewidth": 0,
              "ticks": ""
             }
            },
            "type": "scattermapbox"
           }
          ],
          "scatterpolar": [
           {
            "marker": {
             "colorbar": {
              "outlinewidth": 0,
              "ticks": ""
             }
            },
            "type": "scatterpolar"
           }
          ],
          "scatterpolargl": [
           {
            "marker": {
             "colorbar": {
              "outlinewidth": 0,
              "ticks": ""
             }
            },
            "type": "scatterpolargl"
           }
          ],
          "scatterternary": [
           {
            "marker": {
             "colorbar": {
              "outlinewidth": 0,
              "ticks": ""
             }
            },
            "type": "scatterternary"
           }
          ],
          "surface": [
           {
            "colorbar": {
             "outlinewidth": 0,
             "ticks": ""
            },
            "colorscale": [
             [
              0.0,
              "#0d0887"
             ],
             [
              0.1111111111111111,
              "#46039f"
             ],
             [
              0.2222222222222222,
              "#7201a8"
             ],
             [
              0.3333333333333333,
              "#9c179e"
             ],
             [
              0.4444444444444444,
              "#bd3786"
             ],
             [
              0.5555555555555556,
              "#d8576b"
             ],
             [
              0.6666666666666666,
              "#ed7953"
             ],
             [
              0.7777777777777778,
              "#fb9f3a"
             ],
             [
              0.8888888888888888,
              "#fdca26"
             ],
             [
              1.0,
              "#f0f921"
             ]
            ],
            "type": "surface"
           }
          ],
          "table": [
           {
            "cells": {
             "fill": {
              "color": "#EBF0F8"
             },
             "line": {
              "color": "white"
             }
            },
            "header": {
             "fill": {
              "color": "#C8D4E3"
             },
             "line": {
              "color": "white"
             }
            },
            "type": "table"
           }
          ]
         },
         "layout": {
          "annotationdefaults": {
           "arrowcolor": "#2a3f5f",
           "arrowhead": 0,
           "arrowwidth": 1
          },
          "autotypenumbers": "strict",
          "coloraxis": {
           "colorbar": {
            "outlinewidth": 0,
            "ticks": ""
           }
          },
          "colorscale": {
           "diverging": [
            [
             0,
             "#8e0152"
            ],
            [
             0.1,
             "#c51b7d"
            ],
            [
             0.2,
             "#de77ae"
            ],
            [
             0.3,
             "#f1b6da"
            ],
            [
             0.4,
             "#fde0ef"
            ],
            [
             0.5,
             "#f7f7f7"
            ],
            [
             0.6,
             "#e6f5d0"
            ],
            [
             0.7,
             "#b8e186"
            ],
            [
             0.8,
             "#7fbc41"
            ],
            [
             0.9,
             "#4d9221"
            ],
            [
             1,
             "#276419"
            ]
           ],
           "sequential": [
            [
             0.0,
             "#0d0887"
            ],
            [
             0.1111111111111111,
             "#46039f"
            ],
            [
             0.2222222222222222,
             "#7201a8"
            ],
            [
             0.3333333333333333,
             "#9c179e"
            ],
            [
             0.4444444444444444,
             "#bd3786"
            ],
            [
             0.5555555555555556,
             "#d8576b"
            ],
            [
             0.6666666666666666,
             "#ed7953"
            ],
            [
             0.7777777777777778,
             "#fb9f3a"
            ],
            [
             0.8888888888888888,
             "#fdca26"
            ],
            [
             1.0,
             "#f0f921"
            ]
           ],
           "sequentialminus": [
            [
             0.0,
             "#0d0887"
            ],
            [
             0.1111111111111111,
             "#46039f"
            ],
            [
             0.2222222222222222,
             "#7201a8"
            ],
            [
             0.3333333333333333,
             "#9c179e"
            ],
            [
             0.4444444444444444,
             "#bd3786"
            ],
            [
             0.5555555555555556,
             "#d8576b"
            ],
            [
             0.6666666666666666,
             "#ed7953"
            ],
            [
             0.7777777777777778,
             "#fb9f3a"
            ],
            [
             0.8888888888888888,
             "#fdca26"
            ],
            [
             1.0,
             "#f0f921"
            ]
           ]
          },
          "colorway": [
           "#636efa",
           "#EF553B",
           "#00cc96",
           "#ab63fa",
           "#FFA15A",
           "#19d3f3",
           "#FF6692",
           "#B6E880",
           "#FF97FF",
           "#FECB52"
          ],
          "font": {
           "color": "#2a3f5f"
          },
          "geo": {
           "bgcolor": "white",
           "lakecolor": "white",
           "landcolor": "#E5ECF6",
           "showlakes": true,
           "showland": true,
           "subunitcolor": "white"
          },
          "hoverlabel": {
           "align": "left"
          },
          "hovermode": "closest",
          "mapbox": {
           "style": "light"
          },
          "paper_bgcolor": "white",
          "plot_bgcolor": "#E5ECF6",
          "polar": {
           "angularaxis": {
            "gridcolor": "white",
            "linecolor": "white",
            "ticks": ""
           },
           "bgcolor": "#E5ECF6",
           "radialaxis": {
            "gridcolor": "white",
            "linecolor": "white",
            "ticks": ""
           }
          },
          "scene": {
           "xaxis": {
            "backgroundcolor": "#E5ECF6",
            "gridcolor": "white",
            "gridwidth": 2,
            "linecolor": "white",
            "showbackground": true,
            "ticks": "",
            "zerolinecolor": "white"
           },
           "yaxis": {
            "backgroundcolor": "#E5ECF6",
            "gridcolor": "white",
            "gridwidth": 2,
            "linecolor": "white",
            "showbackground": true,
            "ticks": "",
            "zerolinecolor": "white"
           },
           "zaxis": {
            "backgroundcolor": "#E5ECF6",
            "gridcolor": "white",
            "gridwidth": 2,
            "linecolor": "white",
            "showbackground": true,
            "ticks": "",
            "zerolinecolor": "white"
           }
          },
          "shapedefaults": {
           "line": {
            "color": "#2a3f5f"
           }
          },
          "ternary": {
           "aaxis": {
            "gridcolor": "white",
            "linecolor": "white",
            "ticks": ""
           },
           "baxis": {
            "gridcolor": "white",
            "linecolor": "white",
            "ticks": ""
           },
           "bgcolor": "#E5ECF6",
           "caxis": {
            "gridcolor": "white",
            "linecolor": "white",
            "ticks": ""
           }
          },
          "title": {
           "x": 0.05
          },
          "xaxis": {
           "automargin": true,
           "gridcolor": "white",
           "linecolor": "white",
           "ticks": "",
           "title": {
            "standoff": 15
           },
           "zerolinecolor": "white",
           "zerolinewidth": 2
          },
          "yaxis": {
           "automargin": true,
           "gridcolor": "white",
           "linecolor": "white",
           "ticks": "",
           "title": {
            "standoff": 15
           },
           "zerolinecolor": "white",
           "zerolinewidth": 2
          }
         }
        },
        "title": {
         "text": "Loans per sector and repayment interval"
        },
        "width": 600,
        "xaxis": {
         "showticklabels": true,
         "title": {
          "text": "Sector"
         }
        },
        "yaxis": {
         "title": {
          "text": "Loans"
         }
        }
       }
      },
      "text/html": [
       "<div>                            <div id=\"28fad7d5-34db-421b-9f96-10dcdb14ef84\" class=\"plotly-graph-div\" style=\"height:525px; width:600px;\"></div>            <script type=\"text/javascript\">                require([\"plotly\"], function(Plotly) {                    window.PLOTLYENV=window.PLOTLYENV || {};                                    if (document.getElementById(\"28fad7d5-34db-421b-9f96-10dcdb14ef84\")) {                    Plotly.newPlot(                        \"28fad7d5-34db-421b-9f96-10dcdb14ef84\",                        [{\"marker\":{\"color\":\"#3b3b3b\",\"line\":{\"color\":\"#3b3b3b\",\"width\":1},\"opacity\":0.9},\"name\":\"irregular\",\"text\":[\"Agriculture\",\"Arts\",\"Clothing\",\"Construction\",\"Education\",\"Entertainment\",\"Food\",\"Health\",\"Housing\",\"Manufacturing\",\"Personal Use\",\"Retail\",\"Services\",\"Transportation\",\"Wholesale\"],\"x\":[\"Agriculture\",\"Arts\",\"Clothing\",\"Construction\",\"Education\",\"Entertainment\",\"Food\",\"Health\",\"Housing\",\"Manufacturing\",\"Personal Use\",\"Retail\",\"Services\",\"Transportation\",\"Wholesale\"],\"y\":[47524,4636,13559,1549,4351,226,75914,1659,8451,2439,4083,73646,12552,6405,164],\"type\":\"bar\"},{\"marker\":{\"color\":\"#7fb466\",\"line\":{\"color\":\"#7fb466\",\"width\":1},\"opacity\":0.9},\"name\":\"bullet\",\"text\":[\"Agriculture\",\"Arts\",\"Clothing\",\"Construction\",\"Education\",\"Entertainment\",\"Food\",\"Health\",\"Housing\",\"Manufacturing\",\"Personal Use\",\"Retail\",\"Services\",\"Transportation\",\"Wholesale\"],\"x\":[\"Agriculture\",\"Arts\",\"Clothing\",\"Construction\",\"Education\",\"Entertainment\",\"Food\",\"Health\",\"Housing\",\"Manufacturing\",\"Personal Use\",\"Retail\",\"Services\",\"Transportation\",\"Wholesale\"],\"y\":[43963,1475,1048,294,2437,155,4607,138,880,451,4791,4940,5083,410,56],\"type\":\"bar\"},{\"marker\":{\"color\":\"#b4d4a4\",\"line\":{\"color\":\"#b4d4a4\",\"width\":1},\"opacity\":0.9},\"name\":\"monthly\",\"text\":[\"Agriculture\",\"Arts\",\"Clothing\",\"Construction\",\"Education\",\"Entertainment\",\"Food\",\"Health\",\"Housing\",\"Manufacturing\",\"Personal Use\",\"Retail\",\"Services\",\"Transportation\",\"Wholesale\"],\"x\":[\"Agriculture\",\"Arts\",\"Clothing\",\"Construction\",\"Education\",\"Entertainment\",\"Food\",\"Health\",\"Housing\",\"Manufacturing\",\"Personal Use\",\"Retail\",\"Services\",\"Transportation\",\"Wholesale\"],\"y\":[88776,5934,17997,4414,24225,449,56039,7413,24400,3318,27511,45784,27352,8691,414],\"type\":\"bar\"},{\"marker\":{\"color\":\"#1a6333\",\"line\":{\"color\":\"#1a6333\",\"width\":1},\"opacity\":0.9},\"name\":\"weekly\",\"text\":[\"Agriculture\",\"Arts\",\"Clothing\",\"Construction\",\"Food\",\"Health\",\"Retail\",\"Services\",\"Transportation\"],\"x\":[\"Agriculture\",\"Arts\",\"Clothing\",\"Construction\",\"Food\",\"Health\",\"Retail\",\"Services\",\"Transportation\"],\"y\":[39,15,138,11,97,13,124,153,12],\"type\":\"bar\"}],                        {\"hovermode\":\"closest\",\"template\":{\"data\":{\"barpolar\":[{\"marker\":{\"line\":{\"color\":\"#E5ECF6\",\"width\":0.5},\"pattern\":{\"fillmode\":\"overlay\",\"size\":10,\"solidity\":0.2}},\"type\":\"barpolar\"}],\"bar\":[{\"error_x\":{\"color\":\"#2a3f5f\"},\"error_y\":{\"color\":\"#2a3f5f\"},\"marker\":{\"line\":{\"color\":\"#E5ECF6\",\"width\":0.5},\"pattern\":{\"fillmode\":\"overlay\",\"size\":10,\"solidity\":0.2}},\"type\":\"bar\"}],\"carpet\":[{\"aaxis\":{\"endlinecolor\":\"#2a3f5f\",\"gridcolor\":\"white\",\"linecolor\":\"white\",\"minorgridcolor\":\"white\",\"startlinecolor\":\"#2a3f5f\"},\"baxis\":{\"endlinecolor\":\"#2a3f5f\",\"gridcolor\":\"white\",\"linecolor\":\"white\",\"minorgridcolor\":\"white\",\"startlinecolor\":\"#2a3f5f\"},\"type\":\"carpet\"}],\"choropleth\":[{\"colorbar\":{\"outlinewidth\":0,\"ticks\":\"\"},\"type\":\"choropleth\"}],\"contourcarpet\":[{\"colorbar\":{\"outlinewidth\":0,\"ticks\":\"\"},\"type\":\"contourcarpet\"}],\"contour\":[{\"colorbar\":{\"outlinewidth\":0,\"ticks\":\"\"},\"colorscale\":[[0.0,\"#0d0887\"],[0.1111111111111111,\"#46039f\"],[0.2222222222222222,\"#7201a8\"],[0.3333333333333333,\"#9c179e\"],[0.4444444444444444,\"#bd3786\"],[0.5555555555555556,\"#d8576b\"],[0.6666666666666666,\"#ed7953\"],[0.7777777777777778,\"#fb9f3a\"],[0.8888888888888888,\"#fdca26\"],[1.0,\"#f0f921\"]],\"type\":\"contour\"}],\"heatmapgl\":[{\"colorbar\":{\"outlinewidth\":0,\"ticks\":\"\"},\"colorscale\":[[0.0,\"#0d0887\"],[0.1111111111111111,\"#46039f\"],[0.2222222222222222,\"#7201a8\"],[0.3333333333333333,\"#9c179e\"],[0.4444444444444444,\"#bd3786\"],[0.5555555555555556,\"#d8576b\"],[0.6666666666666666,\"#ed7953\"],[0.7777777777777778,\"#fb9f3a\"],[0.8888888888888888,\"#fdca26\"],[1.0,\"#f0f921\"]],\"type\":\"heatmapgl\"}],\"heatmap\":[{\"colorbar\":{\"outlinewidth\":0,\"ticks\":\"\"},\"colorscale\":[[0.0,\"#0d0887\"],[0.1111111111111111,\"#46039f\"],[0.2222222222222222,\"#7201a8\"],[0.3333333333333333,\"#9c179e\"],[0.4444444444444444,\"#bd3786\"],[0.5555555555555556,\"#d8576b\"],[0.6666666666666666,\"#ed7953\"],[0.7777777777777778,\"#fb9f3a\"],[0.8888888888888888,\"#fdca26\"],[1.0,\"#f0f921\"]],\"type\":\"heatmap\"}],\"histogram2dcontour\":[{\"colorbar\":{\"outlinewidth\":0,\"ticks\":\"\"},\"colorscale\":[[0.0,\"#0d0887\"],[0.1111111111111111,\"#46039f\"],[0.2222222222222222,\"#7201a8\"],[0.3333333333333333,\"#9c179e\"],[0.4444444444444444,\"#bd3786\"],[0.5555555555555556,\"#d8576b\"],[0.6666666666666666,\"#ed7953\"],[0.7777777777777778,\"#fb9f3a\"],[0.8888888888888888,\"#fdca26\"],[1.0,\"#f0f921\"]],\"type\":\"histogram2dcontour\"}],\"histogram2d\":[{\"colorbar\":{\"outlinewidth\":0,\"ticks\":\"\"},\"colorscale\":[[0.0,\"#0d0887\"],[0.1111111111111111,\"#46039f\"],[0.2222222222222222,\"#7201a8\"],[0.3333333333333333,\"#9c179e\"],[0.4444444444444444,\"#bd3786\"],[0.5555555555555556,\"#d8576b\"],[0.6666666666666666,\"#ed7953\"],[0.7777777777777778,\"#fb9f3a\"],[0.8888888888888888,\"#fdca26\"],[1.0,\"#f0f921\"]],\"type\":\"histogram2d\"}],\"histogram\":[{\"marker\":{\"pattern\":{\"fillmode\":\"overlay\",\"size\":10,\"solidity\":0.2}},\"type\":\"histogram\"}],\"mesh3d\":[{\"colorbar\":{\"outlinewidth\":0,\"ticks\":\"\"},\"type\":\"mesh3d\"}],\"parcoords\":[{\"line\":{\"colorbar\":{\"outlinewidth\":0,\"ticks\":\"\"}},\"type\":\"parcoords\"}],\"pie\":[{\"automargin\":true,\"type\":\"pie\"}],\"scatter3d\":[{\"line\":{\"colorbar\":{\"outlinewidth\":0,\"ticks\":\"\"}},\"marker\":{\"colorbar\":{\"outlinewidth\":0,\"ticks\":\"\"}},\"type\":\"scatter3d\"}],\"scattercarpet\":[{\"marker\":{\"colorbar\":{\"outlinewidth\":0,\"ticks\":\"\"}},\"type\":\"scattercarpet\"}],\"scattergeo\":[{\"marker\":{\"colorbar\":{\"outlinewidth\":0,\"ticks\":\"\"}},\"type\":\"scattergeo\"}],\"scattergl\":[{\"marker\":{\"colorbar\":{\"outlinewidth\":0,\"ticks\":\"\"}},\"type\":\"scattergl\"}],\"scattermapbox\":[{\"marker\":{\"colorbar\":{\"outlinewidth\":0,\"ticks\":\"\"}},\"type\":\"scattermapbox\"}],\"scatterpolargl\":[{\"marker\":{\"colorbar\":{\"outlinewidth\":0,\"ticks\":\"\"}},\"type\":\"scatterpolargl\"}],\"scatterpolar\":[{\"marker\":{\"colorbar\":{\"outlinewidth\":0,\"ticks\":\"\"}},\"type\":\"scatterpolar\"}],\"scatter\":[{\"fillpattern\":{\"fillmode\":\"overlay\",\"size\":10,\"solidity\":0.2},\"type\":\"scatter\"}],\"scatterternary\":[{\"marker\":{\"colorbar\":{\"outlinewidth\":0,\"ticks\":\"\"}},\"type\":\"scatterternary\"}],\"surface\":[{\"colorbar\":{\"outlinewidth\":0,\"ticks\":\"\"},\"colorscale\":[[0.0,\"#0d0887\"],[0.1111111111111111,\"#46039f\"],[0.2222222222222222,\"#7201a8\"],[0.3333333333333333,\"#9c179e\"],[0.4444444444444444,\"#bd3786\"],[0.5555555555555556,\"#d8576b\"],[0.6666666666666666,\"#ed7953\"],[0.7777777777777778,\"#fb9f3a\"],[0.8888888888888888,\"#fdca26\"],[1.0,\"#f0f921\"]],\"type\":\"surface\"}],\"table\":[{\"cells\":{\"fill\":{\"color\":\"#EBF0F8\"},\"line\":{\"color\":\"white\"}},\"header\":{\"fill\":{\"color\":\"#C8D4E3\"},\"line\":{\"color\":\"white\"}},\"type\":\"table\"}]},\"layout\":{\"annotationdefaults\":{\"arrowcolor\":\"#2a3f5f\",\"arrowhead\":0,\"arrowwidth\":1},\"autotypenumbers\":\"strict\",\"coloraxis\":{\"colorbar\":{\"outlinewidth\":0,\"ticks\":\"\"}},\"colorscale\":{\"diverging\":[[0,\"#8e0152\"],[0.1,\"#c51b7d\"],[0.2,\"#de77ae\"],[0.3,\"#f1b6da\"],[0.4,\"#fde0ef\"],[0.5,\"#f7f7f7\"],[0.6,\"#e6f5d0\"],[0.7,\"#b8e186\"],[0.8,\"#7fbc41\"],[0.9,\"#4d9221\"],[1,\"#276419\"]],\"sequential\":[[0.0,\"#0d0887\"],[0.1111111111111111,\"#46039f\"],[0.2222222222222222,\"#7201a8\"],[0.3333333333333333,\"#9c179e\"],[0.4444444444444444,\"#bd3786\"],[0.5555555555555556,\"#d8576b\"],[0.6666666666666666,\"#ed7953\"],[0.7777777777777778,\"#fb9f3a\"],[0.8888888888888888,\"#fdca26\"],[1.0,\"#f0f921\"]],\"sequentialminus\":[[0.0,\"#0d0887\"],[0.1111111111111111,\"#46039f\"],[0.2222222222222222,\"#7201a8\"],[0.3333333333333333,\"#9c179e\"],[0.4444444444444444,\"#bd3786\"],[0.5555555555555556,\"#d8576b\"],[0.6666666666666666,\"#ed7953\"],[0.7777777777777778,\"#fb9f3a\"],[0.8888888888888888,\"#fdca26\"],[1.0,\"#f0f921\"]]},\"colorway\":[\"#636efa\",\"#EF553B\",\"#00cc96\",\"#ab63fa\",\"#FFA15A\",\"#19d3f3\",\"#FF6692\",\"#B6E880\",\"#FF97FF\",\"#FECB52\"],\"font\":{\"color\":\"#2a3f5f\"},\"geo\":{\"bgcolor\":\"white\",\"lakecolor\":\"white\",\"landcolor\":\"#E5ECF6\",\"showlakes\":true,\"showland\":true,\"subunitcolor\":\"white\"},\"hoverlabel\":{\"align\":\"left\"},\"hovermode\":\"closest\",\"mapbox\":{\"style\":\"light\"},\"paper_bgcolor\":\"white\",\"plot_bgcolor\":\"#E5ECF6\",\"polar\":{\"angularaxis\":{\"gridcolor\":\"white\",\"linecolor\":\"white\",\"ticks\":\"\"},\"bgcolor\":\"#E5ECF6\",\"radialaxis\":{\"gridcolor\":\"white\",\"linecolor\":\"white\",\"ticks\":\"\"}},\"scene\":{\"xaxis\":{\"backgroundcolor\":\"#E5ECF6\",\"gridcolor\":\"white\",\"gridwidth\":2,\"linecolor\":\"white\",\"showbackground\":true,\"ticks\":\"\",\"zerolinecolor\":\"white\"},\"yaxis\":{\"backgroundcolor\":\"#E5ECF6\",\"gridcolor\":\"white\",\"gridwidth\":2,\"linecolor\":\"white\",\"showbackground\":true,\"ticks\":\"\",\"zerolinecolor\":\"white\"},\"zaxis\":{\"backgroundcolor\":\"#E5ECF6\",\"gridcolor\":\"white\",\"gridwidth\":2,\"linecolor\":\"white\",\"showbackground\":true,\"ticks\":\"\",\"zerolinecolor\":\"white\"}},\"shapedefaults\":{\"line\":{\"color\":\"#2a3f5f\"}},\"ternary\":{\"aaxis\":{\"gridcolor\":\"white\",\"linecolor\":\"white\",\"ticks\":\"\"},\"baxis\":{\"gridcolor\":\"white\",\"linecolor\":\"white\",\"ticks\":\"\"},\"bgcolor\":\"#E5ECF6\",\"caxis\":{\"gridcolor\":\"white\",\"linecolor\":\"white\",\"ticks\":\"\"}},\"title\":{\"x\":0.05},\"xaxis\":{\"automargin\":true,\"gridcolor\":\"white\",\"linecolor\":\"white\",\"ticks\":\"\",\"title\":{\"standoff\":15},\"zerolinecolor\":\"white\",\"zerolinewidth\":2},\"yaxis\":{\"automargin\":true,\"gridcolor\":\"white\",\"linecolor\":\"white\",\"ticks\":\"\",\"title\":{\"standoff\":15},\"zerolinecolor\":\"white\",\"zerolinewidth\":2}}},\"title\":{\"text\":\"Loans per sector and repayment interval\"},\"width\":600,\"xaxis\":{\"showticklabels\":true,\"title\":{\"text\":\"Sector\"}},\"yaxis\":{\"title\":{\"text\":\"Loans\"}}},                        {\"responsive\": true}                    ).then(function(){\n",
       "                            \n",
       "var gd = document.getElementById('28fad7d5-34db-421b-9f96-10dcdb14ef84');\n",
       "var x = new MutationObserver(function (mutations, observer) {{\n",
       "        var display = window.getComputedStyle(gd).display;\n",
       "        if (!display || display === 'none') {{\n",
       "            console.log([gd, 'removed!']);\n",
       "            Plotly.purge(gd);\n",
       "            observer.disconnect();\n",
       "        }}\n",
       "}});\n",
       "\n",
       "// Listen for the removal of the full notebook cells\n",
       "var notebookContainer = gd.closest('#notebook-container');\n",
       "if (notebookContainer) {{\n",
       "    x.observe(notebookContainer, {childList: true});\n",
       "}}\n",
       "\n",
       "// Listen for the clearing of the current output cell\n",
       "var outputEl = gd.closest('.output');\n",
       "if (outputEl) {{\n",
       "    x.observe(outputEl, {childList: true});\n",
       "}}\n",
       "\n",
       "                        })                };                });            </script>        </div>"
      ]
     },
     "metadata": {},
     "output_type": "display_data"
    }
   ],
   "source": [
    "data = []\n",
    "cl =[5, 2, 1, 4]\n",
    "for i, ry in enumerate(repayment_interval):\n",
    "    df = kiva_loans_df.loc[kiva_loans_df.repayment_interval==ry]\n",
    "    df = df.groupby(\"sector\")[\"loan_amount\"].count().reset_index()\n",
    "    df.columns = [\"sector\", \"loans\"]\n",
    "    trace = go.Bar(\n",
    "        x = df['sector'],y = df['loans'],\n",
    "        name=ry,\n",
    "         marker=dict(\n",
    "                    color=color_list[cl[i]],\n",
    "                    line=dict(\n",
    "                        color=color_list[cl[i]],\n",
    "                        width=1),\n",
    "                    opacity=0.9,\n",
    "                ),\n",
    "        text= df['sector'],\n",
    "    )\n",
    "    data.append(trace)\n",
    "    \n",
    "layout = dict(title = 'Loans per sector and repayment interval',\n",
    "          xaxis = dict(title = 'Sector', showticklabels=True), \n",
    "          yaxis = dict(title = 'Loans'),\n",
    "          hovermode = 'closest',\n",
    "          #barmode='stack',\n",
    "          width=600\n",
    "         )\n",
    "fig = dict(data=data, layout=layout)\n",
    "iplot(fig, filename='sector-repayment-interval')"
   ]
  },
  {
   "cell_type": "markdown",
   "id": "a00ee0ec",
   "metadata": {
    "papermill": {
     "duration": 0.043851,
     "end_time": "2023-06-01T17:14:42.851808",
     "exception": false,
     "start_time": "2023-06-01T17:14:42.807957",
     "status": "completed"
    },
    "tags": []
   },
   "source": [
    "---\n",
    "<div style=\"float: right;\">\n",
    "        <a href=\"#0\" class=\"button btn-success btn-sm\" role=\"button\" aria-pressed=\"true\" style=\"color:white\" data-toggle=\"popover\" title=\"Go to Top\">Go to Top</a>\n",
    "</div>"
   ]
  },
  {
   "cell_type": "markdown",
   "id": "e5eb895e",
   "metadata": {
    "papermill": {
     "duration": 0.042601,
     "end_time": "2023-06-01T17:14:42.938487",
     "exception": false,
     "start_time": "2023-06-01T17:14:42.895886",
     "status": "completed"
    },
    "tags": []
   },
   "source": [
    "## <font color=\"#64a444\">Loan borowers</font>"
   ]
  },
  {
   "cell_type": "code",
   "execution_count": 42,
   "id": "75502f1d",
   "metadata": {
    "_kg_hide-input": true,
    "execution": {
     "iopub.execute_input": "2023-06-01T17:14:43.025255Z",
     "iopub.status.busy": "2023-06-01T17:14:43.024845Z",
     "iopub.status.idle": "2023-06-01T17:14:44.256740Z",
     "shell.execute_reply": "2023-06-01T17:14:44.255779Z"
    },
    "papermill": {
     "duration": 1.27747,
     "end_time": "2023-06-01T17:14:44.258972",
     "exception": false,
     "start_time": "2023-06-01T17:14:42.981502",
     "status": "completed"
    },
    "tags": []
   },
   "outputs": [],
   "source": [
    "def get_gender_count(text,gen=\"female\"):\n",
    "    count = 0\n",
    "    try:\n",
    "        text = text.split(\",\")\n",
    "        for t in text:\n",
    "            if gen == t.rstrip().lstrip():\n",
    "                count+=1\n",
    "    except:\n",
    "        return count\n",
    "        \n",
    "    return count\n",
    "kiva_loans_df[\"n_male\"] = kiva_loans_df[\"borrower_genders\"].apply(lambda x: get_gender_count(x, \"male\"))\n",
    "kiva_loans_df[\"n_female\"] = kiva_loans_df[\"borrower_genders\"].apply(lambda x: get_gender_count(x, \"female\"))"
   ]
  },
  {
   "cell_type": "code",
   "execution_count": 43,
   "id": "2f7d5c0a",
   "metadata": {
    "_kg_hide-input": true,
    "execution": {
     "iopub.execute_input": "2023-06-01T17:14:44.343414Z",
     "iopub.status.busy": "2023-06-01T17:14:44.343016Z",
     "iopub.status.idle": "2023-06-01T17:14:44.457151Z",
     "shell.execute_reply": "2023-06-01T17:14:44.455826Z"
    },
    "papermill": {
     "duration": 0.159596,
     "end_time": "2023-06-01T17:14:44.460000",
     "exception": false,
     "start_time": "2023-06-01T17:14:44.300404",
     "status": "completed"
    },
    "tags": []
   },
   "outputs": [
    {
     "data": {
      "application/vnd.plotly.v1+json": {
       "config": {
        "linkText": "Export to plot.ly",
        "plotlyServerURL": "https://plot.ly",
        "showLink": false
       },
       "data": [
        {
         "marker": {
          "color": "#64a444",
          "line": {
           "color": "#3b3b3b",
           "width": 1
          },
          "opacity": 0.9
         },
         "type": "bar",
         "x": [
          "Female",
          "Female & Male",
          "Male",
          "Not specified"
         ],
         "y": [
          488081,
          40380,
          138523,
          4221
         ]
        }
       ],
       "layout": {
        "hovermode": "closest",
        "template": {
         "data": {
          "bar": [
           {
            "error_x": {
             "color": "#2a3f5f"
            },
            "error_y": {
             "color": "#2a3f5f"
            },
            "marker": {
             "line": {
              "color": "#E5ECF6",
              "width": 0.5
             },
             "pattern": {
              "fillmode": "overlay",
              "size": 10,
              "solidity": 0.2
             }
            },
            "type": "bar"
           }
          ],
          "barpolar": [
           {
            "marker": {
             "line": {
              "color": "#E5ECF6",
              "width": 0.5
             },
             "pattern": {
              "fillmode": "overlay",
              "size": 10,
              "solidity": 0.2
             }
            },
            "type": "barpolar"
           }
          ],
          "carpet": [
           {
            "aaxis": {
             "endlinecolor": "#2a3f5f",
             "gridcolor": "white",
             "linecolor": "white",
             "minorgridcolor": "white",
             "startlinecolor": "#2a3f5f"
            },
            "baxis": {
             "endlinecolor": "#2a3f5f",
             "gridcolor": "white",
             "linecolor": "white",
             "minorgridcolor": "white",
             "startlinecolor": "#2a3f5f"
            },
            "type": "carpet"
           }
          ],
          "choropleth": [
           {
            "colorbar": {
             "outlinewidth": 0,
             "ticks": ""
            },
            "type": "choropleth"
           }
          ],
          "contour": [
           {
            "colorbar": {
             "outlinewidth": 0,
             "ticks": ""
            },
            "colorscale": [
             [
              0.0,
              "#0d0887"
             ],
             [
              0.1111111111111111,
              "#46039f"
             ],
             [
              0.2222222222222222,
              "#7201a8"
             ],
             [
              0.3333333333333333,
              "#9c179e"
             ],
             [
              0.4444444444444444,
              "#bd3786"
             ],
             [
              0.5555555555555556,
              "#d8576b"
             ],
             [
              0.6666666666666666,
              "#ed7953"
             ],
             [
              0.7777777777777778,
              "#fb9f3a"
             ],
             [
              0.8888888888888888,
              "#fdca26"
             ],
             [
              1.0,
              "#f0f921"
             ]
            ],
            "type": "contour"
           }
          ],
          "contourcarpet": [
           {
            "colorbar": {
             "outlinewidth": 0,
             "ticks": ""
            },
            "type": "contourcarpet"
           }
          ],
          "heatmap": [
           {
            "colorbar": {
             "outlinewidth": 0,
             "ticks": ""
            },
            "colorscale": [
             [
              0.0,
              "#0d0887"
             ],
             [
              0.1111111111111111,
              "#46039f"
             ],
             [
              0.2222222222222222,
              "#7201a8"
             ],
             [
              0.3333333333333333,
              "#9c179e"
             ],
             [
              0.4444444444444444,
              "#bd3786"
             ],
             [
              0.5555555555555556,
              "#d8576b"
             ],
             [
              0.6666666666666666,
              "#ed7953"
             ],
             [
              0.7777777777777778,
              "#fb9f3a"
             ],
             [
              0.8888888888888888,
              "#fdca26"
             ],
             [
              1.0,
              "#f0f921"
             ]
            ],
            "type": "heatmap"
           }
          ],
          "heatmapgl": [
           {
            "colorbar": {
             "outlinewidth": 0,
             "ticks": ""
            },
            "colorscale": [
             [
              0.0,
              "#0d0887"
             ],
             [
              0.1111111111111111,
              "#46039f"
             ],
             [
              0.2222222222222222,
              "#7201a8"
             ],
             [
              0.3333333333333333,
              "#9c179e"
             ],
             [
              0.4444444444444444,
              "#bd3786"
             ],
             [
              0.5555555555555556,
              "#d8576b"
             ],
             [
              0.6666666666666666,
              "#ed7953"
             ],
             [
              0.7777777777777778,
              "#fb9f3a"
             ],
             [
              0.8888888888888888,
              "#fdca26"
             ],
             [
              1.0,
              "#f0f921"
             ]
            ],
            "type": "heatmapgl"
           }
          ],
          "histogram": [
           {
            "marker": {
             "pattern": {
              "fillmode": "overlay",
              "size": 10,
              "solidity": 0.2
             }
            },
            "type": "histogram"
           }
          ],
          "histogram2d": [
           {
            "colorbar": {
             "outlinewidth": 0,
             "ticks": ""
            },
            "colorscale": [
             [
              0.0,
              "#0d0887"
             ],
             [
              0.1111111111111111,
              "#46039f"
             ],
             [
              0.2222222222222222,
              "#7201a8"
             ],
             [
              0.3333333333333333,
              "#9c179e"
             ],
             [
              0.4444444444444444,
              "#bd3786"
             ],
             [
              0.5555555555555556,
              "#d8576b"
             ],
             [
              0.6666666666666666,
              "#ed7953"
             ],
             [
              0.7777777777777778,
              "#fb9f3a"
             ],
             [
              0.8888888888888888,
              "#fdca26"
             ],
             [
              1.0,
              "#f0f921"
             ]
            ],
            "type": "histogram2d"
           }
          ],
          "histogram2dcontour": [
           {
            "colorbar": {
             "outlinewidth": 0,
             "ticks": ""
            },
            "colorscale": [
             [
              0.0,
              "#0d0887"
             ],
             [
              0.1111111111111111,
              "#46039f"
             ],
             [
              0.2222222222222222,
              "#7201a8"
             ],
             [
              0.3333333333333333,
              "#9c179e"
             ],
             [
              0.4444444444444444,
              "#bd3786"
             ],
             [
              0.5555555555555556,
              "#d8576b"
             ],
             [
              0.6666666666666666,
              "#ed7953"
             ],
             [
              0.7777777777777778,
              "#fb9f3a"
             ],
             [
              0.8888888888888888,
              "#fdca26"
             ],
             [
              1.0,
              "#f0f921"
             ]
            ],
            "type": "histogram2dcontour"
           }
          ],
          "mesh3d": [
           {
            "colorbar": {
             "outlinewidth": 0,
             "ticks": ""
            },
            "type": "mesh3d"
           }
          ],
          "parcoords": [
           {
            "line": {
             "colorbar": {
              "outlinewidth": 0,
              "ticks": ""
             }
            },
            "type": "parcoords"
           }
          ],
          "pie": [
           {
            "automargin": true,
            "type": "pie"
           }
          ],
          "scatter": [
           {
            "fillpattern": {
             "fillmode": "overlay",
             "size": 10,
             "solidity": 0.2
            },
            "type": "scatter"
           }
          ],
          "scatter3d": [
           {
            "line": {
             "colorbar": {
              "outlinewidth": 0,
              "ticks": ""
             }
            },
            "marker": {
             "colorbar": {
              "outlinewidth": 0,
              "ticks": ""
             }
            },
            "type": "scatter3d"
           }
          ],
          "scattercarpet": [
           {
            "marker": {
             "colorbar": {
              "outlinewidth": 0,
              "ticks": ""
             }
            },
            "type": "scattercarpet"
           }
          ],
          "scattergeo": [
           {
            "marker": {
             "colorbar": {
              "outlinewidth": 0,
              "ticks": ""
             }
            },
            "type": "scattergeo"
           }
          ],
          "scattergl": [
           {
            "marker": {
             "colorbar": {
              "outlinewidth": 0,
              "ticks": ""
             }
            },
            "type": "scattergl"
           }
          ],
          "scattermapbox": [
           {
            "marker": {
             "colorbar": {
              "outlinewidth": 0,
              "ticks": ""
             }
            },
            "type": "scattermapbox"
           }
          ],
          "scatterpolar": [
           {
            "marker": {
             "colorbar": {
              "outlinewidth": 0,
              "ticks": ""
             }
            },
            "type": "scatterpolar"
           }
          ],
          "scatterpolargl": [
           {
            "marker": {
             "colorbar": {
              "outlinewidth": 0,
              "ticks": ""
             }
            },
            "type": "scatterpolargl"
           }
          ],
          "scatterternary": [
           {
            "marker": {
             "colorbar": {
              "outlinewidth": 0,
              "ticks": ""
             }
            },
            "type": "scatterternary"
           }
          ],
          "surface": [
           {
            "colorbar": {
             "outlinewidth": 0,
             "ticks": ""
            },
            "colorscale": [
             [
              0.0,
              "#0d0887"
             ],
             [
              0.1111111111111111,
              "#46039f"
             ],
             [
              0.2222222222222222,
              "#7201a8"
             ],
             [
              0.3333333333333333,
              "#9c179e"
             ],
             [
              0.4444444444444444,
              "#bd3786"
             ],
             [
              0.5555555555555556,
              "#d8576b"
             ],
             [
              0.6666666666666666,
              "#ed7953"
             ],
             [
              0.7777777777777778,
              "#fb9f3a"
             ],
             [
              0.8888888888888888,
              "#fdca26"
             ],
             [
              1.0,
              "#f0f921"
             ]
            ],
            "type": "surface"
           }
          ],
          "table": [
           {
            "cells": {
             "fill": {
              "color": "#EBF0F8"
             },
             "line": {
              "color": "white"
             }
            },
            "header": {
             "fill": {
              "color": "#C8D4E3"
             },
             "line": {
              "color": "white"
             }
            },
            "type": "table"
           }
          ]
         },
         "layout": {
          "annotationdefaults": {
           "arrowcolor": "#2a3f5f",
           "arrowhead": 0,
           "arrowwidth": 1
          },
          "autotypenumbers": "strict",
          "coloraxis": {
           "colorbar": {
            "outlinewidth": 0,
            "ticks": ""
           }
          },
          "colorscale": {
           "diverging": [
            [
             0,
             "#8e0152"
            ],
            [
             0.1,
             "#c51b7d"
            ],
            [
             0.2,
             "#de77ae"
            ],
            [
             0.3,
             "#f1b6da"
            ],
            [
             0.4,
             "#fde0ef"
            ],
            [
             0.5,
             "#f7f7f7"
            ],
            [
             0.6,
             "#e6f5d0"
            ],
            [
             0.7,
             "#b8e186"
            ],
            [
             0.8,
             "#7fbc41"
            ],
            [
             0.9,
             "#4d9221"
            ],
            [
             1,
             "#276419"
            ]
           ],
           "sequential": [
            [
             0.0,
             "#0d0887"
            ],
            [
             0.1111111111111111,
             "#46039f"
            ],
            [
             0.2222222222222222,
             "#7201a8"
            ],
            [
             0.3333333333333333,
             "#9c179e"
            ],
            [
             0.4444444444444444,
             "#bd3786"
            ],
            [
             0.5555555555555556,
             "#d8576b"
            ],
            [
             0.6666666666666666,
             "#ed7953"
            ],
            [
             0.7777777777777778,
             "#fb9f3a"
            ],
            [
             0.8888888888888888,
             "#fdca26"
            ],
            [
             1.0,
             "#f0f921"
            ]
           ],
           "sequentialminus": [
            [
             0.0,
             "#0d0887"
            ],
            [
             0.1111111111111111,
             "#46039f"
            ],
            [
             0.2222222222222222,
             "#7201a8"
            ],
            [
             0.3333333333333333,
             "#9c179e"
            ],
            [
             0.4444444444444444,
             "#bd3786"
            ],
            [
             0.5555555555555556,
             "#d8576b"
            ],
            [
             0.6666666666666666,
             "#ed7953"
            ],
            [
             0.7777777777777778,
             "#fb9f3a"
            ],
            [
             0.8888888888888888,
             "#fdca26"
            ],
            [
             1.0,
             "#f0f921"
            ]
           ]
          },
          "colorway": [
           "#636efa",
           "#EF553B",
           "#00cc96",
           "#ab63fa",
           "#FFA15A",
           "#19d3f3",
           "#FF6692",
           "#B6E880",
           "#FF97FF",
           "#FECB52"
          ],
          "font": {
           "color": "#2a3f5f"
          },
          "geo": {
           "bgcolor": "white",
           "lakecolor": "white",
           "landcolor": "#E5ECF6",
           "showlakes": true,
           "showland": true,
           "subunitcolor": "white"
          },
          "hoverlabel": {
           "align": "left"
          },
          "hovermode": "closest",
          "mapbox": {
           "style": "light"
          },
          "paper_bgcolor": "white",
          "plot_bgcolor": "#E5ECF6",
          "polar": {
           "angularaxis": {
            "gridcolor": "white",
            "linecolor": "white",
            "ticks": ""
           },
           "bgcolor": "#E5ECF6",
           "radialaxis": {
            "gridcolor": "white",
            "linecolor": "white",
            "ticks": ""
           }
          },
          "scene": {
           "xaxis": {
            "backgroundcolor": "#E5ECF6",
            "gridcolor": "white",
            "gridwidth": 2,
            "linecolor": "white",
            "showbackground": true,
            "ticks": "",
            "zerolinecolor": "white"
           },
           "yaxis": {
            "backgroundcolor": "#E5ECF6",
            "gridcolor": "white",
            "gridwidth": 2,
            "linecolor": "white",
            "showbackground": true,
            "ticks": "",
            "zerolinecolor": "white"
           },
           "zaxis": {
            "backgroundcolor": "#E5ECF6",
            "gridcolor": "white",
            "gridwidth": 2,
            "linecolor": "white",
            "showbackground": true,
            "ticks": "",
            "zerolinecolor": "white"
           }
          },
          "shapedefaults": {
           "line": {
            "color": "#2a3f5f"
           }
          },
          "ternary": {
           "aaxis": {
            "gridcolor": "white",
            "linecolor": "white",
            "ticks": ""
           },
           "baxis": {
            "gridcolor": "white",
            "linecolor": "white",
            "ticks": ""
           },
           "bgcolor": "#E5ECF6",
           "caxis": {
            "gridcolor": "white",
            "linecolor": "white",
            "ticks": ""
           }
          },
          "title": {
           "x": 0.05
          },
          "xaxis": {
           "automargin": true,
           "gridcolor": "white",
           "linecolor": "white",
           "ticks": "",
           "title": {
            "standoff": 15
           },
           "zerolinecolor": "white",
           "zerolinewidth": 2
          },
          "yaxis": {
           "automargin": true,
           "gridcolor": "white",
           "linecolor": "white",
           "ticks": "",
           "title": {
            "standoff": 15
           },
           "zerolinecolor": "white",
           "zerolinewidth": 2
          }
         }
        },
        "title": {
         "text": "Loans per borrower gender"
        },
        "width": 600,
        "xaxis": {
         "showticklabels": true,
         "title": {
          "text": "Borrower genders"
         }
        },
        "yaxis": {
         "title": {
          "text": "Loans"
         }
        }
       }
      },
      "text/html": [
       "<div>                            <div id=\"2e6a9515-37c6-4a3f-afe3-d4bdd9920af1\" class=\"plotly-graph-div\" style=\"height:525px; width:600px;\"></div>            <script type=\"text/javascript\">                require([\"plotly\"], function(Plotly) {                    window.PLOTLYENV=window.PLOTLYENV || {};                                    if (document.getElementById(\"2e6a9515-37c6-4a3f-afe3-d4bdd9920af1\")) {                    Plotly.newPlot(                        \"2e6a9515-37c6-4a3f-afe3-d4bdd9920af1\",                        [{\"marker\":{\"color\":\"#64a444\",\"line\":{\"color\":\"#3b3b3b\",\"width\":1},\"opacity\":0.9},\"x\":[\"Female\",\"Female & Male\",\"Male\",\"Not specified\"],\"y\":[488081,40380,138523,4221],\"type\":\"bar\"}],                        {\"hovermode\":\"closest\",\"template\":{\"data\":{\"barpolar\":[{\"marker\":{\"line\":{\"color\":\"#E5ECF6\",\"width\":0.5},\"pattern\":{\"fillmode\":\"overlay\",\"size\":10,\"solidity\":0.2}},\"type\":\"barpolar\"}],\"bar\":[{\"error_x\":{\"color\":\"#2a3f5f\"},\"error_y\":{\"color\":\"#2a3f5f\"},\"marker\":{\"line\":{\"color\":\"#E5ECF6\",\"width\":0.5},\"pattern\":{\"fillmode\":\"overlay\",\"size\":10,\"solidity\":0.2}},\"type\":\"bar\"}],\"carpet\":[{\"aaxis\":{\"endlinecolor\":\"#2a3f5f\",\"gridcolor\":\"white\",\"linecolor\":\"white\",\"minorgridcolor\":\"white\",\"startlinecolor\":\"#2a3f5f\"},\"baxis\":{\"endlinecolor\":\"#2a3f5f\",\"gridcolor\":\"white\",\"linecolor\":\"white\",\"minorgridcolor\":\"white\",\"startlinecolor\":\"#2a3f5f\"},\"type\":\"carpet\"}],\"choropleth\":[{\"colorbar\":{\"outlinewidth\":0,\"ticks\":\"\"},\"type\":\"choropleth\"}],\"contourcarpet\":[{\"colorbar\":{\"outlinewidth\":0,\"ticks\":\"\"},\"type\":\"contourcarpet\"}],\"contour\":[{\"colorbar\":{\"outlinewidth\":0,\"ticks\":\"\"},\"colorscale\":[[0.0,\"#0d0887\"],[0.1111111111111111,\"#46039f\"],[0.2222222222222222,\"#7201a8\"],[0.3333333333333333,\"#9c179e\"],[0.4444444444444444,\"#bd3786\"],[0.5555555555555556,\"#d8576b\"],[0.6666666666666666,\"#ed7953\"],[0.7777777777777778,\"#fb9f3a\"],[0.8888888888888888,\"#fdca26\"],[1.0,\"#f0f921\"]],\"type\":\"contour\"}],\"heatmapgl\":[{\"colorbar\":{\"outlinewidth\":0,\"ticks\":\"\"},\"colorscale\":[[0.0,\"#0d0887\"],[0.1111111111111111,\"#46039f\"],[0.2222222222222222,\"#7201a8\"],[0.3333333333333333,\"#9c179e\"],[0.4444444444444444,\"#bd3786\"],[0.5555555555555556,\"#d8576b\"],[0.6666666666666666,\"#ed7953\"],[0.7777777777777778,\"#fb9f3a\"],[0.8888888888888888,\"#fdca26\"],[1.0,\"#f0f921\"]],\"type\":\"heatmapgl\"}],\"heatmap\":[{\"colorbar\":{\"outlinewidth\":0,\"ticks\":\"\"},\"colorscale\":[[0.0,\"#0d0887\"],[0.1111111111111111,\"#46039f\"],[0.2222222222222222,\"#7201a8\"],[0.3333333333333333,\"#9c179e\"],[0.4444444444444444,\"#bd3786\"],[0.5555555555555556,\"#d8576b\"],[0.6666666666666666,\"#ed7953\"],[0.7777777777777778,\"#fb9f3a\"],[0.8888888888888888,\"#fdca26\"],[1.0,\"#f0f921\"]],\"type\":\"heatmap\"}],\"histogram2dcontour\":[{\"colorbar\":{\"outlinewidth\":0,\"ticks\":\"\"},\"colorscale\":[[0.0,\"#0d0887\"],[0.1111111111111111,\"#46039f\"],[0.2222222222222222,\"#7201a8\"],[0.3333333333333333,\"#9c179e\"],[0.4444444444444444,\"#bd3786\"],[0.5555555555555556,\"#d8576b\"],[0.6666666666666666,\"#ed7953\"],[0.7777777777777778,\"#fb9f3a\"],[0.8888888888888888,\"#fdca26\"],[1.0,\"#f0f921\"]],\"type\":\"histogram2dcontour\"}],\"histogram2d\":[{\"colorbar\":{\"outlinewidth\":0,\"ticks\":\"\"},\"colorscale\":[[0.0,\"#0d0887\"],[0.1111111111111111,\"#46039f\"],[0.2222222222222222,\"#7201a8\"],[0.3333333333333333,\"#9c179e\"],[0.4444444444444444,\"#bd3786\"],[0.5555555555555556,\"#d8576b\"],[0.6666666666666666,\"#ed7953\"],[0.7777777777777778,\"#fb9f3a\"],[0.8888888888888888,\"#fdca26\"],[1.0,\"#f0f921\"]],\"type\":\"histogram2d\"}],\"histogram\":[{\"marker\":{\"pattern\":{\"fillmode\":\"overlay\",\"size\":10,\"solidity\":0.2}},\"type\":\"histogram\"}],\"mesh3d\":[{\"colorbar\":{\"outlinewidth\":0,\"ticks\":\"\"},\"type\":\"mesh3d\"}],\"parcoords\":[{\"line\":{\"colorbar\":{\"outlinewidth\":0,\"ticks\":\"\"}},\"type\":\"parcoords\"}],\"pie\":[{\"automargin\":true,\"type\":\"pie\"}],\"scatter3d\":[{\"line\":{\"colorbar\":{\"outlinewidth\":0,\"ticks\":\"\"}},\"marker\":{\"colorbar\":{\"outlinewidth\":0,\"ticks\":\"\"}},\"type\":\"scatter3d\"}],\"scattercarpet\":[{\"marker\":{\"colorbar\":{\"outlinewidth\":0,\"ticks\":\"\"}},\"type\":\"scattercarpet\"}],\"scattergeo\":[{\"marker\":{\"colorbar\":{\"outlinewidth\":0,\"ticks\":\"\"}},\"type\":\"scattergeo\"}],\"scattergl\":[{\"marker\":{\"colorbar\":{\"outlinewidth\":0,\"ticks\":\"\"}},\"type\":\"scattergl\"}],\"scattermapbox\":[{\"marker\":{\"colorbar\":{\"outlinewidth\":0,\"ticks\":\"\"}},\"type\":\"scattermapbox\"}],\"scatterpolargl\":[{\"marker\":{\"colorbar\":{\"outlinewidth\":0,\"ticks\":\"\"}},\"type\":\"scatterpolargl\"}],\"scatterpolar\":[{\"marker\":{\"colorbar\":{\"outlinewidth\":0,\"ticks\":\"\"}},\"type\":\"scatterpolar\"}],\"scatter\":[{\"fillpattern\":{\"fillmode\":\"overlay\",\"size\":10,\"solidity\":0.2},\"type\":\"scatter\"}],\"scatterternary\":[{\"marker\":{\"colorbar\":{\"outlinewidth\":0,\"ticks\":\"\"}},\"type\":\"scatterternary\"}],\"surface\":[{\"colorbar\":{\"outlinewidth\":0,\"ticks\":\"\"},\"colorscale\":[[0.0,\"#0d0887\"],[0.1111111111111111,\"#46039f\"],[0.2222222222222222,\"#7201a8\"],[0.3333333333333333,\"#9c179e\"],[0.4444444444444444,\"#bd3786\"],[0.5555555555555556,\"#d8576b\"],[0.6666666666666666,\"#ed7953\"],[0.7777777777777778,\"#fb9f3a\"],[0.8888888888888888,\"#fdca26\"],[1.0,\"#f0f921\"]],\"type\":\"surface\"}],\"table\":[{\"cells\":{\"fill\":{\"color\":\"#EBF0F8\"},\"line\":{\"color\":\"white\"}},\"header\":{\"fill\":{\"color\":\"#C8D4E3\"},\"line\":{\"color\":\"white\"}},\"type\":\"table\"}]},\"layout\":{\"annotationdefaults\":{\"arrowcolor\":\"#2a3f5f\",\"arrowhead\":0,\"arrowwidth\":1},\"autotypenumbers\":\"strict\",\"coloraxis\":{\"colorbar\":{\"outlinewidth\":0,\"ticks\":\"\"}},\"colorscale\":{\"diverging\":[[0,\"#8e0152\"],[0.1,\"#c51b7d\"],[0.2,\"#de77ae\"],[0.3,\"#f1b6da\"],[0.4,\"#fde0ef\"],[0.5,\"#f7f7f7\"],[0.6,\"#e6f5d0\"],[0.7,\"#b8e186\"],[0.8,\"#7fbc41\"],[0.9,\"#4d9221\"],[1,\"#276419\"]],\"sequential\":[[0.0,\"#0d0887\"],[0.1111111111111111,\"#46039f\"],[0.2222222222222222,\"#7201a8\"],[0.3333333333333333,\"#9c179e\"],[0.4444444444444444,\"#bd3786\"],[0.5555555555555556,\"#d8576b\"],[0.6666666666666666,\"#ed7953\"],[0.7777777777777778,\"#fb9f3a\"],[0.8888888888888888,\"#fdca26\"],[1.0,\"#f0f921\"]],\"sequentialminus\":[[0.0,\"#0d0887\"],[0.1111111111111111,\"#46039f\"],[0.2222222222222222,\"#7201a8\"],[0.3333333333333333,\"#9c179e\"],[0.4444444444444444,\"#bd3786\"],[0.5555555555555556,\"#d8576b\"],[0.6666666666666666,\"#ed7953\"],[0.7777777777777778,\"#fb9f3a\"],[0.8888888888888888,\"#fdca26\"],[1.0,\"#f0f921\"]]},\"colorway\":[\"#636efa\",\"#EF553B\",\"#00cc96\",\"#ab63fa\",\"#FFA15A\",\"#19d3f3\",\"#FF6692\",\"#B6E880\",\"#FF97FF\",\"#FECB52\"],\"font\":{\"color\":\"#2a3f5f\"},\"geo\":{\"bgcolor\":\"white\",\"lakecolor\":\"white\",\"landcolor\":\"#E5ECF6\",\"showlakes\":true,\"showland\":true,\"subunitcolor\":\"white\"},\"hoverlabel\":{\"align\":\"left\"},\"hovermode\":\"closest\",\"mapbox\":{\"style\":\"light\"},\"paper_bgcolor\":\"white\",\"plot_bgcolor\":\"#E5ECF6\",\"polar\":{\"angularaxis\":{\"gridcolor\":\"white\",\"linecolor\":\"white\",\"ticks\":\"\"},\"bgcolor\":\"#E5ECF6\",\"radialaxis\":{\"gridcolor\":\"white\",\"linecolor\":\"white\",\"ticks\":\"\"}},\"scene\":{\"xaxis\":{\"backgroundcolor\":\"#E5ECF6\",\"gridcolor\":\"white\",\"gridwidth\":2,\"linecolor\":\"white\",\"showbackground\":true,\"ticks\":\"\",\"zerolinecolor\":\"white\"},\"yaxis\":{\"backgroundcolor\":\"#E5ECF6\",\"gridcolor\":\"white\",\"gridwidth\":2,\"linecolor\":\"white\",\"showbackground\":true,\"ticks\":\"\",\"zerolinecolor\":\"white\"},\"zaxis\":{\"backgroundcolor\":\"#E5ECF6\",\"gridcolor\":\"white\",\"gridwidth\":2,\"linecolor\":\"white\",\"showbackground\":true,\"ticks\":\"\",\"zerolinecolor\":\"white\"}},\"shapedefaults\":{\"line\":{\"color\":\"#2a3f5f\"}},\"ternary\":{\"aaxis\":{\"gridcolor\":\"white\",\"linecolor\":\"white\",\"ticks\":\"\"},\"baxis\":{\"gridcolor\":\"white\",\"linecolor\":\"white\",\"ticks\":\"\"},\"bgcolor\":\"#E5ECF6\",\"caxis\":{\"gridcolor\":\"white\",\"linecolor\":\"white\",\"ticks\":\"\"}},\"title\":{\"x\":0.05},\"xaxis\":{\"automargin\":true,\"gridcolor\":\"white\",\"linecolor\":\"white\",\"ticks\":\"\",\"title\":{\"standoff\":15},\"zerolinecolor\":\"white\",\"zerolinewidth\":2},\"yaxis\":{\"automargin\":true,\"gridcolor\":\"white\",\"linecolor\":\"white\",\"ticks\":\"\",\"title\":{\"standoff\":15},\"zerolinecolor\":\"white\",\"zerolinewidth\":2}}},\"title\":{\"text\":\"Loans per borrower gender\"},\"width\":600,\"xaxis\":{\"showticklabels\":true,\"title\":{\"text\":\"Borrower genders\"}},\"yaxis\":{\"title\":{\"text\":\"Loans\"}}},                        {\"responsive\": true}                    ).then(function(){\n",
       "                            \n",
       "var gd = document.getElementById('2e6a9515-37c6-4a3f-afe3-d4bdd9920af1');\n",
       "var x = new MutationObserver(function (mutations, observer) {{\n",
       "        var display = window.getComputedStyle(gd).display;\n",
       "        if (!display || display === 'none') {{\n",
       "            console.log([gd, 'removed!']);\n",
       "            Plotly.purge(gd);\n",
       "            observer.disconnect();\n",
       "        }}\n",
       "}});\n",
       "\n",
       "// Listen for the removal of the full notebook cells\n",
       "var notebookContainer = gd.closest('#notebook-container');\n",
       "if (notebookContainer) {{\n",
       "    x.observe(notebookContainer, {childList: true});\n",
       "}}\n",
       "\n",
       "// Listen for the clearing of the current output cell\n",
       "var outputEl = gd.closest('.output');\n",
       "if (outputEl) {{\n",
       "    x.observe(outputEl, {childList: true});\n",
       "}}\n",
       "\n",
       "                        })                };                });            </script>        </div>"
      ]
     },
     "metadata": {},
     "output_type": "display_data"
    }
   ],
   "source": [
    "kiva_loans_df[\"borrower_gen\"] = \"Not specified\"\n",
    "kiva_loans_df.loc[(kiva_loans_df.n_male !=0) & (kiva_loans_df.n_female ==0), \"borrower_gen\"] = \"Male\"\n",
    "kiva_loans_df.loc[(kiva_loans_df.n_male ==0) & (kiva_loans_df.n_female !=0), \"borrower_gen\"] = \"Female\"\n",
    "kiva_loans_df.loc[(kiva_loans_df.n_male !=0) & (kiva_loans_df.n_female !=0), \"borrower_gen\"] = \"Female & Male\"\n",
    "\n",
    "df = kiva_loans_df.groupby(\"borrower_gen\")[\"loan_amount\"].count().reset_index()\n",
    "df.columns = [\"Borrower Gender\", \"Number of loans\"]\n",
    "df.sort_values(by=\"Number of loans\", ascending=False)\n",
    "trace = go.Bar(\n",
    "    x = df[\"Borrower Gender\"],y = df['Number of loans'],\n",
    "    marker=dict(\n",
    "                color=color_list[3],\n",
    "                line=dict(\n",
    "                    color=color_list[5],\n",
    "                    width=1),\n",
    "                opacity=0.9,\n",
    "            ),\n",
    ")\n",
    "data = [trace]\n",
    "    \n",
    "layout = dict(title = 'Loans per borrower gender',\n",
    "          xaxis = dict(title = 'Borrower genders', showticklabels=True), \n",
    "          yaxis = dict(title = 'Loans'),\n",
    "          hovermode = 'closest',\n",
    "          width=600\n",
    "         )\n",
    "fig = dict(data=data, layout=layout)\n",
    "iplot(fig, filename='borrower-genders')\n"
   ]
  },
  {
   "cell_type": "code",
   "execution_count": 44,
   "id": "60552bd6",
   "metadata": {
    "_kg_hide-input": true,
    "execution": {
     "iopub.execute_input": "2023-06-01T17:14:44.558482Z",
     "iopub.status.busy": "2023-06-01T17:14:44.558060Z",
     "iopub.status.idle": "2023-06-01T17:14:45.151180Z",
     "shell.execute_reply": "2023-06-01T17:14:45.149966Z"
    },
    "papermill": {
     "duration": 0.644929,
     "end_time": "2023-06-01T17:14:45.153736",
     "exception": false,
     "start_time": "2023-06-01T17:14:44.508807",
     "status": "completed"
    },
    "tags": []
   },
   "outputs": [
    {
     "data": {
      "application/vnd.plotly.v1+json": {
       "config": {
        "plotlyServerURL": "https://plot.ly"
       },
       "data": [
        {
         "marker": {
          "color": "#1a6333"
         },
         "name": "Female borrowers",
         "type": "bar",
         "x": [
          "Clothing",
          "Personal Use",
          "Food",
          "Agriculture",
          "Construction",
          "Arts",
          "Retail",
          "Services",
          "Health",
          "Manufacturing",
          "Wholesale",
          "Entertainment",
          "Housing",
          "Education",
          "Transportation"
         ],
         "xaxis": "x",
         "y": [
          2.6982723850497448,
          2.5859318346627993,
          2.361886667768049,
          2.0247639864204996,
          2.02264522481129,
          2.0034393009853133,
          1.8332723078613014,
          1.819598980064905,
          1.7672094147992907,
          1.734140563306133,
          1.6675977653631284,
          1.2971698113207548,
          1.2270723279183382,
          1.1768728956228955,
          1.1499823964323437
         ],
         "yaxis": "y"
        },
        {
         "marker": {
          "color": "#64a444"
         },
         "name": "Male borrowers",
         "type": "bar",
         "x": [
          "Food",
          "Agriculture",
          "Clothing",
          "Personal Use",
          "Retail",
          "Arts",
          "Construction",
          "Wholesale",
          "Health",
          "Services",
          "Manufacturing",
          "Entertainment",
          "Transportation",
          "Housing",
          "Education"
         ],
         "xaxis": "x2",
         "y": [
          1.7708976942019252,
          1.7479336294103134,
          1.746262281076463,
          1.7132982977264937,
          1.4423667618688365,
          1.2869300911854102,
          1.2534306569343066,
          1.1879432624113475,
          1.179860302677532,
          1.1699955614735909,
          1.1178318931657503,
          1.0909090909090908,
          1.0881370091896407,
          1.0774688179425564,
          1.0429509013873888
         ],
         "yaxis": "y2"
        }
       ],
       "layout": {
        "annotations": [
         {
          "font": {
           "size": 16
          },
          "showarrow": false,
          "text": "Loans with at least one female borrower",
          "x": 0.225,
          "xanchor": "center",
          "xref": "paper",
          "y": 1.0,
          "yanchor": "bottom",
          "yref": "paper"
         },
         {
          "font": {
           "size": 16
          },
          "showarrow": false,
          "text": "Loans with at least one male borrower",
          "x": 0.775,
          "xanchor": "center",
          "xref": "paper",
          "y": 1.0,
          "yanchor": "bottom",
          "yref": "paper"
         }
        ],
        "height": 400,
        "showlegend": false,
        "template": {
         "data": {
          "bar": [
           {
            "error_x": {
             "color": "#2a3f5f"
            },
            "error_y": {
             "color": "#2a3f5f"
            },
            "marker": {
             "line": {
              "color": "#E5ECF6",
              "width": 0.5
             },
             "pattern": {
              "fillmode": "overlay",
              "size": 10,
              "solidity": 0.2
             }
            },
            "type": "bar"
           }
          ],
          "barpolar": [
           {
            "marker": {
             "line": {
              "color": "#E5ECF6",
              "width": 0.5
             },
             "pattern": {
              "fillmode": "overlay",
              "size": 10,
              "solidity": 0.2
             }
            },
            "type": "barpolar"
           }
          ],
          "carpet": [
           {
            "aaxis": {
             "endlinecolor": "#2a3f5f",
             "gridcolor": "white",
             "linecolor": "white",
             "minorgridcolor": "white",
             "startlinecolor": "#2a3f5f"
            },
            "baxis": {
             "endlinecolor": "#2a3f5f",
             "gridcolor": "white",
             "linecolor": "white",
             "minorgridcolor": "white",
             "startlinecolor": "#2a3f5f"
            },
            "type": "carpet"
           }
          ],
          "choropleth": [
           {
            "colorbar": {
             "outlinewidth": 0,
             "ticks": ""
            },
            "type": "choropleth"
           }
          ],
          "contour": [
           {
            "colorbar": {
             "outlinewidth": 0,
             "ticks": ""
            },
            "colorscale": [
             [
              0.0,
              "#0d0887"
             ],
             [
              0.1111111111111111,
              "#46039f"
             ],
             [
              0.2222222222222222,
              "#7201a8"
             ],
             [
              0.3333333333333333,
              "#9c179e"
             ],
             [
              0.4444444444444444,
              "#bd3786"
             ],
             [
              0.5555555555555556,
              "#d8576b"
             ],
             [
              0.6666666666666666,
              "#ed7953"
             ],
             [
              0.7777777777777778,
              "#fb9f3a"
             ],
             [
              0.8888888888888888,
              "#fdca26"
             ],
             [
              1.0,
              "#f0f921"
             ]
            ],
            "type": "contour"
           }
          ],
          "contourcarpet": [
           {
            "colorbar": {
             "outlinewidth": 0,
             "ticks": ""
            },
            "type": "contourcarpet"
           }
          ],
          "heatmap": [
           {
            "colorbar": {
             "outlinewidth": 0,
             "ticks": ""
            },
            "colorscale": [
             [
              0.0,
              "#0d0887"
             ],
             [
              0.1111111111111111,
              "#46039f"
             ],
             [
              0.2222222222222222,
              "#7201a8"
             ],
             [
              0.3333333333333333,
              "#9c179e"
             ],
             [
              0.4444444444444444,
              "#bd3786"
             ],
             [
              0.5555555555555556,
              "#d8576b"
             ],
             [
              0.6666666666666666,
              "#ed7953"
             ],
             [
              0.7777777777777778,
              "#fb9f3a"
             ],
             [
              0.8888888888888888,
              "#fdca26"
             ],
             [
              1.0,
              "#f0f921"
             ]
            ],
            "type": "heatmap"
           }
          ],
          "heatmapgl": [
           {
            "colorbar": {
             "outlinewidth": 0,
             "ticks": ""
            },
            "colorscale": [
             [
              0.0,
              "#0d0887"
             ],
             [
              0.1111111111111111,
              "#46039f"
             ],
             [
              0.2222222222222222,
              "#7201a8"
             ],
             [
              0.3333333333333333,
              "#9c179e"
             ],
             [
              0.4444444444444444,
              "#bd3786"
             ],
             [
              0.5555555555555556,
              "#d8576b"
             ],
             [
              0.6666666666666666,
              "#ed7953"
             ],
             [
              0.7777777777777778,
              "#fb9f3a"
             ],
             [
              0.8888888888888888,
              "#fdca26"
             ],
             [
              1.0,
              "#f0f921"
             ]
            ],
            "type": "heatmapgl"
           }
          ],
          "histogram": [
           {
            "marker": {
             "pattern": {
              "fillmode": "overlay",
              "size": 10,
              "solidity": 0.2
             }
            },
            "type": "histogram"
           }
          ],
          "histogram2d": [
           {
            "colorbar": {
             "outlinewidth": 0,
             "ticks": ""
            },
            "colorscale": [
             [
              0.0,
              "#0d0887"
             ],
             [
              0.1111111111111111,
              "#46039f"
             ],
             [
              0.2222222222222222,
              "#7201a8"
             ],
             [
              0.3333333333333333,
              "#9c179e"
             ],
             [
              0.4444444444444444,
              "#bd3786"
             ],
             [
              0.5555555555555556,
              "#d8576b"
             ],
             [
              0.6666666666666666,
              "#ed7953"
             ],
             [
              0.7777777777777778,
              "#fb9f3a"
             ],
             [
              0.8888888888888888,
              "#fdca26"
             ],
             [
              1.0,
              "#f0f921"
             ]
            ],
            "type": "histogram2d"
           }
          ],
          "histogram2dcontour": [
           {
            "colorbar": {
             "outlinewidth": 0,
             "ticks": ""
            },
            "colorscale": [
             [
              0.0,
              "#0d0887"
             ],
             [
              0.1111111111111111,
              "#46039f"
             ],
             [
              0.2222222222222222,
              "#7201a8"
             ],
             [
              0.3333333333333333,
              "#9c179e"
             ],
             [
              0.4444444444444444,
              "#bd3786"
             ],
             [
              0.5555555555555556,
              "#d8576b"
             ],
             [
              0.6666666666666666,
              "#ed7953"
             ],
             [
              0.7777777777777778,
              "#fb9f3a"
             ],
             [
              0.8888888888888888,
              "#fdca26"
             ],
             [
              1.0,
              "#f0f921"
             ]
            ],
            "type": "histogram2dcontour"
           }
          ],
          "mesh3d": [
           {
            "colorbar": {
             "outlinewidth": 0,
             "ticks": ""
            },
            "type": "mesh3d"
           }
          ],
          "parcoords": [
           {
            "line": {
             "colorbar": {
              "outlinewidth": 0,
              "ticks": ""
             }
            },
            "type": "parcoords"
           }
          ],
          "pie": [
           {
            "automargin": true,
            "type": "pie"
           }
          ],
          "scatter": [
           {
            "fillpattern": {
             "fillmode": "overlay",
             "size": 10,
             "solidity": 0.2
            },
            "type": "scatter"
           }
          ],
          "scatter3d": [
           {
            "line": {
             "colorbar": {
              "outlinewidth": 0,
              "ticks": ""
             }
            },
            "marker": {
             "colorbar": {
              "outlinewidth": 0,
              "ticks": ""
             }
            },
            "type": "scatter3d"
           }
          ],
          "scattercarpet": [
           {
            "marker": {
             "colorbar": {
              "outlinewidth": 0,
              "ticks": ""
             }
            },
            "type": "scattercarpet"
           }
          ],
          "scattergeo": [
           {
            "marker": {
             "colorbar": {
              "outlinewidth": 0,
              "ticks": ""
             }
            },
            "type": "scattergeo"
           }
          ],
          "scattergl": [
           {
            "marker": {
             "colorbar": {
              "outlinewidth": 0,
              "ticks": ""
             }
            },
            "type": "scattergl"
           }
          ],
          "scattermapbox": [
           {
            "marker": {
             "colorbar": {
              "outlinewidth": 0,
              "ticks": ""
             }
            },
            "type": "scattermapbox"
           }
          ],
          "scatterpolar": [
           {
            "marker": {
             "colorbar": {
              "outlinewidth": 0,
              "ticks": ""
             }
            },
            "type": "scatterpolar"
           }
          ],
          "scatterpolargl": [
           {
            "marker": {
             "colorbar": {
              "outlinewidth": 0,
              "ticks": ""
             }
            },
            "type": "scatterpolargl"
           }
          ],
          "scatterternary": [
           {
            "marker": {
             "colorbar": {
              "outlinewidth": 0,
              "ticks": ""
             }
            },
            "type": "scatterternary"
           }
          ],
          "surface": [
           {
            "colorbar": {
             "outlinewidth": 0,
             "ticks": ""
            },
            "colorscale": [
             [
              0.0,
              "#0d0887"
             ],
             [
              0.1111111111111111,
              "#46039f"
             ],
             [
              0.2222222222222222,
              "#7201a8"
             ],
             [
              0.3333333333333333,
              "#9c179e"
             ],
             [
              0.4444444444444444,
              "#bd3786"
             ],
             [
              0.5555555555555556,
              "#d8576b"
             ],
             [
              0.6666666666666666,
              "#ed7953"
             ],
             [
              0.7777777777777778,
              "#fb9f3a"
             ],
             [
              0.8888888888888888,
              "#fdca26"
             ],
             [
              1.0,
              "#f0f921"
             ]
            ],
            "type": "surface"
           }
          ],
          "table": [
           {
            "cells": {
             "fill": {
              "color": "#EBF0F8"
             },
             "line": {
              "color": "white"
             }
            },
            "header": {
             "fill": {
              "color": "#C8D4E3"
             },
             "line": {
              "color": "white"
             }
            },
            "type": "table"
           }
          ]
         },
         "layout": {
          "annotationdefaults": {
           "arrowcolor": "#2a3f5f",
           "arrowhead": 0,
           "arrowwidth": 1
          },
          "autotypenumbers": "strict",
          "coloraxis": {
           "colorbar": {
            "outlinewidth": 0,
            "ticks": ""
           }
          },
          "colorscale": {
           "diverging": [
            [
             0,
             "#8e0152"
            ],
            [
             0.1,
             "#c51b7d"
            ],
            [
             0.2,
             "#de77ae"
            ],
            [
             0.3,
             "#f1b6da"
            ],
            [
             0.4,
             "#fde0ef"
            ],
            [
             0.5,
             "#f7f7f7"
            ],
            [
             0.6,
             "#e6f5d0"
            ],
            [
             0.7,
             "#b8e186"
            ],
            [
             0.8,
             "#7fbc41"
            ],
            [
             0.9,
             "#4d9221"
            ],
            [
             1,
             "#276419"
            ]
           ],
           "sequential": [
            [
             0.0,
             "#0d0887"
            ],
            [
             0.1111111111111111,
             "#46039f"
            ],
            [
             0.2222222222222222,
             "#7201a8"
            ],
            [
             0.3333333333333333,
             "#9c179e"
            ],
            [
             0.4444444444444444,
             "#bd3786"
            ],
            [
             0.5555555555555556,
             "#d8576b"
            ],
            [
             0.6666666666666666,
             "#ed7953"
            ],
            [
             0.7777777777777778,
             "#fb9f3a"
            ],
            [
             0.8888888888888888,
             "#fdca26"
            ],
            [
             1.0,
             "#f0f921"
            ]
           ],
           "sequentialminus": [
            [
             0.0,
             "#0d0887"
            ],
            [
             0.1111111111111111,
             "#46039f"
            ],
            [
             0.2222222222222222,
             "#7201a8"
            ],
            [
             0.3333333333333333,
             "#9c179e"
            ],
            [
             0.4444444444444444,
             "#bd3786"
            ],
            [
             0.5555555555555556,
             "#d8576b"
            ],
            [
             0.6666666666666666,
             "#ed7953"
            ],
            [
             0.7777777777777778,
             "#fb9f3a"
            ],
            [
             0.8888888888888888,
             "#fdca26"
            ],
            [
             1.0,
             "#f0f921"
            ]
           ]
          },
          "colorway": [
           "#636efa",
           "#EF553B",
           "#00cc96",
           "#ab63fa",
           "#FFA15A",
           "#19d3f3",
           "#FF6692",
           "#B6E880",
           "#FF97FF",
           "#FECB52"
          ],
          "font": {
           "color": "#2a3f5f"
          },
          "geo": {
           "bgcolor": "white",
           "lakecolor": "white",
           "landcolor": "#E5ECF6",
           "showlakes": true,
           "showland": true,
           "subunitcolor": "white"
          },
          "hoverlabel": {
           "align": "left"
          },
          "hovermode": "closest",
          "mapbox": {
           "style": "light"
          },
          "paper_bgcolor": "white",
          "plot_bgcolor": "#E5ECF6",
          "polar": {
           "angularaxis": {
            "gridcolor": "white",
            "linecolor": "white",
            "ticks": ""
           },
           "bgcolor": "#E5ECF6",
           "radialaxis": {
            "gridcolor": "white",
            "linecolor": "white",
            "ticks": ""
           }
          },
          "scene": {
           "xaxis": {
            "backgroundcolor": "#E5ECF6",
            "gridcolor": "white",
            "gridwidth": 2,
            "linecolor": "white",
            "showbackground": true,
            "ticks": "",
            "zerolinecolor": "white"
           },
           "yaxis": {
            "backgroundcolor": "#E5ECF6",
            "gridcolor": "white",
            "gridwidth": 2,
            "linecolor": "white",
            "showbackground": true,
            "ticks": "",
            "zerolinecolor": "white"
           },
           "zaxis": {
            "backgroundcolor": "#E5ECF6",
            "gridcolor": "white",
            "gridwidth": 2,
            "linecolor": "white",
            "showbackground": true,
            "ticks": "",
            "zerolinecolor": "white"
           }
          },
          "shapedefaults": {
           "line": {
            "color": "#2a3f5f"
           }
          },
          "ternary": {
           "aaxis": {
            "gridcolor": "white",
            "linecolor": "white",
            "ticks": ""
           },
           "baxis": {
            "gridcolor": "white",
            "linecolor": "white",
            "ticks": ""
           },
           "bgcolor": "#E5ECF6",
           "caxis": {
            "gridcolor": "white",
            "linecolor": "white",
            "ticks": ""
           }
          },
          "title": {
           "x": 0.05
          },
          "xaxis": {
           "automargin": true,
           "gridcolor": "white",
           "linecolor": "white",
           "ticks": "",
           "title": {
            "standoff": 15
           },
           "zerolinecolor": "white",
           "zerolinewidth": 2
          },
          "yaxis": {
           "automargin": true,
           "gridcolor": "white",
           "linecolor": "white",
           "ticks": "",
           "title": {
            "standoff": 15
           },
           "zerolinecolor": "white",
           "zerolinewidth": 2
          }
         }
        },
        "title": {
         "text": "Average number of female/male borowers/loan"
        },
        "width": 900,
        "xaxis": {
         "anchor": "y",
         "domain": [
          0.0,
          0.45
         ]
        },
        "xaxis2": {
         "anchor": "y2",
         "domain": [
          0.55,
          1.0
         ]
        },
        "yaxis": {
         "anchor": "x",
         "domain": [
          0.0,
          1.0
         ]
        },
        "yaxis2": {
         "anchor": "x2",
         "domain": [
          0.0,
          1.0
         ]
        }
       }
      },
      "text/html": [
       "<div>                            <div id=\"ad0760cd-36f6-4aa2-86e2-c78dca3e2d35\" class=\"plotly-graph-div\" style=\"height:400px; width:900px;\"></div>            <script type=\"text/javascript\">                require([\"plotly\"], function(Plotly) {                    window.PLOTLYENV=window.PLOTLYENV || {};                                    if (document.getElementById(\"ad0760cd-36f6-4aa2-86e2-c78dca3e2d35\")) {                    Plotly.newPlot(                        \"ad0760cd-36f6-4aa2-86e2-c78dca3e2d35\",                        [{\"marker\":{\"color\":\"#1a6333\"},\"name\":\"Female borrowers\",\"x\":[\"Clothing\",\"Personal Use\",\"Food\",\"Agriculture\",\"Construction\",\"Arts\",\"Retail\",\"Services\",\"Health\",\"Manufacturing\",\"Wholesale\",\"Entertainment\",\"Housing\",\"Education\",\"Transportation\"],\"y\":[2.6982723850497448,2.5859318346627993,2.361886667768049,2.0247639864204996,2.02264522481129,2.0034393009853133,1.8332723078613014,1.819598980064905,1.7672094147992907,1.734140563306133,1.6675977653631284,1.2971698113207548,1.2270723279183382,1.1768728956228955,1.1499823964323437],\"type\":\"bar\",\"xaxis\":\"x\",\"yaxis\":\"y\"},{\"marker\":{\"color\":\"#64a444\"},\"name\":\"Male borrowers\",\"x\":[\"Food\",\"Agriculture\",\"Clothing\",\"Personal Use\",\"Retail\",\"Arts\",\"Construction\",\"Wholesale\",\"Health\",\"Services\",\"Manufacturing\",\"Entertainment\",\"Transportation\",\"Housing\",\"Education\"],\"y\":[1.7708976942019252,1.7479336294103134,1.746262281076463,1.7132982977264937,1.4423667618688365,1.2869300911854102,1.2534306569343066,1.1879432624113475,1.179860302677532,1.1699955614735909,1.1178318931657503,1.0909090909090908,1.0881370091896407,1.0774688179425564,1.0429509013873888],\"type\":\"bar\",\"xaxis\":\"x2\",\"yaxis\":\"y2\"}],                        {\"template\":{\"data\":{\"histogram2dcontour\":[{\"type\":\"histogram2dcontour\",\"colorbar\":{\"outlinewidth\":0,\"ticks\":\"\"},\"colorscale\":[[0.0,\"#0d0887\"],[0.1111111111111111,\"#46039f\"],[0.2222222222222222,\"#7201a8\"],[0.3333333333333333,\"#9c179e\"],[0.4444444444444444,\"#bd3786\"],[0.5555555555555556,\"#d8576b\"],[0.6666666666666666,\"#ed7953\"],[0.7777777777777778,\"#fb9f3a\"],[0.8888888888888888,\"#fdca26\"],[1.0,\"#f0f921\"]]}],\"choropleth\":[{\"type\":\"choropleth\",\"colorbar\":{\"outlinewidth\":0,\"ticks\":\"\"}}],\"histogram2d\":[{\"type\":\"histogram2d\",\"colorbar\":{\"outlinewidth\":0,\"ticks\":\"\"},\"colorscale\":[[0.0,\"#0d0887\"],[0.1111111111111111,\"#46039f\"],[0.2222222222222222,\"#7201a8\"],[0.3333333333333333,\"#9c179e\"],[0.4444444444444444,\"#bd3786\"],[0.5555555555555556,\"#d8576b\"],[0.6666666666666666,\"#ed7953\"],[0.7777777777777778,\"#fb9f3a\"],[0.8888888888888888,\"#fdca26\"],[1.0,\"#f0f921\"]]}],\"heatmap\":[{\"type\":\"heatmap\",\"colorbar\":{\"outlinewidth\":0,\"ticks\":\"\"},\"colorscale\":[[0.0,\"#0d0887\"],[0.1111111111111111,\"#46039f\"],[0.2222222222222222,\"#7201a8\"],[0.3333333333333333,\"#9c179e\"],[0.4444444444444444,\"#bd3786\"],[0.5555555555555556,\"#d8576b\"],[0.6666666666666666,\"#ed7953\"],[0.7777777777777778,\"#fb9f3a\"],[0.8888888888888888,\"#fdca26\"],[1.0,\"#f0f921\"]]}],\"heatmapgl\":[{\"type\":\"heatmapgl\",\"colorbar\":{\"outlinewidth\":0,\"ticks\":\"\"},\"colorscale\":[[0.0,\"#0d0887\"],[0.1111111111111111,\"#46039f\"],[0.2222222222222222,\"#7201a8\"],[0.3333333333333333,\"#9c179e\"],[0.4444444444444444,\"#bd3786\"],[0.5555555555555556,\"#d8576b\"],[0.6666666666666666,\"#ed7953\"],[0.7777777777777778,\"#fb9f3a\"],[0.8888888888888888,\"#fdca26\"],[1.0,\"#f0f921\"]]}],\"contourcarpet\":[{\"type\":\"contourcarpet\",\"colorbar\":{\"outlinewidth\":0,\"ticks\":\"\"}}],\"contour\":[{\"type\":\"contour\",\"colorbar\":{\"outlinewidth\":0,\"ticks\":\"\"},\"colorscale\":[[0.0,\"#0d0887\"],[0.1111111111111111,\"#46039f\"],[0.2222222222222222,\"#7201a8\"],[0.3333333333333333,\"#9c179e\"],[0.4444444444444444,\"#bd3786\"],[0.5555555555555556,\"#d8576b\"],[0.6666666666666666,\"#ed7953\"],[0.7777777777777778,\"#fb9f3a\"],[0.8888888888888888,\"#fdca26\"],[1.0,\"#f0f921\"]]}],\"surface\":[{\"type\":\"surface\",\"colorbar\":{\"outlinewidth\":0,\"ticks\":\"\"},\"colorscale\":[[0.0,\"#0d0887\"],[0.1111111111111111,\"#46039f\"],[0.2222222222222222,\"#7201a8\"],[0.3333333333333333,\"#9c179e\"],[0.4444444444444444,\"#bd3786\"],[0.5555555555555556,\"#d8576b\"],[0.6666666666666666,\"#ed7953\"],[0.7777777777777778,\"#fb9f3a\"],[0.8888888888888888,\"#fdca26\"],[1.0,\"#f0f921\"]]}],\"mesh3d\":[{\"type\":\"mesh3d\",\"colorbar\":{\"outlinewidth\":0,\"ticks\":\"\"}}],\"scatter\":[{\"fillpattern\":{\"fillmode\":\"overlay\",\"size\":10,\"solidity\":0.2},\"type\":\"scatter\"}],\"parcoords\":[{\"type\":\"parcoords\",\"line\":{\"colorbar\":{\"outlinewidth\":0,\"ticks\":\"\"}}}],\"scatterpolargl\":[{\"type\":\"scatterpolargl\",\"marker\":{\"colorbar\":{\"outlinewidth\":0,\"ticks\":\"\"}}}],\"bar\":[{\"error_x\":{\"color\":\"#2a3f5f\"},\"error_y\":{\"color\":\"#2a3f5f\"},\"marker\":{\"line\":{\"color\":\"#E5ECF6\",\"width\":0.5},\"pattern\":{\"fillmode\":\"overlay\",\"size\":10,\"solidity\":0.2}},\"type\":\"bar\"}],\"scattergeo\":[{\"type\":\"scattergeo\",\"marker\":{\"colorbar\":{\"outlinewidth\":0,\"ticks\":\"\"}}}],\"scatterpolar\":[{\"type\":\"scatterpolar\",\"marker\":{\"colorbar\":{\"outlinewidth\":0,\"ticks\":\"\"}}}],\"histogram\":[{\"marker\":{\"pattern\":{\"fillmode\":\"overlay\",\"size\":10,\"solidity\":0.2}},\"type\":\"histogram\"}],\"scattergl\":[{\"type\":\"scattergl\",\"marker\":{\"colorbar\":{\"outlinewidth\":0,\"ticks\":\"\"}}}],\"scatter3d\":[{\"type\":\"scatter3d\",\"line\":{\"colorbar\":{\"outlinewidth\":0,\"ticks\":\"\"}},\"marker\":{\"colorbar\":{\"outlinewidth\":0,\"ticks\":\"\"}}}],\"scattermapbox\":[{\"type\":\"scattermapbox\",\"marker\":{\"colorbar\":{\"outlinewidth\":0,\"ticks\":\"\"}}}],\"scatterternary\":[{\"type\":\"scatterternary\",\"marker\":{\"colorbar\":{\"outlinewidth\":0,\"ticks\":\"\"}}}],\"scattercarpet\":[{\"type\":\"scattercarpet\",\"marker\":{\"colorbar\":{\"outlinewidth\":0,\"ticks\":\"\"}}}],\"carpet\":[{\"aaxis\":{\"endlinecolor\":\"#2a3f5f\",\"gridcolor\":\"white\",\"linecolor\":\"white\",\"minorgridcolor\":\"white\",\"startlinecolor\":\"#2a3f5f\"},\"baxis\":{\"endlinecolor\":\"#2a3f5f\",\"gridcolor\":\"white\",\"linecolor\":\"white\",\"minorgridcolor\":\"white\",\"startlinecolor\":\"#2a3f5f\"},\"type\":\"carpet\"}],\"table\":[{\"cells\":{\"fill\":{\"color\":\"#EBF0F8\"},\"line\":{\"color\":\"white\"}},\"header\":{\"fill\":{\"color\":\"#C8D4E3\"},\"line\":{\"color\":\"white\"}},\"type\":\"table\"}],\"barpolar\":[{\"marker\":{\"line\":{\"color\":\"#E5ECF6\",\"width\":0.5},\"pattern\":{\"fillmode\":\"overlay\",\"size\":10,\"solidity\":0.2}},\"type\":\"barpolar\"}],\"pie\":[{\"automargin\":true,\"type\":\"pie\"}]},\"layout\":{\"autotypenumbers\":\"strict\",\"colorway\":[\"#636efa\",\"#EF553B\",\"#00cc96\",\"#ab63fa\",\"#FFA15A\",\"#19d3f3\",\"#FF6692\",\"#B6E880\",\"#FF97FF\",\"#FECB52\"],\"font\":{\"color\":\"#2a3f5f\"},\"hovermode\":\"closest\",\"hoverlabel\":{\"align\":\"left\"},\"paper_bgcolor\":\"white\",\"plot_bgcolor\":\"#E5ECF6\",\"polar\":{\"bgcolor\":\"#E5ECF6\",\"angularaxis\":{\"gridcolor\":\"white\",\"linecolor\":\"white\",\"ticks\":\"\"},\"radialaxis\":{\"gridcolor\":\"white\",\"linecolor\":\"white\",\"ticks\":\"\"}},\"ternary\":{\"bgcolor\":\"#E5ECF6\",\"aaxis\":{\"gridcolor\":\"white\",\"linecolor\":\"white\",\"ticks\":\"\"},\"baxis\":{\"gridcolor\":\"white\",\"linecolor\":\"white\",\"ticks\":\"\"},\"caxis\":{\"gridcolor\":\"white\",\"linecolor\":\"white\",\"ticks\":\"\"}},\"coloraxis\":{\"colorbar\":{\"outlinewidth\":0,\"ticks\":\"\"}},\"colorscale\":{\"sequential\":[[0.0,\"#0d0887\"],[0.1111111111111111,\"#46039f\"],[0.2222222222222222,\"#7201a8\"],[0.3333333333333333,\"#9c179e\"],[0.4444444444444444,\"#bd3786\"],[0.5555555555555556,\"#d8576b\"],[0.6666666666666666,\"#ed7953\"],[0.7777777777777778,\"#fb9f3a\"],[0.8888888888888888,\"#fdca26\"],[1.0,\"#f0f921\"]],\"sequentialminus\":[[0.0,\"#0d0887\"],[0.1111111111111111,\"#46039f\"],[0.2222222222222222,\"#7201a8\"],[0.3333333333333333,\"#9c179e\"],[0.4444444444444444,\"#bd3786\"],[0.5555555555555556,\"#d8576b\"],[0.6666666666666666,\"#ed7953\"],[0.7777777777777778,\"#fb9f3a\"],[0.8888888888888888,\"#fdca26\"],[1.0,\"#f0f921\"]],\"diverging\":[[0,\"#8e0152\"],[0.1,\"#c51b7d\"],[0.2,\"#de77ae\"],[0.3,\"#f1b6da\"],[0.4,\"#fde0ef\"],[0.5,\"#f7f7f7\"],[0.6,\"#e6f5d0\"],[0.7,\"#b8e186\"],[0.8,\"#7fbc41\"],[0.9,\"#4d9221\"],[1,\"#276419\"]]},\"xaxis\":{\"gridcolor\":\"white\",\"linecolor\":\"white\",\"ticks\":\"\",\"title\":{\"standoff\":15},\"zerolinecolor\":\"white\",\"automargin\":true,\"zerolinewidth\":2},\"yaxis\":{\"gridcolor\":\"white\",\"linecolor\":\"white\",\"ticks\":\"\",\"title\":{\"standoff\":15},\"zerolinecolor\":\"white\",\"automargin\":true,\"zerolinewidth\":2},\"scene\":{\"xaxis\":{\"backgroundcolor\":\"#E5ECF6\",\"gridcolor\":\"white\",\"linecolor\":\"white\",\"showbackground\":true,\"ticks\":\"\",\"zerolinecolor\":\"white\",\"gridwidth\":2},\"yaxis\":{\"backgroundcolor\":\"#E5ECF6\",\"gridcolor\":\"white\",\"linecolor\":\"white\",\"showbackground\":true,\"ticks\":\"\",\"zerolinecolor\":\"white\",\"gridwidth\":2},\"zaxis\":{\"backgroundcolor\":\"#E5ECF6\",\"gridcolor\":\"white\",\"linecolor\":\"white\",\"showbackground\":true,\"ticks\":\"\",\"zerolinecolor\":\"white\",\"gridwidth\":2}},\"shapedefaults\":{\"line\":{\"color\":\"#2a3f5f\"}},\"annotationdefaults\":{\"arrowcolor\":\"#2a3f5f\",\"arrowhead\":0,\"arrowwidth\":1},\"geo\":{\"bgcolor\":\"white\",\"landcolor\":\"#E5ECF6\",\"subunitcolor\":\"white\",\"showland\":true,\"showlakes\":true,\"lakecolor\":\"white\"},\"title\":{\"x\":0.05},\"mapbox\":{\"style\":\"light\"}}},\"xaxis\":{\"anchor\":\"y\",\"domain\":[0.0,0.45]},\"yaxis\":{\"anchor\":\"x\",\"domain\":[0.0,1.0]},\"xaxis2\":{\"anchor\":\"y2\",\"domain\":[0.55,1.0]},\"yaxis2\":{\"anchor\":\"x2\",\"domain\":[0.0,1.0]},\"annotations\":[{\"font\":{\"size\":16},\"showarrow\":false,\"text\":\"Loans with at least one female borrower\",\"x\":0.225,\"xanchor\":\"center\",\"xref\":\"paper\",\"y\":1.0,\"yanchor\":\"bottom\",\"yref\":\"paper\"},{\"font\":{\"size\":16},\"showarrow\":false,\"text\":\"Loans with at least one male borrower\",\"x\":0.775,\"xanchor\":\"center\",\"xref\":\"paper\",\"y\":1.0,\"yanchor\":\"bottom\",\"yref\":\"paper\"}],\"title\":{\"text\":\"Average number of female/male borowers/loan\"},\"height\":400,\"width\":900,\"showlegend\":false},                        {\"responsive\": true}                    ).then(function(){\n",
       "                            \n",
       "var gd = document.getElementById('ad0760cd-36f6-4aa2-86e2-c78dca3e2d35');\n",
       "var x = new MutationObserver(function (mutations, observer) {{\n",
       "        var display = window.getComputedStyle(gd).display;\n",
       "        if (!display || display === 'none') {{\n",
       "            console.log([gd, 'removed!']);\n",
       "            Plotly.purge(gd);\n",
       "            observer.disconnect();\n",
       "        }}\n",
       "}});\n",
       "\n",
       "// Listen for the removal of the full notebook cells\n",
       "var notebookContainer = gd.closest('#notebook-container');\n",
       "if (notebookContainer) {{\n",
       "    x.observe(notebookContainer, {childList: true});\n",
       "}}\n",
       "\n",
       "// Listen for the clearing of the current output cell\n",
       "var outputEl = gd.closest('.output');\n",
       "if (outputEl) {{\n",
       "    x.observe(outputEl, {childList: true});\n",
       "}}\n",
       "\n",
       "                        })                };                });            </script>        </div>"
      ]
     },
     "metadata": {},
     "output_type": "display_data"
    }
   ],
   "source": [
    "df = kiva_loans_df.loc[kiva_loans_df.n_female>0]\n",
    "df = df.groupby([\"sector\"])[\"n_female\"].agg([\"count\", \"mean\", \"max\"]).reset_index()\n",
    "df = df.sort_values(by=\"mean\", ascending=False)\n",
    "sectors_f = go.Bar(\n",
    "        x = df['sector'],\n",
    "        y = df['mean'],\n",
    "        name=\"Female borrowers\",\n",
    "        marker=dict(color=color_list[4]))\n",
    "df2 = kiva_loans_df.loc[kiva_loans_df.n_male>0]\n",
    "df2 = df2.groupby([\"sector\"])[\"n_male\"].agg([\"count\", \"mean\", \"max\"]).reset_index()\n",
    "df2 = df2.sort_values(by=\"mean\", ascending=False)\n",
    "sectors_m = go.Bar(\n",
    "        x = df2['sector'],\n",
    "        y = df2['mean'],\n",
    "        name=\"Male borrowers\",\n",
    "        marker=dict(color=color_list[3]))\n",
    "fig = make_subplots(rows=1, cols=2, start_cell=\"top-left\",\n",
    "                   subplot_titles=(\"Loans with at least one female borrower\", \n",
    "                                   \"Loans with at least one male borrower\"))\n",
    "\n",
    "fig.add_trace(sectors_f, row=1, col=1)\n",
    "fig.add_trace(sectors_m, row=1, col=2)\n",
    "layout = go.Layout(height=400, width=900, title=\"Average number of female/male borowers/loan\")\n",
    "fig.update_layout(layout)\n",
    "fig.update_layout(showlegend=False)\n",
    "fig.show()"
   ]
  },
  {
   "cell_type": "code",
   "execution_count": 45,
   "id": "e7a0849e",
   "metadata": {
    "_kg_hide-input": true,
    "execution": {
     "iopub.execute_input": "2023-06-01T17:14:45.257910Z",
     "iopub.status.busy": "2023-06-01T17:14:45.257525Z",
     "iopub.status.idle": "2023-06-01T17:14:45.298378Z",
     "shell.execute_reply": "2023-06-01T17:14:45.297140Z"
    },
    "papermill": {
     "duration": 0.095494,
     "end_time": "2023-06-01T17:14:45.300460",
     "exception": false,
     "start_time": "2023-06-01T17:14:45.204966",
     "status": "completed"
    },
    "tags": []
   },
   "outputs": [
    {
     "data": {
      "application/vnd.plotly.v1+json": {
       "config": {
        "plotlyServerURL": "https://plot.ly"
       },
       "data": [
        {
         "marker": {
          "color": "#1a6333"
         },
         "name": "Female borrowers",
         "type": "bar",
         "x": [
          "Clothing",
          "Food",
          "Retail",
          "Health",
          "Agriculture",
          "Services",
          "Manufacturing",
          "Personal Use",
          "Construction",
          "Arts",
          "Education",
          "Wholesale",
          "Housing",
          "Transportation",
          "Entertainment"
         ],
         "xaxis": "x",
         "y": [
          50,
          50,
          48,
          43,
          42,
          42,
          42,
          40,
          37,
          34,
          34,
          25,
          21,
          19,
          10
         ],
         "yaxis": "y"
        },
        {
         "marker": {
          "color": "#64a444"
         },
         "name": "Male borrowers",
         "type": "bar",
         "x": [
          "Personal Use",
          "Agriculture",
          "Food",
          "Arts",
          "Retail",
          "Services",
          "Housing",
          "Manufacturing",
          "Clothing",
          "Health",
          "Construction",
          "Education",
          "Wholesale",
          "Transportation",
          "Entertainment"
         ],
         "xaxis": "x2",
         "y": [
          44,
          40,
          33,
          25,
          24,
          23,
          23,
          20,
          19,
          19,
          18,
          14,
          13,
          12,
          11
         ],
         "yaxis": "y2"
        }
       ],
       "layout": {
        "annotations": [
         {
          "font": {
           "size": 16
          },
          "showarrow": false,
          "text": "Loans with at least one female borrower",
          "x": 0.225,
          "xanchor": "center",
          "xref": "paper",
          "y": 1.0,
          "yanchor": "bottom",
          "yref": "paper"
         },
         {
          "font": {
           "size": 16
          },
          "showarrow": false,
          "text": "Loans with at least one male borrower",
          "x": 0.775,
          "xanchor": "center",
          "xref": "paper",
          "y": 1.0,
          "yanchor": "bottom",
          "yref": "paper"
         }
        ],
        "height": 400,
        "showlegend": false,
        "template": {
         "data": {
          "bar": [
           {
            "error_x": {
             "color": "#2a3f5f"
            },
            "error_y": {
             "color": "#2a3f5f"
            },
            "marker": {
             "line": {
              "color": "#E5ECF6",
              "width": 0.5
             },
             "pattern": {
              "fillmode": "overlay",
              "size": 10,
              "solidity": 0.2
             }
            },
            "type": "bar"
           }
          ],
          "barpolar": [
           {
            "marker": {
             "line": {
              "color": "#E5ECF6",
              "width": 0.5
             },
             "pattern": {
              "fillmode": "overlay",
              "size": 10,
              "solidity": 0.2
             }
            },
            "type": "barpolar"
           }
          ],
          "carpet": [
           {
            "aaxis": {
             "endlinecolor": "#2a3f5f",
             "gridcolor": "white",
             "linecolor": "white",
             "minorgridcolor": "white",
             "startlinecolor": "#2a3f5f"
            },
            "baxis": {
             "endlinecolor": "#2a3f5f",
             "gridcolor": "white",
             "linecolor": "white",
             "minorgridcolor": "white",
             "startlinecolor": "#2a3f5f"
            },
            "type": "carpet"
           }
          ],
          "choropleth": [
           {
            "colorbar": {
             "outlinewidth": 0,
             "ticks": ""
            },
            "type": "choropleth"
           }
          ],
          "contour": [
           {
            "colorbar": {
             "outlinewidth": 0,
             "ticks": ""
            },
            "colorscale": [
             [
              0.0,
              "#0d0887"
             ],
             [
              0.1111111111111111,
              "#46039f"
             ],
             [
              0.2222222222222222,
              "#7201a8"
             ],
             [
              0.3333333333333333,
              "#9c179e"
             ],
             [
              0.4444444444444444,
              "#bd3786"
             ],
             [
              0.5555555555555556,
              "#d8576b"
             ],
             [
              0.6666666666666666,
              "#ed7953"
             ],
             [
              0.7777777777777778,
              "#fb9f3a"
             ],
             [
              0.8888888888888888,
              "#fdca26"
             ],
             [
              1.0,
              "#f0f921"
             ]
            ],
            "type": "contour"
           }
          ],
          "contourcarpet": [
           {
            "colorbar": {
             "outlinewidth": 0,
             "ticks": ""
            },
            "type": "contourcarpet"
           }
          ],
          "heatmap": [
           {
            "colorbar": {
             "outlinewidth": 0,
             "ticks": ""
            },
            "colorscale": [
             [
              0.0,
              "#0d0887"
             ],
             [
              0.1111111111111111,
              "#46039f"
             ],
             [
              0.2222222222222222,
              "#7201a8"
             ],
             [
              0.3333333333333333,
              "#9c179e"
             ],
             [
              0.4444444444444444,
              "#bd3786"
             ],
             [
              0.5555555555555556,
              "#d8576b"
             ],
             [
              0.6666666666666666,
              "#ed7953"
             ],
             [
              0.7777777777777778,
              "#fb9f3a"
             ],
             [
              0.8888888888888888,
              "#fdca26"
             ],
             [
              1.0,
              "#f0f921"
             ]
            ],
            "type": "heatmap"
           }
          ],
          "heatmapgl": [
           {
            "colorbar": {
             "outlinewidth": 0,
             "ticks": ""
            },
            "colorscale": [
             [
              0.0,
              "#0d0887"
             ],
             [
              0.1111111111111111,
              "#46039f"
             ],
             [
              0.2222222222222222,
              "#7201a8"
             ],
             [
              0.3333333333333333,
              "#9c179e"
             ],
             [
              0.4444444444444444,
              "#bd3786"
             ],
             [
              0.5555555555555556,
              "#d8576b"
             ],
             [
              0.6666666666666666,
              "#ed7953"
             ],
             [
              0.7777777777777778,
              "#fb9f3a"
             ],
             [
              0.8888888888888888,
              "#fdca26"
             ],
             [
              1.0,
              "#f0f921"
             ]
            ],
            "type": "heatmapgl"
           }
          ],
          "histogram": [
           {
            "marker": {
             "pattern": {
              "fillmode": "overlay",
              "size": 10,
              "solidity": 0.2
             }
            },
            "type": "histogram"
           }
          ],
          "histogram2d": [
           {
            "colorbar": {
             "outlinewidth": 0,
             "ticks": ""
            },
            "colorscale": [
             [
              0.0,
              "#0d0887"
             ],
             [
              0.1111111111111111,
              "#46039f"
             ],
             [
              0.2222222222222222,
              "#7201a8"
             ],
             [
              0.3333333333333333,
              "#9c179e"
             ],
             [
              0.4444444444444444,
              "#bd3786"
             ],
             [
              0.5555555555555556,
              "#d8576b"
             ],
             [
              0.6666666666666666,
              "#ed7953"
             ],
             [
              0.7777777777777778,
              "#fb9f3a"
             ],
             [
              0.8888888888888888,
              "#fdca26"
             ],
             [
              1.0,
              "#f0f921"
             ]
            ],
            "type": "histogram2d"
           }
          ],
          "histogram2dcontour": [
           {
            "colorbar": {
             "outlinewidth": 0,
             "ticks": ""
            },
            "colorscale": [
             [
              0.0,
              "#0d0887"
             ],
             [
              0.1111111111111111,
              "#46039f"
             ],
             [
              0.2222222222222222,
              "#7201a8"
             ],
             [
              0.3333333333333333,
              "#9c179e"
             ],
             [
              0.4444444444444444,
              "#bd3786"
             ],
             [
              0.5555555555555556,
              "#d8576b"
             ],
             [
              0.6666666666666666,
              "#ed7953"
             ],
             [
              0.7777777777777778,
              "#fb9f3a"
             ],
             [
              0.8888888888888888,
              "#fdca26"
             ],
             [
              1.0,
              "#f0f921"
             ]
            ],
            "type": "histogram2dcontour"
           }
          ],
          "mesh3d": [
           {
            "colorbar": {
             "outlinewidth": 0,
             "ticks": ""
            },
            "type": "mesh3d"
           }
          ],
          "parcoords": [
           {
            "line": {
             "colorbar": {
              "outlinewidth": 0,
              "ticks": ""
             }
            },
            "type": "parcoords"
           }
          ],
          "pie": [
           {
            "automargin": true,
            "type": "pie"
           }
          ],
          "scatter": [
           {
            "fillpattern": {
             "fillmode": "overlay",
             "size": 10,
             "solidity": 0.2
            },
            "type": "scatter"
           }
          ],
          "scatter3d": [
           {
            "line": {
             "colorbar": {
              "outlinewidth": 0,
              "ticks": ""
             }
            },
            "marker": {
             "colorbar": {
              "outlinewidth": 0,
              "ticks": ""
             }
            },
            "type": "scatter3d"
           }
          ],
          "scattercarpet": [
           {
            "marker": {
             "colorbar": {
              "outlinewidth": 0,
              "ticks": ""
             }
            },
            "type": "scattercarpet"
           }
          ],
          "scattergeo": [
           {
            "marker": {
             "colorbar": {
              "outlinewidth": 0,
              "ticks": ""
             }
            },
            "type": "scattergeo"
           }
          ],
          "scattergl": [
           {
            "marker": {
             "colorbar": {
              "outlinewidth": 0,
              "ticks": ""
             }
            },
            "type": "scattergl"
           }
          ],
          "scattermapbox": [
           {
            "marker": {
             "colorbar": {
              "outlinewidth": 0,
              "ticks": ""
             }
            },
            "type": "scattermapbox"
           }
          ],
          "scatterpolar": [
           {
            "marker": {
             "colorbar": {
              "outlinewidth": 0,
              "ticks": ""
             }
            },
            "type": "scatterpolar"
           }
          ],
          "scatterpolargl": [
           {
            "marker": {
             "colorbar": {
              "outlinewidth": 0,
              "ticks": ""
             }
            },
            "type": "scatterpolargl"
           }
          ],
          "scatterternary": [
           {
            "marker": {
             "colorbar": {
              "outlinewidth": 0,
              "ticks": ""
             }
            },
            "type": "scatterternary"
           }
          ],
          "surface": [
           {
            "colorbar": {
             "outlinewidth": 0,
             "ticks": ""
            },
            "colorscale": [
             [
              0.0,
              "#0d0887"
             ],
             [
              0.1111111111111111,
              "#46039f"
             ],
             [
              0.2222222222222222,
              "#7201a8"
             ],
             [
              0.3333333333333333,
              "#9c179e"
             ],
             [
              0.4444444444444444,
              "#bd3786"
             ],
             [
              0.5555555555555556,
              "#d8576b"
             ],
             [
              0.6666666666666666,
              "#ed7953"
             ],
             [
              0.7777777777777778,
              "#fb9f3a"
             ],
             [
              0.8888888888888888,
              "#fdca26"
             ],
             [
              1.0,
              "#f0f921"
             ]
            ],
            "type": "surface"
           }
          ],
          "table": [
           {
            "cells": {
             "fill": {
              "color": "#EBF0F8"
             },
             "line": {
              "color": "white"
             }
            },
            "header": {
             "fill": {
              "color": "#C8D4E3"
             },
             "line": {
              "color": "white"
             }
            },
            "type": "table"
           }
          ]
         },
         "layout": {
          "annotationdefaults": {
           "arrowcolor": "#2a3f5f",
           "arrowhead": 0,
           "arrowwidth": 1
          },
          "autotypenumbers": "strict",
          "coloraxis": {
           "colorbar": {
            "outlinewidth": 0,
            "ticks": ""
           }
          },
          "colorscale": {
           "diverging": [
            [
             0,
             "#8e0152"
            ],
            [
             0.1,
             "#c51b7d"
            ],
            [
             0.2,
             "#de77ae"
            ],
            [
             0.3,
             "#f1b6da"
            ],
            [
             0.4,
             "#fde0ef"
            ],
            [
             0.5,
             "#f7f7f7"
            ],
            [
             0.6,
             "#e6f5d0"
            ],
            [
             0.7,
             "#b8e186"
            ],
            [
             0.8,
             "#7fbc41"
            ],
            [
             0.9,
             "#4d9221"
            ],
            [
             1,
             "#276419"
            ]
           ],
           "sequential": [
            [
             0.0,
             "#0d0887"
            ],
            [
             0.1111111111111111,
             "#46039f"
            ],
            [
             0.2222222222222222,
             "#7201a8"
            ],
            [
             0.3333333333333333,
             "#9c179e"
            ],
            [
             0.4444444444444444,
             "#bd3786"
            ],
            [
             0.5555555555555556,
             "#d8576b"
            ],
            [
             0.6666666666666666,
             "#ed7953"
            ],
            [
             0.7777777777777778,
             "#fb9f3a"
            ],
            [
             0.8888888888888888,
             "#fdca26"
            ],
            [
             1.0,
             "#f0f921"
            ]
           ],
           "sequentialminus": [
            [
             0.0,
             "#0d0887"
            ],
            [
             0.1111111111111111,
             "#46039f"
            ],
            [
             0.2222222222222222,
             "#7201a8"
            ],
            [
             0.3333333333333333,
             "#9c179e"
            ],
            [
             0.4444444444444444,
             "#bd3786"
            ],
            [
             0.5555555555555556,
             "#d8576b"
            ],
            [
             0.6666666666666666,
             "#ed7953"
            ],
            [
             0.7777777777777778,
             "#fb9f3a"
            ],
            [
             0.8888888888888888,
             "#fdca26"
            ],
            [
             1.0,
             "#f0f921"
            ]
           ]
          },
          "colorway": [
           "#636efa",
           "#EF553B",
           "#00cc96",
           "#ab63fa",
           "#FFA15A",
           "#19d3f3",
           "#FF6692",
           "#B6E880",
           "#FF97FF",
           "#FECB52"
          ],
          "font": {
           "color": "#2a3f5f"
          },
          "geo": {
           "bgcolor": "white",
           "lakecolor": "white",
           "landcolor": "#E5ECF6",
           "showlakes": true,
           "showland": true,
           "subunitcolor": "white"
          },
          "hoverlabel": {
           "align": "left"
          },
          "hovermode": "closest",
          "mapbox": {
           "style": "light"
          },
          "paper_bgcolor": "white",
          "plot_bgcolor": "#E5ECF6",
          "polar": {
           "angularaxis": {
            "gridcolor": "white",
            "linecolor": "white",
            "ticks": ""
           },
           "bgcolor": "#E5ECF6",
           "radialaxis": {
            "gridcolor": "white",
            "linecolor": "white",
            "ticks": ""
           }
          },
          "scene": {
           "xaxis": {
            "backgroundcolor": "#E5ECF6",
            "gridcolor": "white",
            "gridwidth": 2,
            "linecolor": "white",
            "showbackground": true,
            "ticks": "",
            "zerolinecolor": "white"
           },
           "yaxis": {
            "backgroundcolor": "#E5ECF6",
            "gridcolor": "white",
            "gridwidth": 2,
            "linecolor": "white",
            "showbackground": true,
            "ticks": "",
            "zerolinecolor": "white"
           },
           "zaxis": {
            "backgroundcolor": "#E5ECF6",
            "gridcolor": "white",
            "gridwidth": 2,
            "linecolor": "white",
            "showbackground": true,
            "ticks": "",
            "zerolinecolor": "white"
           }
          },
          "shapedefaults": {
           "line": {
            "color": "#2a3f5f"
           }
          },
          "ternary": {
           "aaxis": {
            "gridcolor": "white",
            "linecolor": "white",
            "ticks": ""
           },
           "baxis": {
            "gridcolor": "white",
            "linecolor": "white",
            "ticks": ""
           },
           "bgcolor": "#E5ECF6",
           "caxis": {
            "gridcolor": "white",
            "linecolor": "white",
            "ticks": ""
           }
          },
          "title": {
           "x": 0.05
          },
          "xaxis": {
           "automargin": true,
           "gridcolor": "white",
           "linecolor": "white",
           "ticks": "",
           "title": {
            "standoff": 15
           },
           "zerolinecolor": "white",
           "zerolinewidth": 2
          },
          "yaxis": {
           "automargin": true,
           "gridcolor": "white",
           "linecolor": "white",
           "ticks": "",
           "title": {
            "standoff": 15
           },
           "zerolinecolor": "white",
           "zerolinewidth": 2
          }
         }
        },
        "title": {
         "text": "Maximum number of female/male borowers/loan"
        },
        "width": 900,
        "xaxis": {
         "anchor": "y",
         "domain": [
          0.0,
          0.45
         ]
        },
        "xaxis2": {
         "anchor": "y2",
         "domain": [
          0.55,
          1.0
         ]
        },
        "yaxis": {
         "anchor": "x",
         "domain": [
          0.0,
          1.0
         ]
        },
        "yaxis2": {
         "anchor": "x2",
         "domain": [
          0.0,
          1.0
         ]
        }
       }
      },
      "text/html": [
       "<div>                            <div id=\"db6aad24-f173-4cd7-9c16-2e0e0480c066\" class=\"plotly-graph-div\" style=\"height:400px; width:900px;\"></div>            <script type=\"text/javascript\">                require([\"plotly\"], function(Plotly) {                    window.PLOTLYENV=window.PLOTLYENV || {};                                    if (document.getElementById(\"db6aad24-f173-4cd7-9c16-2e0e0480c066\")) {                    Plotly.newPlot(                        \"db6aad24-f173-4cd7-9c16-2e0e0480c066\",                        [{\"marker\":{\"color\":\"#1a6333\"},\"name\":\"Female borrowers\",\"x\":[\"Clothing\",\"Food\",\"Retail\",\"Health\",\"Agriculture\",\"Services\",\"Manufacturing\",\"Personal Use\",\"Construction\",\"Arts\",\"Education\",\"Wholesale\",\"Housing\",\"Transportation\",\"Entertainment\"],\"y\":[50,50,48,43,42,42,42,40,37,34,34,25,21,19,10],\"type\":\"bar\",\"xaxis\":\"x\",\"yaxis\":\"y\"},{\"marker\":{\"color\":\"#64a444\"},\"name\":\"Male borrowers\",\"x\":[\"Personal Use\",\"Agriculture\",\"Food\",\"Arts\",\"Retail\",\"Services\",\"Housing\",\"Manufacturing\",\"Clothing\",\"Health\",\"Construction\",\"Education\",\"Wholesale\",\"Transportation\",\"Entertainment\"],\"y\":[44,40,33,25,24,23,23,20,19,19,18,14,13,12,11],\"type\":\"bar\",\"xaxis\":\"x2\",\"yaxis\":\"y2\"}],                        {\"template\":{\"data\":{\"histogram2dcontour\":[{\"type\":\"histogram2dcontour\",\"colorbar\":{\"outlinewidth\":0,\"ticks\":\"\"},\"colorscale\":[[0.0,\"#0d0887\"],[0.1111111111111111,\"#46039f\"],[0.2222222222222222,\"#7201a8\"],[0.3333333333333333,\"#9c179e\"],[0.4444444444444444,\"#bd3786\"],[0.5555555555555556,\"#d8576b\"],[0.6666666666666666,\"#ed7953\"],[0.7777777777777778,\"#fb9f3a\"],[0.8888888888888888,\"#fdca26\"],[1.0,\"#f0f921\"]]}],\"choropleth\":[{\"type\":\"choropleth\",\"colorbar\":{\"outlinewidth\":0,\"ticks\":\"\"}}],\"histogram2d\":[{\"type\":\"histogram2d\",\"colorbar\":{\"outlinewidth\":0,\"ticks\":\"\"},\"colorscale\":[[0.0,\"#0d0887\"],[0.1111111111111111,\"#46039f\"],[0.2222222222222222,\"#7201a8\"],[0.3333333333333333,\"#9c179e\"],[0.4444444444444444,\"#bd3786\"],[0.5555555555555556,\"#d8576b\"],[0.6666666666666666,\"#ed7953\"],[0.7777777777777778,\"#fb9f3a\"],[0.8888888888888888,\"#fdca26\"],[1.0,\"#f0f921\"]]}],\"heatmap\":[{\"type\":\"heatmap\",\"colorbar\":{\"outlinewidth\":0,\"ticks\":\"\"},\"colorscale\":[[0.0,\"#0d0887\"],[0.1111111111111111,\"#46039f\"],[0.2222222222222222,\"#7201a8\"],[0.3333333333333333,\"#9c179e\"],[0.4444444444444444,\"#bd3786\"],[0.5555555555555556,\"#d8576b\"],[0.6666666666666666,\"#ed7953\"],[0.7777777777777778,\"#fb9f3a\"],[0.8888888888888888,\"#fdca26\"],[1.0,\"#f0f921\"]]}],\"heatmapgl\":[{\"type\":\"heatmapgl\",\"colorbar\":{\"outlinewidth\":0,\"ticks\":\"\"},\"colorscale\":[[0.0,\"#0d0887\"],[0.1111111111111111,\"#46039f\"],[0.2222222222222222,\"#7201a8\"],[0.3333333333333333,\"#9c179e\"],[0.4444444444444444,\"#bd3786\"],[0.5555555555555556,\"#d8576b\"],[0.6666666666666666,\"#ed7953\"],[0.7777777777777778,\"#fb9f3a\"],[0.8888888888888888,\"#fdca26\"],[1.0,\"#f0f921\"]]}],\"contourcarpet\":[{\"type\":\"contourcarpet\",\"colorbar\":{\"outlinewidth\":0,\"ticks\":\"\"}}],\"contour\":[{\"type\":\"contour\",\"colorbar\":{\"outlinewidth\":0,\"ticks\":\"\"},\"colorscale\":[[0.0,\"#0d0887\"],[0.1111111111111111,\"#46039f\"],[0.2222222222222222,\"#7201a8\"],[0.3333333333333333,\"#9c179e\"],[0.4444444444444444,\"#bd3786\"],[0.5555555555555556,\"#d8576b\"],[0.6666666666666666,\"#ed7953\"],[0.7777777777777778,\"#fb9f3a\"],[0.8888888888888888,\"#fdca26\"],[1.0,\"#f0f921\"]]}],\"surface\":[{\"type\":\"surface\",\"colorbar\":{\"outlinewidth\":0,\"ticks\":\"\"},\"colorscale\":[[0.0,\"#0d0887\"],[0.1111111111111111,\"#46039f\"],[0.2222222222222222,\"#7201a8\"],[0.3333333333333333,\"#9c179e\"],[0.4444444444444444,\"#bd3786\"],[0.5555555555555556,\"#d8576b\"],[0.6666666666666666,\"#ed7953\"],[0.7777777777777778,\"#fb9f3a\"],[0.8888888888888888,\"#fdca26\"],[1.0,\"#f0f921\"]]}],\"mesh3d\":[{\"type\":\"mesh3d\",\"colorbar\":{\"outlinewidth\":0,\"ticks\":\"\"}}],\"scatter\":[{\"fillpattern\":{\"fillmode\":\"overlay\",\"size\":10,\"solidity\":0.2},\"type\":\"scatter\"}],\"parcoords\":[{\"type\":\"parcoords\",\"line\":{\"colorbar\":{\"outlinewidth\":0,\"ticks\":\"\"}}}],\"scatterpolargl\":[{\"type\":\"scatterpolargl\",\"marker\":{\"colorbar\":{\"outlinewidth\":0,\"ticks\":\"\"}}}],\"bar\":[{\"error_x\":{\"color\":\"#2a3f5f\"},\"error_y\":{\"color\":\"#2a3f5f\"},\"marker\":{\"line\":{\"color\":\"#E5ECF6\",\"width\":0.5},\"pattern\":{\"fillmode\":\"overlay\",\"size\":10,\"solidity\":0.2}},\"type\":\"bar\"}],\"scattergeo\":[{\"type\":\"scattergeo\",\"marker\":{\"colorbar\":{\"outlinewidth\":0,\"ticks\":\"\"}}}],\"scatterpolar\":[{\"type\":\"scatterpolar\",\"marker\":{\"colorbar\":{\"outlinewidth\":0,\"ticks\":\"\"}}}],\"histogram\":[{\"marker\":{\"pattern\":{\"fillmode\":\"overlay\",\"size\":10,\"solidity\":0.2}},\"type\":\"histogram\"}],\"scattergl\":[{\"type\":\"scattergl\",\"marker\":{\"colorbar\":{\"outlinewidth\":0,\"ticks\":\"\"}}}],\"scatter3d\":[{\"type\":\"scatter3d\",\"line\":{\"colorbar\":{\"outlinewidth\":0,\"ticks\":\"\"}},\"marker\":{\"colorbar\":{\"outlinewidth\":0,\"ticks\":\"\"}}}],\"scattermapbox\":[{\"type\":\"scattermapbox\",\"marker\":{\"colorbar\":{\"outlinewidth\":0,\"ticks\":\"\"}}}],\"scatterternary\":[{\"type\":\"scatterternary\",\"marker\":{\"colorbar\":{\"outlinewidth\":0,\"ticks\":\"\"}}}],\"scattercarpet\":[{\"type\":\"scattercarpet\",\"marker\":{\"colorbar\":{\"outlinewidth\":0,\"ticks\":\"\"}}}],\"carpet\":[{\"aaxis\":{\"endlinecolor\":\"#2a3f5f\",\"gridcolor\":\"white\",\"linecolor\":\"white\",\"minorgridcolor\":\"white\",\"startlinecolor\":\"#2a3f5f\"},\"baxis\":{\"endlinecolor\":\"#2a3f5f\",\"gridcolor\":\"white\",\"linecolor\":\"white\",\"minorgridcolor\":\"white\",\"startlinecolor\":\"#2a3f5f\"},\"type\":\"carpet\"}],\"table\":[{\"cells\":{\"fill\":{\"color\":\"#EBF0F8\"},\"line\":{\"color\":\"white\"}},\"header\":{\"fill\":{\"color\":\"#C8D4E3\"},\"line\":{\"color\":\"white\"}},\"type\":\"table\"}],\"barpolar\":[{\"marker\":{\"line\":{\"color\":\"#E5ECF6\",\"width\":0.5},\"pattern\":{\"fillmode\":\"overlay\",\"size\":10,\"solidity\":0.2}},\"type\":\"barpolar\"}],\"pie\":[{\"automargin\":true,\"type\":\"pie\"}]},\"layout\":{\"autotypenumbers\":\"strict\",\"colorway\":[\"#636efa\",\"#EF553B\",\"#00cc96\",\"#ab63fa\",\"#FFA15A\",\"#19d3f3\",\"#FF6692\",\"#B6E880\",\"#FF97FF\",\"#FECB52\"],\"font\":{\"color\":\"#2a3f5f\"},\"hovermode\":\"closest\",\"hoverlabel\":{\"align\":\"left\"},\"paper_bgcolor\":\"white\",\"plot_bgcolor\":\"#E5ECF6\",\"polar\":{\"bgcolor\":\"#E5ECF6\",\"angularaxis\":{\"gridcolor\":\"white\",\"linecolor\":\"white\",\"ticks\":\"\"},\"radialaxis\":{\"gridcolor\":\"white\",\"linecolor\":\"white\",\"ticks\":\"\"}},\"ternary\":{\"bgcolor\":\"#E5ECF6\",\"aaxis\":{\"gridcolor\":\"white\",\"linecolor\":\"white\",\"ticks\":\"\"},\"baxis\":{\"gridcolor\":\"white\",\"linecolor\":\"white\",\"ticks\":\"\"},\"caxis\":{\"gridcolor\":\"white\",\"linecolor\":\"white\",\"ticks\":\"\"}},\"coloraxis\":{\"colorbar\":{\"outlinewidth\":0,\"ticks\":\"\"}},\"colorscale\":{\"sequential\":[[0.0,\"#0d0887\"],[0.1111111111111111,\"#46039f\"],[0.2222222222222222,\"#7201a8\"],[0.3333333333333333,\"#9c179e\"],[0.4444444444444444,\"#bd3786\"],[0.5555555555555556,\"#d8576b\"],[0.6666666666666666,\"#ed7953\"],[0.7777777777777778,\"#fb9f3a\"],[0.8888888888888888,\"#fdca26\"],[1.0,\"#f0f921\"]],\"sequentialminus\":[[0.0,\"#0d0887\"],[0.1111111111111111,\"#46039f\"],[0.2222222222222222,\"#7201a8\"],[0.3333333333333333,\"#9c179e\"],[0.4444444444444444,\"#bd3786\"],[0.5555555555555556,\"#d8576b\"],[0.6666666666666666,\"#ed7953\"],[0.7777777777777778,\"#fb9f3a\"],[0.8888888888888888,\"#fdca26\"],[1.0,\"#f0f921\"]],\"diverging\":[[0,\"#8e0152\"],[0.1,\"#c51b7d\"],[0.2,\"#de77ae\"],[0.3,\"#f1b6da\"],[0.4,\"#fde0ef\"],[0.5,\"#f7f7f7\"],[0.6,\"#e6f5d0\"],[0.7,\"#b8e186\"],[0.8,\"#7fbc41\"],[0.9,\"#4d9221\"],[1,\"#276419\"]]},\"xaxis\":{\"gridcolor\":\"white\",\"linecolor\":\"white\",\"ticks\":\"\",\"title\":{\"standoff\":15},\"zerolinecolor\":\"white\",\"automargin\":true,\"zerolinewidth\":2},\"yaxis\":{\"gridcolor\":\"white\",\"linecolor\":\"white\",\"ticks\":\"\",\"title\":{\"standoff\":15},\"zerolinecolor\":\"white\",\"automargin\":true,\"zerolinewidth\":2},\"scene\":{\"xaxis\":{\"backgroundcolor\":\"#E5ECF6\",\"gridcolor\":\"white\",\"linecolor\":\"white\",\"showbackground\":true,\"ticks\":\"\",\"zerolinecolor\":\"white\",\"gridwidth\":2},\"yaxis\":{\"backgroundcolor\":\"#E5ECF6\",\"gridcolor\":\"white\",\"linecolor\":\"white\",\"showbackground\":true,\"ticks\":\"\",\"zerolinecolor\":\"white\",\"gridwidth\":2},\"zaxis\":{\"backgroundcolor\":\"#E5ECF6\",\"gridcolor\":\"white\",\"linecolor\":\"white\",\"showbackground\":true,\"ticks\":\"\",\"zerolinecolor\":\"white\",\"gridwidth\":2}},\"shapedefaults\":{\"line\":{\"color\":\"#2a3f5f\"}},\"annotationdefaults\":{\"arrowcolor\":\"#2a3f5f\",\"arrowhead\":0,\"arrowwidth\":1},\"geo\":{\"bgcolor\":\"white\",\"landcolor\":\"#E5ECF6\",\"subunitcolor\":\"white\",\"showland\":true,\"showlakes\":true,\"lakecolor\":\"white\"},\"title\":{\"x\":0.05},\"mapbox\":{\"style\":\"light\"}}},\"xaxis\":{\"anchor\":\"y\",\"domain\":[0.0,0.45]},\"yaxis\":{\"anchor\":\"x\",\"domain\":[0.0,1.0]},\"xaxis2\":{\"anchor\":\"y2\",\"domain\":[0.55,1.0]},\"yaxis2\":{\"anchor\":\"x2\",\"domain\":[0.0,1.0]},\"annotations\":[{\"font\":{\"size\":16},\"showarrow\":false,\"text\":\"Loans with at least one female borrower\",\"x\":0.225,\"xanchor\":\"center\",\"xref\":\"paper\",\"y\":1.0,\"yanchor\":\"bottom\",\"yref\":\"paper\"},{\"font\":{\"size\":16},\"showarrow\":false,\"text\":\"Loans with at least one male borrower\",\"x\":0.775,\"xanchor\":\"center\",\"xref\":\"paper\",\"y\":1.0,\"yanchor\":\"bottom\",\"yref\":\"paper\"}],\"title\":{\"text\":\"Maximum number of female/male borowers/loan\"},\"height\":400,\"width\":900,\"showlegend\":false},                        {\"responsive\": true}                    ).then(function(){\n",
       "                            \n",
       "var gd = document.getElementById('db6aad24-f173-4cd7-9c16-2e0e0480c066');\n",
       "var x = new MutationObserver(function (mutations, observer) {{\n",
       "        var display = window.getComputedStyle(gd).display;\n",
       "        if (!display || display === 'none') {{\n",
       "            console.log([gd, 'removed!']);\n",
       "            Plotly.purge(gd);\n",
       "            observer.disconnect();\n",
       "        }}\n",
       "}});\n",
       "\n",
       "// Listen for the removal of the full notebook cells\n",
       "var notebookContainer = gd.closest('#notebook-container');\n",
       "if (notebookContainer) {{\n",
       "    x.observe(notebookContainer, {childList: true});\n",
       "}}\n",
       "\n",
       "// Listen for the clearing of the current output cell\n",
       "var outputEl = gd.closest('.output');\n",
       "if (outputEl) {{\n",
       "    x.observe(outputEl, {childList: true});\n",
       "}}\n",
       "\n",
       "                        })                };                });            </script>        </div>"
      ]
     },
     "metadata": {},
     "output_type": "display_data"
    }
   ],
   "source": [
    "df = df.sort_values(by=\"max\", ascending=False)\n",
    "sectors_f = go.Bar(\n",
    "        x = df['sector'],\n",
    "        y = df['max'],\n",
    "        name=\"Female borrowers\",\n",
    "        marker=dict(color=color_list[4]))\n",
    "df2 = df2.sort_values(by=\"max\", ascending=False)\n",
    "sectors_m = go.Bar(\n",
    "        x = df2['sector'],\n",
    "        y = df2['max'],\n",
    "        name=\"Male borrowers\",\n",
    "        marker=dict(color=color_list[3]))\n",
    "fig = make_subplots(rows=1, cols=2, start_cell=\"top-left\",\n",
    "                   subplot_titles=(\"Loans with at least one female borrower\", \n",
    "                                   \"Loans with at least one male borrower\"))\n",
    "\n",
    "fig.add_trace(sectors_f, row=1, col=1)\n",
    "fig.add_trace(sectors_m, row=1, col=2)\n",
    "layout = go.Layout(height=400, width=900, title=\"Maximum number of female/male borowers/loan\")\n",
    "fig.update_layout(layout)\n",
    "fig.update_layout(showlegend=False)\n",
    "fig.show()\n"
   ]
  },
  {
   "cell_type": "markdown",
   "id": "d397acdd",
   "metadata": {
    "papermill": {
     "duration": 0.057728,
     "end_time": "2023-06-01T17:14:45.412789",
     "exception": false,
     "start_time": "2023-06-01T17:14:45.355061",
     "status": "completed"
    },
    "tags": []
   },
   "source": [
    "---\n",
    "<div style=\"float: right;\">\n",
    "        <a href=\"#0\" class=\"button btn-success btn-sm\" role=\"button\" aria-pressed=\"true\" style=\"color:white\" data-toggle=\"popover\" title=\"Go to Top\">Go to Top</a>\n",
    "</div>"
   ]
  },
  {
   "cell_type": "markdown",
   "id": "e164a1ef",
   "metadata": {
    "papermill": {
     "duration": 0.058764,
     "end_time": "2023-06-01T17:14:45.527545",
     "exception": false,
     "start_time": "2023-06-01T17:14:45.468781",
     "status": "completed"
    },
    "tags": []
   },
   "source": [
    "# <a id=\"5\"></a><font color=\"#64a444\">References</font>  \n",
    "\n",
    "[1] Kiva, https://www.kaggle.com/kiva  \n",
    "\n",
    "[2] Data Science for Good: Kiva Crowdfunding, Kaggle Dataset, https://www.kaggle.com/kiva/data-science-for-good-kiva-crowdfunding  \n",
    "\n",
    "[3] UN Data country profiles, Kaggle Dataset, https://www.kaggle.com/sudalairajkumar/undata-country-profiles  \n",
    "\n",
    "[4] Multidimensional poverty index (MPI), http://hdr.undp.org/en/content/multidimensional-poverty-index-mpi  \n",
    "\n",
    "[5] Multidimensional poverty index, Wikipedia, https://en.wikipedia.org/wiki/Multidimensional_Poverty_Index  \n",
    "\n",
    "[6] Kiva: Loans that change lives, https://theglobalheroes.wordpress.com/2012/11/01/kiva-loans-that-change-lives/  "
   ]
  },
  {
   "cell_type": "markdown",
   "id": "aa19a10a",
   "metadata": {
    "papermill": {
     "duration": 0.056811,
     "end_time": "2023-06-01T17:14:45.640460",
     "exception": false,
     "start_time": "2023-06-01T17:14:45.583649",
     "status": "completed"
    },
    "tags": []
   },
   "source": [
    "---\n",
    "<div style=\"float: right;\">\n",
    "        <a href=\"#0\" class=\"button btn-success btn-sm\" role=\"button\" aria-pressed=\"true\" style=\"color:white\" data-toggle=\"popover\" title=\"Go to Top\">Go to Top</a>\n",
    "</div>"
   ]
  }
 ],
 "metadata": {
  "kernelspec": {
   "display_name": "Python 3",
   "language": "python",
   "name": "python3"
  },
  "language_info": {
   "codemirror_mode": {
    "name": "ipython",
    "version": 3
   },
   "file_extension": ".py",
   "mimetype": "text/x-python",
   "name": "python",
   "nbconvert_exporter": "python",
   "pygments_lexer": "ipython3",
   "version": "3.10.10"
  },
  "papermill": {
   "default_parameters": {},
   "duration": 70.187845,
   "end_time": "2023-06-01T17:14:47.020047",
   "environment_variables": {},
   "exception": null,
   "input_path": "__notebook__.ipynb",
   "output_path": "__notebook__.ipynb",
   "parameters": {},
   "start_time": "2023-06-01T17:13:36.832202",
   "version": "2.4.0"
  }
 },
 "nbformat": 4,
 "nbformat_minor": 5
}
